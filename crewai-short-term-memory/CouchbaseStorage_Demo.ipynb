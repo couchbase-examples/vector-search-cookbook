{
 "cells": [
  {
   "cell_type": "markdown",
   "metadata": {},
   "source": [
    "# CrewAI with Couchbase Short-Term Memory\n",
    "\n",
    "This notebook demonstrates how to implement a custom storage backend for CrewAI's memory system using Couchbase and vector search. Here's a breakdown of each section:\n",
    "\n",
    "How to run this tutorial\n",
    "----------------------\n",
    "This tutorial is available as a Jupyter Notebook (.ipynb file) that you can run \n",
    "interactively. You can access the original notebook here.\n",
    "\n",
    "You can either:\n",
    "- Download the notebook file and run it on [Google Colab](https://colab.research.google.com)\n",
    "- Run it on your system by setting up the Python environment\n",
    "\n",
    "Before you start\n",
    "---------------\n",
    "\n",
    "1. Create and Deploy Your Free Tier Operational cluster on [Capella](https://cloud.couchbase.com/sign-up)\n",
    "   - To get started with [Couchbase Capella](https://cloud.couchbase.com), create an account and use it to deploy \n",
    "     a forever free tier operational cluster\n",
    "   - This account provides you with an environment where you can explore and learn \n",
    "     about Capella with no time constraint\n",
    "   - To learn more, please follow the [Getting Started Guide](https://docs.couchbase.com/cloud/get-started/create-account.html)\n",
    "\n",
    "2. Couchbase Capella Configuration\n",
    "   When running Couchbase using Capella, the following prerequisites need to be met:\n",
    "   - Create the database credentials to access the required bucket (Read and Write) \n",
    "     used in the application\n",
    "   - Allow access to the Cluster from the IP on which the application is running by following the [Network Security documentation](https://docs.couchbase.com/cloud/security/security.html#public-access)"
   ]
  },
  {
   "cell_type": "markdown",
   "metadata": {},
   "source": [
    "# Memory in AI Agents\n",
    "\n",
    "Memory in AI agents is a crucial capability that allows them to retain and utilize information across interactions, making them more effective and contextually aware. Without memory, agents would be limited to processing only the immediate input, lacking the ability to build upon past experiences or maintain continuity in conversations.\n",
    "\n",
    "> Note: This section on memory types and functionality is adapted from the CrewAI documentation.\n",
    "\n",
    "## Types of Memory in AI Agents\n",
    "\n",
    "### Short-term Memory\n",
    "- Retains recent interactions and context\n",
    "- Typically spans the current conversation or session  \n",
    "- Helps maintain coherence within a single interaction flow\n",
    "- In CrewAI, this is what we're implementing with the Couchbase storage\n",
    "\n",
    "### Long-term Memory\n",
    "- Stores persistent knowledge across multiple sessions\n",
    "- Enables agents to recall past interactions even after long periods\n",
    "- Helps build cumulative knowledge about users, preferences, and past decisions\n",
    "- While this implementation is labeled as \"short-term memory\", the Couchbase storage backend can be effectively used for long-term memory as well, thanks to Couchbase's persistent storage capabilities and enterprise-grade durability features\n",
    "\n",
    "\n",
    "\n",
    "## How Memory Works in Agents\n",
    "Memory in AI agents typically involves:\n",
    "- Storage: Information is encoded and stored in a database (like Couchbase, ChromaDB, or other vector stores)\n",
    "- Retrieval: Relevant memories are fetched based on semantic similarity to current context\n",
    "- Integration: Retrieved memories are incorporated into the agent's reasoning process\n",
    "\n",
    "In the CrewAI example, the CouchbaseStorage class implements:\n",
    "- save(): Stores new memories with metadata\n",
    "- search(): Retrieves relevant memories based on semantic similarity\n",
    "- reset(): Clears stored memories when needed\n",
    "\n",
    "## Benefits of Memory in AI Agents\n",
    "- Contextual Understanding: Agents can refer to previous parts of a conversation\n",
    "- Personalization: Remembering user preferences and past interactions\n",
    "- Learning and Adaptation: Building knowledge over time to improve responses\n",
    "- Task Continuity: Resuming complex tasks across multiple interactions\n",
    "- Collaboration: In multi-agent systems like CrewAI, memory enables agents to build on each other's work\n",
    "\n",
    "## Memory in CrewAI Specifically\n",
    "In CrewAI, memory serves several important functions:\n",
    "- Agent Specialization: Each agent can maintain its own memory relevant to its expertise\n",
    "- Knowledge Transfer: Agents can share insights through memory when collaborating on tasks\n",
    "- Process Continuity: In sequential processes, later agents can access the work of earlier agents\n",
    "- Contextual Awareness: Agents can reference previous findings when making decisions\n",
    "\n",
    "The vector-based approach (using embeddings) is particularly powerful because it allows for semantic search - finding memories that are conceptually related to the current context, not just exact keyword matches.\n",
    "\n",
    "By implementing custom storage like Couchbase, you gain additional benefits like persistence, scalability, and the ability to leverage enterprise-grade database features for your agent memory systems."
   ]
  },
  {
   "cell_type": "markdown",
   "metadata": {},
   "source": [
    "## Install Required Libraries\n",
    "\n",
    "This section installs the necessary Python packages:\n",
    "- `crewai`: The main CrewAI framework\n",
    "- `langchain-couchbase`: LangChain integration for Couchbase\n",
    "- `langchain-openai`: LangChain integration for OpenAI\n",
    "- `python-dotenv`: For loading environment variables"
   ]
  },
  {
   "cell_type": "code",
   "execution_count": 1,
   "metadata": {},
   "outputs": [
    {
     "name": "stdout",
     "output_type": "stream",
     "text": [
      "Note: you may need to restart the kernel to use updated packages.\n"
     ]
    }
   ],
   "source": [
    "%pip install --quiet crewai==0.114.0 langchain-couchbase==0.3.0 langchain-openai==0.3.13 python-dotenv==1.1.0"
   ]
  },
  {
   "cell_type": "markdown",
   "metadata": {},
   "source": [
    "## Importing Necessary Libraries\n",
    "\n",
    "The script starts by importing a series of libraries required for various tasks, including handling JSON, logging, time tracking, Couchbase connections, embedding generation, and dataset loading."
   ]
  },
  {
   "cell_type": "code",
   "execution_count": 2,
   "metadata": {},
   "outputs": [],
   "source": [
    "from typing import Any, Dict, List, Optional\n",
    "import os\n",
    "import logging\n",
    "from datetime import timedelta\n",
    "from dotenv import load_dotenv\n",
    "from crewai.memory.storage.rag_storage import RAGStorage\n",
    "from crewai.memory.short_term.short_term_memory import ShortTermMemory\n",
    "from crewai import Agent, Crew, Task, Process\n",
    "from couchbase.cluster import Cluster\n",
    "from couchbase.options import ClusterOptions\n",
    "from couchbase.auth import PasswordAuthenticator\n",
    "from couchbase.diagnostics import PingState, ServiceType\n",
    "from langchain_couchbase.vectorstores import CouchbaseSearchVectorStore\n",
    "from langchain_openai import OpenAIEmbeddings, ChatOpenAI\n",
    "import time\n",
    "import json\n",
    "import uuid\n",
    "\n",
    "# Configure logging (disabled)\n",
    "logging.basicConfig(level=logging.CRITICAL)\n",
    "logger = logging.getLogger(__name__)"
   ]
  },
  {
   "cell_type": "markdown",
   "metadata": {},
   "source": [
    "## Loading Sensitive Information\n",
    "\n",
    "In this section, we prompt the user to input essential configuration settings needed. These settings include sensitive information like database credentials, and specific configuration names. Instead of hardcoding these details into the script, we request the user to provide them at runtime, ensuring flexibility and security.\n",
    "\n",
    "The script uses environment variables to store sensitive information, enhancing the overall security and maintainability of your code by avoiding hardcoded values.\n",
    "\n",
    "### Setting Up Environment Variables\n",
    "\n",
    "> **Note:** This implementation reads configuration parameters from environment variables. Before running this notebook, you need to set the following environment variables:\n",
    ">\n",
    "> - `OPENAI_API_KEY`: Your OpenAI API key for generating embeddings\n",
    "> - `CB_HOST`: Couchbase cluster connection string (e.g., \"couchbases://cb.example.com\")\n",
    "> - `CB_USERNAME`: Username for Couchbase authentication\n",
    "> - `CB_PASSWORD`: Password for Couchbase authentication\n",
    "> - `CB_BUCKET_NAME` (optional): Bucket name (defaults to \"vector-search-testing\")\n",
    "> - `SCOPE_NAME` (optional): Scope name (defaults to \"shared\")\n",
    "> - `COLLECTION_NAME` (optional): Collection name (defaults to \"crew\")\n",
    "> - `INDEX_NAME` (optional): Vector search index name (defaults to \"vector_search_crew\")\n",
    ">\n",
    "> You can set these variables in a `.env` file in the same directory as this notebook, or set them directly in your environment."
   ]
  },
  {
   "cell_type": "code",
   "execution_count": 3,
   "metadata": {},
   "outputs": [],
   "source": [
    "load_dotenv()\n",
    "\n",
    "# Verify environment variables\n",
    "required_vars = ['OPENAI_API_KEY', 'CB_HOST', 'CB_USERNAME', 'CB_PASSWORD']\n",
    "for var in required_vars:\n",
    "    if not os.getenv(var):\n",
    "        raise ValueError(f\"{var} environment variable is required\")"
   ]
  },
  {
   "cell_type": "markdown",
   "metadata": {},
   "source": [
    "## Implement CouchbaseStorage\n",
    "\n",
    "This section demonstrates the implementation of a custom vector storage solution using Couchbase:\n",
    "\n",
    "> **Note on Implementation:** This example uses the LangChain Couchbase integration (`langchain_couchbase`) for simplicity and to demonstrate integration with the broader LangChain ecosystem. In production environments, you may want to use the Couchbase SDK directly for better performance and more control.\n",
    "\n",
    "> For more information on using the Couchbase SDK directly, refer to:\n",
    "> - [Couchbase Python SDK Documentation](https://docs.couchbase.com/python-sdk/current/howtos/full-text-searching-with-sdk.html#single-vector-query)"
   ]
  },
  {
   "cell_type": "code",
   "execution_count": 4,
   "metadata": {},
   "outputs": [],
   "source": [
    "class CouchbaseStorage(RAGStorage):\n",
    "    \"\"\"\n",
    "    Extends RAGStorage to handle embeddings for memory entries using Couchbase.\n",
    "    \"\"\"\n",
    "\n",
    "    def __init__(self, type: str, allow_reset: bool = True, embedder_config: Optional[Dict[str, Any]] = None, crew: Optional[Any] = None):\n",
    "        \"\"\"Initialize CouchbaseStorage with configuration.\"\"\"\n",
    "        super().__init__(type, allow_reset, embedder_config, crew)\n",
    "        self._initialize_app()\n",
    "\n",
    "    def search(\n",
    "        self,\n",
    "        query: str,\n",
    "        limit: int = 3,\n",
    "        filter: Optional[dict] = None,\n",
    "        score_threshold: float = 0,\n",
    "    ) -> List[Dict[str, Any]]:\n",
    "        \"\"\"\n",
    "        Search memory entries using vector similarity.\n",
    "        \"\"\"\n",
    "        try:\n",
    "            # Add type filter\n",
    "            search_filter = {\"memory_type\": self.type}\n",
    "            if filter:\n",
    "                search_filter.update(filter)\n",
    "\n",
    "            # Execute search\n",
    "            results = self.vector_store.similarity_search_with_score(\n",
    "                query,\n",
    "                k=limit,\n",
    "                filter=search_filter\n",
    "            )\n",
    "            \n",
    "            # Format results and deduplicate by content\n",
    "            seen_contents = set()\n",
    "            formatted_results = []\n",
    "            \n",
    "            for i, (doc, score) in enumerate(results):\n",
    "                if score >= score_threshold:\n",
    "                    content = doc.page_content\n",
    "                    if content not in seen_contents:\n",
    "                        seen_contents.add(content)\n",
    "                        formatted_results.append({\n",
    "                            \"id\": doc.metadata.get(\"memory_id\", str(i)),\n",
    "                            \"metadata\": doc.metadata,\n",
    "                            \"context\": content,\n",
    "                            \"score\": float(score)\n",
    "                        })\n",
    "            \n",
    "            logger.info(f\"Found {len(formatted_results)} unique results for query: {query}\")\n",
    "            return formatted_results\n",
    "\n",
    "        except Exception as e:\n",
    "            logger.error(f\"Search failed: {str(e)}\")\n",
    "            return []\n",
    "\n",
    "    def save(self, value: Any, metadata: Dict[str, Any]) -> None:\n",
    "        \"\"\"\n",
    "        Save a memory entry with metadata.\n",
    "        \"\"\"\n",
    "        try:\n",
    "            # Generate unique ID\n",
    "            memory_id = str(uuid.uuid4())\n",
    "            timestamp = int(time.time() * 1000)\n",
    "            \n",
    "            # Prepare metadata (create a copy to avoid modifying references)\n",
    "            if not metadata:\n",
    "                metadata = {}\n",
    "            else:\n",
    "                metadata = metadata.copy()  # Create a copy to avoid modifying references\n",
    "                \n",
    "            # Process agent-specific information if present\n",
    "            agent_name = metadata.get('agent', 'unknown')\n",
    "                \n",
    "            # Clean up value if it has the typical LLM response format\n",
    "            value_str = str(value)\n",
    "            if \"Final Answer:\" in value_str:\n",
    "                # Extract just the actual content - everything after \"Final Answer:\"\n",
    "                parts = value_str.split(\"Final Answer:\", 1)\n",
    "                if len(parts) > 1:\n",
    "                    value = parts[1].strip()\n",
    "                    logger.info(f\"Cleaned up response format for agent: {agent_name}\")\n",
    "            elif value_str.startswith(\"Thought:\"):\n",
    "                # Handle thought/final answer format\n",
    "                if \"Final Answer:\" in value_str:\n",
    "                    parts = value_str.split(\"Final Answer:\", 1)\n",
    "                    if len(parts) > 1:\n",
    "                        value = parts[1].strip()\n",
    "                        logger.info(f\"Cleaned up thought process format for agent: {agent_name}\")\n",
    "            \n",
    "            # Update metadata\n",
    "            metadata.update({\n",
    "                \"memory_id\": memory_id,\n",
    "                \"memory_type\": self.type,\n",
    "                \"timestamp\": timestamp,\n",
    "                \"source\": \"crewai\"\n",
    "            })\n",
    "\n",
    "            # Log memory information for debugging\n",
    "            value_preview = str(value)[:100] + \"...\" if len(str(value)) > 100 else str(value)\n",
    "            metadata_preview = {k: v for k, v in metadata.items() if k != \"embedding\"}\n",
    "            logger.info(f\"Saving memory for Agent: {agent_name}\")\n",
    "            logger.info(f\"Memory value preview: {value_preview}\")\n",
    "            logger.info(f\"Memory metadata: {metadata_preview}\")\n",
    "            \n",
    "            # Convert value to string if needed\n",
    "            if isinstance(value, (dict, list)):\n",
    "                value = json.dumps(value)\n",
    "            elif not isinstance(value, str):\n",
    "                value = str(value)\n",
    "\n",
    "            # Save to vector store\n",
    "            self.vector_store.add_texts(\n",
    "                texts=[value],\n",
    "                metadatas=[metadata],\n",
    "                ids=[memory_id]\n",
    "            )\n",
    "            logger.info(f\"Saved memory {memory_id}: {value[:100]}...\")\n",
    "\n",
    "        except Exception as e:\n",
    "            logger.error(f\"Save failed: {str(e)}\")\n",
    "            raise\n",
    "\n",
    "    def reset(self) -> None:\n",
    "        \"\"\"Reset the memory storage if allowed.\"\"\"\n",
    "        if not self.allow_reset:\n",
    "            return\n",
    "\n",
    "        try:\n",
    "            # Delete documents of this memory type\n",
    "            self.cluster.query(\n",
    "                f\"DELETE FROM `{self.bucket_name}`.`{self.scope_name}`.`{self.collection_name}` WHERE memory_type = $type\",\n",
    "                type=self.type\n",
    "            ).execute()\n",
    "            logger.info(f\"Reset memory type: {self.type}\")\n",
    "        except Exception as e:\n",
    "            logger.error(f\"Reset failed: {str(e)}\")\n",
    "            raise\n",
    "\n",
    "    def _initialize_app(self):\n",
    "        \"\"\"Initialize Couchbase connection and vector store.\"\"\"\n",
    "        try:\n",
    "            # Initialize embeddings\n",
    "            if self.embedder_config and self.embedder_config.get(\"provider\") == \"openai\":\n",
    "                self.embeddings = OpenAIEmbeddings(\n",
    "                    openai_api_key=os.getenv('OPENAI_API_KEY'),\n",
    "                    model=self.embedder_config.get(\"config\", {}).get(\"model\", \"text-embedding-3-small\")\n",
    "                )\n",
    "            else:\n",
    "                self.embeddings = OpenAIEmbeddings(\n",
    "                    openai_api_key=os.getenv('OPENAI_API_KEY'),\n",
    "                    model=\"text-embedding-3-small\"\n",
    "                )\n",
    "\n",
    "            # Connect to Couchbase\n",
    "            auth = PasswordAuthenticator(\n",
    "                os.getenv('CB_USERNAME', ''),\n",
    "                os.getenv('CB_PASSWORD', '')\n",
    "            )\n",
    "            options = ClusterOptions(auth)\n",
    "            \n",
    "            # Initialize cluster connection\n",
    "            self.cluster = Cluster(os.getenv('CB_HOST', ''), options)\n",
    "            self.cluster.wait_until_ready(timedelta(seconds=5))\n",
    "\n",
    "            # Check search service\n",
    "            ping_result = self.cluster.ping()\n",
    "            search_available = False\n",
    "            for service_type, endpoints in ping_result.endpoints.items():\n",
    "                if service_type == ServiceType.Search:\n",
    "                    for endpoint in endpoints:\n",
    "                        if endpoint.state == PingState.OK:\n",
    "                            search_available = True\n",
    "                            logger.info(f\"Search service is responding at: {endpoint.remote}\")\n",
    "                            break\n",
    "                    break\n",
    "            if not search_available:\n",
    "                raise RuntimeError(\"Search/FTS service not found or not responding\")\n",
    "            \n",
    "            # Set up storage configuration\n",
    "            self.bucket_name = os.getenv('CB_BUCKET_NAME', 'vector-search-testing')\n",
    "            self.scope_name = os.getenv('SCOPE_NAME', 'shared')\n",
    "            self.collection_name = os.getenv('COLLECTION_NAME', 'crew')\n",
    "            self.index_name = os.getenv('INDEX_NAME', 'vector_search_crew')\n",
    "\n",
    "            # Initialize vector store\n",
    "            self.vector_store = CouchbaseSearchVectorStore(\n",
    "                cluster=self.cluster,\n",
    "                bucket_name=self.bucket_name,\n",
    "                scope_name=self.scope_name,\n",
    "                collection_name=self.collection_name,\n",
    "                embedding=self.embeddings,\n",
    "                index_name=self.index_name\n",
    "            )\n",
    "            logger.info(f\"Initialized CouchbaseStorage for type: {self.type}\")\n",
    "\n",
    "        except Exception as e:\n",
    "            logger.error(f\"Initialization failed: {str(e)}\")\n",
    "            raise"
   ]
  },
  {
   "cell_type": "markdown",
   "metadata": {},
   "source": [
    "## Test Basic Storage\n",
    "\n",
    "Test storing and retrieving a simple memory:"
   ]
  },
  {
   "cell_type": "code",
   "execution_count": 5,
   "metadata": {},
   "outputs": [
    {
     "name": "stdout",
     "output_type": "stream",
     "text": [
      "Found: Pep Guardiola has said Manchester City will be his final managerial job in club football before he \"maybe\" coaches a national team.\n",
      "\n",
      "The former Barcelona and Bayern Munich boss has won 15 major trophies since taking charge of City in 2016.\n",
      "\n",
      "The 53-year-old Spaniard was approached in the summer about the possibility of becoming England manager, but last month signed a two-year contract extension with City until 2027.\n",
      "\n",
      "Speaking to celebrity chef Dani Garcia on YouTube, Guardiola did not indicate when he intends to step down at City but said he would not return to club football - in the Premier League or overseas.\n",
      "\n",
      "\"I'm not going to manage another team,\" he said.\n",
      "\n",
      "\"I'm not talking about the long-term future, but what I'm not going to do is leave Manchester City, go to another country, and do the same thing as now.\n",
      "\n",
      "\"I wouldn't have the energy. The thought of starting somewhere else, all the process of training and so on. No, no, no. Maybe a national team, but that's different.\n",
      "\n",
      "\"I want to leave it and go and play golf, but I can't [if he takes a club job]. I think stopping would do me good.\"\n",
      "\n",
      "City have won just once since Guardiola extended his contract - and once in nine games since beating Southampton on 26 October.\n",
      "\n",
      "That victory came at home to Nottingham Forest last Wednesday, but was followed by a 2-2 draw at Crystal Palace at the weekend.\n",
      "\n",
      "The Blues visit Juventus next in the Champions League on Wednesday (20:00 GMT), before hosting Manchester United in the Premier League on Sunday (16:30).\n",
      "\n",
      "\"Right now we are not in the position - when we have had the results of the last seven, eight games - to talk about winning games in plural,\" said Guardiola at his pre-match news conference.\n",
      "\n",
      "\"We have to win the game and not look at what happens in the next one yet.\"\n",
      "Score: 0.7207486629486084\n",
      "Metadata: {}\n"
     ]
    }
   ],
   "source": [
    "# Initialize storage\n",
    "storage = CouchbaseStorage(\n",
    "    type=\"short_term\",\n",
    "    embedder_config={\n",
    "        \"provider\": \"openai\",\n",
    "        \"config\": {\"model\": \"text-embedding-3-small\"}\n",
    "    }\n",
    ")\n",
    "\n",
    "# Reset storage\n",
    "storage.reset()\n",
    "\n",
    "# Test storage\n",
    "test_memory = \"Pep Guardiola praised Manchester City's current form, saying 'The team is playing well, we are in a good moment. The way we are training, the way we are playing - I am really pleased.'\"\n",
    "test_metadata = {\"category\": \"sports\", \"test\": \"initial_memory\"}\n",
    "storage.save(test_memory, test_metadata)\n",
    "\n",
    "# Test search\n",
    "results = storage.search(\"What did Guardiola say about Manchester City?\", limit=1)\n",
    "for result in results:\n",
    "    print(f\"Found: {result['context']}\\nScore: {result['score']}\\nMetadata: {result['metadata']}\")"
   ]
  },
  {
   "cell_type": "markdown",
   "metadata": {},
   "source": [
    "## Test CrewAI Integration\n",
    "\n",
    "Create agents and tasks to test memory retention:"
   ]
  },
  {
   "cell_type": "code",
   "execution_count": 6,
   "metadata": {},
   "outputs": [
    {
     "data": {
      "text/html": [
       "<pre style=\"white-space:pre;overflow-x:auto;line-height:normal;font-family:Menlo,'DejaVu Sans Mono',consolas,'Courier New',monospace\"><span style=\"color: #008080; text-decoration-color: #008080\">╭──────────────────────────────────────────── Crew Execution Started ─────────────────────────────────────────────╮</span>\n",
       "<span style=\"color: #008080; text-decoration-color: #008080\">│</span>                                                                                                                 <span style=\"color: #008080; text-decoration-color: #008080\">│</span>\n",
       "<span style=\"color: #008080; text-decoration-color: #008080\">│</span>  <span style=\"color: #008080; text-decoration-color: #008080; font-weight: bold\">Crew Execution Started</span>                                                                                         <span style=\"color: #008080; text-decoration-color: #008080\">│</span>\n",
       "<span style=\"color: #008080; text-decoration-color: #008080\">│</span>  <span style=\"color: #c0c0c0; text-decoration-color: #c0c0c0\">Name: </span><span style=\"color: #008080; text-decoration-color: #008080\">crew</span>                                                                                                     <span style=\"color: #008080; text-decoration-color: #008080\">│</span>\n",
       "<span style=\"color: #008080; text-decoration-color: #008080\">│</span>  <span style=\"color: #c0c0c0; text-decoration-color: #c0c0c0\">ID: </span><span style=\"color: #008080; text-decoration-color: #008080\">8246706c-6e28-4e21-8805-4b3985c3d811</span>                                                                       <span style=\"color: #008080; text-decoration-color: #008080\">│</span>\n",
       "<span style=\"color: #008080; text-decoration-color: #008080\">│</span>                                                                                                                 <span style=\"color: #008080; text-decoration-color: #008080\">│</span>\n",
       "<span style=\"color: #008080; text-decoration-color: #008080\">│</span>                                                                                                                 <span style=\"color: #008080; text-decoration-color: #008080\">│</span>\n",
       "<span style=\"color: #008080; text-decoration-color: #008080\">╰─────────────────────────────────────────────────────────────────────────────────────────────────────────────────╯</span>\n",
       "</pre>\n"
      ],
      "text/plain": [
       "\u001b[36m╭─\u001b[0m\u001b[36m───────────────────────────────────────────\u001b[0m\u001b[36m Crew Execution Started \u001b[0m\u001b[36m────────────────────────────────────────────\u001b[0m\u001b[36m─╮\u001b[0m\n",
       "\u001b[36m│\u001b[0m                                                                                                                 \u001b[36m│\u001b[0m\n",
       "\u001b[36m│\u001b[0m  \u001b[1;36mCrew Execution Started\u001b[0m                                                                                         \u001b[36m│\u001b[0m\n",
       "\u001b[36m│\u001b[0m  \u001b[37mName: \u001b[0m\u001b[36mcrew\u001b[0m                                                                                                     \u001b[36m│\u001b[0m\n",
       "\u001b[36m│\u001b[0m  \u001b[37mID: \u001b[0m\u001b[36m8246706c-6e28-4e21-8805-4b3985c3d811\u001b[0m                                                                       \u001b[36m│\u001b[0m\n",
       "\u001b[36m│\u001b[0m                                                                                                                 \u001b[36m│\u001b[0m\n",
       "\u001b[36m│\u001b[0m                                                                                                                 \u001b[36m│\u001b[0m\n",
       "\u001b[36m╰─────────────────────────────────────────────────────────────────────────────────────────────────────────────────╯\u001b[0m\n"
      ]
     },
     "metadata": {},
     "output_type": "display_data"
    },
    {
     "data": {
      "text/html": [
       "<pre style=\"white-space:pre;overflow-x:auto;line-height:normal;font-family:Menlo,'DejaVu Sans Mono',consolas,'Courier New',monospace\">\n",
       "</pre>\n"
      ],
      "text/plain": [
       "\n"
      ]
     },
     "metadata": {},
     "output_type": "display_data"
    },
    {
     "data": {
      "text/html": [
       "<pre style=\"white-space:pre;overflow-x:auto;line-height:normal;font-family:Menlo,'DejaVu Sans Mono',consolas,'Courier New',monospace\"><span style=\"color: #008080; text-decoration-color: #008080; font-weight: bold\">🚀 Crew: crew</span>\n",
       "└── <span style=\"color: #808000; text-decoration-color: #808000; font-weight: bold\">📋 Task: 7dc4c834-1c24-4483-8e8b-58b49981c32d</span>\n",
       "    <span style=\"color: #c0c0c0; text-decoration-color: #c0c0c0\">   Status: </span><span style=\"color: #bfbf7f; text-decoration-color: #bfbf7f\">Executing Task...</span>\n",
       "</pre>\n"
      ],
      "text/plain": [
       "\u001b[1;36m🚀 Crew: \u001b[0m\u001b[1;36mcrew\u001b[0m\n",
       "└── \u001b[1;33m📋 Task: 7dc4c834-1c24-4483-8e8b-58b49981c32d\u001b[0m\n",
       "    \u001b[37m   Status: \u001b[0m\u001b[2;33mExecuting Task...\u001b[0m\n"
      ]
     },
     "metadata": {},
     "output_type": "display_data"
    },
    {
     "data": {
      "text/html": [
       "<pre style=\"white-space:pre;overflow-x:auto;line-height:normal;font-family:Menlo,'DejaVu Sans Mono',consolas,'Courier New',monospace\">\n",
       "</pre>\n"
      ],
      "text/plain": [
       "\n"
      ]
     },
     "metadata": {},
     "output_type": "display_data"
    },
    {
     "data": {
      "text/html": [
       "<pre style=\"white-space:pre;overflow-x:auto;line-height:normal;font-family:Menlo,'DejaVu Sans Mono',consolas,'Courier New',monospace\"><span style=\"color: #008080; text-decoration-color: #008080; font-weight: bold\">🚀 Crew: crew</span>\n",
       "└── <span style=\"color: #808000; text-decoration-color: #808000; font-weight: bold\">📋 Task: 7dc4c834-1c24-4483-8e8b-58b49981c32d</span>\n",
       "    <span style=\"color: #c0c0c0; text-decoration-color: #c0c0c0\">   Status: </span><span style=\"color: #bfbf7f; text-decoration-color: #bfbf7f\">Executing Task...</span>\n",
       "    └── <span style=\"color: #008000; text-decoration-color: #008000; font-weight: bold\">🤖 Agent: </span><span style=\"color: #008000; text-decoration-color: #008000\">Sports Analyst</span>\n",
       "        <span style=\"color: #c0c0c0; text-decoration-color: #c0c0c0\">    Status: </span><span style=\"color: #008000; text-decoration-color: #008000; font-weight: bold\">In Progress</span>\n",
       "</pre>\n"
      ],
      "text/plain": [
       "\u001b[1;36m🚀 Crew: \u001b[0m\u001b[1;36mcrew\u001b[0m\n",
       "└── \u001b[1;33m📋 Task: 7dc4c834-1c24-4483-8e8b-58b49981c32d\u001b[0m\n",
       "    \u001b[37m   Status: \u001b[0m\u001b[2;33mExecuting Task...\u001b[0m\n",
       "    └── \u001b[1;32m🤖 Agent: \u001b[0m\u001b[32mSports Analyst\u001b[0m\n",
       "        \u001b[37m    Status: \u001b[0m\u001b[1;32mIn Progress\u001b[0m\n"
      ]
     },
     "metadata": {},
     "output_type": "display_data"
    },
    {
     "data": {
      "text/html": [
       "<pre style=\"white-space:pre;overflow-x:auto;line-height:normal;font-family:Menlo,'DejaVu Sans Mono',consolas,'Courier New',monospace\">\n",
       "</pre>\n"
      ],
      "text/plain": [
       "\n"
      ]
     },
     "metadata": {},
     "output_type": "display_data"
    },
    {
     "name": "stdout",
     "output_type": "stream",
     "text": [
      "\u001b[1m\u001b[95m# Agent:\u001b[00m \u001b[1m\u001b[92mSports Analyst\u001b[00m\n",
      "\u001b[95m## Task:\u001b[00m \u001b[92mAnalyze Manchester City's recent performance based on Pep Guardiola's comments: \"The team is playing well, we are in a good moment. The way we are training, the way we are playing - I am really pleased.\"\u001b[00m\n"
     ]
    },
    {
     "data": {
      "text/html": [
       "<pre style=\"white-space:pre;overflow-x:auto;line-height:normal;font-family:Menlo,'DejaVu Sans Mono',consolas,'Courier New',monospace\"><span style=\"color: #008000; text-decoration-color: #008000; font-weight: bold\">🤖 Agent: </span><span style=\"color: #008000; text-decoration-color: #008000\">Sports Analyst</span>\n",
       "<span style=\"color: #c0c0c0; text-decoration-color: #c0c0c0\">    Status: </span><span style=\"color: #008000; text-decoration-color: #008000; font-weight: bold\">In Progress</span>\n",
       "└── <span style=\"color: #000080; text-decoration-color: #000080; font-weight: bold\">🧠 </span><span style=\"color: #000080; text-decoration-color: #000080\">Thinking...</span>\n",
       "</pre>\n"
      ],
      "text/plain": [
       "\u001b[1;32m🤖 Agent: \u001b[0m\u001b[32mSports Analyst\u001b[0m\n",
       "\u001b[37m    Status: \u001b[0m\u001b[1;32mIn Progress\u001b[0m\n",
       "└── \u001b[1;34m🧠 \u001b[0m\u001b[34mThinking...\u001b[0m\n"
      ]
     },
     "metadata": {},
     "output_type": "display_data"
    },
    {
     "data": {
      "text/html": [
       "<pre style=\"white-space:pre;overflow-x:auto;line-height:normal;font-family:Menlo,'DejaVu Sans Mono',consolas,'Courier New',monospace\">\n",
       "</pre>\n"
      ],
      "text/plain": [
       "\n"
      ]
     },
     "metadata": {},
     "output_type": "display_data"
    },
    {
     "data": {
      "text/html": [
       "<pre style=\"white-space:pre;overflow-x:auto;line-height:normal;font-family:Menlo,'DejaVu Sans Mono',consolas,'Courier New',monospace\"><span style=\"color: #008000; text-decoration-color: #008000; font-weight: bold\">🤖 Agent: </span><span style=\"color: #008000; text-decoration-color: #008000\">Sports Analyst</span>\n",
       "<span style=\"color: #c0c0c0; text-decoration-color: #c0c0c0\">    Status: </span><span style=\"color: #008000; text-decoration-color: #008000; font-weight: bold\">In Progress</span>\n",
       "</pre>\n"
      ],
      "text/plain": [
       "\u001b[1;32m🤖 Agent: \u001b[0m\u001b[32mSports Analyst\u001b[0m\n",
       "\u001b[37m    Status: \u001b[0m\u001b[1;32mIn Progress\u001b[0m\n"
      ]
     },
     "metadata": {},
     "output_type": "display_data"
    },
    {
     "data": {
      "text/html": [
       "<pre style=\"white-space:pre;overflow-x:auto;line-height:normal;font-family:Menlo,'DejaVu Sans Mono',consolas,'Courier New',monospace\">\n",
       "</pre>\n"
      ],
      "text/plain": [
       "\n"
      ]
     },
     "metadata": {},
     "output_type": "display_data"
    },
    {
     "name": "stdout",
     "output_type": "stream",
     "text": [
      "\n",
      "\n",
      "\u001b[1m\u001b[95m# Agent:\u001b[00m \u001b[1m\u001b[92mSports Analyst\u001b[00m\n",
      "\u001b[95m## Final Answer:\u001b[00m \u001b[92m\n",
      "Based on Pep Guardiola's comments, Manchester City's recent performance can be described as a complex blend of challenges and optimism. Guardiola's assertion that \"the team is playing well\" and \"we are in a good moment\" highlights his satisfaction with the team's current training and playing style. However, the broader context reveals a more nuanced picture.\n",
      "\n",
      "Guardiola's positive remarks come amid a challenging period for the team, marked by a significant downturn in results. Manchester City has experienced an unprecedented run of poor form, with nine losses in their past 12 matches. This stretch has been characterized by self-doubt, errors, and the need for significant changes within the squad. Despite these struggles, Guardiola maintains a positive outlook on the team's efforts and potential.\n",
      "\n",
      "One of the critical issues facing the team is the absence of key midfielder Rodri, whose injury has severely impacted City's performance. The reliance on Rodri as a central figure in the team's strategy is akin to a Jenga tower losing a crucial piece, leading to a collapse in form. The injuries to other key players, such as Nathan Ake and Manuel Akanji, have compounded these challenges, leaving Guardiola with limited options in defense.\n",
      "\n",
      "Guardiola's comments underscore his belief in the team's ability to turn things around, despite the current crisis. He has been protective of his players, refraining from public criticism and instead opting to give them time to reset and recover. This approach reflects his long-term vision for the club, as he plans to use the remaining years of his contract to rebuild and reshape the team.\n",
      "\n",
      "The analysis of City's form within the club suggests that there have only been three matches where they deserved to lose, indicating that the team is not far off from regaining its competitive edge. However, the immediate goal has shifted to securing a top-four finish and restoring the defensive and offensive intensity that has been the hallmark of Guardiola's City.\n",
      "\n",
      "Looking ahead, Guardiola and the club's management are preparing for a new era. This involves potential changes to the squad, with plans to replace several regular starters and bring in new talent, particularly in the holding midfielder position. The anticipated arrival of sporting director Hugo Viana and possible transfers, such as Spain's Martin Zubimendi, signal a strategic effort to revitalize the team.\n",
      "\n",
      "In conclusion, while Guardiola's comments reflect his pleasure with the current training and playing style, the broader context reveals a team in transition. Manchester City is navigating a challenging period, but with Guardiola's leadership and forthcoming changes, there is optimism for a resurgence and a new chapter in the club's storied history.\u001b[00m\n",
      "\n",
      "\n"
     ]
    },
    {
     "data": {
      "text/html": [
       "<pre style=\"white-space:pre;overflow-x:auto;line-height:normal;font-family:Menlo,'DejaVu Sans Mono',consolas,'Courier New',monospace\"><span style=\"color: #008080; text-decoration-color: #008080; font-weight: bold\">🚀 Crew: crew</span>\n",
       "└── <span style=\"color: #808000; text-decoration-color: #808000; font-weight: bold\">📋 Task: 7dc4c834-1c24-4483-8e8b-58b49981c32d</span>\n",
       "    <span style=\"color: #c0c0c0; text-decoration-color: #c0c0c0\">   Status: </span><span style=\"color: #bfbf7f; text-decoration-color: #bfbf7f\">Executing Task...</span>\n",
       "    └── <span style=\"color: #008000; text-decoration-color: #008000; font-weight: bold\">🤖 Agent: </span><span style=\"color: #008000; text-decoration-color: #008000\">Sports Analyst</span>\n",
       "        <span style=\"color: #c0c0c0; text-decoration-color: #c0c0c0\">    Status: </span><span style=\"color: #008000; text-decoration-color: #008000; font-weight: bold\">✅ Completed</span>\n",
       "</pre>\n"
      ],
      "text/plain": [
       "\u001b[1;36m🚀 Crew: \u001b[0m\u001b[1;36mcrew\u001b[0m\n",
       "└── \u001b[1;33m📋 Task: 7dc4c834-1c24-4483-8e8b-58b49981c32d\u001b[0m\n",
       "    \u001b[37m   Status: \u001b[0m\u001b[2;33mExecuting Task...\u001b[0m\n",
       "    └── \u001b[1;32m🤖 Agent: \u001b[0m\u001b[32mSports Analyst\u001b[0m\n",
       "        \u001b[37m    Status: \u001b[0m\u001b[1;32m✅ Completed\u001b[0m\n"
      ]
     },
     "metadata": {},
     "output_type": "display_data"
    },
    {
     "data": {
      "text/html": [
       "<pre style=\"white-space:pre;overflow-x:auto;line-height:normal;font-family:Menlo,'DejaVu Sans Mono',consolas,'Courier New',monospace\">\n",
       "</pre>\n"
      ],
      "text/plain": [
       "\n"
      ]
     },
     "metadata": {},
     "output_type": "display_data"
    },
    {
     "data": {
      "text/html": [
       "<pre style=\"white-space:pre;overflow-x:auto;line-height:normal;font-family:Menlo,'DejaVu Sans Mono',consolas,'Courier New',monospace\"><span style=\"color: #008080; text-decoration-color: #008080; font-weight: bold\">🚀 Crew: crew</span>\n",
       "└── <span style=\"color: #008000; text-decoration-color: #008000; font-weight: bold\">📋 Task: 7dc4c834-1c24-4483-8e8b-58b49981c32d</span>\n",
       "    <span style=\"color: #c0c0c0; text-decoration-color: #c0c0c0\">   Assigned to: </span><span style=\"color: #008000; text-decoration-color: #008000\">Sports Analyst</span>\n",
       "    <span style=\"color: #c0c0c0; text-decoration-color: #c0c0c0\">   Status: </span><span style=\"color: #008000; text-decoration-color: #008000; font-weight: bold\">✅ Completed</span>\n",
       "    └── <span style=\"color: #008000; text-decoration-color: #008000; font-weight: bold\">🤖 Agent: </span><span style=\"color: #008000; text-decoration-color: #008000\">Sports Analyst</span>\n",
       "        <span style=\"color: #c0c0c0; text-decoration-color: #c0c0c0\">    Status: </span><span style=\"color: #008000; text-decoration-color: #008000; font-weight: bold\">✅ Completed</span>\n",
       "</pre>\n"
      ],
      "text/plain": [
       "\u001b[1;36m🚀 Crew: \u001b[0m\u001b[1;36mcrew\u001b[0m\n",
       "└── \u001b[1;32m📋 Task: 7dc4c834-1c24-4483-8e8b-58b49981c32d\u001b[0m\n",
       "    \u001b[37m   Assigned to: \u001b[0m\u001b[32mSports Analyst\u001b[0m\n",
       "    \u001b[37m   Status: \u001b[0m\u001b[1;32m✅ Completed\u001b[0m\n",
       "    └── \u001b[1;32m🤖 Agent: \u001b[0m\u001b[32mSports Analyst\u001b[0m\n",
       "        \u001b[37m    Status: \u001b[0m\u001b[1;32m✅ Completed\u001b[0m\n"
      ]
     },
     "metadata": {},
     "output_type": "display_data"
    },
    {
     "data": {
      "text/html": [
       "<pre style=\"white-space:pre;overflow-x:auto;line-height:normal;font-family:Menlo,'DejaVu Sans Mono',consolas,'Courier New',monospace\"><span style=\"color: #008000; text-decoration-color: #008000\">╭──────────────────────────────────────────────── Task Completion ────────────────────────────────────────────────╮</span>\n",
       "<span style=\"color: #008000; text-decoration-color: #008000\">│</span>                                                                                                                 <span style=\"color: #008000; text-decoration-color: #008000\">│</span>\n",
       "<span style=\"color: #008000; text-decoration-color: #008000\">│</span>  <span style=\"color: #008000; text-decoration-color: #008000; font-weight: bold\">Task Completed</span>                                                                                                 <span style=\"color: #008000; text-decoration-color: #008000\">│</span>\n",
       "<span style=\"color: #008000; text-decoration-color: #008000\">│</span>  <span style=\"color: #c0c0c0; text-decoration-color: #c0c0c0\">Name: </span><span style=\"color: #008000; text-decoration-color: #008000\">7dc4c834-1c24-4483-8e8b-58b49981c32d</span>                                                                     <span style=\"color: #008000; text-decoration-color: #008000\">│</span>\n",
       "<span style=\"color: #008000; text-decoration-color: #008000\">│</span>  <span style=\"color: #c0c0c0; text-decoration-color: #c0c0c0\">Agent: </span><span style=\"color: #008000; text-decoration-color: #008000\">Sports Analyst</span>                                                                                          <span style=\"color: #008000; text-decoration-color: #008000\">│</span>\n",
       "<span style=\"color: #008000; text-decoration-color: #008000\">│</span>                                                                                                                 <span style=\"color: #008000; text-decoration-color: #008000\">│</span>\n",
       "<span style=\"color: #008000; text-decoration-color: #008000\">│</span>                                                                                                                 <span style=\"color: #008000; text-decoration-color: #008000\">│</span>\n",
       "<span style=\"color: #008000; text-decoration-color: #008000\">╰─────────────────────────────────────────────────────────────────────────────────────────────────────────────────╯</span>\n",
       "</pre>\n"
      ],
      "text/plain": [
       "\u001b[32m╭─\u001b[0m\u001b[32m───────────────────────────────────────────────\u001b[0m\u001b[32m Task Completion \u001b[0m\u001b[32m───────────────────────────────────────────────\u001b[0m\u001b[32m─╮\u001b[0m\n",
       "\u001b[32m│\u001b[0m                                                                                                                 \u001b[32m│\u001b[0m\n",
       "\u001b[32m│\u001b[0m  \u001b[1;32mTask Completed\u001b[0m                                                                                                 \u001b[32m│\u001b[0m\n",
       "\u001b[32m│\u001b[0m  \u001b[37mName: \u001b[0m\u001b[32m7dc4c834-1c24-4483-8e8b-58b49981c32d\u001b[0m                                                                     \u001b[32m│\u001b[0m\n",
       "\u001b[32m│\u001b[0m  \u001b[37mAgent: \u001b[0m\u001b[32mSports Analyst\u001b[0m                                                                                          \u001b[32m│\u001b[0m\n",
       "\u001b[32m│\u001b[0m                                                                                                                 \u001b[32m│\u001b[0m\n",
       "\u001b[32m│\u001b[0m                                                                                                                 \u001b[32m│\u001b[0m\n",
       "\u001b[32m╰─────────────────────────────────────────────────────────────────────────────────────────────────────────────────╯\u001b[0m\n"
      ]
     },
     "metadata": {},
     "output_type": "display_data"
    },
    {
     "data": {
      "text/html": [
       "<pre style=\"white-space:pre;overflow-x:auto;line-height:normal;font-family:Menlo,'DejaVu Sans Mono',consolas,'Courier New',monospace\">\n",
       "</pre>\n"
      ],
      "text/plain": [
       "\n"
      ]
     },
     "metadata": {},
     "output_type": "display_data"
    },
    {
     "data": {
      "text/html": [
       "<pre style=\"white-space:pre;overflow-x:auto;line-height:normal;font-family:Menlo,'DejaVu Sans Mono',consolas,'Courier New',monospace\"><span style=\"color: #008080; text-decoration-color: #008080; font-weight: bold\">🚀 Crew: crew</span>\n",
       "├── <span style=\"color: #008000; text-decoration-color: #008000; font-weight: bold\">📋 Task: 7dc4c834-1c24-4483-8e8b-58b49981c32d</span>\n",
       "│   <span style=\"color: #c0c0c0; text-decoration-color: #c0c0c0\">   Assigned to: </span><span style=\"color: #008000; text-decoration-color: #008000\">Sports Analyst</span>\n",
       "│   <span style=\"color: #c0c0c0; text-decoration-color: #c0c0c0\">   Status: </span><span style=\"color: #008000; text-decoration-color: #008000; font-weight: bold\">✅ Completed</span>\n",
       "│   └── <span style=\"color: #008000; text-decoration-color: #008000; font-weight: bold\">🤖 Agent: </span><span style=\"color: #008000; text-decoration-color: #008000\">Sports Analyst</span>\n",
       "│       <span style=\"color: #c0c0c0; text-decoration-color: #c0c0c0\">    Status: </span><span style=\"color: #008000; text-decoration-color: #008000; font-weight: bold\">✅ Completed</span>\n",
       "└── <span style=\"color: #808000; text-decoration-color: #808000; font-weight: bold\">📋 Task: f8a05679-fb2b-4379-8484-582aab6a99d0</span>\n",
       "    <span style=\"color: #c0c0c0; text-decoration-color: #c0c0c0\">   Status: </span><span style=\"color: #bfbf7f; text-decoration-color: #bfbf7f\">Executing Task...</span>\n",
       "</pre>\n"
      ],
      "text/plain": [
       "\u001b[1;36m🚀 Crew: \u001b[0m\u001b[1;36mcrew\u001b[0m\n",
       "├── \u001b[1;32m📋 Task: 7dc4c834-1c24-4483-8e8b-58b49981c32d\u001b[0m\n",
       "│   \u001b[37m   Assigned to: \u001b[0m\u001b[32mSports Analyst\u001b[0m\n",
       "│   \u001b[37m   Status: \u001b[0m\u001b[1;32m✅ Completed\u001b[0m\n",
       "│   └── \u001b[1;32m🤖 Agent: \u001b[0m\u001b[32mSports Analyst\u001b[0m\n",
       "│       \u001b[37m    Status: \u001b[0m\u001b[1;32m✅ Completed\u001b[0m\n",
       "└── \u001b[1;33m📋 Task: f8a05679-fb2b-4379-8484-582aab6a99d0\u001b[0m\n",
       "    \u001b[37m   Status: \u001b[0m\u001b[2;33mExecuting Task...\u001b[0m\n"
      ]
     },
     "metadata": {},
     "output_type": "display_data"
    },
    {
     "data": {
      "text/html": [
       "<pre style=\"white-space:pre;overflow-x:auto;line-height:normal;font-family:Menlo,'DejaVu Sans Mono',consolas,'Courier New',monospace\">\n",
       "</pre>\n"
      ],
      "text/plain": [
       "\n"
      ]
     },
     "metadata": {},
     "output_type": "display_data"
    },
    {
     "data": {
      "text/html": [
       "<pre style=\"white-space:pre;overflow-x:auto;line-height:normal;font-family:Menlo,'DejaVu Sans Mono',consolas,'Courier New',monospace\"><span style=\"color: #008080; text-decoration-color: #008080; font-weight: bold\">🚀 Crew: crew</span>\n",
       "├── <span style=\"color: #008000; text-decoration-color: #008000; font-weight: bold\">📋 Task: 7dc4c834-1c24-4483-8e8b-58b49981c32d</span>\n",
       "│   <span style=\"color: #c0c0c0; text-decoration-color: #c0c0c0\">   Assigned to: </span><span style=\"color: #008000; text-decoration-color: #008000\">Sports Analyst</span>\n",
       "│   <span style=\"color: #c0c0c0; text-decoration-color: #c0c0c0\">   Status: </span><span style=\"color: #008000; text-decoration-color: #008000; font-weight: bold\">✅ Completed</span>\n",
       "│   └── <span style=\"color: #008000; text-decoration-color: #008000; font-weight: bold\">🤖 Agent: </span><span style=\"color: #008000; text-decoration-color: #008000\">Sports Analyst</span>\n",
       "│       <span style=\"color: #c0c0c0; text-decoration-color: #c0c0c0\">    Status: </span><span style=\"color: #008000; text-decoration-color: #008000; font-weight: bold\">✅ Completed</span>\n",
       "└── <span style=\"color: #808000; text-decoration-color: #808000; font-weight: bold\">📋 Task: f8a05679-fb2b-4379-8484-582aab6a99d0</span>\n",
       "    <span style=\"color: #c0c0c0; text-decoration-color: #c0c0c0\">   Status: </span><span style=\"color: #bfbf7f; text-decoration-color: #bfbf7f\">Executing Task...</span>\n",
       "    └── <span style=\"color: #008000; text-decoration-color: #008000; font-weight: bold\">🤖 Agent: </span><span style=\"color: #008000; text-decoration-color: #008000\">Sports Journalist</span>\n",
       "        <span style=\"color: #c0c0c0; text-decoration-color: #c0c0c0\">    Status: </span><span style=\"color: #008000; text-decoration-color: #008000; font-weight: bold\">In Progress</span>\n",
       "</pre>\n"
      ],
      "text/plain": [
       "\u001b[1;36m🚀 Crew: \u001b[0m\u001b[1;36mcrew\u001b[0m\n",
       "├── \u001b[1;32m📋 Task: 7dc4c834-1c24-4483-8e8b-58b49981c32d\u001b[0m\n",
       "│   \u001b[37m   Assigned to: \u001b[0m\u001b[32mSports Analyst\u001b[0m\n",
       "│   \u001b[37m   Status: \u001b[0m\u001b[1;32m✅ Completed\u001b[0m\n",
       "│   └── \u001b[1;32m🤖 Agent: \u001b[0m\u001b[32mSports Analyst\u001b[0m\n",
       "│       \u001b[37m    Status: \u001b[0m\u001b[1;32m✅ Completed\u001b[0m\n",
       "└── \u001b[1;33m📋 Task: f8a05679-fb2b-4379-8484-582aab6a99d0\u001b[0m\n",
       "    \u001b[37m   Status: \u001b[0m\u001b[2;33mExecuting Task...\u001b[0m\n",
       "    └── \u001b[1;32m🤖 Agent: \u001b[0m\u001b[32mSports Journalist\u001b[0m\n",
       "        \u001b[37m    Status: \u001b[0m\u001b[1;32mIn Progress\u001b[0m\n"
      ]
     },
     "metadata": {},
     "output_type": "display_data"
    },
    {
     "data": {
      "text/html": [
       "<pre style=\"white-space:pre;overflow-x:auto;line-height:normal;font-family:Menlo,'DejaVu Sans Mono',consolas,'Courier New',monospace\">\n",
       "</pre>\n"
      ],
      "text/plain": [
       "\n"
      ]
     },
     "metadata": {},
     "output_type": "display_data"
    },
    {
     "name": "stdout",
     "output_type": "stream",
     "text": [
      "\u001b[1m\u001b[95m# Agent:\u001b[00m \u001b[1m\u001b[92mSports Journalist\u001b[00m\n",
      "\u001b[95m## Task:\u001b[00m \u001b[92mWrite a sports article about Manchester City's form using the analysis and Guardiola's comments.\u001b[00m\n",
      "\n",
      "\n",
      "\u001b[1m\u001b[95m# Agent:\u001b[00m \u001b[1m\u001b[92mSports Journalist\u001b[00m\n",
      "\u001b[95m## Final Answer:\u001b[00m \u001b[92m\n",
      "**Manchester City: Navigating the Storm with Guardiola's Optimism and Strategic Vision**\n",
      "\n",
      "In the annals of Premier League history, few teams have enjoyed the dominance that Manchester City has under the stewardship of Pep Guardiola. Yet, as the current season unfolds, the sky-blue juggernaut has encountered unforeseen turbulence. Guardiola's recent comments, however, reflect a blend of cautious optimism and a recognition of the challenges that lie ahead.\n",
      "\n",
      "Guardiola, whose tactical genius has been the cornerstone of City's success, remains steadfast in his belief that \"the team is playing well\" and \"we are in a good moment.\" Yet, these affirmations come during a period marked by an astonishing downturn in results. With nine losses in their last 12 matches, City finds itself in unfamiliar territory, grappling with self-doubt and uncharacteristic errors.\n",
      "\n",
      "One cannot discuss City's recent struggles without acknowledging the absence of midfield maestro Rodri. His injury has been akin to pulling out a crucial Jenga piece, leading to a collapse in form that has left the team vulnerable. The injuries to key players such as Nathan Ake and Manuel Akanji have further exacerbated Guardiola's selection headaches, particularly in defense.\n",
      "\n",
      "Guardiola's approach to this crisis, however, has been one of resilience and long-term planning. Rather than publicly chastising his players, he has opted for a protective stance, giving them the space to reset and recover. This reflects his vision not just for the immediate season but for the future of the club. With two years left on his contract, Guardiola is set on rebuilding and reshaping the squad, preparing for a new era at Manchester City.\n",
      "\n",
      "The internal analysis at City suggests that only three of their recent defeats were thoroughly deserved, indicating that the team's competitive edge is not entirely lost. However, the immediate objective has shifted towards securing a top-four finish and reinstating the defensive and offensive intensity that has been synonymous with Guardiola's tenure.\n",
      "\n",
      "Looking forward, changes are anticipated both in the squad and the club's management structure. The potential arrival of sporting director Hugo Viana and the pursuit of new talent, such as Spain's Martin Zubimendi, highlight a strategic effort to inject fresh energy and skills into the team. These moves are aimed at addressing specific weaknesses, particularly in the holding midfielder position.\n",
      "\n",
      "In conclusion, while Manchester City is navigating a challenging period, Guardiola's comments and strategic vision offer a beacon of hope. His leadership, coupled with forthcoming squad changes, promises a resurgence and a new chapter in the club's illustrious history. The road ahead may be daunting, but with Guardiola at the helm, City supporters can remain hopeful of a return to the pinnacle of English football.\u001b[00m\n",
      "\n",
      "\n"
     ]
    },
    {
     "data": {
      "text/html": [
       "<pre style=\"white-space:pre;overflow-x:auto;line-height:normal;font-family:Menlo,'DejaVu Sans Mono',consolas,'Courier New',monospace\"><span style=\"color: #008080; text-decoration-color: #008080; font-weight: bold\">🚀 Crew: crew</span>\n",
       "├── <span style=\"color: #008000; text-decoration-color: #008000; font-weight: bold\">📋 Task: 7dc4c834-1c24-4483-8e8b-58b49981c32d</span>\n",
       "│   <span style=\"color: #c0c0c0; text-decoration-color: #c0c0c0\">   Assigned to: </span><span style=\"color: #008000; text-decoration-color: #008000\">Sports Analyst</span>\n",
       "│   <span style=\"color: #c0c0c0; text-decoration-color: #c0c0c0\">   Status: </span><span style=\"color: #008000; text-decoration-color: #008000; font-weight: bold\">✅ Completed</span>\n",
       "│   └── <span style=\"color: #008000; text-decoration-color: #008000; font-weight: bold\">🤖 Agent: </span><span style=\"color: #008000; text-decoration-color: #008000\">Sports Analyst</span>\n",
       "│       <span style=\"color: #c0c0c0; text-decoration-color: #c0c0c0\">    Status: </span><span style=\"color: #008000; text-decoration-color: #008000; font-weight: bold\">✅ Completed</span>\n",
       "└── <span style=\"color: #808000; text-decoration-color: #808000; font-weight: bold\">📋 Task: f8a05679-fb2b-4379-8484-582aab6a99d0</span>\n",
       "    <span style=\"color: #c0c0c0; text-decoration-color: #c0c0c0\">   Status: </span><span style=\"color: #bfbf7f; text-decoration-color: #bfbf7f\">Executing Task...</span>\n",
       "    └── <span style=\"color: #008000; text-decoration-color: #008000; font-weight: bold\">🤖 Agent: </span><span style=\"color: #008000; text-decoration-color: #008000\">Sports Journalist</span>\n",
       "        <span style=\"color: #c0c0c0; text-decoration-color: #c0c0c0\">    Status: </span><span style=\"color: #008000; text-decoration-color: #008000; font-weight: bold\">✅ Completed</span>\n",
       "</pre>\n"
      ],
      "text/plain": [
       "\u001b[1;36m🚀 Crew: \u001b[0m\u001b[1;36mcrew\u001b[0m\n",
       "├── \u001b[1;32m📋 Task: 7dc4c834-1c24-4483-8e8b-58b49981c32d\u001b[0m\n",
       "│   \u001b[37m   Assigned to: \u001b[0m\u001b[32mSports Analyst\u001b[0m\n",
       "│   \u001b[37m   Status: \u001b[0m\u001b[1;32m✅ Completed\u001b[0m\n",
       "│   └── \u001b[1;32m🤖 Agent: \u001b[0m\u001b[32mSports Analyst\u001b[0m\n",
       "│       \u001b[37m    Status: \u001b[0m\u001b[1;32m✅ Completed\u001b[0m\n",
       "└── \u001b[1;33m📋 Task: f8a05679-fb2b-4379-8484-582aab6a99d0\u001b[0m\n",
       "    \u001b[37m   Status: \u001b[0m\u001b[2;33mExecuting Task...\u001b[0m\n",
       "    └── \u001b[1;32m🤖 Agent: \u001b[0m\u001b[32mSports Journalist\u001b[0m\n",
       "        \u001b[37m    Status: \u001b[0m\u001b[1;32m✅ Completed\u001b[0m\n"
      ]
     },
     "metadata": {},
     "output_type": "display_data"
    },
    {
     "data": {
      "text/html": [
       "<pre style=\"white-space:pre;overflow-x:auto;line-height:normal;font-family:Menlo,'DejaVu Sans Mono',consolas,'Courier New',monospace\">\n",
       "</pre>\n"
      ],
      "text/plain": [
       "\n"
      ]
     },
     "metadata": {},
     "output_type": "display_data"
    },
    {
     "data": {
      "text/html": [
       "<pre style=\"white-space:pre;overflow-x:auto;line-height:normal;font-family:Menlo,'DejaVu Sans Mono',consolas,'Courier New',monospace\"><span style=\"color: #008080; text-decoration-color: #008080; font-weight: bold\">🚀 Crew: crew</span>\n",
       "├── <span style=\"color: #008000; text-decoration-color: #008000; font-weight: bold\">📋 Task: 7dc4c834-1c24-4483-8e8b-58b49981c32d</span>\n",
       "│   <span style=\"color: #c0c0c0; text-decoration-color: #c0c0c0\">   Assigned to: </span><span style=\"color: #008000; text-decoration-color: #008000\">Sports Analyst</span>\n",
       "│   <span style=\"color: #c0c0c0; text-decoration-color: #c0c0c0\">   Status: </span><span style=\"color: #008000; text-decoration-color: #008000; font-weight: bold\">✅ Completed</span>\n",
       "│   └── <span style=\"color: #008000; text-decoration-color: #008000; font-weight: bold\">🤖 Agent: </span><span style=\"color: #008000; text-decoration-color: #008000\">Sports Analyst</span>\n",
       "│       <span style=\"color: #c0c0c0; text-decoration-color: #c0c0c0\">    Status: </span><span style=\"color: #008000; text-decoration-color: #008000; font-weight: bold\">✅ Completed</span>\n",
       "└── <span style=\"color: #008000; text-decoration-color: #008000; font-weight: bold\">📋 Task: f8a05679-fb2b-4379-8484-582aab6a99d0</span>\n",
       "    <span style=\"color: #c0c0c0; text-decoration-color: #c0c0c0\">   Assigned to: </span><span style=\"color: #008000; text-decoration-color: #008000\">Sports Journalist</span>\n",
       "    <span style=\"color: #c0c0c0; text-decoration-color: #c0c0c0\">   Status: </span><span style=\"color: #008000; text-decoration-color: #008000; font-weight: bold\">✅ Completed</span>\n",
       "    └── <span style=\"color: #008000; text-decoration-color: #008000; font-weight: bold\">🤖 Agent: </span><span style=\"color: #008000; text-decoration-color: #008000\">Sports Journalist</span>\n",
       "        <span style=\"color: #c0c0c0; text-decoration-color: #c0c0c0\">    Status: </span><span style=\"color: #008000; text-decoration-color: #008000; font-weight: bold\">✅ Completed</span>\n",
       "</pre>\n"
      ],
      "text/plain": [
       "\u001b[1;36m🚀 Crew: \u001b[0m\u001b[1;36mcrew\u001b[0m\n",
       "├── \u001b[1;32m📋 Task: 7dc4c834-1c24-4483-8e8b-58b49981c32d\u001b[0m\n",
       "│   \u001b[37m   Assigned to: \u001b[0m\u001b[32mSports Analyst\u001b[0m\n",
       "│   \u001b[37m   Status: \u001b[0m\u001b[1;32m✅ Completed\u001b[0m\n",
       "│   └── \u001b[1;32m🤖 Agent: \u001b[0m\u001b[32mSports Analyst\u001b[0m\n",
       "│       \u001b[37m    Status: \u001b[0m\u001b[1;32m✅ Completed\u001b[0m\n",
       "└── \u001b[1;32m📋 Task: f8a05679-fb2b-4379-8484-582aab6a99d0\u001b[0m\n",
       "    \u001b[37m   Assigned to: \u001b[0m\u001b[32mSports Journalist\u001b[0m\n",
       "    \u001b[37m   Status: \u001b[0m\u001b[1;32m✅ Completed\u001b[0m\n",
       "    └── \u001b[1;32m🤖 Agent: \u001b[0m\u001b[32mSports Journalist\u001b[0m\n",
       "        \u001b[37m    Status: \u001b[0m\u001b[1;32m✅ Completed\u001b[0m\n"
      ]
     },
     "metadata": {},
     "output_type": "display_data"
    },
    {
     "data": {
      "text/html": [
       "<pre style=\"white-space:pre;overflow-x:auto;line-height:normal;font-family:Menlo,'DejaVu Sans Mono',consolas,'Courier New',monospace\"><span style=\"color: #008000; text-decoration-color: #008000\">╭──────────────────────────────────────────────── Task Completion ────────────────────────────────────────────────╮</span>\n",
       "<span style=\"color: #008000; text-decoration-color: #008000\">│</span>                                                                                                                 <span style=\"color: #008000; text-decoration-color: #008000\">│</span>\n",
       "<span style=\"color: #008000; text-decoration-color: #008000\">│</span>  <span style=\"color: #008000; text-decoration-color: #008000; font-weight: bold\">Task Completed</span>                                                                                                 <span style=\"color: #008000; text-decoration-color: #008000\">│</span>\n",
       "<span style=\"color: #008000; text-decoration-color: #008000\">│</span>  <span style=\"color: #c0c0c0; text-decoration-color: #c0c0c0\">Name: </span><span style=\"color: #008000; text-decoration-color: #008000\">f8a05679-fb2b-4379-8484-582aab6a99d0</span>                                                                     <span style=\"color: #008000; text-decoration-color: #008000\">│</span>\n",
       "<span style=\"color: #008000; text-decoration-color: #008000\">│</span>  <span style=\"color: #c0c0c0; text-decoration-color: #c0c0c0\">Agent: </span><span style=\"color: #008000; text-decoration-color: #008000\">Sports Journalist</span>                                                                                       <span style=\"color: #008000; text-decoration-color: #008000\">│</span>\n",
       "<span style=\"color: #008000; text-decoration-color: #008000\">│</span>                                                                                                                 <span style=\"color: #008000; text-decoration-color: #008000\">│</span>\n",
       "<span style=\"color: #008000; text-decoration-color: #008000\">│</span>                                                                                                                 <span style=\"color: #008000; text-decoration-color: #008000\">│</span>\n",
       "<span style=\"color: #008000; text-decoration-color: #008000\">╰─────────────────────────────────────────────────────────────────────────────────────────────────────────────────╯</span>\n",
       "</pre>\n"
      ],
      "text/plain": [
       "\u001b[32m╭─\u001b[0m\u001b[32m───────────────────────────────────────────────\u001b[0m\u001b[32m Task Completion \u001b[0m\u001b[32m───────────────────────────────────────────────\u001b[0m\u001b[32m─╮\u001b[0m\n",
       "\u001b[32m│\u001b[0m                                                                                                                 \u001b[32m│\u001b[0m\n",
       "\u001b[32m│\u001b[0m  \u001b[1;32mTask Completed\u001b[0m                                                                                                 \u001b[32m│\u001b[0m\n",
       "\u001b[32m│\u001b[0m  \u001b[37mName: \u001b[0m\u001b[32mf8a05679-fb2b-4379-8484-582aab6a99d0\u001b[0m                                                                     \u001b[32m│\u001b[0m\n",
       "\u001b[32m│\u001b[0m  \u001b[37mAgent: \u001b[0m\u001b[32mSports Journalist\u001b[0m                                                                                       \u001b[32m│\u001b[0m\n",
       "\u001b[32m│\u001b[0m                                                                                                                 \u001b[32m│\u001b[0m\n",
       "\u001b[32m│\u001b[0m                                                                                                                 \u001b[32m│\u001b[0m\n",
       "\u001b[32m╰─────────────────────────────────────────────────────────────────────────────────────────────────────────────────╯\u001b[0m\n"
      ]
     },
     "metadata": {},
     "output_type": "display_data"
    },
    {
     "data": {
      "text/html": [
       "<pre style=\"white-space:pre;overflow-x:auto;line-height:normal;font-family:Menlo,'DejaVu Sans Mono',consolas,'Courier New',monospace\">\n",
       "</pre>\n"
      ],
      "text/plain": [
       "\n"
      ]
     },
     "metadata": {},
     "output_type": "display_data"
    },
    {
     "data": {
      "text/html": [
       "<pre style=\"white-space:pre;overflow-x:auto;line-height:normal;font-family:Menlo,'DejaVu Sans Mono',consolas,'Courier New',monospace\"><span style=\"color: #008000; text-decoration-color: #008000\">╭──────────────────────────────────────────────── Crew Completion ────────────────────────────────────────────────╮</span>\n",
       "<span style=\"color: #008000; text-decoration-color: #008000\">│</span>                                                                                                                 <span style=\"color: #008000; text-decoration-color: #008000\">│</span>\n",
       "<span style=\"color: #008000; text-decoration-color: #008000\">│</span>  <span style=\"color: #008000; text-decoration-color: #008000; font-weight: bold\">Crew Execution Completed</span>                                                                                       <span style=\"color: #008000; text-decoration-color: #008000\">│</span>\n",
       "<span style=\"color: #008000; text-decoration-color: #008000\">│</span>  <span style=\"color: #c0c0c0; text-decoration-color: #c0c0c0\">Name: </span><span style=\"color: #008000; text-decoration-color: #008000\">crew</span>                                                                                                     <span style=\"color: #008000; text-decoration-color: #008000\">│</span>\n",
       "<span style=\"color: #008000; text-decoration-color: #008000\">│</span>  <span style=\"color: #c0c0c0; text-decoration-color: #c0c0c0\">ID: </span><span style=\"color: #008000; text-decoration-color: #008000\">8246706c-6e28-4e21-8805-4b3985c3d811</span>                                                                       <span style=\"color: #008000; text-decoration-color: #008000\">│</span>\n",
       "<span style=\"color: #008000; text-decoration-color: #008000\">│</span>                                                                                                                 <span style=\"color: #008000; text-decoration-color: #008000\">│</span>\n",
       "<span style=\"color: #008000; text-decoration-color: #008000\">│</span>                                                                                                                 <span style=\"color: #008000; text-decoration-color: #008000\">│</span>\n",
       "<span style=\"color: #008000; text-decoration-color: #008000\">╰─────────────────────────────────────────────────────────────────────────────────────────────────────────────────╯</span>\n",
       "</pre>\n"
      ],
      "text/plain": [
       "\u001b[32m╭─\u001b[0m\u001b[32m───────────────────────────────────────────────\u001b[0m\u001b[32m Crew Completion \u001b[0m\u001b[32m───────────────────────────────────────────────\u001b[0m\u001b[32m─╮\u001b[0m\n",
       "\u001b[32m│\u001b[0m                                                                                                                 \u001b[32m│\u001b[0m\n",
       "\u001b[32m│\u001b[0m  \u001b[1;32mCrew Execution Completed\u001b[0m                                                                                       \u001b[32m│\u001b[0m\n",
       "\u001b[32m│\u001b[0m  \u001b[37mName: \u001b[0m\u001b[32mcrew\u001b[0m                                                                                                     \u001b[32m│\u001b[0m\n",
       "\u001b[32m│\u001b[0m  \u001b[37mID: \u001b[0m\u001b[32m8246706c-6e28-4e21-8805-4b3985c3d811\u001b[0m                                                                       \u001b[32m│\u001b[0m\n",
       "\u001b[32m│\u001b[0m                                                                                                                 \u001b[32m│\u001b[0m\n",
       "\u001b[32m│\u001b[0m                                                                                                                 \u001b[32m│\u001b[0m\n",
       "\u001b[32m╰─────────────────────────────────────────────────────────────────────────────────────────────────────────────────╯\u001b[0m\n"
      ]
     },
     "metadata": {},
     "output_type": "display_data"
    },
    {
     "data": {
      "text/html": [
       "<pre style=\"white-space:pre;overflow-x:auto;line-height:normal;font-family:Menlo,'DejaVu Sans Mono',consolas,'Courier New',monospace\">\n",
       "</pre>\n"
      ],
      "text/plain": [
       "\n"
      ]
     },
     "metadata": {},
     "output_type": "display_data"
    },
    {
     "name": "stdout",
     "output_type": "stream",
     "text": [
      "\n",
      "Crew Result:\n",
      "--------------------------------------------------------------------------------\n",
      "**Manchester City: Navigating the Storm with Guardiola's Optimism and Strategic Vision**\n",
      "\n",
      "In the annals of Premier League history, few teams have enjoyed the dominance that Manchester City has under the stewardship of Pep Guardiola. Yet, as the current season unfolds, the sky-blue juggernaut has encountered unforeseen turbulence. Guardiola's recent comments, however, reflect a blend of cautious optimism and a recognition of the challenges that lie ahead.\n",
      "\n",
      "Guardiola, whose tactical genius has been the cornerstone of City's success, remains steadfast in his belief that \"the team is playing well\" and \"we are in a good moment.\" Yet, these affirmations come during a period marked by an astonishing downturn in results. With nine losses in their last 12 matches, City finds itself in unfamiliar territory, grappling with self-doubt and uncharacteristic errors.\n",
      "\n",
      "One cannot discuss City's recent struggles without acknowledging the absence of midfield maestro Rodri. His injury has been akin to pulling out a crucial Jenga piece, leading to a collapse in form that has left the team vulnerable. The injuries to key players such as Nathan Ake and Manuel Akanji have further exacerbated Guardiola's selection headaches, particularly in defense.\n",
      "\n",
      "Guardiola's approach to this crisis, however, has been one of resilience and long-term planning. Rather than publicly chastising his players, he has opted for a protective stance, giving them the space to reset and recover. This reflects his vision not just for the immediate season but for the future of the club. With two years left on his contract, Guardiola is set on rebuilding and reshaping the squad, preparing for a new era at Manchester City.\n",
      "\n",
      "The internal analysis at City suggests that only three of their recent defeats were thoroughly deserved, indicating that the team's competitive edge is not entirely lost. However, the immediate objective has shifted towards securing a top-four finish and reinstating the defensive and offensive intensity that has been synonymous with Guardiola's tenure.\n",
      "\n",
      "Looking forward, changes are anticipated both in the squad and the club's management structure. The potential arrival of sporting director Hugo Viana and the pursuit of new talent, such as Spain's Martin Zubimendi, highlight a strategic effort to inject fresh energy and skills into the team. These moves are aimed at addressing specific weaknesses, particularly in the holding midfielder position.\n",
      "\n",
      "In conclusion, while Manchester City is navigating a challenging period, Guardiola's comments and strategic vision offer a beacon of hope. His leadership, coupled with forthcoming squad changes, promises a resurgence and a new chapter in the club's illustrious history. The road ahead may be daunting, but with Guardiola at the helm, City supporters can remain hopeful of a return to the pinnacle of English football.\n",
      "--------------------------------------------------------------------------------\n"
     ]
    }
   ],
   "source": [
    "# Initialize ShortTermMemory with our storage\n",
    "memory = ShortTermMemory(storage=storage)\n",
    "\n",
    "# Initialize language model\n",
    "llm = ChatOpenAI(\n",
    "    model=\"gpt-4o\",\n",
    "    temperature=0.7\n",
    ")\n",
    "\n",
    "# Create agents with memory\n",
    "sports_analyst = Agent(\n",
    "    role='Sports Analyst',\n",
    "    goal='Analyze Manchester City performance',\n",
    "    backstory='Expert at analyzing football teams and providing insights on their performance',\n",
    "    llm=llm,\n",
    "    memory=True,\n",
    "    memory_storage=memory\n",
    ")\n",
    "\n",
    "journalist = Agent(\n",
    "    role='Sports Journalist',\n",
    "    goal='Create engaging football articles',\n",
    "    backstory='Experienced sports journalist who specializes in Premier League coverage',\n",
    "    llm=llm,\n",
    "    memory=True,\n",
    "    memory_storage=memory\n",
    ")\n",
    "\n",
    "# Create tasks\n",
    "analysis_task = Task(\n",
    "    description='Analyze Manchester City\\'s recent performance based on Pep Guardiola\\'s comments: \"The team is playing well, we are in a good moment. The way we are training, the way we are playing - I am really pleased.\"',\n",
    "    agent=sports_analyst,\n",
    "    expected_output=\"A comprehensive analysis of Manchester City's current form based on Guardiola's comments.\"\n",
    ")\n",
    "\n",
    "writing_task = Task(\n",
    "    description='Write a sports article about Manchester City\\'s form using the analysis and Guardiola\\'s comments.',\n",
    "    agent=journalist,\n",
    "    context=[analysis_task],\n",
    "    expected_output=\"An engaging sports article about Manchester City's current form and Guardiola's perspective.\"\n",
    ")\n",
    "\n",
    "# Create crew with memory\n",
    "crew = Crew(\n",
    "    agents=[sports_analyst, journalist],\n",
    "    tasks=[analysis_task, writing_task],\n",
    "    process=Process.sequential,\n",
    "    memory=True,\n",
    "    short_term_memory=memory,  # Explicitly pass our memory implementation\n",
    "    verbose=True\n",
    ")\n",
    "\n",
    "# Run the crew\n",
    "result = crew.kickoff()\n",
    "\n",
    "print(\"\\nCrew Result:\")\n",
    "print(\"-\" * 80)\n",
    "print(result)\n",
    "print(\"-\" * 80)"
   ]
  },
  {
   "cell_type": "markdown",
   "metadata": {},
   "source": [
    "## The document has been successfully stored in the Couchbase database.\n",
    "\n",
    "![title](./assets/images/documents.png)"
   ]
  },
  {
   "cell_type": "markdown",
   "metadata": {},
   "source": [
    "## Test Memory Retention\n",
    "\n",
    "Query the stored memories to verify retention:"
   ]
  },
  {
   "cell_type": "code",
   "execution_count": 7,
   "metadata": {},
   "outputs": [
    {
     "name": "stdout",
     "output_type": "stream",
     "text": [
      "\n",
      "All memory entries in Couchbase:\n",
      "--------------------------------------------------------------------------------\n",
      "\n",
      "Memory Search Results:\n",
      "--------------------------------------------------------------------------------\n",
      "Context: Based on Pep Guardiola's comments, Manchester City's recent performance can be described as a complex blend of challenges and optimism. Guardiola's assertion that \"the team is playing well\" and \"we are in a good moment\" highlights his satisfaction with the team's current training and playing style. However, the broader context reveals a more nuanced picture.\n",
      "\n",
      "Guardiola's positive remarks come amid a challenging period for the team, marked by a significant downturn in results. Manchester City has experienced an unprecedented run of poor form, with nine losses in their past 12 matches. This stretch has been characterized by self-doubt, errors, and the need for significant changes within the squad. Despite these struggles, Guardiola maintains a positive outlook on the team's efforts and potential.\n",
      "\n",
      "One of the critical issues facing the team is the absence of key midfielder Rodri, whose injury has severely impacted City's performance. The reliance on Rodri as a central figure in the team's strategy is akin to a Jenga tower losing a crucial piece, leading to a collapse in form. The injuries to other key players, such as Nathan Ake and Manuel Akanji, have compounded these challenges, leaving Guardiola with limited options in defense.\n",
      "\n",
      "Guardiola's comments underscore his belief in the team's ability to turn things around, despite the current crisis. He has been protective of his players, refraining from public criticism and instead opting to give them time to reset and recover. This approach reflects his long-term vision for the club, as he plans to use the remaining years of his contract to rebuild and reshape the team.\n",
      "\n",
      "The analysis of City's form within the club suggests that there have only been three matches where they deserved to lose, indicating that the team is not far off from regaining its competitive edge. However, the immediate goal has shifted to securing a top-four finish and restoring the defensive and offensive intensity that has been the hallmark of Guardiola's City.\n",
      "\n",
      "Looking ahead, Guardiola and the club's management are preparing for a new era. This involves potential changes to the squad, with plans to replace several regular starters and bring in new talent, particularly in the holding midfielder position. The anticipated arrival of sporting director Hugo Viana and possible transfers, such as Spain's Martin Zubimendi, signal a strategic effort to revitalize the team.\n",
      "\n",
      "In conclusion, while Guardiola's comments reflect his pleasure with the current training and playing style, the broader context reveals a team in transition. Manchester City is navigating a challenging period, but with Guardiola's leadership and forthcoming changes, there is optimism for a resurgence and a new chapter in the club's storied history.\n",
      "Score: 0.7326797246932983\n",
      "--------------------------------------------------------------------------------\n",
      "Context: Pep Guardiola praised Manchester City's current form, saying 'The team is playing well, we are in a good moment. The way we are training, the way we are playing - I am really pleased.'\n",
      "Score: 0.7146205306053162\n",
      "--------------------------------------------------------------------------------\n",
      "Context: **Manchester City: Navigating the Storm with Guardiola's Optimism and Strategic Vision**\n",
      "\n",
      "In the annals of Premier League history, few teams have enjoyed the dominance that Manchester City has under the stewardship of Pep Guardiola. Yet, as the current season unfolds, the sky-blue juggernaut has encountered unforeseen turbulence. Guardiola's recent comments, however, reflect a blend of cautious optimism and a recognition of the challenges that lie ahead.\n",
      "\n",
      "Guardiola, whose tactical genius has been the cornerstone of City's success, remains steadfast in his belief that \"the team is playing well\" and \"we are in a good moment.\" Yet, these affirmations come during a period marked by an astonishing downturn in results. With nine losses in their last 12 matches, City finds itself in unfamiliar territory, grappling with self-doubt and uncharacteristic errors.\n",
      "\n",
      "One cannot discuss City's recent struggles without acknowledging the absence of midfield maestro Rodri. His injury has been akin to pulling out a crucial Jenga piece, leading to a collapse in form that has left the team vulnerable. The injuries to key players such as Nathan Ake and Manuel Akanji have further exacerbated Guardiola's selection headaches, particularly in defense.\n",
      "\n",
      "Guardiola's approach to this crisis, however, has been one of resilience and long-term planning. Rather than publicly chastising his players, he has opted for a protective stance, giving them the space to reset and recover. This reflects his vision not just for the immediate season but for the future of the club. With two years left on his contract, Guardiola is set on rebuilding and reshaping the squad, preparing for a new era at Manchester City.\n",
      "\n",
      "The internal analysis at City suggests that only three of their recent defeats were thoroughly deserved, indicating that the team's competitive edge is not entirely lost. However, the immediate objective has shifted towards securing a top-four finish and reinstating the defensive and offensive intensity that has been synonymous with Guardiola's tenure.\n",
      "\n",
      "Looking forward, changes are anticipated both in the squad and the club's management structure. The potential arrival of sporting director Hugo Viana and the pursuit of new talent, such as Spain's Martin Zubimendi, highlight a strategic effort to inject fresh energy and skills into the team. These moves are aimed at addressing specific weaknesses, particularly in the holding midfielder position.\n",
      "\n",
      "In conclusion, while Manchester City is navigating a challenging period, Guardiola's comments and strategic vision offer a beacon of hope. His leadership, coupled with forthcoming squad changes, promises a resurgence and a new chapter in the club's illustrious history. The road ahead may be daunting, but with Guardiola at the helm, City supporters can remain hopeful of a return to the pinnacle of English football.\n",
      "Score: 0.6574390530586243\n",
      "--------------------------------------------------------------------------------\n",
      "Context: Manchester City boss Pep Guardiola has won 18 trophies since he arrived at the club in 2016\n",
      "\n",
      "Manchester City boss Pep Guardiola says he is \"fine\" despite admitting his sleep and diet are being affected by the worst run of results in his entire managerial career. In an interview with former Italy international Luca Toni for Amazon Prime Sport before Wednesday's Champions League defeat by Juventus, Guardiola touched on the personal impact City's sudden downturn in form has had. Guardiola said his state of mind was \"ugly\", that his sleep was \"worse\" and he was eating lighter as his digestion had suffered. City go into Sunday's derby against Manchester United at Etihad Stadium having won just one of their past 10 games. The Juventus loss means there is a chance they may not even secure a play-off spot in the Champions League. Asked to elaborate on his comments to Toni, Guardiola said: \"I'm fine. \"In our jobs we always want to do our best or the best as possible. When that doesn't happen you are more uncomfortable than when the situation is going well, always that happened. \"In good moments I am happier but when I get to the next game I am still concerned about what I have to do. There is no human being that makes an activity and it doesn't matter how they do.\" Guardiola said City have to defend better and \"avoid making mistakes at both ends\". To emphasise his point, Guardiola referred back to the third game of City's current run, against a Sporting side managed by Ruben Amorim, who will be in the United dugout at the weekend. City dominated the first half in Lisbon, led thanks to Phil Foden's early effort and looked to be cruising. Instead, they conceded three times in 11 minutes either side of half-time as Sporting eventually ran out 4-1 winners. \"I would like to play the game like we played in Lisbon on Sunday, believe me,\" said Guardiola, who is facing the prospect of only having three fit defenders for the derby as Nathan Ake and Manuel Akanji try to overcome injury concerns. If there is solace for City, it comes from the knowledge United are not exactly flying. Their comeback Europa League victory against Viktoria Plzen on Thursday was their third win of Amorim's short reign so far but only one of those successes has come in the Premier League, where United have lost their past two games against Arsenal and Nottingham Forest. Nevertheless, Guardiola can see improvements already on the red side of the city. \"It's already there,\" he said. \"You see all the patterns, the movements, the runners and the pace. He will do a good job at United, I'm pretty sure of that.\"\n",
      "\n",
      "Guardiola says skipper Kyle Walker has been offered support by the club after the City defender highlighted the racial abuse he had received on social media in the wake of the Juventus trip. \"It's unacceptable,\" he said. \"Not because it's Kyle - for any human being. \"Unfortunately it happens many times in the real world. It is not necessary to say he has the support of the entire club. It is completely unacceptable and we give our support to him.\"\n",
      "Score: 0.6334313750267029\n",
      "--------------------------------------------------------------------------------\n",
      "Context: 'I am not good enough' - Guardiola faces daunting and major rebuild\n",
      "\n",
      "This video can not be played To play this video you need to enable JavaScript in your browser. 'I am not good enough' - Guardiola says he must find a 'solution' after derby loss\n",
      "\n",
      "Pep Guardiola says his sleep has suffered during Manchester City's deepening crisis, so he will not be helped by a nightmarish conclusion to one of the most stunning defeats of his long reign. Guardiola looked agitated, animated and on edge even after City led the Manchester derby through Josko Gvardiol's 36th-minute header, his reaction to the goal one of almost disdain that it came via a deflected cross as opposed to in his purist style. He sat alone with his eyes closed sipping from a water bottle before the resumption of the second half, then was denied even the respite of victory when Manchester United gave this largely dismal derby a dramatic conclusion it barely deserved with a remarkable late comeback. First, with 88 minutes on the clock, Matheus Nunes presented Amad Diallo with the ball before compounding his error by flattening the forward as he made an attempt to recover his mistake. Bruno Fernandes completed the formalities from the penalty spot. Worse was to come two minutes later when Lisandro Martinez's routine long ball caught City's defence inexplicably statuesque. Goalkeeper Ederson's positioning was awry, allowing the lively Diallo to pounce from an acute angle to leave Guardiola and his players stunned. It was the latest into any game, 88 minutes, that reigning Premier League champions had led then lost. It was also the first time City had lost a game they were leading so late on. And in a sign of City's previous excellence that is now being challenged, they have only lost four of 105 Premier League home games under Guardiola in which they have been ahead at half-time, winning 94 and drawing seven. Guardiola delivered a brutal self-analysis as he told Match of the Day: \"I am not good enough. I am the boss. I am the manager. I have to find solutions and so far I haven't. That's the reality. \"Not much else to say. No defence. Manchester United were incredibly persistent. We have not lost eight games in two seasons. We can't defend that.\"\n",
      "\n",
      "Manchester City manager Pep Guardiola in despair during the derby defeat to Manchester United\n",
      "\n",
      "Guardiola suggested the serious renewal will wait until the summer but the red flags have been appearing for weeks in the sudden and shocking decline of a team that has lost the aura of invincibility that left many opponents beaten before kick-off in previous years. He has had stated City must \"survive\" this season - whatever qualifies as survival for a club of such rich ambition - but the quest for a record fifth successive Premier League title is surely over as they lie nine points behind leaders Liverpool having played a game more. Their Champions League aspirations are also in jeopardy after another loss, this time against Juventus in Turin. City's squad has been allowed to grow too old together. The insatiable thirst for success seems to have gone, the scales of superiority have fallen away and opponents now sense vulnerability right until the final whistle, as United did here. The manner in which United were able, and felt able, to snatch this victory drove right to the heart of how City, and Guardiola, are allowing opponents to prey on their downfall. Guardiola has every reason to cite injuries, most significantly to Rodri and also John Stones as well as others, but this cannot be used an excuse for such a dramatic decline in standards, allied to the appearance of a soft underbelly that is so easily exploited. And City's rebuild will not be a quick fix. With every performance, every defeat, the scale of what lies in front of Guardiola becomes more obvious - and daunting. Manchester City's fans did their best to reassure Guardiola of their faith in him with a giant Barcelona-inspired banner draped from the stands before kick-off emblazoned with his image reading \"Més que un entrenador\" - \"More Than A Coach\". And Guardiola will now need to be more than a coach than at any time in his career. He will have the finances but it will be done with City's challengers also strengthening. Kevin de Bruyne, 34 in June, lasted 68 minutes here before he was substituted. Age and injuries are catching up with one of the greatest players of the Premier League era and he is unlikely to be at City next season. Mateo Kovacic, who replaced De Bruyne, is also 31 in May. Kyle Walker, 34, is being increasingly exposed. His most notable contribution here was an embarrassing collapse to the ground after the mildest head-to-head collision with Rasmus Hojlund. Ilkay Gundogan, another 34-year-old and a previous pillar of Guardiola's great successes, no longer has the legs or energy to exert influence. This looks increasingly like a season too far following his return from Barcelona. Flaws are also being exposed elsewhere, with previously reliable performers failing to hit previous standards. Phil Foden scored 27 goals and had 12 assists when he was Premier League Player of the Season last term. This year he has just three goals and two assists in 18 appearances in all competitions. He has no goals and just one assist in 11 Premier League games. Jack Grealish, who came on after 77 minutes against United, has not scored in a year for Manchester City, his last goal coming in a 2-2 draw against Crystal Palace on 16 December last year. He has, in the meantime, scored twice for England. Erling Haaland is also struggling as City lack creativity and cutting edge. He has three goals in his past 11 Premier League games after scoring 10 in his first five. And in another indication of City's impotence, and their reliance on Haaland, defender Gvardiol's goal against United was his fourth this season, making him their second highest scorer in all competitions behind the Norwegian striker, who has 18. Goalkeeper Ederson, so reliable for so long, has already been dropped once this season and did not cover himself in glory for United's winner. Guardiola, with that freshly signed two-year contract, insists he \"wants it\" as he treads on this alien territory of failure. He will be under no illusions about the size of the job in front of him as he placed his head in his hands in anguish after yet another damaging and deeply revealing defeat. City and Guardiola are in new, unforgiving territory.\n",
      "Score: 0.6280660033226013\n",
      "--------------------------------------------------------------------------------\n",
      "\n",
      "Agent Interaction Memory Results:\n",
      "--------------------------------------------------------------------------------\n",
      "Context: Based on Pep Guardiola's comments, Manchester City's recent performance can be described as a complex blend of challenges and optimism. Guardiola's assertion that \"the team is playing well\" and \"we ar...\n",
      "Score: 0.6600019335746765\n",
      "--------------------------------------------------------------------------------\n",
      "Context: **Manchester City: Navigating the Storm with Guardiola's Optimism and Strategic Vision**\n",
      "\n",
      "In the annals of Premier League history, few teams have enjoyed the dominance that Manchester City has under t...\n",
      "Score: 0.6010371446609497\n",
      "--------------------------------------------------------------------------------\n",
      "Context: 'Self-doubt, errors & big changes' - inside the crisis at Man City\n",
      "\n",
      "Pep Guardiola has not been through a moment like this in his managerial career. Manchester City have lost nine matches in their past...\n",
      "Score: 0.5708299875259399\n",
      "--------------------------------------------------------------------------------\n",
      "Context: 'I am not good enough' - Guardiola faces daunting and major rebuild\n",
      "\n",
      "This video can not be played To play this video you need to enable JavaScript in your browser. 'I am not good enough' - Guardiola s...\n",
      "Score: 0.5522488355636597\n",
      "--------------------------------------------------------------------------------\n",
      "Context: Manchester City boss Pep Guardiola has won 18 trophies since he arrived at the club in 2016\n",
      "\n",
      "Manchester City boss Pep Guardiola says he is \"fine\" despite admitting his sleep and diet are being affecte...\n",
      "Score: 0.5451104044914246\n",
      "--------------------------------------------------------------------------------\n"
     ]
    }
   ],
   "source": [
    "# Wait for memories to be stored\n",
    "time.sleep(2)\n",
    "\n",
    "# List all documents in the collection\n",
    "try:\n",
    "    # Query to fetch all documents of this memory type\n",
    "    query_str = f\"SELECT META().id, * FROM `{storage.bucket_name}`.`{storage.scope_name}`.`{storage.collection_name}` WHERE memory_type = $type\"\n",
    "    query_result = storage.cluster.query(query_str, type=storage.type)\n",
    "    \n",
    "    print(f\"\\nAll memory entries in Couchbase:\")\n",
    "    print(\"-\" * 80)\n",
    "    for i, row in enumerate(query_result, 1):\n",
    "        doc_id = row.get('id')\n",
    "        memory_id = row.get(storage.collection_name, {}).get('memory_id', 'unknown')\n",
    "        content = row.get(storage.collection_name, {}).get('text', '')[:100] + \"...\"  # Truncate for readability\n",
    "        \n",
    "        print(f\"Entry {i}:\")\n",
    "        print(f\"ID: {doc_id}\")\n",
    "        print(f\"Memory ID: {memory_id}\")\n",
    "        print(f\"Content: {content}\")\n",
    "        print(\"-\" * 80)\n",
    "except Exception as e:\n",
    "    print(f\"Failed to list memory entries: {str(e)}\")\n",
    "\n",
    "# Test memory retention\n",
    "memory_query = \"What is Manchester City's current form according to Guardiola?\"\n",
    "memory_results = storage.search(\n",
    "    query=memory_query,\n",
    "    limit=5,  # Increased to see more results\n",
    "    score_threshold=0.0  # Lower threshold to see all results\n",
    ")\n",
    "\n",
    "print(\"\\nMemory Search Results:\")\n",
    "print(\"-\" * 80)\n",
    "for result in memory_results:\n",
    "    print(f\"Context: {result['context']}\")\n",
    "    print(f\"Score: {result['score']}\")\n",
    "    print(\"-\" * 80)\n",
    "\n",
    "# Try a more specific query to find agent interactions\n",
    "interaction_query = \"Manchester City playing style analysis tactical\"\n",
    "interaction_results = storage.search(\n",
    "    query=interaction_query,\n",
    "    limit=5,\n",
    "    score_threshold=0.0\n",
    ")\n",
    "\n",
    "print(\"\\nAgent Interaction Memory Results:\")\n",
    "print(\"-\" * 80)\n",
    "for result in interaction_results:\n",
    "    print(f\"Context: {result['context'][:200]}...\")  # Limit output size\n",
    "    print(f\"Score: {result['score']}\")\n",
    "    print(\"-\" * 80)\n"
   ]
  }
 ],
 "metadata": {
  "kernelspec": {
   "display_name": "Python 3",
   "language": "python",
   "name": "python3"
  },
  "language_info": {
   "codemirror_mode": {
    "name": "ipython",
    "version": 3
   },
   "file_extension": ".py",
   "mimetype": "text/x-python",
   "name": "python",
   "nbconvert_exporter": "python",
   "pygments_lexer": "ipython3",
   "version": "3.11.2"
  }
 },
 "nbformat": 4,
 "nbformat_minor": 2
}
