{
 "cells": [
  {
   "cell_type": "markdown",
   "metadata": {},
   "source": [
    "# Introduction\n",
    "\n",
    "In this guide, we will walk you through building a powerful semantic search engine using [Couchbase](https://www.couchbase.com) as the backend database and [CrewAI](https://github.com/crewAIInc/crewAI) for agent-based RAG operations. CrewAI allows us to create specialized agents that can work together to handle different aspects of the RAG workflow, from document retrieval to response generation. This tutorial is designed to be beginner-friendly, with clear, step-by-step instructions that will equip you with the knowledge to create a fully functional semantic search system from scratch.\n",
    "\n",
    "How to run this tutorial\n",
    "----------------------\n",
    "This tutorial is available as a Jupyter Notebook (.ipynb file) that you can run \n",
    "interactively. You can access the original notebook here.\n",
    "\n",
    "You can either:\n",
    "- Download the notebook file and run it on [Google Colab](https://colab.research.google.com)\n",
    "- Run it on your system by setting up the Python environment\n",
    "\n",
    "Before you start\n",
    "---------------\n",
    "\n",
    "1. Create and Deploy Your Free Tier Operational cluster on [Capella](https://cloud.couchbase.com/sign-up)\n",
    "   - To get started with [Couchbase Capella](https://cloud.couchbase.com), create an account and use it to deploy \n",
    "     a forever free tier operational cluster\n",
    "   - This account provides you with an environment where you can explore and learn \n",
    "     about Capella with no time constraint\n",
    "   - To know more, please follow the [Getting Started Guide](https://docs.couchbase.com/cloud/get-started/create-account.html)\n",
    "\n",
    "2. Couchbase Capella Configuration\n",
    "   When running Couchbase using Capella, the following prerequisites need to be met:\n",
    "   - Create the database credentials to access the [travel-sample bucket](https://docs.couchbase.com/server/current/manage/manage-settings/install-sample-buckets.html) (Read and Write) \n",
    "     used in the application\n",
    "   - Allow access to the Cluster from the IP on which the application is running by following the [Network Security documentation](https://docs.couchbase.com/cloud/security/security.html#public-access)"
   ]
  },
  {
   "cell_type": "markdown",
   "metadata": {},
   "source": [
    "# Setting the Stage: Installing Necessary Libraries\n",
    "\n",
    "We'll install the following key libraries:\n",
    "- `datasets`: For loading and managing our training data\n",
    "- `langchain-couchbase`: To integrate Couchbase with LangChain for vector storage and caching\n",
    "- `langchain-openai`: For accessing OpenAI's embedding and chat models\n",
    "- `crewai`: To create and orchestrate our AI agents for RAG operations\n",
    "- `python-dotenv`: For securely managing environment variables and API keys\n",
    "- `tqdm`: For displaying progress bars during data processing\n",
    "\n",
    "These libraries provide the foundation for building a semantic search engine with vector embeddings, \n",
    "database integration, and agent-based RAG capabilities."
   ]
  },
  {
   "cell_type": "code",
   "execution_count": 1,
   "metadata": {},
   "outputs": [
    {
     "name": "stdout",
     "output_type": "stream",
     "text": [
      "Note: you may need to restart the kernel to use updated packages.\n"
     ]
    }
   ],
   "source": [
    "%pip install --quiet datasets langchain-couchbase langchain-openai crewai python-dotenv tqdm"
   ]
  },
  {
   "cell_type": "markdown",
   "metadata": {},
   "source": [
    "# Importing Necessary Libraries\n",
    "The script starts by importing a series of libraries required for various tasks, including handling JSON, logging, time tracking, Couchbase connections, embedding generation, and dataset loading."
   ]
  },
  {
   "cell_type": "code",
   "execution_count": 2,
   "metadata": {},
   "outputs": [],
   "source": [
    "import getpass\n",
    "import json\n",
    "import logging\n",
    "import os\n",
    "import time\n",
    "from datetime import timedelta\n",
    "from uuid import uuid4\n",
    "\n",
    "import tqdm\n",
    "from couchbase.auth import PasswordAuthenticator\n",
    "from couchbase.cluster import Cluster\n",
    "from couchbase.diagnostics import PingState, ServiceType\n",
    "from couchbase.exceptions import (CouchbaseException,\n",
    "                                  InternalServerFailureException,\n",
    "                                  QueryIndexAlreadyExistsException,\n",
    "                                  ServiceUnavailableException)\n",
    "from couchbase.management.buckets import CreateBucketSettings\n",
    "from couchbase.management.search import SearchIndex\n",
    "from couchbase.options import ClusterOptions\n",
    "from datasets import load_dataset\n",
    "from dotenv import load_dotenv\n",
    "from langchain.tools import Tool\n",
    "from langchain_couchbase.vectorstores import CouchbaseVectorStore\n",
    "from langchain_openai import ChatOpenAI, OpenAIEmbeddings\n",
    "\n",
    "from crewai import Agent, Crew, Process, Task"
   ]
  },
  {
   "cell_type": "markdown",
   "metadata": {},
   "source": [
    "# Setup Logging\n",
    "Logging is configured to track the progress of the script and capture any errors or warnings."
   ]
  },
  {
   "cell_type": "code",
   "execution_count": 3,
   "metadata": {},
   "outputs": [],
   "source": [
    "logging.basicConfig(\n",
    "    level=logging.INFO,\n",
    "    format='%(asctime)s [%(levelname)s] %(message)s',\n",
    "    datefmt='%Y-%m-%d %H:%M:%S'\n",
    ")\n",
    "\n",
    "# Suppress httpx logging\n",
    "logging.getLogger('httpx').setLevel(logging.CRITICAL)"
   ]
  },
  {
   "cell_type": "markdown",
   "metadata": {},
   "source": [
    "# Loading Sensitive Informnation\n",
    "In this section, we prompt the user to input essential configuration settings needed. These settings include sensitive information like database credentials, and specific configuration names. Instead of hardcoding these details into the script, we request the user to provide them at runtime, ensuring flexibility and security.\n",
    "\n",
    "The script uses environment variables to store sensitive information, enhancing the overall security and maintainability of your code by avoiding hardcoded values."
   ]
  },
  {
   "cell_type": "code",
   "execution_count": 4,
   "metadata": {},
   "outputs": [
    {
     "name": "stdout",
     "output_type": "stream",
     "text": [
      "Configuration loaded successfully\n"
     ]
    }
   ],
   "source": [
    "# Load environment variables\n",
    "load_dotenv()\n",
    "\n",
    "# Configuration\n",
    "OPENAI_API_KEY = os.getenv('OPENAI_API_KEY') or input(\"Enter your OpenAI API key: \")\n",
    "if not OPENAI_API_KEY:\n",
    "    raise ValueError(\"OPENAI_API_KEY is not set\")\n",
    "\n",
    "CB_HOST = os.getenv('CB_HOST') or input(\"Enter Couchbase host (default: couchbase://localhost): \") or 'couchbase://localhost'\n",
    "CB_USERNAME = os.getenv('CB_USERNAME') or input(\"Enter Couchbase username (default: Administrator): \") or 'Administrator'\n",
    "CB_PASSWORD = os.getenv('CB_PASSWORD') or getpass.getpass(\"Enter Couchbase password (default: password): \") or 'password'\n",
    "CB_BUCKET_NAME = os.getenv('CB_BUCKET_NAME') or input(\"Enter bucket name (default: vector-search-testing): \") or 'vector-search-testing'\n",
    "INDEX_NAME = os.getenv('INDEX_NAME') or input(\"Enter index name (default: vector_search_crew): \") or 'vector_search_crew'\n",
    "SCOPE_NAME = os.getenv('SCOPE_NAME') or input(\"Enter scope name (default: shared): \") or 'shared'\n",
    "COLLECTION_NAME = os.getenv('COLLECTION_NAME') or input(\"Enter collection name (default: crew): \") or 'crew'\n",
    "\n",
    "print(\"Configuration loaded successfully\")"
   ]
  },
  {
   "cell_type": "markdown",
   "metadata": {},
   "source": [
    "# Connecting to the Couchbase Cluster\n",
    "Connecting to a Couchbase cluster is the foundation of our project. Couchbase will serve as our primary data store, handling all the storage and retrieval operations required for our semantic search engine. By establishing this connection, we enable our application to interact with the database, allowing us to perform operations such as storing embeddings, querying data, and managing collections. This connection is the gateway through which all data will flow, so ensuring it's set up correctly is paramount."
   ]
  },
  {
   "cell_type": "code",
   "execution_count": 5,
   "metadata": {},
   "outputs": [
    {
     "name": "stdout",
     "output_type": "stream",
     "text": [
      "Successfully connected to Couchbase\n"
     ]
    }
   ],
   "source": [
    "# Connect to Couchbase\n",
    "try:\n",
    "    auth = PasswordAuthenticator(CB_USERNAME, CB_PASSWORD)\n",
    "    options = ClusterOptions(auth)\n",
    "    cluster = Cluster(CB_HOST, options)\n",
    "    cluster.wait_until_ready(timedelta(seconds=5))\n",
    "    print(\"Successfully connected to Couchbase\")\n",
    "except Exception as e:\n",
    "    print(f\"Failed to connect to Couchbase: {str(e)}\")\n",
    "    raise"
   ]
  },
  {
   "cell_type": "markdown",
   "metadata": {},
   "source": [
    "# Verifying Search Service Availability\n",
    " In this section, we verify that the Couchbase Search (FTS) service is available and responding correctly. This is a crucial check because our vector search functionality depends on it. If any issues are detected with the Search service, the function will raise an exception, allowing us to catch and handle problems early before attempting vector operations.\n"
   ]
  },
  {
   "cell_type": "code",
   "execution_count": 6,
   "metadata": {},
   "outputs": [
    {
     "name": "stdout",
     "output_type": "stream",
     "text": [
      "Search service is responding at: 18.209.43.8:18094\n",
      "Search service check passed successfully\n"
     ]
    }
   ],
   "source": [
    "def check_search_service(cluster):\n",
    "    \"\"\"Verify search service availability using ping\"\"\"\n",
    "    try:\n",
    "        # Get ping result\n",
    "        ping_result = cluster.ping()\n",
    "        search_available = False\n",
    "        \n",
    "        # Check if search service is responding\n",
    "        for service_type, endpoints in ping_result.endpoints.items():\n",
    "            if service_type == ServiceType.Search:\n",
    "                for endpoint in endpoints:\n",
    "                    if endpoint.state == PingState.OK:\n",
    "                        search_available = True\n",
    "                        print(f\"Search service is responding at: {endpoint.remote}\")\n",
    "                        break\n",
    "                break\n",
    "\n",
    "        if not search_available:\n",
    "            raise RuntimeError(\"Search/FTS service not found or not responding\")\n",
    "        \n",
    "        print(\"Search service check passed successfully\")\n",
    "    except Exception as e:\n",
    "        print(f\"Health check failed: {str(e)}\")\n",
    "        raise\n",
    "try:\n",
    "    check_search_service(cluster)\n",
    "except Exception as e:\n",
    "    print(f\"Failed to check search service: {str(e)}\")\n",
    "    raise"
   ]
  },
  {
   "cell_type": "markdown",
   "metadata": {},
   "source": [
    "## Setting Up Collections in Couchbase\n",
    "\n",
    "The setup_collection() function handles creating and configuring the hierarchical data organization in Couchbase:\n",
    "\n",
    "1. Bucket Creation:\n",
    "   - Checks if specified bucket exists, creates it if not\n",
    "   - Sets bucket properties like RAM quota (1024MB) and replication (disabled)\n",
    "\n",
    "2. Scope Management:  \n",
    "   - Verifies if requested scope exists within bucket\n",
    "   - Creates new scope if needed (unless it's the default \"_default\" scope)\n",
    "\n",
    "3. Collection Setup:\n",
    "   - Checks for collection existence within scope\n",
    "   - Creates collection if it doesn't exist\n",
    "   - Waits 2 seconds for collection to be ready\n",
    "\n",
    "Additional Tasks:\n",
    "- Creates primary index on collection for query performance\n",
    "- Clears any existing documents for clean state\n",
    "- Implements comprehensive error handling and logging\n",
    "\n",
    "The function is called twice to set up:\n",
    "1. Main collection for vector embeddings\n",
    "2. Cache collection for storing results\n"
   ]
  },
  {
   "cell_type": "code",
   "execution_count": 7,
   "metadata": {},
   "outputs": [
    {
     "name": "stderr",
     "output_type": "stream",
     "text": [
      "2025-02-06 01:58:19 [INFO] Bucket 'vector-search-testing' exists.\n",
      "2025-02-06 01:58:21 [INFO] Collection 'crew' does not exist. Creating it...\n",
      "2025-02-06 01:58:22 [INFO] Collection 'crew' created successfully.\n",
      "2025-02-06 01:58:28 [INFO] Primary index present or created successfully.\n",
      "2025-02-06 01:58:29 [INFO] All documents cleared from the collection.\n"
     ]
    },
    {
     "data": {
      "text/plain": [
       "<couchbase.collection.Collection at 0x3105e9190>"
      ]
     },
     "execution_count": 7,
     "metadata": {},
     "output_type": "execute_result"
    }
   ],
   "source": [
    "def setup_collection(cluster, bucket_name, scope_name, collection_name):\n",
    "    try:\n",
    "        # Check if bucket exists, create if it doesn't\n",
    "        try:\n",
    "            bucket = cluster.bucket(bucket_name)\n",
    "            logging.info(f\"Bucket '{bucket_name}' exists.\")\n",
    "        except Exception as e:\n",
    "            logging.info(f\"Bucket '{bucket_name}' does not exist. Creating it...\")\n",
    "            bucket_settings = CreateBucketSettings(\n",
    "                name=bucket_name,\n",
    "                bucket_type='couchbase',\n",
    "                ram_quota_mb=1024,\n",
    "                flush_enabled=True,\n",
    "                num_replicas=0\n",
    "            )\n",
    "            cluster.buckets().create_bucket(bucket_settings)\n",
    "            bucket = cluster.bucket(bucket_name)\n",
    "            logging.info(f\"Bucket '{bucket_name}' created successfully.\")\n",
    "\n",
    "        bucket_manager = bucket.collections()\n",
    "\n",
    "        # Check if scope exists, create if it doesn't\n",
    "        scopes = bucket_manager.get_all_scopes()\n",
    "        scope_exists = any(scope.name == scope_name for scope in scopes)\n",
    "        \n",
    "        if not scope_exists and scope_name != \"_default\":\n",
    "            logging.info(f\"Scope '{scope_name}' does not exist. Creating it...\")\n",
    "            bucket_manager.create_scope(scope_name)\n",
    "            logging.info(f\"Scope '{scope_name}' created successfully.\")\n",
    "\n",
    "        # Check if collection exists, create if it doesn't\n",
    "        collections = bucket_manager.get_all_scopes()\n",
    "        collection_exists = any(\n",
    "            scope.name == scope_name and collection_name in [col.name for col in scope.collections]\n",
    "            for scope in collections\n",
    "        )\n",
    "\n",
    "        if not collection_exists:\n",
    "            logging.info(f\"Collection '{collection_name}' does not exist. Creating it...\")\n",
    "            bucket_manager.create_collection(scope_name, collection_name)\n",
    "            logging.info(f\"Collection '{collection_name}' created successfully.\")\n",
    "        else:\n",
    "            logging.info(f\"Collection '{collection_name}' already exists. Skipping creation.\")\n",
    "\n",
    "        # Wait for collection to be ready\n",
    "        collection = bucket.scope(scope_name).collection(collection_name)\n",
    "        time.sleep(2)  # Give the collection time to be ready for queries\n",
    "\n",
    "        # Ensure primary index exists\n",
    "        try:\n",
    "            cluster.query(f\"CREATE PRIMARY INDEX IF NOT EXISTS ON `{bucket_name}`.`{scope_name}`.`{collection_name}`\").execute()\n",
    "            logging.info(\"Primary index present or created successfully.\")\n",
    "        except Exception as e:\n",
    "            logging.warning(f\"Error creating primary index: {str(e)}\")\n",
    "\n",
    "        # Clear all documents in the collection\n",
    "        try:\n",
    "            query = f\"DELETE FROM `{bucket_name}`.`{scope_name}`.`{collection_name}`\"\n",
    "            cluster.query(query).execute()\n",
    "            logging.info(\"All documents cleared from the collection.\")\n",
    "        except Exception as e:\n",
    "            logging.warning(f\"Error while clearing documents: {str(e)}. The collection might be empty.\")\n",
    "\n",
    "        return collection\n",
    "    except Exception as e:\n",
    "        raise RuntimeError(f\"Error setting up collection: {str(e)}\")\n",
    "    \n",
    "setup_collection(cluster, CB_BUCKET_NAME, SCOPE_NAME, COLLECTION_NAME)\n"
   ]
  },
  {
   "cell_type": "markdown",
   "metadata": {},
   "source": [
    "# Configuring and Initializing Couchbase Vector Search Index for Semantic Document Retrieval\n",
    "\n",
    "Semantic search requires an efficient way to retrieve relevant documents based on a user's query. This is where the Couchbase Vector Search Index comes into play. In this step, we load the Vector Search Index definition from a JSON file, which specifies how the index should be structured. This includes the fields to be indexed, the dimensions of the vectors, and other parameters that determine how the search engine processes queries based on vector similarity.\n",
    "\n",
    "This CrewAI vector search index configuration requires specific default settings to function properly. This tutorial uses the bucket named `vector-search-testing` with the scope `shared` and collection `crew`. The configuration is set up for vectors with exactly `1536 dimensions`, using `dot product` similarity and optimized for `recall`. If you want to use a different bucket, scope, or collection, you will need to modify the index configuration accordingly.\n",
    "\n",
    "For more information on creating a vector search index, please follow the instructions at [Couchbase Vector Search Documentation](https://docs.couchbase.com/cloud/vector-search/create-vector-search-index-ui.html)."
   ]
  },
  {
   "cell_type": "code",
   "execution_count": 8,
   "metadata": {},
   "outputs": [],
   "source": [
    "# Load index definition\n",
    "try:\n",
    "    with open('crew_index.json', 'r') as file:\n",
    "        index_definition = json.load(file)\n",
    "except FileNotFoundError as e:\n",
    "    print(f\"Error: crew_index.json file not found: {str(e)}\")\n",
    "    raise\n",
    "except json.JSONDecodeError as e:\n",
    "    print(f\"Error: Invalid JSON in crew_index.json: {str(e)}\")\n",
    "    raise\n",
    "except Exception as e:\n",
    "    print(f\"Error loading index definition: {str(e)}\")\n",
    "    raise"
   ]
  },
  {
   "cell_type": "markdown",
   "metadata": {},
   "source": [
    "# Creating or Updating Search Indexes\n",
    "\n",
    "With the index definition loaded, the next step is to create or update the **Vector Search Index** in Couchbase. This step is crucial because it optimizes our database for vector similarity search operations, allowing us to perform searches based on the semantic content of documents rather than just keywords. By creating or updating a Vector Search Index, we enable our search engine to handle complex queries that involve finding semantically similar documents using vector embeddings, which is essential for a robust semantic search engine."
   ]
  },
  {
   "cell_type": "code",
   "execution_count": 9,
   "metadata": {},
   "outputs": [
    {
     "name": "stderr",
     "output_type": "stream",
     "text": [
      "2025-02-06 01:58:30 [INFO] Creating new index 'vector_search_crew'...\n",
      "2025-02-06 01:58:31 [INFO] Index 'vector_search_crew' successfully created/updated.\n"
     ]
    }
   ],
   "source": [
    "try:\n",
    "    scope_index_manager = cluster.bucket(CB_BUCKET_NAME).scope(SCOPE_NAME).search_indexes()\n",
    "\n",
    "    # Check if index already exists\n",
    "    existing_indexes = scope_index_manager.get_all_indexes()\n",
    "    index_name = index_definition[\"name\"]\n",
    "\n",
    "    if index_name in [index.name for index in existing_indexes]:\n",
    "        logging.info(f\"Index '{index_name}' found\")\n",
    "    else:\n",
    "        logging.info(f\"Creating new index '{index_name}'...\")\n",
    "\n",
    "    # Create SearchIndex object from JSON definition\n",
    "    search_index = SearchIndex.from_json(index_definition)\n",
    "\n",
    "    # Upsert the index (create if not exists, update if exists)\n",
    "    scope_index_manager.upsert_index(search_index)\n",
    "    logging.info(f\"Index '{index_name}' successfully created/updated.\")\n",
    "\n",
    "except QueryIndexAlreadyExistsException:\n",
    "    logging.info(f\"Index '{index_name}' already exists. Skipping creation/update.\")\n",
    "except ServiceUnavailableException:\n",
    "    raise RuntimeError(\"Search service is not available. Please ensure the Search service is enabled in your Couchbase cluster.\")\n",
    "except InternalServerFailureException as e:\n",
    "    logging.error(f\"Internal server error: {str(e)}\")\n",
    "    raise"
   ]
  },
  {
   "cell_type": "markdown",
   "metadata": {},
   "source": [
    "# Setting Up OpenAI Components\n",
    "\n",
    "This section initializes two key OpenAI components needed for our RAG system:\n",
    "\n",
    "1. OpenAI Embeddings:\n",
    "   - Uses the 'text-embedding-ada-002' model\n",
    "   - Converts text into high-dimensional vector representations (embeddings)\n",
    "   - These embeddings enable semantic search by capturing the meaning of text\n",
    "   - Required for vector similarity search in Couchbase\n",
    "\n",
    "2. ChatOpenAI Language Model:\n",
    "   - Uses the 'gpt-4o' model\n",
    "   - Temperature set to 0.0 for focused responses\n",
    "   - Higher temperatures increase creativity and variation\n",
    "   - Handles the actual text generation and responses\n",
    "   - Acts as the brain of our RAG system for processing retrieved context\n",
    "\n",
    "Both components require a valid OpenAI API key (OPENAI_API_KEY) for authentication.\n",
    "The embeddings model is optimized for creating vector representations,\n",
    "while the language model is optimized for understanding and generating human-like text."
   ]
  },
  {
   "cell_type": "code",
   "execution_count": 10,
   "metadata": {},
   "outputs": [
    {
     "name": "stdout",
     "output_type": "stream",
     "text": [
      "OpenAI components initialized\n"
     ]
    }
   ],
   "source": [
    "# Initialize OpenAI components\n",
    "embeddings = OpenAIEmbeddings(\n",
    "    openai_api_key=OPENAI_API_KEY,\n",
    "    model=\"text-embedding-ada-002\"\n",
    ")\n",
    "\n",
    "llm = ChatOpenAI(\n",
    "    openai_api_key=OPENAI_API_KEY,\n",
    "    model=\"gpt-4o\",\n",
    "    temperature=0.2\n",
    ")\n",
    "\n",
    "print(\"OpenAI components initialized\")"
   ]
  },
  {
   "cell_type": "markdown",
   "metadata": {},
   "source": [
    "# Setting Up the Couchbase Vector Store\n",
    "A vector store is where we'll keep our embeddings. Unlike the FTS index, which is used for text-based search, the vector store is specifically designed to handle embeddings and perform similarity searches. When a user inputs a query, the search engine converts the query into an embedding and compares it against the embeddings stored in the vector store. This allows the engine to find documents that are semantically similar to the query, even if they don't contain the exact same words. By setting up the vector store in Couchbase, we create a powerful tool that enables our search engine to understand and retrieve information based on the meaning and context of the query, rather than just the specific words used."
   ]
  },
  {
   "cell_type": "code",
   "execution_count": 11,
   "metadata": {},
   "outputs": [
    {
     "name": "stdout",
     "output_type": "stream",
     "text": [
      "Vector store initialized\n"
     ]
    }
   ],
   "source": [
    "# Setup vector store\n",
    "vector_store = CouchbaseVectorStore(\n",
    "    cluster=cluster,\n",
    "    bucket_name=CB_BUCKET_NAME,\n",
    "    scope_name=SCOPE_NAME,\n",
    "    collection_name=COLLECTION_NAME,\n",
    "    embedding=embeddings,\n",
    "    index_name=INDEX_NAME,\n",
    ")\n",
    "print(\"Vector store initialized\")"
   ]
  },
  {
   "cell_type": "markdown",
   "metadata": {},
   "source": [
    "# Load the BBC News Dataset\n",
    "To build a search engine, we need data to search through. We use the BBC News dataset from RealTimeData, which provides real-world news articles. This dataset contains news articles from BBC covering various topics and time periods. Loading the dataset is a crucial step because it provides the raw material that our search engine will work with. The quality and diversity of the news articles make it an excellent choice for testing and refining our search engine, ensuring it can handle real-world news content effectively.\n",
    "\n",
    "The BBC News dataset allows us to work with authentic news articles, enabling us to build and test a search engine that can effectively process and retrieve relevant news content. The dataset is loaded using the Hugging Face datasets library, specifically accessing the \"RealTimeData/bbc_news_alltime\" dataset with the \"2024-12\" version."
   ]
  },
  {
   "cell_type": "code",
   "execution_count": 12,
   "metadata": {},
   "outputs": [
    {
     "name": "stderr",
     "output_type": "stream",
     "text": [
      "2025-02-06 01:58:41 [INFO] Successfully loaded the BBC News dataset with 2687 rows.\n"
     ]
    },
    {
     "name": "stdout",
     "output_type": "stream",
     "text": [
      "Loaded the BBC News dataset with 2687 rows\n"
     ]
    }
   ],
   "source": [
    "try:\n",
    "    news_dataset = load_dataset(\n",
    "        \"RealTimeData/bbc_news_alltime\", \"2024-12\", split=\"train\"\n",
    "    )\n",
    "    print(f\"Loaded the BBC News dataset with {len(news_dataset)} rows\")\n",
    "    logging.info(f\"Successfully loaded the BBC News dataset with {len(news_dataset)} rows.\")\n",
    "except Exception as e:\n",
    "    raise ValueError(f\"Error loading the BBC News dataset: {str(e)}\")"
   ]
  },
  {
   "cell_type": "markdown",
   "metadata": {},
   "source": [
    "## Cleaning up the Data\n",
    "We will use the content of the news articles for our RAG system.\n",
    "\n",
    "The dataset contains a few duplicate records. We are removing them to avoid duplicate results in the retrieval stage of our RAG system."
   ]
  },
  {
   "cell_type": "code",
   "execution_count": 13,
   "metadata": {},
   "outputs": [
    {
     "name": "stdout",
     "output_type": "stream",
     "text": [
      "We have 1749 unique articles in our database.\n"
     ]
    }
   ],
   "source": [
    "news_articles = news_dataset[\"content\"]\n",
    "unique_articles = set()\n",
    "for article in news_articles:\n",
    "    if article:\n",
    "        unique_articles.add(article)\n",
    "unique_news_articles = list(unique_articles)\n",
    "print(f\"We have {len(unique_news_articles)} unique articles in our database.\")"
   ]
  },
  {
   "cell_type": "markdown",
   "metadata": {},
   "source": [
    "## Saving Data to the Vector Store\n",
    "To efficiently handle the large number of articles, we process them in batches of 50 articles at a time. This batch processing approach helps manage memory usage and provides better control over the ingestion process.\n",
    "\n",
    "We first filter out any articles that exceed 50,000 characters to avoid potential issues with token limits. Then, using the vector store's add_texts method, we add the filtered articles to our vector database. The batch_size parameter controls how many articles are processed in each iteration.\n",
    "\n",
    "This approach offers several benefits:\n",
    "1. Memory Efficiency: Processing in smaller batches prevents memory overload\n",
    "2. Error Handling: If an error occurs, only the current batch is affected\n",
    "3. Progress Tracking: Easier to monitor and track the ingestion progress\n",
    "4. Resource Management: Better control over CPU and network resource utilization\n",
    "\n",
    "We use a conservative batch size of 100 to ensure reliable operation.\n",
    "The optimal batch size depends on many factors including:\n",
    "- Document sizes being inserted\n",
    "- Available system resources\n",
    "- Network conditions\n",
    "- Concurrent workload\n",
    "\n",
    "Consider measuring performance with your specific workload before adjusting.\n"
   ]
  },
  {
   "cell_type": "code",
   "execution_count": 17,
   "metadata": {},
   "outputs": [
    {
     "name": "stderr",
     "output_type": "stream",
     "text": [
      "2025-02-06 02:12:09 [INFO] Document ingestion completed successfully.\n"
     ]
    }
   ],
   "source": [
    "batch_size = 50\n",
    "\n",
    "# Automatic Batch Processing\n",
    "articles = [article for article in unique_news_articles if article and len(article) <= 50000]\n",
    "\n",
    "try:\n",
    "    vector_store.add_texts(\n",
    "        texts=articles,\n",
    "        batch_size=batch_size\n",
    "    )\n",
    "    logging.info(\"Document ingestion completed successfully.\")\n",
    "except Exception as e:\n",
    "    raise ValueError(f\"Failed to save documents to vector store: {str(e)}\")"
   ]
  },
  {
   "cell_type": "markdown",
   "metadata": {},
   "source": [
    "# Creating a Vector Search Tool\n",
    "After loading our data into the vector store, we need to create a tool that can efficiently search through these vector embeddings. This involves two key components:\n",
    "\n",
    "## Vector Retriever\n",
    "The vector retriever is configured to perform similarity searches with specific parameters:\n",
    "- k=8: Returns the 8 most similar documents\n",
    "- fetch_k=20: Initially retrieves 20 candidates before filtering to the top 8\n",
    "This two-stage approach helps balance between accuracy and performance.\n",
    "\n",
    "## Search Tool\n",
    "The search tool wraps the retriever in a user-friendly interface that:\n",
    "- Accepts natural language queries\n",
    "- Handles both string and structured query inputs\n",
    "- Formats results with clear document separation\n",
    "- Includes metadata for traceability\n",
    "\n",
    "The tool is designed to integrate seamlessly with our AI agents, providing them with reliable access to our knowledge base through vector similarity search.\n"
   ]
  },
  {
   "cell_type": "code",
   "execution_count": 18,
   "metadata": {},
   "outputs": [
    {
     "name": "stdout",
     "output_type": "stream",
     "text": [
      "Vector search tool created\n"
     ]
    }
   ],
   "source": [
    "# Create vector retriever\n",
    "retriever = vector_store.as_retriever(\n",
    "    search_type=\"similarity\",\n",
    "    search_kwargs={\n",
    "        \"k\": 8,\n",
    "        \"fetch_k\": 20\n",
    "    }\n",
    ")\n",
    "\n",
    "# Create search tool using retriever\n",
    "search_tool = Tool(\n",
    "    name=\"vector_search\",\n",
    "    func=lambda query: \"\\n\\n\".join([\n",
    "        f\"Document {i+1}:\\n{'-'*40}\\n{doc.page_content}\"\n",
    "        for i, doc in enumerate(retriever.invoke(\n",
    "            query if isinstance(query, str) else str(query.get('query', ''))\n",
    "        ))\n",
    "    ]),\n",
    "    description=\"\"\"Search for relevant documents using vector similarity.\n",
    "    Input should be a simple text query string.\n",
    "    Returns a list of relevant document contents with metadata.\n",
    "    Use this tool to find detailed information about topics.\"\"\"\n",
    ")\n",
    "\n",
    "print(\"Vector search tool created\")"
   ]
  },
  {
   "cell_type": "markdown",
   "metadata": {},
   "source": [
    "# Creating CrewAI Agents\n",
    "\n",
    "We'll create two specialized AI agents using the CrewAI framework to handle different aspects of our information retrieval and analysis system:\n",
    "\n",
    "## Research Expert Agent\n",
    "This agent is designed to:\n",
    "- Execute semantic searches using our vector store\n",
    "- Analyze and evaluate search results \n",
    "- Identify key information and insights\n",
    "- Verify facts across multiple sources\n",
    "- Synthesize findings into comprehensive research summaries\n",
    "\n",
    "## Technical Writer Agent  \n",
    "This agent is responsible for:\n",
    "- Taking research findings and structuring them logically\n",
    "- Converting technical concepts into clear explanations\n",
    "- Ensuring proper citation and attribution\n",
    "- Maintaining engaging yet informative tone\n",
    "- Producing well-formatted final outputs\n",
    "\n",
    "The agents work together in a coordinated way:\n",
    "1. Research agent finds and analyzes relevant documents\n",
    "2. Writer agent takes those findings and crafts polished responses\n",
    "3. Both agents use a custom response template for consistent output\n",
    "\n",
    "This multi-agent approach allows us to:\n",
    "- Leverage specialized expertise for different tasks\n",
    "- Maintain high quality through separation of concerns\n",
    "- Create more comprehensive and reliable outputs\n",
    "- Scale the system's capabilities efficiently"
   ]
  },
  {
   "cell_type": "code",
   "execution_count": 19,
   "metadata": {},
   "outputs": [
    {
     "name": "stdout",
     "output_type": "stream",
     "text": [
      "Agents created successfully\n"
     ]
    }
   ],
   "source": [
    "# Custom response template\n",
    "response_template = \"\"\"\n",
    "Analysis Results\n",
    "===============\n",
    "{%- if .Response %}\n",
    "{{ .Response }}\n",
    "{%- endif %}\n",
    "\n",
    "Sources\n",
    "=======\n",
    "{%- for tool in .Tools %}\n",
    "* {{ tool.name }}\n",
    "{%- endfor %}\n",
    "\n",
    "Metadata\n",
    "========\n",
    "* Confidence: {{ .Confidence }}\n",
    "* Analysis Time: {{ .ExecutionTime }}\n",
    "\"\"\"\n",
    "\n",
    "# Create research agent\n",
    "researcher = Agent(\n",
    "    role='Research Expert',\n",
    "    goal='Find and analyze the most relevant documents to answer user queries accurately',\n",
    "    backstory=\"\"\"You are an expert researcher with deep knowledge in information retrieval \n",
    "    and analysis. Your expertise lies in finding, evaluating, and synthesizing information \n",
    "    from various sources. You have a keen eye for detail and can identify key insights \n",
    "    from complex documents. You always verify information across multiple sources and \n",
    "    provide comprehensive, accurate analyses.\"\"\",\n",
    "    tools=[search_tool],\n",
    "    llm=llm,\n",
    "    verbose=True,\n",
    "    memory=True,\n",
    "    allow_delegation=False,\n",
    "    response_template=response_template\n",
    ")\n",
    "\n",
    "# Create writer agent\n",
    "writer = Agent(\n",
    "    role='Technical Writer',\n",
    "    goal='Generate clear, accurate, and well-structured responses based on research findings',\n",
    "    backstory=\"\"\"You are a skilled technical writer with expertise in making complex \n",
    "    information accessible and engaging. You excel at organizing information logically, \n",
    "    explaining technical concepts clearly, and creating well-structured documents. You \n",
    "    ensure all information is properly cited, accurate, and presented in a user-friendly \n",
    "    manner. You have a talent for maintaining the reader's interest while conveying \n",
    "    detailed technical information.\"\"\",\n",
    "    llm=llm,\n",
    "    verbose=True,\n",
    "    memory=True,\n",
    "    allow_delegation=False,\n",
    "    response_template=response_template\n",
    ")\n",
    "\n",
    "print(\"Agents created successfully\")"
   ]
  },
  {
   "cell_type": "markdown",
   "metadata": {},
   "source": [
    "# Testing the Search System\n",
    "\n",
    "Test the system with some example queries."
   ]
  },
  {
   "cell_type": "code",
   "execution_count": 20,
   "metadata": {},
   "outputs": [],
   "source": [
    "def process_query(query, researcher, writer):\n",
    "    print(f\"\\nQuery: {query}\")\n",
    "    print(\"-\" * 80)\n",
    "    \n",
    "    # Create tasks\n",
    "    research_task = Task(\n",
    "        description=f\"Research and analyze information relevant to: {query}\",\n",
    "        agent=researcher,\n",
    "        expected_output=\"A detailed analysis with key findings and supporting evidence\"\n",
    "    )\n",
    "    \n",
    "    writing_task = Task(\n",
    "        description=\"Create a comprehensive and well-structured response\",\n",
    "        agent=writer,\n",
    "        expected_output=\"A clear, comprehensive response that answers the query\",\n",
    "        context=[research_task]\n",
    "    )\n",
    "    \n",
    "    # Create and execute crew\n",
    "    crew = Crew(\n",
    "        agents=[researcher, writer],\n",
    "        tasks=[research_task, writing_task],\n",
    "        process=Process.sequential,\n",
    "        verbose=True,\n",
    "        cache=True,\n",
    "        planning=True\n",
    "    )\n",
    "    \n",
    "    try:\n",
    "        start_time = time.time()\n",
    "        result = crew.kickoff()\n",
    "        elapsed_time = time.time() - start_time\n",
    "        \n",
    "        print(f\"\\nQuery completed in {elapsed_time:.2f} seconds\")\n",
    "        print(\"=\" * 80)\n",
    "        print(\"RESPONSE\")\n",
    "        print(\"=\" * 80)\n",
    "        print(result)\n",
    "        \n",
    "        if hasattr(result, 'tasks_output'):\n",
    "            print(\"\\n\" + \"=\" * 80)\n",
    "            print(\"DETAILED TASK OUTPUTS\")\n",
    "            print(\"=\" * 80)\n",
    "            for task_output in result.tasks_output:\n",
    "                print(f\"\\nTask: {task_output.description[:100]}...\")\n",
    "                print(\"-\" * 40)\n",
    "                print(f\"Output: {task_output.raw}\")\n",
    "                print(\"-\" * 40)\n",
    "    except Exception as e:\n",
    "        print(f\"Error executing crew: {str(e)}\")\n",
    "        logging.error(f\"Crew execution failed: {str(e)}\", exc_info=True)"
   ]
  },
  {
   "cell_type": "code",
   "execution_count": 21,
   "metadata": {},
   "outputs": [
    {
     "name": "stderr",
     "output_type": "stream",
     "text": [
      "\u001b[92m02:24:26 - LiteLLM:INFO\u001b[0m: utils.py:2784 - \n",
      "LiteLLM completion() model= gpt-4o-mini; provider = openai\n",
      "2025-02-06 02:24:26 [INFO] \n",
      "LiteLLM completion() model= gpt-4o-mini; provider = openai\n"
     ]
    },
    {
     "name": "stdout",
     "output_type": "stream",
     "text": [
      "\n",
      "Query: What was manchester city manager pep guardiola's reaction to the team's current form?\n",
      "--------------------------------------------------------------------------------\n",
      "\u001b[1m\u001b[93m \n",
      "[2025-02-06 02:24:26][INFO]: Planning the crew execution\u001b[00m\n"
     ]
    },
    {
     "name": "stderr",
     "output_type": "stream",
     "text": [
      "\u001b[92m02:24:34 - LiteLLM:INFO\u001b[0m: utils.py:941 - Wrapper: Completed Call, calling success_handler\n",
      "2025-02-06 02:24:34 [INFO] Wrapper: Completed Call, calling success_handler\n",
      "\u001b[92m02:24:34 - LiteLLM:INFO\u001b[0m: utils.py:2784 - \n",
      "LiteLLM completion() model= gpt-4o; provider = openai\n",
      "2025-02-06 02:24:34 [INFO] \n",
      "LiteLLM completion() model= gpt-4o; provider = openai\n"
     ]
    },
    {
     "name": "stdout",
     "output_type": "stream",
     "text": [
      "\u001b[1m\u001b[95m# Agent:\u001b[00m \u001b[1m\u001b[92mResearch Expert\u001b[00m\n",
      "\u001b[95m## Task:\u001b[00m \u001b[92mResearch and analyze information relevant to: What was manchester city manager pep guardiola's reaction to the team's current form?1. Begin by defining the query to be researched: 'Manchester City manager Pep Guardiola reaction to the team's current form.' 2. Utilize the 'vector_search' tool to initiate a search for relevant documents that provide insights and analysis on Guardiola's comments and reactions. Input the defined query into the 'vector_search' tool to find the most relevant documents. 3. Review the returned documents, focusing on key statements made by Guardiola during interviews or press conferences regarding the team's performance. 4. Take notes on significant quotes, statistics, or context that reflect Guardiola's perspective, ensuring to capture the essence of his reactions. 5. Summarize the key findings and supporting evidence from the researched documents, creating a detailed analysis that outlines Guardiola's stance on the current form of the team. 6. Prepare this analysis in a clear and organized format to be handed over to the Technical Writer for final compilation.\u001b[00m\n"
     ]
    },
    {
     "name": "stderr",
     "output_type": "stream",
     "text": [
      "\u001b[92m02:24:37 - LiteLLM:INFO\u001b[0m: utils.py:941 - Wrapper: Completed Call, calling success_handler\n",
      "2025-02-06 02:24:37 [INFO] Wrapper: Completed Call, calling success_handler\n",
      "\u001b[92m02:24:40 - LiteLLM:INFO\u001b[0m: utils.py:2784 - \n",
      "LiteLLM completion() model= gpt-4o; provider = openai\n",
      "2025-02-06 02:24:40 [INFO] \n",
      "LiteLLM completion() model= gpt-4o; provider = openai\n"
     ]
    },
    {
     "name": "stdout",
     "output_type": "stream",
     "text": [
      "\n",
      "\n",
      "\u001b[1m\u001b[95m# Agent:\u001b[00m \u001b[1m\u001b[92mResearch Expert\u001b[00m\n",
      "\u001b[95m## Using tool:\u001b[00m \u001b[92mvector_search\u001b[00m\n",
      "\u001b[95m## Tool Input:\u001b[00m \u001b[92m\n",
      "\"{\\\"query\\\": \\\"Manchester City manager Pep Guardiola reaction to the team's current form\\\"}\"\u001b[00m\n",
      "\u001b[95m## Tool Output:\u001b[00m \u001b[92m\n",
      "Document 1:\n",
      "----------------------------------------\n",
      "Manchester City boss Pep Guardiola has won 18 trophies since he arrived at the club in 2016\n",
      "\n",
      "Manchester City boss Pep Guardiola says he is \"fine\" despite admitting his sleep and diet are being affected by the worst run of results in his entire managerial career. In an interview with former Italy international Luca Toni for Amazon Prime Sport before Wednesday's Champions League defeat by Juventus, Guardiola touched on the personal impact City's sudden downturn in form has had. Guardiola said his state of mind was \"ugly\", that his sleep was \"worse\" and he was eating lighter as his digestion had suffered. City go into Sunday's derby against Manchester United at Etihad Stadium having won just one of their past 10 games. The Juventus loss means there is a chance they may not even secure a play-off spot in the Champions League. Asked to elaborate on his comments to Toni, Guardiola said: \"I'm fine. \"In our jobs we always want to do our best or the best as possible. When that doesn't happen you are more uncomfortable than when the situation is going well, always that happened. \"In good moments I am happier but when I get to the next game I am still concerned about what I have to do. There is no human being that makes an activity and it doesn't matter how they do.\" Guardiola said City have to defend better and \"avoid making mistakes at both ends\". To emphasise his point, Guardiola referred back to the third game of City's current run, against a Sporting side managed by Ruben Amorim, who will be in the United dugout at the weekend. City dominated the first half in Lisbon, led thanks to Phil Foden's early effort and looked to be cruising. Instead, they conceded three times in 11 minutes either side of half-time as Sporting eventually ran out 4-1 winners. \"I would like to play the game like we played in Lisbon on Sunday, believe me,\" said Guardiola, who is facing the prospect of only having three fit defenders for the derby as Nathan Ake and Manuel Akanji try to overcome injury concerns. If there is solace for City, it comes from the knowledge United are not exactly flying. Their comeback Europa League victory against Viktoria Plzen on Thursday was their third win of Amorim's short reign so far but only one of those successes has come in the Premier League, where United have lost their past two games against Arsenal and Nottingham Forest. Nevertheless, Guardiola can see improvements already on the red side of the city. \"It's already there,\" he said. \"You see all the patterns, the movements, the runners and the pace. He will do a good job at United, I'm pretty sure of that.\"\n",
      "\n",
      "Guardiola says skipper Kyle Walker has been offered support by the club after the City defender highlighted the racial abuse he had received on social media in the wake of the Juventus trip. \"It's unacceptable,\" he said. \"Not because it's Kyle - for any human being. \"Unfortunately it happens many times in the real world. It is not necessary to say he has the support of the entire club. It is completely unacceptable and we give our support to him.\"\n",
      "\n",
      "Document 2:\n",
      "----------------------------------------\n",
      "Manchester City boss Pep Guardiola has won 18 trophies since he arrived at the club in 2016\n",
      "\n",
      "Manchester City boss Pep Guardiola says he is \"fine\" despite admitting his sleep and diet are being affected by the worst run of results in his entire managerial career. In an interview with former Italy international Luca Toni for Amazon Prime Sport before Wednesday's Champions League defeat by Juventus, Guardiola touched on the personal impact City's sudden downturn in form has had. Guardiola said his state of mind was \"ugly\", that his sleep was \"worse\" and he was eating lighter as his digestion had suffered. City go into Sunday's derby against Manchester United at Etihad Stadium having won just one of their past 10 games. The Juventus loss means there is a chance they may not even secure a play-off spot in the Champions League. Asked to elaborate on his comments to Toni, Guardiola said: \"I'm fine. \"In our jobs we always want to do our best or the best as possible. When that doesn't happen you are more uncomfortable than when the situation is going well, always that happened. \"In good moments I am happier but when I get to the next game I am still concerned about what I have to do. There is no human being that makes an activity and it doesn't matter how they do.\" Guardiola said City have to defend better and \"avoid making mistakes at both ends\". To emphasise his point, Guardiola referred back to the third game of City's current run, against a Sporting side managed by Ruben Amorim, who will be in the United dugout at the weekend. City dominated the first half in Lisbon, led thanks to Phil Foden's early effort and looked to be cruising. Instead, they conceded three times in 11 minutes either side of half-time as Sporting eventually ran out 4-1 winners. \"I would like to play the game like we played in Lisbon on Sunday, believe me,\" said Guardiola, who is facing the prospect of only having three fit defenders for the derby as Nathan Ake and Manuel Akanji try to overcome injury concerns. If there is solace for City, it comes from the knowledge United are not exactly flying. Their comeback Europa League victory against Viktoria Plzen on Thursday was their third win of Amorim's short reign so far but only one of those successes has come in the Premier League, where United have lost their past two games against Arsenal and Nottingham Forest. Nevertheless, Guardiola can see improvements already on the red side of the city. \"It's already there,\" he said. \"You see all the patterns, the movements, the runners and the pace. He will do a good job at United, I'm pretty sure of that.\"\n",
      "\n",
      "Guardiola says skipper Kyle Walker has been offered support by the club after the City defender highlighted the racial abuse he had received on social media in the wake of the Juventus trip. \"It's unacceptable,\" he said. \"Not because it's Kyle - for any human being. \"Unfortunately it happens many times in the real world. It is not necessary to say he has the support of the entire club. It is completely unacceptable and we give our support to him.\"\n",
      "\n",
      "Document 3:\n",
      "----------------------------------------\n",
      "'We have to find a way' - Guardiola vows to end relegation form\n",
      "\n",
      "This video can not be played To play this video you need to enable JavaScript in your browser. 'Worrying' and 'staggering' - Why do Manchester City keep conceding?\n",
      "\n",
      "Manchester City are currently in relegation form and there is little sign of it ending. Saturday's 2-1 defeat at Aston Villa left them joint bottom of the form table over the past eight games with just Southampton for company. Saints, at the foot of the Premier League, have the same number of points, four, as City over their past eight matches having won one, drawn one and lost six - the same record as the floundering champions. And if Southampton - who appointed Ivan Juric as their new manager on Saturday - get at least a point at Fulham on Sunday, City will be on the worst run in the division. Even Wolves, who sacked boss Gary O'Neil last Sunday and replaced him with Vitor Pereira, have earned double the number of points during the same period having played a game fewer. They are damning statistics for Pep Guardiola, even if he does have some mitigating circumstances with injuries to Ederson, Nathan Ake and Ruben Dias - who all missed the loss at Villa Park - and the long-term loss of midfield powerhouse Rodri. Guardiola was happy with Saturday's performance, despite defeat in Birmingham, but there is little solace to take at slipping further out of the title race. He may have needed to field a half-fit Manuel Akanji and John Stones at Villa Park but that does not account for City looking a shadow of their former selves. That does not justify the error Josko Gvardiol made to gift Jhon Duran a golden chance inside the first 20 seconds, or £100m man Jack Grealish again failing to have an impact on a game. There may be legitimate reasons for City's drop off, whether that be injuries, mental fatigue or just simply a team coming to the end of its lifecycle, but their form, which has plunged off a cliff edge, would have been unthinkable as they strolled to a fourth straight title last season. \"The worrying thing is the number of goals conceded,\" said ex-England captain Alan Shearer on BBC Match of the Day. \"The number of times they were opened up because of the lack of protection and legs in midfield was staggering. There are so many things that are wrong at this moment in time.\"\n",
      "\n",
      "This video can not be played To play this video you need to enable JavaScript in your browser. Man City 'have to find a way' to return to form - Guardiola\n",
      "\n",
      "Afterwards Guardiola was calm, so much so it was difficult to hear him in the news conference, a contrast to the frustrated figure he cut on the touchline. He said: \"It depends on us. The solution is bring the players back. We have just one central defender fit, that is difficult. We are going to try next game - another opportunity and we don't think much further than that. \"Of course there are more reasons. We concede the goals we don't concede in the past, we [don't] score the goals we score in the past. Football is not just one reason. There are a lot of little factors. \"Last season we won the Premier League, but we came here and lost. We have to think positive and I have incredible trust in the guys. Some of them have incredible pride and desire to do it. We have to find a way, step by step, sooner or later to find a way back.\" Villa boss Unai Emery highlighted City's frailties, saying he felt Villa could seize on the visitors' lack of belief. \"Manchester City are a little bit under the confidence they have normally,\" he said. \"The second half was different, we dominated and we scored. Through those circumstances they were feeling worse than even in the first half.\"\n",
      "\n",
      "Erling Haaland had one touch in the Villa box\n",
      "\n",
      "There are chinks in the armour never seen before at City under Guardiola and Erling Haaland conceded belief within the squad is low. He told TNT after the game: \"Of course, [confidence levels are] not the best. We know how important confidence is and you can see that it affects every human being. That is how it is, we have to continue and stay positive even though it is difficult.\" Haaland, with 76 goals in 83 Premier League appearances since joining City from Borussia Dortmund in 2022, had one shot and one touch in the Villa box. His 18 touches in the whole game were the lowest of all starting players and he has been self critical, despite scoring 13 goals in the top flight this season. Over City's last eight games he has netted just twice though, but Guardiola refused to criticise his star striker. He said: \"Without him we will be even worse but I like the players feeling that way. I don't agree with Erling. He needs to have the balls delivered in the right spots but he will fight for the next one.\"\n",
      "\n",
      "Document 4:\n",
      "----------------------------------------\n",
      "'We have to find a way' - Guardiola vows to end relegation form\n",
      "\n",
      "This video can not be played To play this video you need to enable JavaScript in your browser. 'Worrying' and 'staggering' - Why do Manchester City keep conceding?\n",
      "\n",
      "Manchester City are currently in relegation form and there is little sign of it ending. Saturday's 2-1 defeat at Aston Villa left them joint bottom of the form table over the past eight games with just Southampton for company. Saints, at the foot of the Premier League, have the same number of points, four, as City over their past eight matches having won one, drawn one and lost six - the same record as the floundering champions. And if Southampton - who appointed Ivan Juric as their new manager on Saturday - get at least a point at Fulham on Sunday, City will be on the worst run in the division. Even Wolves, who sacked boss Gary O'Neil last Sunday and replaced him with Vitor Pereira, have earned double the number of points during the same period having played a game fewer. They are damning statistics for Pep Guardiola, even if he does have some mitigating circumstances with injuries to Ederson, Nathan Ake and Ruben Dias - who all missed the loss at Villa Park - and the long-term loss of midfield powerhouse Rodri. Guardiola was happy with Saturday's performance, despite defeat in Birmingham, but there is little solace to take at slipping further out of the title race. He may have needed to field a half-fit Manuel Akanji and John Stones at Villa Park but that does not account for City looking a shadow of their former selves. That does not justify the error Josko Gvardiol made to gift Jhon Duran a golden chance inside the first 20 seconds, or £100m man Jack Grealish again failing to have an impact on a game. There may be legitimate reasons for City's drop off, whether that be injuries, mental fatigue or just simply a team coming to the end of its lifecycle, but their form, which has plunged off a cliff edge, would have been unthinkable as they strolled to a fourth straight title last season. \"The worrying thing is the number of goals conceded,\" said ex-England captain Alan Shearer on BBC Match of the Day. \"The number of times they were opened up because of the lack of protection and legs in midfield was staggering. There are so many things that are wrong at this moment in time.\"\n",
      "\n",
      "This video can not be played To play this video you need to enable JavaScript in your browser. Man City 'have to find a way' to return to form - Guardiola\n",
      "\n",
      "Afterwards Guardiola was calm, so much so it was difficult to hear him in the news conference, a contrast to the frustrated figure he cut on the touchline. He said: \"It depends on us. The solution is bring the players back. We have just one central defender fit, that is difficult. We are going to try next game - another opportunity and we don't think much further than that. \"Of course there are more reasons. We concede the goals we don't concede in the past, we [don't] score the goals we score in the past. Football is not just one reason. There are a lot of little factors. \"Last season we won the Premier League, but we came here and lost. We have to think positive and I have incredible trust in the guys. Some of them have incredible pride and desire to do it. We have to find a way, step by step, sooner or later to find a way back.\" Villa boss Unai Emery highlighted City's frailties, saying he felt Villa could seize on the visitors' lack of belief. \"Manchester City are a little bit under the confidence they have normally,\" he said. \"The second half was different, we dominated and we scored. Through those circumstances they were feeling worse than even in the first half.\"\n",
      "\n",
      "Erling Haaland had one touch in the Villa box\n",
      "\n",
      "There are chinks in the armour never seen before at City under Guardiola and Erling Haaland conceded belief within the squad is low. He told TNT after the game: \"Of course, [confidence levels are] not the best. We know how important confidence is and you can see that it affects every human being. That is how it is, we have to continue and stay positive even though it is difficult.\" Haaland, with 76 goals in 83 Premier League appearances since joining City from Borussia Dortmund in 2022, had one shot and one touch in the Villa box. His 18 touches in the whole game were the lowest of all starting players and he has been self critical, despite scoring 13 goals in the top flight this season. Over City's last eight games he has netted just twice though, but Guardiola refused to criticise his star striker. He said: \"Without him we will be even worse but I like the players feeling that way. I don't agree with Erling. He needs to have the balls delivered in the right spots but he will fight for the next one.\"\n",
      "\n",
      "Document 5:\n",
      "----------------------------------------\n",
      "'Self-doubt, errors & big changes' - inside the crisis at Man City\n",
      "\n",
      "Pep Guardiola has not been through a moment like this in his managerial career. Manchester City have lost nine matches in their past 12 - as many defeats as they had suffered in their previous 106 fixtures. At the end of October, City were still unbeaten at the top of the Premier League and favourites to win a fifth successive title. Now they are seventh, 12 points behind leaders Liverpool having played a game more. It has been an incredible fall from grace and left people trying to work out what has happened - and whether Guardiola can make it right. After discussing the situation with those who know him best, I have taken a closer look at the future - both short and long term - and how the current crisis at Man City is going to be solved.\n",
      "\n",
      "Pep Guardiola's Man City have lost nine of their past 12 matches\n",
      "\n",
      "Guardiola has also been giving it a lot of thought. He has not been sleeping very well, as he has said, and has not been himself at times when talking to the media. He has been talking to a lot of people about what is going on as he tries to work out the reasons for City's demise. Some reasons he knows, others he still doesn't. What people perhaps do not realise is Guardiola hugely doubts himself and always has. He will be thinking \"I'm not going to be able to get us out of this\" and needs the support of people close to him to push away those insecurities - and he has that. He is protected by his people who are very aware, like he is, that there are a lot of people that want City to fail. It has been a turbulent time for Guardiola. Remember those marks he had on his head after the 3-3 draw with Feyenoord in the Champions League? He always scratches his head, it is a gesture of nervousness. Normally nothing happens but on that day one of his nails was far too sharp so, after talking to the players in the changing room where he scratched his head because of his usual agitated gesturing, he went to the news conference. His right-hand man Manel Estiarte sent him photos in a message saying \"what have you got on your head?\", but by the time Guardiola returned to the coaching room there was hardly anything there again. He started that day with a cover on his nose after the same thing happened at the training ground the day before. Guardiola was having a footballing debate with Kyle Walker about positional stuff and marked his nose with that same nail. There was also that remarkable news conference after the Manchester derby when he said \"I don't know what to do\". That is partly true and partly not true. Ignore the fact Guardiola suggested he was \"not good enough\". He actually meant he was not good enough to resolve the situation with the group of players he has available and with all the other current difficulties. There are obviously logical explanations for the crisis and the first one has been talked about many times - the absence of injured midfielder Rodri. You know the game Jenga? When you take the wrong piece out, the whole tower collapses. That is what has happened here. It is normal for teams to have an over-reliance on one player if he is the best in the world in his position. And you cannot calculate the consequences of an injury that rules someone like Rodri out for the season. City are a team, like many modern ones, in which the holding midfielder is a key element to the construction. So, when you take Rodri out, it is difficult to hold it together. There were Plan Bs - John Stones, Manuel Akanji, even Nathan Ake - but injuries struck. The big injury list has been out of the ordinary and the busy calendar has also played a part in compounding the issues. However, one factor even Guardiola cannot explain is the big uncharacteristic errors in almost every game from international players. Why did Matheus Nunes make that challenge to give away the penalty against Manchester United? Jack Grealish is sent on at the end to keep the ball and cannot do that. There are errors from Walker and other defenders. These are some of the best players in the world. Of course the players' mindset is important, and confidence is diminishing. Wrong decisions get taken so there is almost panic on the pitch instead of calm. There are also players badly out of form who are having to play because of injuries. Walker is now unable to hide behind his pace, I'm not sure Kevin de Bruyne is ever getting back to the level he used to be at, Bernardo Silva and Ilkay Gundogan do not have time to rest, Grealish is not playing at his best. Some of these players were only meant to be playing one game a week but, because of injuries, have played 12 games in 40 days. It all has a domino effect. One consequence is that Erling Haaland isn't getting the service to score. But the Norwegian still remains City's top-scorer with 13. Defender Josko Gvardiol is next on the list with just four. The way their form has been analysed inside the City camp is there have only been three games where they deserved to lose (Liverpool, Bournemouth and Aston Villa). But of course it is time to change the dynamic.\n",
      "\n",
      "Guardiola has never protected his players so much. He has not criticised them and is not going to do so. They have won everything with him. Instead of doing more with them, he has tried doing less. He has sometimes given them more days off to clear their heads, so they can reset - two days this week for instance. Perhaps the time to change a team is when you are winning, but no-one was suggesting Man City were about to collapse when they were top and unbeaten after nine league games. Some people have asked how bad it has to get before City make a decision on Guardiola. The answer is that there is no decision to be made. Maybe if this was Real Madrid, Barcelona or Juventus, the pressure from outside would be massive and the argument would be made that Guardiola has to go. At City he has won the lot, so how can anyone say he is failing? Yes, this is a crisis. But given all their problems, City's renewed target is finishing in the top four. That is what is in all their heads now. The idea is to recover their essence by improving defensive concepts that are not there and re-establishing the intensity they are known for. Guardiola is planning to use the next two years of his contract, which is expected to be his last as a club manager, to prepare a new Manchester City. When he was at the end of his four years at Barcelona, he asked two managers what to do when you feel people are not responding to your instructions. Do you go or do the players go? Sir Alex Ferguson and Rafael Benitez both told him that the players need to go. Guardiola did not listen because of his emotional attachment to his players back then and he decided to leave the Camp Nou because he felt the cycle was over. He will still protect his players now but there is not the same emotional attachment - so it is the players who are going to leave this time. It is likely City will look to replace five or six regular starters. Guardiola knows it is the end of an era and the start of a new one. Changes will not be immediate and the majority of the work will be done in the summer. But they are open to any opportunities in January - and a holding midfielder is one thing they need. In the summer City might want to get Spain's Martin Zubimendi from Real Sociedad and they know 60m euros (£50m) will get him. He said no to Liverpool last summer even though everything was agreed, but he now wants to move on and the Premier League is the target. Even if they do not get Zubimendi, that is the calibre of footballer they are after. A new Manchester City is on its way - with changes driven by Guardiola, incoming sporting director Hugo Viana and the football department.\n",
      "\n",
      "Document 6:\n",
      "----------------------------------------\n",
      "'Self-doubt, errors & big changes' - inside the crisis at Man City\n",
      "\n",
      "Pep Guardiola has not been through a moment like this in his managerial career. Manchester City have lost nine matches in their past 12 - as many defeats as they had suffered in their previous 106 fixtures. At the end of October, City were still unbeaten at the top of the Premier League and favourites to win a fifth successive title. Now they are seventh, 12 points behind leaders Liverpool having played a game more. It has been an incredible fall from grace and left people trying to work out what has happened - and whether Guardiola can make it right. After discussing the situation with those who know him best, I have taken a closer look at the future - both short and long term - and how the current crisis at Man City is going to be solved.\n",
      "\n",
      "Pep Guardiola's Man City have lost nine of their past 12 matches\n",
      "\n",
      "Guardiola has also been giving it a lot of thought. He has not been sleeping very well, as he has said, and has not been himself at times when talking to the media. He has been talking to a lot of people about what is going on as he tries to work out the reasons for City's demise. Some reasons he knows, others he still doesn't. What people perhaps do not realise is Guardiola hugely doubts himself and always has. He will be thinking \"I'm not going to be able to get us out of this\" and needs the support of people close to him to push away those insecurities - and he has that. He is protected by his people who are very aware, like he is, that there are a lot of people that want City to fail. It has been a turbulent time for Guardiola. Remember those marks he had on his head after the 3-3 draw with Feyenoord in the Champions League? He always scratches his head, it is a gesture of nervousness. Normally nothing happens but on that day one of his nails was far too sharp so, after talking to the players in the changing room where he scratched his head because of his usual agitated gesturing, he went to the news conference. His right-hand man Manel Estiarte sent him photos in a message saying \"what have you got on your head?\", but by the time Guardiola returned to the coaching room there was hardly anything there again. He started that day with a cover on his nose after the same thing happened at the training ground the day before. Guardiola was having a footballing debate with Kyle Walker about positional stuff and marked his nose with that same nail. There was also that remarkable news conference after the Manchester derby when he said \"I don't know what to do\". That is partly true and partly not true. Ignore the fact Guardiola suggested he was \"not good enough\". He actually meant he was not good enough to resolve the situation with the group of players he has available and with all the other current difficulties. There are obviously logical explanations for the crisis and the first one has been talked about many times - the absence of injured midfielder Rodri. You know the game Jenga? When you take the wrong piece out, the whole tower collapses. That is what has happened here. It is normal for teams to have an over-reliance on one player if he is the best in the world in his position. And you cannot calculate the consequences of an injury that rules someone like Rodri out for the season. City are a team, like many modern ones, in which the holding midfielder is a key element to the construction. So, when you take Rodri out, it is difficult to hold it together. There were Plan Bs - John Stones, Manuel Akanji, even Nathan Ake - but injuries struck. The big injury list has been out of the ordinary and the busy calendar has also played a part in compounding the issues. However, one factor even Guardiola cannot explain is the big uncharacteristic errors in almost every game from international players. Why did Matheus Nunes make that challenge to give away the penalty against Manchester United? Jack Grealish is sent on at the end to keep the ball and cannot do that. There are errors from Walker and other defenders. These are some of the best players in the world. Of course the players' mindset is important, and confidence is diminishing. Wrong decisions get taken so there is almost panic on the pitch instead of calm. There are also players badly out of form who are having to play because of injuries. Walker is now unable to hide behind his pace, I'm not sure Kevin de Bruyne is ever getting back to the level he used to be at, Bernardo Silva and Ilkay Gundogan do not have time to rest, Grealish is not playing at his best. Some of these players were only meant to be playing one game a week but, because of injuries, have played 12 games in 40 days. It all has a domino effect. One consequence is that Erling Haaland isn't getting the service to score. But the Norwegian still remains City's top-scorer with 13. Defender Josko Gvardiol is next on the list with just four. The way their form has been analysed inside the City camp is there have only been three games where they deserved to lose (Liverpool, Bournemouth and Aston Villa). But of course it is time to change the dynamic.\n",
      "\n",
      "Guardiola has never protected his players so much. He has not criticised them and is not going to do so. They have won everything with him. Instead of doing more with them, he has tried doing less. He has sometimes given them more days off to clear their heads, so they can reset - two days this week for instance. Perhaps the time to change a team is when you are winning, but no-one was suggesting Man City were about to collapse when they were top and unbeaten after nine league games. Some people have asked how bad it has to get before City make a decision on Guardiola. The answer is that there is no decision to be made. Maybe if this was Real Madrid, Barcelona or Juventus, the pressure from outside would be massive and the argument would be made that Guardiola has to go. At City he has won the lot, so how can anyone say he is failing? Yes, this is a crisis. But given all their problems, City's renewed target is finishing in the top four. That is what is in all their heads now. The idea is to recover their essence by improving defensive concepts that are not there and re-establishing the intensity they are known for. Guardiola is planning to use the next two years of his contract, which is expected to be his last as a club manager, to prepare a new Manchester City. When he was at the end of his four years at Barcelona, he asked two managers what to do when you feel people are not responding to your instructions. Do you go or do the players go? Sir Alex Ferguson and Rafael Benitez both told him that the players need to go. Guardiola did not listen because of his emotional attachment to his players back then and he decided to leave the Camp Nou because he felt the cycle was over. He will still protect his players now but there is not the same emotional attachment - so it is the players who are going to leave this time. It is likely City will look to replace five or six regular starters. Guardiola knows it is the end of an era and the start of a new one. Changes will not be immediate and the majority of the work will be done in the summer. But they are open to any opportunities in January - and a holding midfielder is one thing they need. In the summer City might want to get Spain's Martin Zubimendi from Real Sociedad and they know 60m euros (£50m) will get him. He said no to Liverpool last summer even though everything was agreed, but he now wants to move on and the Premier League is the target. Even if they do not get Zubimendi, that is the calibre of footballer they are after. A new Manchester City is on its way - with changes driven by Guardiola, incoming sporting director Hugo Viana and the football department.\n",
      "\n",
      "Document 7:\n",
      "----------------------------------------\n",
      "'I am not good enough' - Guardiola faces daunting and major rebuild\n",
      "\n",
      "This video can not be played To play this video you need to enable JavaScript in your browser. 'I am not good enough' - Guardiola says he must find a 'solution' after derby loss\n",
      "\n",
      "Pep Guardiola says his sleep has suffered during Manchester City's deepening crisis, so he will not be helped by a nightmarish conclusion to one of the most stunning defeats of his long reign. Guardiola looked agitated, animated and on edge even after City led the Manchester derby through Josko Gvardiol's 36th-minute header, his reaction to the goal one of almost disdain that it came via a deflected cross as opposed to in his purist style. He sat alone with his eyes closed sipping from a water bottle before the resumption of the second half, then was denied even the respite of victory when Manchester United gave this largely dismal derby a dramatic conclusion it barely deserved with a remarkable late comeback. First, with 88 minutes on the clock, Matheus Nunes presented Amad Diallo with the ball before compounding his error by flattening the forward as he made an attempt to recover his mistake. Bruno Fernandes completed the formalities from the penalty spot. Worse was to come two minutes later when Lisandro Martinez's routine long ball caught City's defence inexplicably statuesque. Goalkeeper Ederson's positioning was awry, allowing the lively Diallo to pounce from an acute angle to leave Guardiola and his players stunned. It was the latest into any game, 88 minutes, that reigning Premier League champions had led then lost. It was also the first time City had lost a game they were leading so late on. And in a sign of City's previous excellence that is now being challenged, they have only lost four of 105 Premier League home games under Guardiola in which they have been ahead at half-time, winning 94 and drawing seven. Guardiola delivered a brutal self-analysis as he told Match of the Day: \"I am not good enough. I am the boss. I am the manager. I have to find solutions and so far I haven't. That's the reality. \"Not much else to say. No defence. Manchester United were incredibly persistent. We have not lost eight games in two seasons. We can't defend that.\"\n",
      "\n",
      "Manchester City manager Pep Guardiola in despair during the derby defeat to Manchester United\n",
      "\n",
      "Guardiola suggested the serious renewal will wait until the summer but the red flags have been appearing for weeks in the sudden and shocking decline of a team that has lost the aura of invincibility that left many opponents beaten before kick-off in previous years. He has had stated City must \"survive\" this season - whatever qualifies as survival for a club of such rich ambition - but the quest for a record fifth successive Premier League title is surely over as they lie nine points behind leaders Liverpool having played a game more. Their Champions League aspirations are also in jeopardy after another loss, this time against Juventus in Turin. City's squad has been allowed to grow too old together. The insatiable thirst for success seems to have gone, the scales of superiority have fallen away and opponents now sense vulnerability right until the final whistle, as United did here. The manner in which United were able, and felt able, to snatch this victory drove right to the heart of how City, and Guardiola, are allowing opponents to prey on their downfall. Guardiola has every reason to cite injuries, most significantly to Rodri and also John Stones as well as others, but this cannot be used an excuse for such a dramatic decline in standards, allied to the appearance of a soft underbelly that is so easily exploited. And City's rebuild will not be a quick fix. With every performance, every defeat, the scale of what lies in front of Guardiola becomes more obvious - and daunting. Manchester City's fans did their best to reassure Guardiola of their faith in him with a giant Barcelona-inspired banner draped from the stands before kick-off emblazoned with his image reading \"Més que un entrenador\" - \"More Than A Coach\". And Guardiola will now need to be more than a coach than at any time in his career. He will have the finances but it will be done with City's challengers also strengthening. Kevin de Bruyne, 34 in June, lasted 68 minutes here before he was substituted. Age and injuries are catching up with one of the greatest players of the Premier League era and he is unlikely to be at City next season. Mateo Kovacic, who replaced De Bruyne, is also 31 in May. Kyle Walker, 34, is being increasingly exposed. His most notable contribution here was an embarrassing collapse to the ground after the mildest head-to-head collision with Rasmus Hojlund. Ilkay Gundogan, another 34-year-old and a previous pillar of Guardiola's great successes, no longer has the legs or energy to exert influence. This looks increasingly like a season too far following his return from Barcelona. Flaws are also being exposed elsewhere, with previously reliable performers failing to hit previous standards. Phil Foden scored 27 goals and had 12 assists when he was Premier League Player of the Season last term. This year he has just three goals and two assists in 18 appearances in all competitions. He has no goals and just one assist in 11 Premier League games. Jack Grealish, who came on after 77 minutes against United, has not scored in a year for Manchester City, his last goal coming in a 2-2 draw against Crystal Palace on 16 December last year. He has, in the meantime, scored twice for England. Erling Haaland is also struggling as City lack creativity and cutting edge. He has three goals in his past 11 Premier League games after scoring 10 in his first five. And in another indication of City's impotence, and their reliance on Haaland, defender Gvardiol's goal against United was his fourth this season, making him their second highest scorer in all competitions behind the Norwegian striker, who has 18. Goalkeeper Ederson, so reliable for so long, has already been dropped once this season and did not cover himself in glory for United's winner. Guardiola, with that freshly signed two-year contract, insists he \"wants it\" as he treads on this alien territory of failure. He will be under no illusions about the size of the job in front of him as he placed his head in his hands in anguish after yet another damaging and deeply revealing defeat. City and Guardiola are in new, unforgiving territory.\n",
      "\n",
      "Document 8:\n",
      "----------------------------------------\n",
      "'I am not good enough' - Guardiola faces daunting and major rebuild\n",
      "\n",
      "This video can not be played To play this video you need to enable JavaScript in your browser. 'I am not good enough' - Guardiola says he must find a 'solution' after derby loss\n",
      "\n",
      "Pep Guardiola says his sleep has suffered during Manchester City's deepening crisis, so he will not be helped by a nightmarish conclusion to one of the most stunning defeats of his long reign. Guardiola looked agitated, animated and on edge even after City led the Manchester derby through Josko Gvardiol's 36th-minute header, his reaction to the goal one of almost disdain that it came via a deflected cross as opposed to in his purist style. He sat alone with his eyes closed sipping from a water bottle before the resumption of the second half, then was denied even the respite of victory when Manchester United gave this largely dismal derby a dramatic conclusion it barely deserved with a remarkable late comeback. First, with 88 minutes on the clock, Matheus Nunes presented Amad Diallo with the ball before compounding his error by flattening the forward as he made an attempt to recover his mistake. Bruno Fernandes completed the formalities from the penalty spot. Worse was to come two minutes later when Lisandro Martinez's routine long ball caught City's defence inexplicably statuesque. Goalkeeper Ederson's positioning was awry, allowing the lively Diallo to pounce from an acute angle to leave Guardiola and his players stunned. It was the latest into any game, 88 minutes, that reigning Premier League champions had led then lost. It was also the first time City had lost a game they were leading so late on. And in a sign of City's previous excellence that is now being challenged, they have only lost four of 105 Premier League home games under Guardiola in which they have been ahead at half-time, winning 94 and drawing seven. Guardiola delivered a brutal self-analysis as he told Match of the Day: \"I am not good enough. I am the boss. I am the manager. I have to find solutions and so far I haven't. That's the reality. \"Not much else to say. No defence. Manchester United were incredibly persistent. We have not lost eight games in two seasons. We can't defend that.\"\n",
      "\n",
      "Manchester City manager Pep Guardiola in despair during the derby defeat to Manchester United\n",
      "\n",
      "Guardiola suggested the serious renewal will wait until the summer but the red flags have been appearing for weeks in the sudden and shocking decline of a team that has lost the aura of invincibility that left many opponents beaten before kick-off in previous years. He has had stated City must \"survive\" this season - whatever qualifies as survival for a club of such rich ambition - but the quest for a record fifth successive Premier League title is surely over as they lie nine points behind leaders Liverpool having played a game more. Their Champions League aspirations are also in jeopardy after another loss, this time against Juventus in Turin. City's squad has been allowed to grow too old together. The insatiable thirst for success seems to have gone, the scales of superiority have fallen away and opponents now sense vulnerability right until the final whistle, as United did here. The manner in which United were able, and felt able, to snatch this victory drove right to the heart of how City, and Guardiola, are allowing opponents to prey on their downfall. Guardiola has every reason to cite injuries, most significantly to Rodri and also John Stones as well as others, but this cannot be used an excuse for such a dramatic decline in standards, allied to the appearance of a soft underbelly that is so easily exploited. And City's rebuild will not be a quick fix. With every performance, every defeat, the scale of what lies in front of Guardiola becomes more obvious - and daunting. Manchester City's fans did their best to reassure Guardiola of their faith in him with a giant Barcelona-inspired banner draped from the stands before kick-off emblazoned with his image reading \"Més que un entrenador\" - \"More Than A Coach\". And Guardiola will now need to be more than a coach than at any time in his career. He will have the finances but it will be done with City's challengers also strengthening. Kevin de Bruyne, 34 in June, lasted 68 minutes here before he was substituted. Age and injuries are catching up with one of the greatest players of the Premier League era and he is unlikely to be at City next season. Mateo Kovacic, who replaced De Bruyne, is also 31 in May. Kyle Walker, 34, is being increasingly exposed. His most notable contribution here was an embarrassing collapse to the ground after the mildest head-to-head collision with Rasmus Hojlund. Ilkay Gundogan, another 34-year-old and a previous pillar of Guardiola's great successes, no longer has the legs or energy to exert influence. This looks increasingly like a season too far following his return from Barcelona. Flaws are also being exposed elsewhere, with previously reliable performers failing to hit previous standards. Phil Foden scored 27 goals and had 12 assists when he was Premier League Player of the Season last term. This year he has just three goals and two assists in 18 appearances in all competitions. He has no goals and just one assist in 11 Premier League games. Jack Grealish, who came on after 77 minutes against United, has not scored in a year for Manchester City, his last goal coming in a 2-2 draw against Crystal Palace on 16 December last year. He has, in the meantime, scored twice for England. Erling Haaland is also struggling as City lack creativity and cutting edge. He has three goals in his past 11 Premier League games after scoring 10 in his first five. And in another indication of City's impotence, and their reliance on Haaland, defender Gvardiol's goal against United was his fourth this season, making him their second highest scorer in all competitions behind the Norwegian striker, who has 18. Goalkeeper Ederson, so reliable for so long, has already been dropped once this season and did not cover himself in glory for United's winner. Guardiola, with that freshly signed two-year contract, insists he \"wants it\" as he treads on this alien territory of failure. He will be under no illusions about the size of the job in front of him as he placed his head in his hands in anguish after yet another damaging and deeply revealing defeat. City and Guardiola are in new, unforgiving territory.\u001b[00m\n"
     ]
    },
    {
     "name": "stderr",
     "output_type": "stream",
     "text": [
      "\u001b[92m02:24:59 - LiteLLM:INFO\u001b[0m: utils.py:941 - Wrapper: Completed Call, calling success_handler\n",
      "2025-02-06 02:24:59 [INFO] Wrapper: Completed Call, calling success_handler\n",
      "\u001b[92m02:24:59 - LiteLLM:INFO\u001b[0m: utils.py:2784 - \n",
      "LiteLLM completion() model= gpt-4o; provider = openai\n",
      "2025-02-06 02:24:59 [INFO] \n",
      "LiteLLM completion() model= gpt-4o; provider = openai\n"
     ]
    },
    {
     "name": "stdout",
     "output_type": "stream",
     "text": [
      "\n",
      "\n",
      "\u001b[1m\u001b[95m# Agent:\u001b[00m \u001b[1m\u001b[92mResearch Expert\u001b[00m\n",
      "\u001b[95m## Final Answer:\u001b[00m \u001b[92m\n",
      "Pep Guardiola, the manager of Manchester City, has expressed a range of emotions and reactions to the team's current form, which is considered one of the worst runs in his managerial career. Despite winning 18 trophies since joining the club in 2016, Guardiola has admitted that the team's downturn has affected his sleep and diet, describing his state of mind as \"ugly.\" He has acknowledged the need for the team to defend better and avoid mistakes, emphasizing the importance of finding a way to return to form. Guardiola has also shown self-doubt, stating, \"I am not good enough,\" and recognizing the need for solutions to the team's issues. He has highlighted injuries and a lack of confidence as contributing factors to the team's struggles. Guardiola remains committed to the team, planning for a major rebuild and expressing trust in his players' pride and desire to improve. Despite the challenges, he has not criticized his players publicly and continues to support them, aiming to recover the team's essence and intensity. Guardiola's approach includes giving players time off to reset and focusing on long-term changes to address the current crisis.\n",
      "```\u001b[00m\n",
      "\n",
      "\n",
      "\u001b[1m\u001b[95m# Agent:\u001b[00m \u001b[1m\u001b[92mTechnical Writer\u001b[00m\n",
      "\u001b[95m## Task:\u001b[00m \u001b[92mCreate a comprehensive and well-structured response1. Receive the detailed analysis and findings from the Research Expert regarding Pep Guardiola's reactions. 2. Review the notes and findings carefully to understand the key insights. 3. Organize the information into a coherent structure, beginning with an introduction that outlines the purpose of the response. 4. Create distinct sections: one for the context of Manchester City's performance, one for Guardiola's specific reactions and comments, and a conclusion summarizing the analysis. 5. Write clear and concise paragraphs for each section, ensuring that the language is professional and accessible to the intended audience. 6. Reference supporting evidence, including quotes and statistics, to enhance credibility and depth in the response. 7. Perform a thorough review of the response for clarity, accuracy, and flow. 8. Finalize the response, ensuring it meets the expected output format and delivers comprehensive insights on Guardiola's reactions.\u001b[00m\n"
     ]
    },
    {
     "name": "stderr",
     "output_type": "stream",
     "text": [
      "\u001b[92m02:25:10 - LiteLLM:INFO\u001b[0m: utils.py:941 - Wrapper: Completed Call, calling success_handler\n",
      "2025-02-06 02:25:10 [INFO] Wrapper: Completed Call, calling success_handler\n"
     ]
    },
    {
     "name": "stdout",
     "output_type": "stream",
     "text": [
      "\n",
      "\n",
      "\u001b[1m\u001b[95m# Agent:\u001b[00m \u001b[1m\u001b[92mTechnical Writer\u001b[00m\n",
      "\u001b[95m## Final Answer:\u001b[00m \u001b[92m\n",
      "**Introduction**\n",
      "\n",
      "The purpose of this response is to provide a comprehensive analysis of Pep Guardiola's reactions to Manchester City's current performance challenges. Despite a highly successful tenure since 2016, marked by 18 trophies, Guardiola is navigating one of the most difficult periods in his managerial career. This document will explore the context of Manchester City's recent form, Guardiola's specific reactions and comments, and conclude with a summary of the insights drawn from his approach to overcoming these challenges.\n",
      "\n",
      "**Context of Manchester City's Performance**\n",
      "\n",
      "Manchester City, under the leadership of Pep Guardiola, has experienced a remarkable period of success, securing numerous domestic and international titles. However, the team is currently undergoing a challenging phase, characterized by a series of underwhelming performances. This downturn is notable given the high standards set by the club in recent years. Contributing factors to this slump include injuries to key players and a pervasive lack of confidence within the squad. These issues have disrupted the team's rhythm and consistency, leading to a performance dip that Guardiola is keenly aware of and actively addressing.\n",
      "\n",
      "**Guardiola's Reactions and Comments**\n",
      "\n",
      "Pep Guardiola has openly expressed a range of emotions in response to the team's struggles. He has candidly admitted that the situation has impacted his personal well-being, affecting his sleep and diet, and described his mental state as \"ugly.\" Despite his impressive track record, Guardiola has shown moments of self-doubt, stating, \"I am not good enough,\" which underscores the pressure he feels to find solutions.\n",
      "\n",
      "Guardiola has emphasized the necessity for the team to improve defensively and minimize errors, recognizing these as critical areas for recovery. He has also pointed out the role of injuries and diminished confidence in the team's current plight. Despite these challenges, Guardiola remains steadfast in his commitment to Manchester City. He is planning a significant rebuild and has expressed unwavering trust in his players' pride and determination to improve.\n",
      "\n",
      "Importantly, Guardiola has refrained from publicly criticizing his players, instead opting to support them through this difficult period. His approach includes giving players time off to mentally reset and focusing on long-term strategic changes to address the crisis. This demonstrates his belief in the team's ability to recover its essence and intensity.\n",
      "\n",
      "**Conclusion**\n",
      "\n",
      "In summary, Pep Guardiola's reactions to Manchester City's current form reflect a deep understanding of the challenges facing the team. His candid acknowledgment of personal and professional difficulties highlights his commitment to finding solutions. By focusing on defensive improvements, addressing injuries, and fostering player confidence, Guardiola aims to guide Manchester City back to its winning ways. His strategic planning for a major rebuild and continued support for his players underscore his dedication to the club's long-term success. Through these efforts, Guardiola is working to restore the team's competitive edge and maintain its status as a formidable force in football.\u001b[00m\n",
      "\n",
      "\n",
      "\n",
      "Query completed in 44.01 seconds\n",
      "================================================================================\n",
      "RESPONSE\n",
      "================================================================================\n",
      "**Introduction**\n",
      "\n",
      "The purpose of this response is to provide a comprehensive analysis of Pep Guardiola's reactions to Manchester City's current performance challenges. Despite a highly successful tenure since 2016, marked by 18 trophies, Guardiola is navigating one of the most difficult periods in his managerial career. This document will explore the context of Manchester City's recent form, Guardiola's specific reactions and comments, and conclude with a summary of the insights drawn from his approach to overcoming these challenges.\n",
      "\n",
      "**Context of Manchester City's Performance**\n",
      "\n",
      "Manchester City, under the leadership of Pep Guardiola, has experienced a remarkable period of success, securing numerous domestic and international titles. However, the team is currently undergoing a challenging phase, characterized by a series of underwhelming performances. This downturn is notable given the high standards set by the club in recent years. Contributing factors to this slump include injuries to key players and a pervasive lack of confidence within the squad. These issues have disrupted the team's rhythm and consistency, leading to a performance dip that Guardiola is keenly aware of and actively addressing.\n",
      "\n",
      "**Guardiola's Reactions and Comments**\n",
      "\n",
      "Pep Guardiola has openly expressed a range of emotions in response to the team's struggles. He has candidly admitted that the situation has impacted his personal well-being, affecting his sleep and diet, and described his mental state as \"ugly.\" Despite his impressive track record, Guardiola has shown moments of self-doubt, stating, \"I am not good enough,\" which underscores the pressure he feels to find solutions.\n",
      "\n",
      "Guardiola has emphasized the necessity for the team to improve defensively and minimize errors, recognizing these as critical areas for recovery. He has also pointed out the role of injuries and diminished confidence in the team's current plight. Despite these challenges, Guardiola remains steadfast in his commitment to Manchester City. He is planning a significant rebuild and has expressed unwavering trust in his players' pride and determination to improve.\n",
      "\n",
      "Importantly, Guardiola has refrained from publicly criticizing his players, instead opting to support them through this difficult period. His approach includes giving players time off to mentally reset and focusing on long-term strategic changes to address the crisis. This demonstrates his belief in the team's ability to recover its essence and intensity.\n",
      "\n",
      "**Conclusion**\n",
      "\n",
      "In summary, Pep Guardiola's reactions to Manchester City's current form reflect a deep understanding of the challenges facing the team. His candid acknowledgment of personal and professional difficulties highlights his commitment to finding solutions. By focusing on defensive improvements, addressing injuries, and fostering player confidence, Guardiola aims to guide Manchester City back to its winning ways. His strategic planning for a major rebuild and continued support for his players underscore his dedication to the club's long-term success. Through these efforts, Guardiola is working to restore the team's competitive edge and maintain its status as a formidable force in football.\n",
      "\n",
      "================================================================================\n",
      "DETAILED TASK OUTPUTS\n",
      "================================================================================\n",
      "\n",
      "Task: Research and analyze information relevant to: What was manchester city manager pep guardiola's react...\n",
      "----------------------------------------\n",
      "Output: Pep Guardiola, the manager of Manchester City, has expressed a range of emotions and reactions to the team's current form, which is considered one of the worst runs in his managerial career. Despite winning 18 trophies since joining the club in 2016, Guardiola has admitted that the team's downturn has affected his sleep and diet, describing his state of mind as \"ugly.\" He has acknowledged the need for the team to defend better and avoid mistakes, emphasizing the importance of finding a way to return to form. Guardiola has also shown self-doubt, stating, \"I am not good enough,\" and recognizing the need for solutions to the team's issues. He has highlighted injuries and a lack of confidence as contributing factors to the team's struggles. Guardiola remains committed to the team, planning for a major rebuild and expressing trust in his players' pride and desire to improve. Despite the challenges, he has not criticized his players publicly and continues to support them, aiming to recover the team's essence and intensity. Guardiola's approach includes giving players time off to reset and focusing on long-term changes to address the current crisis.\n",
      "```\n",
      "----------------------------------------\n",
      "\n",
      "Task: Create a comprehensive and well-structured response1. Receive the detailed analysis and findings fro...\n",
      "----------------------------------------\n",
      "Output: **Introduction**\n",
      "\n",
      "The purpose of this response is to provide a comprehensive analysis of Pep Guardiola's reactions to Manchester City's current performance challenges. Despite a highly successful tenure since 2016, marked by 18 trophies, Guardiola is navigating one of the most difficult periods in his managerial career. This document will explore the context of Manchester City's recent form, Guardiola's specific reactions and comments, and conclude with a summary of the insights drawn from his approach to overcoming these challenges.\n",
      "\n",
      "**Context of Manchester City's Performance**\n",
      "\n",
      "Manchester City, under the leadership of Pep Guardiola, has experienced a remarkable period of success, securing numerous domestic and international titles. However, the team is currently undergoing a challenging phase, characterized by a series of underwhelming performances. This downturn is notable given the high standards set by the club in recent years. Contributing factors to this slump include injuries to key players and a pervasive lack of confidence within the squad. These issues have disrupted the team's rhythm and consistency, leading to a performance dip that Guardiola is keenly aware of and actively addressing.\n",
      "\n",
      "**Guardiola's Reactions and Comments**\n",
      "\n",
      "Pep Guardiola has openly expressed a range of emotions in response to the team's struggles. He has candidly admitted that the situation has impacted his personal well-being, affecting his sleep and diet, and described his mental state as \"ugly.\" Despite his impressive track record, Guardiola has shown moments of self-doubt, stating, \"I am not good enough,\" which underscores the pressure he feels to find solutions.\n",
      "\n",
      "Guardiola has emphasized the necessity for the team to improve defensively and minimize errors, recognizing these as critical areas for recovery. He has also pointed out the role of injuries and diminished confidence in the team's current plight. Despite these challenges, Guardiola remains steadfast in his commitment to Manchester City. He is planning a significant rebuild and has expressed unwavering trust in his players' pride and determination to improve.\n",
      "\n",
      "Importantly, Guardiola has refrained from publicly criticizing his players, instead opting to support them through this difficult period. His approach includes giving players time off to mentally reset and focusing on long-term strategic changes to address the crisis. This demonstrates his belief in the team's ability to recover its essence and intensity.\n",
      "\n",
      "**Conclusion**\n",
      "\n",
      "In summary, Pep Guardiola's reactions to Manchester City's current form reflect a deep understanding of the challenges facing the team. His candid acknowledgment of personal and professional difficulties highlights his commitment to finding solutions. By focusing on defensive improvements, addressing injuries, and fostering player confidence, Guardiola aims to guide Manchester City back to its winning ways. His strategic planning for a major rebuild and continued support for his players underscore his dedication to the club's long-term success. Through these efforts, Guardiola is working to restore the team's competitive edge and maintain its status as a formidable force in football.\n",
      "----------------------------------------\n"
     ]
    }
   ],
   "source": [
    "query = \"What was manchester city manager pep guardiola's reaction to the team's current form?\"\n",
    "process_query(query, researcher, writer)"
   ]
  }
 ],
 "metadata": {
  "kernelspec": {
   "display_name": "Python 3",
   "language": "python",
   "name": "python3"
  },
  "language_info": {
   "codemirror_mode": {
    "name": "ipython",
    "version": 3
   },
   "file_extension": ".py",
   "mimetype": "text/x-python",
   "name": "python",
   "nbconvert_exporter": "python",
   "pygments_lexer": "ipython3",
   "version": "3.11.2"
  }
 },
 "nbformat": 4,
 "nbformat_minor": 4
}
