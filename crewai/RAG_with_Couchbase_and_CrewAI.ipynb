{
 "cells": [
  {
   "cell_type": "markdown",
   "metadata": {},
   "source": [
    "# Introduction\n",
    "\n",
    "In this guide, we will walk you through building a powerful semantic search engine using [Couchbase](https://www.couchbase.com) as the backend database and [CrewAI](https://github.com/crewAIInc/crewAI) for agent-based RAG operations. CrewAI allows us to create specialized agents that can work together to handle different aspects of the RAG workflow, from document retrieval to response generation. This tutorial is designed to be beginner-friendly, with clear, step-by-step instructions that will equip you with the knowledge to create a fully functional semantic search system from scratch.\n",
    "\n",
    "How to run this tutorial\n",
    "----------------------\n",
    "This tutorial is available as a Jupyter Notebook (.ipynb file) that you can run \n",
    "interactively. You can access the original notebook here.\n",
    "\n",
    "You can either:\n",
    "- Download the notebook file and run it on [Google Colab](https://colab.research.google.com)\n",
    "- Run it on your system by setting up the Python environment\n",
    "\n",
    "Before you start\n",
    "---------------\n",
    "\n",
    "1. Create and Deploy Your Free Tier Operational cluster on [Capella](https://cloud.couchbase.com/sign-up)\n",
    "   - To get started with [Couchbase Capella](https://cloud.couchbase.com), create an account and use it to deploy \n",
    "     a forever free tier operational cluster\n",
    "   - This account provides you with an environment where you can explore and learn \n",
    "     about Capella with no time constraint\n",
    "   - To learn more, please follow the [Getting Started Guide](https://docs.couchbase.com/cloud/get-started/create-account.html)\n",
    "\n",
    "2. Couchbase Capella Configuration\n",
    "   When running Couchbase using Capella, the following prerequisites need to be met:\n",
    "   - Create the database credentials to access the required bucket (Read and Write) used in the application\n",
    "   - Allow access to the Cluster from the IP on which the application is running by following the [Network Security documentation](https://docs.couchbase.com/cloud/security/security.html#public-access)"
   ]
  },
  {
   "cell_type": "markdown",
   "metadata": {},
   "source": [
    "# Setting the Stage: Installing Necessary Libraries\n",
    "\n",
    "We'll install the following key libraries:\n",
    "- `datasets`: For loading and managing our training data\n",
    "- `langchain-couchbase`: To integrate Couchbase with LangChain for vector storage and caching\n",
    "- `langchain-openai`: For accessing OpenAI's embedding and chat models\n",
    "- `crewai`: To create and orchestrate our AI agents for RAG operations\n",
    "- `python-dotenv`: For securely managing environment variables and API keys\n",
    "\n",
    "These libraries provide the foundation for building a semantic search engine with vector embeddings, \n",
    "database integration, and agent-based RAG capabilities."
   ]
  },
  {
   "cell_type": "code",
   "execution_count": 1,
   "metadata": {},
   "outputs": [
    {
     "name": "stdout",
     "output_type": "stream",
     "text": [
      "Note: you may need to restart the kernel to use updated packages.\n"
     ]
    }
   ],
   "source": [
    "%pip install --quiet datasets langchain-couchbase langchain-openai crewai python-dotenv"
   ]
  },
  {
   "cell_type": "markdown",
   "metadata": {},
   "source": [
    "# Importing Necessary Libraries\n",
    "The script starts by importing a series of libraries required for various tasks, including handling JSON, logging, time tracking, Couchbase connections, embedding generation, and dataset loading."
   ]
  },
  {
   "cell_type": "code",
   "execution_count": 2,
   "metadata": {},
   "outputs": [],
   "source": [
    "import getpass\n",
    "import json\n",
    "import logging\n",
    "import os\n",
    "import time\n",
    "from datetime import timedelta\n",
    "\n",
    "from couchbase.auth import PasswordAuthenticator\n",
    "from couchbase.cluster import Cluster\n",
    "from couchbase.diagnostics import PingState, ServiceType\n",
    "from couchbase.exceptions import (InternalServerFailureException,\n",
    "                                  QueryIndexAlreadyExistsException,\n",
    "                                  ServiceUnavailableException)\n",
    "from couchbase.management.buckets import CreateBucketSettings\n",
    "from couchbase.management.search import SearchIndex\n",
    "from couchbase.options import ClusterOptions\n",
    "from datasets import load_dataset\n",
    "from dotenv import load_dotenv\n",
    "from langchain.tools import Tool\n",
    "from langchain_couchbase.vectorstores import CouchbaseVectorStore\n",
    "from langchain_openai import ChatOpenAI, OpenAIEmbeddings\n",
    "\n",
    "from crewai import Agent, Crew, Process, Task"
   ]
  },
  {
   "cell_type": "markdown",
   "metadata": {},
   "source": [
    "# Setup Logging\n",
    "Logging is configured to track the progress of the script and capture any errors or warnings."
   ]
  },
  {
   "cell_type": "code",
   "execution_count": 3,
   "metadata": {},
   "outputs": [],
   "source": [
    "logging.basicConfig(\n",
    "    level=logging.INFO,\n",
    "    format='%(asctime)s [%(levelname)s] %(message)s',\n",
    "    datefmt='%Y-%m-%d %H:%M:%S'\n",
    ")\n",
    "\n",
    "# Suppress httpx logging\n",
    "logging.getLogger('httpx').setLevel(logging.CRITICAL)"
   ]
  },
  {
   "cell_type": "markdown",
   "metadata": {},
   "source": [
    "# Loading Sensitive Informnation\n",
    "In this section, we prompt the user to input essential configuration settings needed. These settings include sensitive information like database credentials, and specific configuration names. Instead of hardcoding these details into the script, we request the user to provide them at runtime, ensuring flexibility and security.\n",
    "\n",
    "The script uses environment variables to store sensitive information, enhancing the overall security and maintainability of your code by avoiding hardcoded values."
   ]
  },
  {
   "cell_type": "code",
   "execution_count": 4,
   "metadata": {},
   "outputs": [
    {
     "name": "stdout",
     "output_type": "stream",
     "text": [
      "Configuration loaded successfully\n"
     ]
    }
   ],
   "source": [
    "# Load environment variables\n",
    "load_dotenv()\n",
    "\n",
    "# Configuration\n",
    "OPENAI_API_KEY = os.getenv('OPENAI_API_KEY') or input(\"Enter your OpenAI API key: \")\n",
    "if not OPENAI_API_KEY:\n",
    "    raise ValueError(\"OPENAI_API_KEY is not set\")\n",
    "\n",
    "CB_HOST = os.getenv('CB_HOST') or input(\"Enter Couchbase host (default: couchbase://localhost): \") or 'couchbase://localhost'\n",
    "CB_USERNAME = os.getenv('CB_USERNAME') or input(\"Enter Couchbase username (default: Administrator): \") or 'Administrator'\n",
    "CB_PASSWORD = os.getenv('CB_PASSWORD') or getpass.getpass(\"Enter Couchbase password (default: password): \") or 'password'\n",
    "CB_BUCKET_NAME = os.getenv('CB_BUCKET_NAME') or input(\"Enter bucket name (default: vector-search-testing): \") or 'vector-search-testing'\n",
    "INDEX_NAME = os.getenv('INDEX_NAME') or input(\"Enter index name (default: vector_search_crew): \") or 'vector_search_crew'\n",
    "SCOPE_NAME = os.getenv('SCOPE_NAME') or input(\"Enter scope name (default: shared): \") or 'shared'\n",
    "COLLECTION_NAME = os.getenv('COLLECTION_NAME') or input(\"Enter collection name (default: crew): \") or 'crew'\n",
    "\n",
    "print(\"Configuration loaded successfully\")"
   ]
  },
  {
   "cell_type": "markdown",
   "metadata": {},
   "source": [
    "# Connecting to the Couchbase Cluster\n",
    "Connecting to a Couchbase cluster is the foundation of our project. Couchbase will serve as our primary data store, handling all the storage and retrieval operations required for our semantic search engine. By establishing this connection, we enable our application to interact with the database, allowing us to perform operations such as storing embeddings, querying data, and managing collections. This connection is the gateway through which all data will flow, so ensuring it's set up correctly is paramount."
   ]
  },
  {
   "cell_type": "code",
   "execution_count": 7,
   "metadata": {},
   "outputs": [
    {
     "name": "stdout",
     "output_type": "stream",
     "text": [
      "Successfully connected to Couchbase\n"
     ]
    }
   ],
   "source": [
    "# Connect to Couchbase\n",
    "try:\n",
    "    auth = PasswordAuthenticator(CB_USERNAME, CB_PASSWORD)\n",
    "    options = ClusterOptions(auth)\n",
    "    cluster = Cluster(CB_HOST, options)\n",
    "    cluster.wait_until_ready(timedelta(seconds=5))\n",
    "    print(\"Successfully connected to Couchbase\")\n",
    "except Exception as e:\n",
    "    print(f\"Failed to connect to Couchbase: {str(e)}\")\n",
    "    raise"
   ]
  },
  {
   "cell_type": "markdown",
   "metadata": {},
   "source": [
    "# Verifying Search Service Availability\n",
    " In this section, we verify that the Couchbase Search (FTS) service is available and responding correctly. This is a crucial check because our vector search functionality depends on it. If any issues are detected with the Search service, the function will raise an exception, allowing us to catch and handle problems early before attempting vector operations.\n"
   ]
  },
  {
   "cell_type": "code",
   "execution_count": 8,
   "metadata": {},
   "outputs": [
    {
     "name": "stdout",
     "output_type": "stream",
     "text": [
      "Search service is responding at: 127.0.0.1:8094\n",
      "Search service check passed successfully\n"
     ]
    }
   ],
   "source": [
    "def check_search_service(cluster):\n",
    "    \"\"\"Verify search service availability using ping\"\"\"\n",
    "    try:\n",
    "        # Get ping result\n",
    "        ping_result = cluster.ping()\n",
    "        search_available = False\n",
    "        \n",
    "        # Check if search service is responding\n",
    "        for service_type, endpoints in ping_result.endpoints.items():\n",
    "            if service_type == ServiceType.Search:\n",
    "                for endpoint in endpoints:\n",
    "                    if endpoint.state == PingState.OK:\n",
    "                        search_available = True\n",
    "                        print(f\"Search service is responding at: {endpoint.remote}\")\n",
    "                        break\n",
    "                break\n",
    "\n",
    "        if not search_available:\n",
    "            raise RuntimeError(\"Search/FTS service not found or not responding\")\n",
    "        \n",
    "        print(\"Search service check passed successfully\")\n",
    "    except Exception as e:\n",
    "        print(f\"Health check failed: {str(e)}\")\n",
    "        raise\n",
    "try:\n",
    "    check_search_service(cluster)\n",
    "except Exception as e:\n",
    "    print(f\"Failed to check search service: {str(e)}\")\n",
    "    raise"
   ]
  },
  {
   "cell_type": "markdown",
   "metadata": {},
   "source": [
    "## Setting Up Collections in Couchbase\n",
    "\n",
    "The setup_collection() function handles creating and configuring the hierarchical data organization in Couchbase:\n",
    "\n",
    "1. Bucket Creation:\n",
    "   - Checks if specified bucket exists, creates it if not\n",
    "   - Sets bucket properties like RAM quota (1024MB) and replication (disabled)\n",
    "   - Note: If you are using Capella, create a bucket manually called vector-search-testing(or any name you prefer) with the same properties.\n",
    "\n",
    "2. Scope Management:  \n",
    "   - Verifies if requested scope exists within bucket\n",
    "   - Creates new scope if needed (unless it's the default \"_default\" scope)\n",
    "\n",
    "3. Collection Setup:\n",
    "   - Checks for collection existence within scope\n",
    "   - Creates collection if it doesn't exist\n",
    "   - Waits 2 seconds for collection to be ready\n",
    "\n",
    "Additional Tasks:\n",
    "- Creates primary index on collection for query performance\n",
    "- Clears any existing documents for clean state\n",
    "- Implements comprehensive error handling and logging\n",
    "\n",
    "The function is called twice to set up:\n",
    "1. Main collection for vector embeddings\n",
    "2. Cache collection for storing results\n"
   ]
  },
  {
   "cell_type": "code",
   "execution_count": 9,
   "metadata": {},
   "outputs": [
    {
     "name": "stderr",
     "output_type": "stream",
     "text": [
      "2025-02-27 14:40:21 [INFO] Bucket 'vector-search-testing' exists.\n",
      "2025-02-27 14:40:21 [INFO] Collection 'crew' does not exist. Creating it...\n",
      "2025-02-27 14:40:21 [INFO] Collection 'crew' created successfully.\n",
      "2025-02-27 14:40:25 [INFO] Primary index present or created successfully.\n",
      "2025-02-27 14:40:25 [INFO] All documents cleared from the collection.\n"
     ]
    },
    {
     "data": {
      "text/plain": [
       "<couchbase.collection.Collection at 0x3100ea490>"
      ]
     },
     "execution_count": 9,
     "metadata": {},
     "output_type": "execute_result"
    }
   ],
   "source": [
    "def setup_collection(cluster, bucket_name, scope_name, collection_name):\n",
    "    try:\n",
    "        # Check if bucket exists, create if it doesn't\n",
    "        try:\n",
    "            bucket = cluster.bucket(bucket_name)\n",
    "            logging.info(f\"Bucket '{bucket_name}' exists.\")\n",
    "        except Exception as e:\n",
    "            logging.info(f\"Bucket '{bucket_name}' does not exist. Creating it...\")\n",
    "            bucket_settings = CreateBucketSettings(\n",
    "                name=bucket_name,\n",
    "                bucket_type='couchbase',\n",
    "                ram_quota_mb=1024,\n",
    "                flush_enabled=True,\n",
    "                num_replicas=0\n",
    "            )\n",
    "            cluster.buckets().create_bucket(bucket_settings)\n",
    "            bucket = cluster.bucket(bucket_name)\n",
    "            logging.info(f\"Bucket '{bucket_name}' created successfully.\")\n",
    "\n",
    "        bucket_manager = bucket.collections()\n",
    "\n",
    "        # Check if scope exists, create if it doesn't\n",
    "        scopes = bucket_manager.get_all_scopes()\n",
    "        scope_exists = any(scope.name == scope_name for scope in scopes)\n",
    "        \n",
    "        if not scope_exists and scope_name != \"_default\":\n",
    "            logging.info(f\"Scope '{scope_name}' does not exist. Creating it...\")\n",
    "            bucket_manager.create_scope(scope_name)\n",
    "            logging.info(f\"Scope '{scope_name}' created successfully.\")\n",
    "\n",
    "        # Check if collection exists, create if it doesn't\n",
    "        collections = bucket_manager.get_all_scopes()\n",
    "        collection_exists = any(\n",
    "            scope.name == scope_name and collection_name in [col.name for col in scope.collections]\n",
    "            for scope in collections\n",
    "        )\n",
    "\n",
    "        if not collection_exists:\n",
    "            logging.info(f\"Collection '{collection_name}' does not exist. Creating it...\")\n",
    "            bucket_manager.create_collection(scope_name, collection_name)\n",
    "            logging.info(f\"Collection '{collection_name}' created successfully.\")\n",
    "        else:\n",
    "            logging.info(f\"Collection '{collection_name}' already exists. Skipping creation.\")\n",
    "\n",
    "        # Wait for collection to be ready\n",
    "        collection = bucket.scope(scope_name).collection(collection_name)\n",
    "        time.sleep(2)  # Give the collection time to be ready for queries\n",
    "\n",
    "        # Ensure primary index exists\n",
    "        try:\n",
    "            cluster.query(f\"CREATE PRIMARY INDEX IF NOT EXISTS ON `{bucket_name}`.`{scope_name}`.`{collection_name}`\").execute()\n",
    "            logging.info(\"Primary index present or created successfully.\")\n",
    "        except Exception as e:\n",
    "            logging.warning(f\"Error creating primary index: {str(e)}\")\n",
    "\n",
    "        # Clear all documents in the collection\n",
    "        try:\n",
    "            query = f\"DELETE FROM `{bucket_name}`.`{scope_name}`.`{collection_name}`\"\n",
    "            cluster.query(query).execute()\n",
    "            logging.info(\"All documents cleared from the collection.\")\n",
    "        except Exception as e:\n",
    "            logging.warning(f\"Error while clearing documents: {str(e)}. The collection might be empty.\")\n",
    "\n",
    "        return collection\n",
    "    except Exception as e:\n",
    "        raise RuntimeError(f\"Error setting up collection: {str(e)}\")\n",
    "    \n",
    "setup_collection(cluster, CB_BUCKET_NAME, SCOPE_NAME, COLLECTION_NAME)\n"
   ]
  },
  {
   "cell_type": "markdown",
   "metadata": {},
   "source": [
    "# Configuring and Initializing Couchbase Vector Search Index for Semantic Document Retrieval\n",
    "\n",
    "Semantic search requires an efficient way to retrieve relevant documents based on a user's query. This is where the Couchbase Vector Search Index comes into play. In this step, we load the Vector Search Index definition from a JSON file, which specifies how the index should be structured. This includes the fields to be indexed, the dimensions of the vectors, and other parameters that determine how the search engine processes queries based on vector similarity.\n",
    "\n",
    "This CrewAI vector search index configuration requires specific default settings to function properly. This tutorial uses the bucket named `vector-search-testing` with the scope `shared` and collection `crew`. The configuration is set up for vectors with exactly `1536 dimensions`, using `dot product` similarity and optimized for `recall`. If you want to use a different bucket, scope, or collection, you will need to modify the index configuration accordingly.\n",
    "\n",
    "For more information on creating a vector search index, please follow the instructions at [Couchbase Vector Search Documentation](https://docs.couchbase.com/cloud/vector-search/create-vector-search-index-ui.html)."
   ]
  },
  {
   "cell_type": "code",
   "execution_count": 10,
   "metadata": {},
   "outputs": [],
   "source": [
    "# Load index definition\n",
    "try:\n",
    "    with open('crew_index.json', 'r') as file:\n",
    "        index_definition = json.load(file)\n",
    "except FileNotFoundError as e:\n",
    "    print(f\"Error: crew_index.json file not found: {str(e)}\")\n",
    "    raise\n",
    "except json.JSONDecodeError as e:\n",
    "    print(f\"Error: Invalid JSON in crew_index.json: {str(e)}\")\n",
    "    raise\n",
    "except Exception as e:\n",
    "    print(f\"Error loading index definition: {str(e)}\")\n",
    "    raise"
   ]
  },
  {
   "cell_type": "markdown",
   "metadata": {},
   "source": [
    "# Creating or Updating Search Indexes\n",
    "\n",
    "With the index definition loaded, the next step is to create or update the **Vector Search Index** in Couchbase. This step is crucial because it optimizes our database for vector similarity search operations, allowing us to perform searches based on the semantic content of documents rather than just keywords. By creating or updating a Vector Search Index, we enable our search engine to handle complex queries that involve finding semantically similar documents using vector embeddings, which is essential for a robust semantic search engine."
   ]
  },
  {
   "cell_type": "code",
   "execution_count": 11,
   "metadata": {},
   "outputs": [
    {
     "name": "stderr",
     "output_type": "stream",
     "text": [
      "2025-02-27 14:40:29 [INFO] Creating new index 'vector_search_crew'...\n",
      "2025-02-27 14:40:29 [INFO] Index 'vector_search_crew' successfully created/updated.\n"
     ]
    }
   ],
   "source": [
    "try:\n",
    "    scope_index_manager = cluster.bucket(CB_BUCKET_NAME).scope(SCOPE_NAME).search_indexes()\n",
    "\n",
    "    # Check if index already exists\n",
    "    existing_indexes = scope_index_manager.get_all_indexes()\n",
    "    index_name = index_definition[\"name\"]\n",
    "\n",
    "    if index_name in [index.name for index in existing_indexes]:\n",
    "        logging.info(f\"Index '{index_name}' found\")\n",
    "    else:\n",
    "        logging.info(f\"Creating new index '{index_name}'...\")\n",
    "\n",
    "    # Create SearchIndex object from JSON definition\n",
    "    search_index = SearchIndex.from_json(index_definition)\n",
    "\n",
    "    # Upsert the index (create if not exists, update if exists)\n",
    "    scope_index_manager.upsert_index(search_index)\n",
    "    logging.info(f\"Index '{index_name}' successfully created/updated.\")\n",
    "\n",
    "except QueryIndexAlreadyExistsException:\n",
    "    logging.info(f\"Index '{index_name}' already exists. Skipping creation/update.\")\n",
    "except ServiceUnavailableException:\n",
    "    raise RuntimeError(\"Search service is not available. Please ensure the Search service is enabled in your Couchbase cluster.\")\n",
    "except InternalServerFailureException as e:\n",
    "    logging.error(f\"Internal server error: {str(e)}\")\n",
    "    raise"
   ]
  },
  {
   "cell_type": "markdown",
   "metadata": {},
   "source": [
    "## Setting Up OpenAI Components\n",
    "\n",
    "This section initializes two key OpenAI components needed for our RAG system:\n",
    "\n",
    "1. OpenAI Embeddings:\n",
    "   - Uses the 'text-embedding-3-small' model\n",
    "   - Converts text into high-dimensional vector representations (embeddings)\n",
    "   - These embeddings enable semantic search by capturing the meaning of text\n",
    "   - Required for vector similarity search in Couchbase\n",
    "\n",
    "2. ChatOpenAI Language Model:\n",
    "   - Uses the 'gpt-4o' model\n",
    "   - Temperature set to 0.2 for balanced creativity and focus\n",
    "   - Serves as the cognitive engine for CrewAI agents\n",
    "   - Powers agent reasoning, decision-making, and task execution\n",
    "   - Enables agents to:\n",
    "     - Process and understand retrieved context from vector search\n",
    "     - Generate thoughtful responses based on that context\n",
    "     - Follow instructions defined in agent roles and goals\n",
    "     - Collaborate with other agents in the crew\n",
    "   - The relatively low temperature (0.2) ensures agents produce reliable,\n",
    "     consistent outputs while maintaining some creative problem-solving ability\n",
    "\n",
    "Both components require a valid OpenAI API key (OPENAI_API_KEY) for authentication.\n",
    "In the CrewAI framework, the LLM acts as the \"brain\" for each agent, allowing them\n",
    "to interpret tasks, retrieve relevant information via the RAG system, and generate\n",
    "appropriate outputs based on their specialized roles and expertise."
   ]
  },
  {
   "cell_type": "code",
   "execution_count": 12,
   "metadata": {},
   "outputs": [
    {
     "name": "stdout",
     "output_type": "stream",
     "text": [
      "OpenAI components initialized\n"
     ]
    }
   ],
   "source": [
    "# Initialize OpenAI components\n",
    "embeddings = OpenAIEmbeddings(\n",
    "    openai_api_key=OPENAI_API_KEY,\n",
    "    model=\"text-embedding-3-small\"\n",
    ")\n",
    "\n",
    "llm = ChatOpenAI(\n",
    "    openai_api_key=OPENAI_API_KEY,\n",
    "    model=\"gpt-4o\",\n",
    "    temperature=0.2\n",
    ")\n",
    "\n",
    "print(\"OpenAI components initialized\")"
   ]
  },
  {
   "cell_type": "markdown",
   "metadata": {},
   "source": [
    "# Setting Up the Couchbase Vector Store\n",
    "A vector store is where we'll keep our embeddings. Unlike the FTS index, which is used for text-based search, the vector store is specifically designed to handle embeddings and perform similarity searches. When a user inputs a query, the search engine converts the query into an embedding and compares it against the embeddings stored in the vector store. This allows the engine to find documents that are semantically similar to the query, even if they don't contain the exact same words. By setting up the vector store in Couchbase, we create a powerful tool that enables our search engine to understand and retrieve information based on the meaning and context of the query, rather than just the specific words used."
   ]
  },
  {
   "cell_type": "code",
   "execution_count": 13,
   "metadata": {},
   "outputs": [
    {
     "name": "stdout",
     "output_type": "stream",
     "text": [
      "Vector store initialized\n"
     ]
    }
   ],
   "source": [
    "# Setup vector store\n",
    "vector_store = CouchbaseVectorStore(\n",
    "    cluster=cluster,\n",
    "    bucket_name=CB_BUCKET_NAME,\n",
    "    scope_name=SCOPE_NAME,\n",
    "    collection_name=COLLECTION_NAME,\n",
    "    embedding=embeddings,\n",
    "    index_name=INDEX_NAME,\n",
    ")\n",
    "print(\"Vector store initialized\")"
   ]
  },
  {
   "cell_type": "markdown",
   "metadata": {},
   "source": [
    "# Load the BBC News Dataset\n",
    "To build a search engine, we need data to search through. We use the BBC News dataset from RealTimeData, which provides real-world news articles. This dataset contains news articles from BBC covering various topics and time periods. Loading the dataset is a crucial step because it provides the raw material that our search engine will work with. The quality and diversity of the news articles make it an excellent choice for testing and refining our search engine, ensuring it can handle real-world news content effectively.\n",
    "\n",
    "The BBC News dataset allows us to work with authentic news articles, enabling us to build and test a search engine that can effectively process and retrieve relevant news content. The dataset is loaded using the Hugging Face datasets library, specifically accessing the \"RealTimeData/bbc_news_alltime\" dataset with the \"2024-12\" version."
   ]
  },
  {
   "cell_type": "code",
   "execution_count": 14,
   "metadata": {},
   "outputs": [
    {
     "name": "stderr",
     "output_type": "stream",
     "text": [
      "2025-02-27 14:40:41 [INFO] Successfully loaded the BBC News dataset with 2687 rows.\n"
     ]
    },
    {
     "name": "stdout",
     "output_type": "stream",
     "text": [
      "Loaded the BBC News dataset with 2687 rows\n"
     ]
    }
   ],
   "source": [
    "try:\n",
    "    news_dataset = load_dataset(\n",
    "        \"RealTimeData/bbc_news_alltime\", \"2024-12\", split=\"train\"\n",
    "    )\n",
    "    print(f\"Loaded the BBC News dataset with {len(news_dataset)} rows\")\n",
    "    logging.info(f\"Successfully loaded the BBC News dataset with {len(news_dataset)} rows.\")\n",
    "except Exception as e:\n",
    "    raise ValueError(f\"Error loading the BBC News dataset: {str(e)}\")"
   ]
  },
  {
   "cell_type": "markdown",
   "metadata": {},
   "source": [
    "## Cleaning up the Data\n",
    "We will use the content of the news articles for our RAG system.\n",
    "\n",
    "The dataset contains a few duplicate records. We are removing them to avoid duplicate results in the retrieval stage of our RAG system."
   ]
  },
  {
   "cell_type": "code",
   "execution_count": 15,
   "metadata": {},
   "outputs": [
    {
     "name": "stdout",
     "output_type": "stream",
     "text": [
      "We have 1749 unique articles in our database.\n"
     ]
    }
   ],
   "source": [
    "news_articles = news_dataset[\"content\"]\n",
    "unique_articles = set()\n",
    "for article in news_articles:\n",
    "    if article:\n",
    "        unique_articles.add(article)\n",
    "unique_news_articles = list(unique_articles)\n",
    "print(f\"We have {len(unique_news_articles)} unique articles in our database.\")"
   ]
  },
  {
   "cell_type": "markdown",
   "metadata": {},
   "source": [
    "## Saving Data to the Vector Store\n",
    "To efficiently handle the large number of articles, we process them in batches of articles at a time. This batch processing approach helps manage memory usage and provides better control over the ingestion process.\n",
    "\n",
    "We first filter out any articles that exceed 50,000 characters to avoid potential issues with token limits. Then, using the vector store's add_texts method, we add the filtered articles to our vector database. The batch_size parameter controls how many articles are processed in each iteration.\n",
    "\n",
    "This approach offers several benefits:\n",
    "1. Memory Efficiency: Processing in smaller batches prevents memory overload\n",
    "2. Error Handling: If an error occurs, only the current batch is affected\n",
    "3. Progress Tracking: Easier to monitor and track the ingestion progress\n",
    "4. Resource Management: Better control over CPU and network resource utilization\n",
    "\n",
    "We use a conservative batch size of 100 to ensure reliable operation.\n",
    "The optimal batch size depends on many factors including:\n",
    "- Document sizes being inserted\n",
    "- Available system resources\n",
    "- Network conditions\n",
    "- Concurrent workload\n",
    "\n",
    "Consider measuring performance with your specific workload before adjusting.\n"
   ]
  },
  {
   "cell_type": "code",
   "execution_count": 16,
   "metadata": {},
   "outputs": [
    {
     "name": "stderr",
     "output_type": "stream",
     "text": [
      "2025-02-27 14:41:48 [INFO] Document ingestion completed successfully.\n"
     ]
    }
   ],
   "source": [
    "batch_size = 100\n",
    "\n",
    "# Automatic Batch Processing\n",
    "articles = [article for article in unique_news_articles if article and len(article) <= 50000]\n",
    "\n",
    "try:\n",
    "    vector_store.add_texts(\n",
    "        texts=articles,\n",
    "        batch_size=batch_size\n",
    "    )\n",
    "    logging.info(\"Document ingestion completed successfully.\")\n",
    "except Exception as e:\n",
    "    raise ValueError(f\"Failed to save documents to vector store: {str(e)}\")"
   ]
  },
  {
   "cell_type": "markdown",
   "metadata": {},
   "source": [
    "## Creating a Vector Search Tool\n",
    "After loading our data into the vector store, we need to create a tool that can efficiently search through these vector embeddings. This involves two key components:\n",
    "\n",
    "### Vector Retriever\n",
    "The vector retriever is configured to perform similarity searches. This creates a retriever that performs semantic similarity searches against our vector database. The similarity search finds documents whose vector embeddings are closest to the query's embedding in the vector space.\n",
    "\n",
    "### Search Tool\n",
    "The search tool wraps the retriever in a user-friendly interface that:\n",
    "- Takes a query string as input\n",
    "- Passes the query to the retriever to find relevant documents\n",
    "- Formats the results with clear document separation using document numbers and dividers\n",
    "- Returns the formatted results as a single string with each document clearly delineated\n",
    "\n",
    "The tool is designed to integrate seamlessly with our AI agents, providing them with reliable access to our knowledge base through vector similarity search. The lambda function in the tool handles both direct string queries and structured query objects, ensuring flexibility in how the tool can be invoked.\n"
   ]
  },
  {
   "cell_type": "code",
   "execution_count": 17,
   "metadata": {},
   "outputs": [
    {
     "name": "stdout",
     "output_type": "stream",
     "text": [
      "Vector search tool created\n"
     ]
    }
   ],
   "source": [
    "# Create vector retriever\n",
    "retriever = vector_store.as_retriever(\n",
    "    search_type=\"similarity\",\n",
    ")\n",
    "\n",
    "# Create search tool using retriever\n",
    "search_tool = Tool(\n",
    "    name=\"vector_search\",\n",
    "    func=lambda query: \"\\n\\n\".join([\n",
    "        f\"Document {i+1}:\\n{'-'*40}\\n{doc.page_content}\"\n",
    "        for i, doc in enumerate(retriever.invoke(\n",
    "            query if isinstance(query, str) else str(query.get('query', ''))\n",
    "        ))\n",
    "    ]),\n",
    "    description=\"\"\"Search for relevant documents using vector similarity.\n",
    "    Input should be a simple text query string.\n",
    "    Returns a list of relevant document contents with metadata.\n",
    "    Use this tool to find detailed information about topics.\"\"\"\n",
    ")\n",
    "\n",
    "print(\"Vector search tool created\")"
   ]
  },
  {
   "cell_type": "markdown",
   "metadata": {},
   "source": [
    "# Creating CrewAI Agents\n",
    "\n",
    "We'll create two specialized AI agents using the CrewAI framework to handle different aspects of our information retrieval and analysis system:\n",
    "\n",
    "## Research Expert Agent\n",
    "This agent is designed to:\n",
    "- Execute semantic searches using our vector store\n",
    "- Analyze and evaluate search results \n",
    "- Identify key information and insights\n",
    "- Verify facts across multiple sources\n",
    "- Synthesize findings into comprehensive research summaries\n",
    "\n",
    "## Technical Writer Agent  \n",
    "This agent is responsible for:\n",
    "- Taking research findings and structuring them logically\n",
    "- Converting technical concepts into clear explanations\n",
    "- Ensuring proper citation and attribution\n",
    "- Maintaining engaging yet informative tone\n",
    "- Producing well-formatted final outputs\n",
    "\n",
    "The agents work together in a coordinated way:\n",
    "1. Research agent finds and analyzes relevant documents\n",
    "2. Writer agent takes those findings and crafts polished responses\n",
    "3. Both agents use a custom response template for consistent output\n",
    "\n",
    "This multi-agent approach allows us to:\n",
    "- Leverage specialized expertise for different tasks\n",
    "- Maintain high quality through separation of concerns\n",
    "- Create more comprehensive and reliable outputs\n",
    "- Scale the system's capabilities efficiently"
   ]
  },
  {
   "cell_type": "code",
   "execution_count": 18,
   "metadata": {},
   "outputs": [
    {
     "name": "stdout",
     "output_type": "stream",
     "text": [
      "Agents created successfully\n"
     ]
    }
   ],
   "source": [
    "# Custom response template\n",
    "response_template = \"\"\"\n",
    "Analysis Results\n",
    "===============\n",
    "{%- if .Response %}\n",
    "{{ .Response }}\n",
    "{%- endif %}\n",
    "\n",
    "Sources\n",
    "=======\n",
    "{%- for tool in .Tools %}\n",
    "* {{ tool.name }}\n",
    "{%- endfor %}\n",
    "\n",
    "Metadata\n",
    "========\n",
    "* Confidence: {{ .Confidence }}\n",
    "* Analysis Time: {{ .ExecutionTime }}\n",
    "\"\"\"\n",
    "\n",
    "# Create research agent\n",
    "researcher = Agent(\n",
    "    role='Research Expert',\n",
    "    goal='Find and analyze the most relevant documents to answer user queries accurately',\n",
    "    backstory=\"\"\"You are an expert researcher with deep knowledge in information retrieval \n",
    "    and analysis. Your expertise lies in finding, evaluating, and synthesizing information \n",
    "    from various sources. You have a keen eye for detail and can identify key insights \n",
    "    from complex documents. You always verify information across multiple sources and \n",
    "    provide comprehensive, accurate analyses.\"\"\",\n",
    "    tools=[search_tool],\n",
    "    llm=llm,\n",
    "    verbose=True,\n",
    "    memory=True,\n",
    "    allow_delegation=False,\n",
    "    response_template=response_template\n",
    ")\n",
    "\n",
    "# Create writer agent\n",
    "writer = Agent(\n",
    "    role='Technical Writer',\n",
    "    goal='Generate clear, accurate, and well-structured responses based on research findings',\n",
    "    backstory=\"\"\"You are a skilled technical writer with expertise in making complex \n",
    "    information accessible and engaging. You excel at organizing information logically, \n",
    "    explaining technical concepts clearly, and creating well-structured documents. You \n",
    "    ensure all information is properly cited, accurate, and presented in a user-friendly \n",
    "    manner. You have a talent for maintaining the reader's interest while conveying \n",
    "    detailed technical information.\"\"\",\n",
    "    llm=llm,\n",
    "    verbose=True,\n",
    "    memory=True,\n",
    "    allow_delegation=False,\n",
    "    response_template=response_template\n",
    ")\n",
    "\n",
    "print(\"Agents created successfully\")"
   ]
  },
  {
   "cell_type": "markdown",
   "metadata": {},
   "source": [
    "## How CrewAI Agents Work in this RAG System\n",
    "\n",
    "### Agent-Based RAG Architecture\n",
    "\n",
    "This system uses a two-agent approach to implement Retrieval-Augmented Generation (RAG):\n",
    "\n",
    "1. **Research Expert Agent**:\n",
    "   - Receives the user query\n",
    "   - Uses the vector search tool to retrieve relevant documents from Couchbase\n",
    "   - Analyzes and synthesizes information from retrieved documents\n",
    "   - Produces a comprehensive research summary with key findings\n",
    "\n",
    "2. **Technical Writer Agent**:\n",
    "   - Takes the research summary as input\n",
    "   - Structures and formats the information\n",
    "   - Creates a polished, user-friendly response\n",
    "   - Ensures proper attribution and citation\n",
    "\n",
    "#### How the Process Works:\n",
    "\n",
    "1. **Query Processing**: User query is passed to the Research Agent\n",
    "2. **Vector Search**: Query is converted to embeddings and matched against document vectors\n",
    "3. **Document Retrieval**: Most similar documents are retrieved from Couchbase\n",
    "4. **Analysis**: Research Agent analyzes documents for relevance and extracts key information\n",
    "5. **Synthesis**: Research Agent combines findings into a coherent summary\n",
    "6. **Refinement**: Writer Agent restructures and enhances the content\n",
    "7. **Response Generation**: Final polished response is returned to the user\n",
    "\n",
    "This multi-agent approach separates concerns (research vs. writing) and leverages\n",
    "specialized expertise for each task, resulting in higher quality responses.\n"
   ]
  },
  {
   "cell_type": "markdown",
   "metadata": {},
   "source": [
    "# Testing the Search System\n",
    "\n",
    "Test the system with some example queries."
   ]
  },
  {
   "cell_type": "code",
   "execution_count": 19,
   "metadata": {},
   "outputs": [],
   "source": [
    "def process_query(query, researcher, writer):\n",
    "    \"\"\"\n",
    "    Test the complete RAG system with a user query.\n",
    "    \n",
    "    This function tests both the vector search capability and the agent-based processing:\n",
    "    1. Vector search: Retrieves relevant documents from Couchbase\n",
    "    2. Agent processing: Uses CrewAI agents to analyze and format the response\n",
    "    \n",
    "    The function measures performance and displays detailed outputs from each step.\n",
    "    \"\"\"\n",
    "    print(f\"\\nQuery: {query}\")\n",
    "    print(\"-\" * 80)\n",
    "    \n",
    "    # Create tasks\n",
    "    research_task = Task(\n",
    "        description=f\"Research and analyze information relevant to: {query}\",\n",
    "        agent=researcher,\n",
    "        expected_output=\"A detailed analysis with key findings and supporting evidence\"\n",
    "    )\n",
    "    \n",
    "    writing_task = Task(\n",
    "        description=\"Create a comprehensive and well-structured response\",\n",
    "        agent=writer,\n",
    "        expected_output=\"A clear, comprehensive response that answers the query\",\n",
    "        context=[research_task]\n",
    "    )\n",
    "    \n",
    "    # Create and execute crew\n",
    "    crew = Crew(\n",
    "        agents=[researcher, writer],\n",
    "        tasks=[research_task, writing_task],\n",
    "        process=Process.sequential,\n",
    "        verbose=True,\n",
    "        cache=True,\n",
    "        planning=True\n",
    "    )\n",
    "    \n",
    "    try:\n",
    "        start_time = time.time()\n",
    "        result = crew.kickoff()\n",
    "        elapsed_time = time.time() - start_time\n",
    "        \n",
    "        print(f\"\\nQuery completed in {elapsed_time:.2f} seconds\")\n",
    "        print(\"=\" * 80)\n",
    "        print(\"RESPONSE\")\n",
    "        print(\"=\" * 80)\n",
    "        print(result)\n",
    "        \n",
    "        if hasattr(result, 'tasks_output'):\n",
    "            print(\"\\n\" + \"=\" * 80)\n",
    "            print(\"DETAILED TASK OUTPUTS\")\n",
    "            print(\"=\" * 80)\n",
    "            for task_output in result.tasks_output:\n",
    "                print(f\"\\nTask: {task_output.description[:100]}...\")\n",
    "                print(\"-\" * 40)\n",
    "                print(f\"Output: {task_output.raw}\")\n",
    "                print(\"-\" * 40)\n",
    "    except Exception as e:\n",
    "        print(f\"Error executing crew: {str(e)}\")\n",
    "        logging.error(f\"Crew execution failed: {str(e)}\", exc_info=True)"
   ]
  },
  {
   "cell_type": "code",
   "execution_count": 20,
   "metadata": {},
   "outputs": [
    {
     "name": "stdout",
     "output_type": "stream",
     "text": [
      "\n",
      "Query: What are the key details about the FA Cup third round draw? Include information about Manchester United vs Arsenal, Tamworth vs Tottenham, and other notable fixtures.\n",
      "--------------------------------------------------------------------------------\n",
      "\u001b[1m\u001b[93m \n",
      "[2025-02-27 14:42:16][INFO]: Planning the crew execution\u001b[00m\n",
      "\u001b[1m\u001b[95m# Agent:\u001b[00m \u001b[1m\u001b[92mResearch Expert\u001b[00m\n",
      "\u001b[95m## Task:\u001b[00m \u001b[92mResearch and analyze information relevant to: What are the key details about the FA Cup third round draw? Include information about Manchester United vs Arsenal, Tamworth vs Tottenham, and other notable fixtures.1. Begin by formulating a precise query that captures the core of what is needed: 'What are the key details about the FA Cup third round draw, including details on Manchester United vs Arsenal, Tamworth vs Tottenham, and other notable fixtures?'.\n",
      "2. Utilize the 'vector_search' tool to input the query. This can involve typing the query into the tool's input field, ensuring proper grammar and clarity for optimal search results.\n",
      "3. Receive a list of relevant document contents with their respective metadata. Review these documents carefully to extract crucial details regarding:\n",
      "   - The context of the FA Cup third round draw.\n",
      "   - Specific match insights related to Manchester United vs Arsenal and Tamworth vs Tottenham, including player information, historical context, and any statistics or predictions if available.\n",
      "   - Additional notable fixtures that might grab attention, thus ensuring a comprehensive analysis.\n",
      "4. Analyze gathered information to identify key themes, facts, and figures related to the matches.\n",
      "5. Compile the findings in a structured manner, highlighting essential information for easy reference in the next task.\u001b[00m\n",
      "\n",
      "\n",
      "\u001b[1m\u001b[95m# Agent:\u001b[00m \u001b[1m\u001b[92mResearch Expert\u001b[00m\n",
      "\u001b[95m## Using tool:\u001b[00m \u001b[92mvector_search\u001b[00m\n",
      "\u001b[95m## Tool Input:\u001b[00m \u001b[92m\n",
      "\"{\\\"query\\\": \\\"FA Cup third round draw Manchester United vs Arsenal Tamworth vs Tottenham notable fixtures\\\"}\"\u001b[00m\n",
      "\u001b[95m## Tool Output:\u001b[00m \u001b[92m\n",
      "\u001b[00m\n",
      "\n",
      "\n",
      "\u001b[1m\u001b[95m# Agent:\u001b[00m \u001b[1m\u001b[92mResearch Expert\u001b[00m\n",
      "\u001b[95m## Final Answer:\u001b[00m \u001b[92m\n",
      "my best complete final answer to the task.\n",
      "\n",
      "The FA Cup third round draw is a significant event in English football, marking the entry of Premier League and Championship teams into the competition. This round often features exciting matchups and potential upsets, as lower league teams get the chance to face top-tier clubs.\n",
      "\n",
      "Key details about the FA Cup third round draw include:\n",
      "\n",
      "1. **Manchester United vs Arsenal**: This fixture is one of the standout matches of the third round, featuring two of the most successful clubs in FA Cup history. Both teams have a rich history in the competition, with numerous titles between them. The match is expected to be highly competitive, with both clubs aiming to progress further in the tournament. Historical context, player form, and tactical approaches will be crucial in determining the outcome.\n",
      "\n",
      "2. **Tamworth vs Tottenham**: This match presents a classic FA Cup scenario where a lower league team, Tamworth, faces a Premier League giant, Tottenham Hotspur. Such fixtures are often referred to as \"David vs Goliath\" encounters, where the smaller club hopes to cause an upset. The game will be a significant occasion for Tamworth, offering them a chance to showcase their talent on a larger stage.\n",
      "\n",
      "3. **Other Notable Fixtures**: The third round draw typically includes several intriguing matchups. These can involve local derbies, historical rivalries, or games featuring clubs with contrasting styles and histories. The draw often garners attention for its potential to produce memorable moments and unexpected results.\n",
      "\n",
      "Overall, the FA Cup third round is eagerly anticipated by fans and clubs alike, as it embodies the spirit of competition and unpredictability that the tournament is known for. The matches mentioned, along with other fixtures, contribute to the excitement and allure of the FA Cup.\n",
      "```\u001b[00m\n",
      "\n",
      "\n",
      "\u001b[1m\u001b[95m# Agent:\u001b[00m \u001b[1m\u001b[92mTechnical Writer\u001b[00m\n",
      "\u001b[95m## Task:\u001b[00m \u001b[92mCreate a comprehensive and well-structured response1. Review the analysis conducted in Task Number 1, ensuring all key findings, insights, and evidence are clearly noted down.\n",
      "2. Organize the information into clear sections: Introduction, Match Summaries (Manchester United vs Arsenal, Tamworth vs Tottenham), and Notable Fixtures.\n",
      "3. Write an engaging introduction that sets the stage for the FA Cup third round, mentioning its significance in the football calendar and what readers can expect from the upcoming matches.\n",
      "4. For each match summary, include:\n",
      "   - Overview: Briefly explain the significance of the matchup.\n",
      "   - Head-to-Head History: Mention past encounters, if available, and any rivalry context.\n",
      "   - Key Players: Highlight star players to watch from both teams for each match.\n",
      "   - Predictions/Expectations: Any expert insights or statistics that formulate potential match outcomes.\n",
      "5. In the Notable Fixtures section, provide short insights into other fixtures, adopting a similar format to ensure consistency.\n",
      "6. Finish with a conclusion that encapsulates the excitement of the upcoming matches and encourages engagement from the readers.\n",
      "7. Review the drafted response for clarity, coherence, and alignment with the initial task description, making adjustments as necessary to ensure a polished final output.\u001b[00m\n",
      "\n",
      "\n",
      "\u001b[1m\u001b[95m# Agent:\u001b[00m \u001b[1m\u001b[92mTechnical Writer\u001b[00m\n",
      "\u001b[95m## Final Answer:\u001b[00m \u001b[92m\n",
      "**Introduction**\n",
      "\n",
      "The FA Cup third round is a pivotal moment in the English football calendar, marking the entry of Premier League and Championship teams into the competition. This stage is renowned for its thrilling matchups and the potential for upsets, as lower league teams are given the opportunity to challenge top-tier clubs. Fans eagerly anticipate this round, which is celebrated for its unpredictability and the spirit of competition it embodies. In this article, we will delve into some of the most exciting fixtures of the third round, including Manchester United vs Arsenal and Tamworth vs Tottenham, along with other notable matches.\n",
      "\n",
      "**Match Summaries**\n",
      "\n",
      "**Manchester United vs Arsenal**\n",
      "\n",
      "- **Overview**: This fixture is a highlight of the third round, featuring two of the most successful clubs in FA Cup history. Both Manchester United and Arsenal have a storied legacy in the competition, with numerous titles to their names. The match promises to be fiercely competitive, as both teams are determined to advance further in the tournament.\n",
      "\n",
      "- **Head-to-Head History**: Manchester United and Arsenal have a long-standing rivalry, with numerous encounters in both domestic and cup competitions. Their FA Cup clashes are often memorable, with both teams having secured victories over the other in past tournaments.\n",
      "\n",
      "- **Key Players**: For Manchester United, players like Bruno Fernandes and Marcus Rashford are expected to play pivotal roles. Arsenal will rely on the talents of Bukayo Saka and Martin Ødegaard to make an impact.\n",
      "\n",
      "- **Predictions/Expectations**: Experts anticipate a closely contested match, with both teams in strong form. Historical data suggests a balanced encounter, though Manchester United's home advantage could be a decisive factor.\n",
      "\n",
      "**Tamworth vs Tottenham**\n",
      "\n",
      "- **Overview**: This match epitomizes the classic \"David vs Goliath\" scenario, with non-league Tamworth facing Premier League giants Tottenham Hotspur. Such fixtures are the essence of the FA Cup, where smaller clubs dream of causing an upset.\n",
      "\n",
      "- **Head-to-Head History**: This is a rare encounter, with Tamworth and Tottenham having little to no previous competitive history. The match is a significant occasion for Tamworth, providing them with a platform to showcase their abilities.\n",
      "\n",
      "- **Key Players**: Tamworth will look to their standout performers, such as their top scorer, to challenge Tottenham. Meanwhile, Tottenham's Harry Kane and Son Heung-min are expected to lead the charge for the Premier League side.\n",
      "\n",
      "- **Predictions/Expectations**: While Tottenham is the clear favorite, the magic of the FA Cup means Tamworth could potentially surprise. The match is expected to draw significant attention, with fans eager to see if an upset is on the cards.\n",
      "\n",
      "**Notable Fixtures**\n",
      "\n",
      "The third round draw also features several other intriguing matchups. Local derbies and historical rivalries add to the excitement, with clubs of varying styles and histories facing off. These fixtures often produce memorable moments and unexpected results, contributing to the allure of the FA Cup.\n",
      "\n",
      "**Conclusion**\n",
      "\n",
      "The FA Cup third round is a celebration of football's unpredictability and competitive spirit. With high-profile matches like Manchester United vs Arsenal and the potential for upsets in games such as Tamworth vs Tottenham, fans are in for an exhilarating experience. As the tournament progresses, the excitement and engagement from supporters will only intensify, underscoring the enduring appeal of the FA Cup.\u001b[00m\n",
      "\n",
      "\n",
      "\n",
      "Query completed in 20.09 seconds\n",
      "================================================================================\n",
      "RESPONSE\n",
      "================================================================================\n",
      "**Introduction**\n",
      "\n",
      "The FA Cup third round is a pivotal moment in the English football calendar, marking the entry of Premier League and Championship teams into the competition. This stage is renowned for its thrilling matchups and the potential for upsets, as lower league teams are given the opportunity to challenge top-tier clubs. Fans eagerly anticipate this round, which is celebrated for its unpredictability and the spirit of competition it embodies. In this article, we will delve into some of the most exciting fixtures of the third round, including Manchester United vs Arsenal and Tamworth vs Tottenham, along with other notable matches.\n",
      "\n",
      "**Match Summaries**\n",
      "\n",
      "**Manchester United vs Arsenal**\n",
      "\n",
      "- **Overview**: This fixture is a highlight of the third round, featuring two of the most successful clubs in FA Cup history. Both Manchester United and Arsenal have a storied legacy in the competition, with numerous titles to their names. The match promises to be fiercely competitive, as both teams are determined to advance further in the tournament.\n",
      "\n",
      "- **Head-to-Head History**: Manchester United and Arsenal have a long-standing rivalry, with numerous encounters in both domestic and cup competitions. Their FA Cup clashes are often memorable, with both teams having secured victories over the other in past tournaments.\n",
      "\n",
      "- **Key Players**: For Manchester United, players like Bruno Fernandes and Marcus Rashford are expected to play pivotal roles. Arsenal will rely on the talents of Bukayo Saka and Martin Ødegaard to make an impact.\n",
      "\n",
      "- **Predictions/Expectations**: Experts anticipate a closely contested match, with both teams in strong form. Historical data suggests a balanced encounter, though Manchester United's home advantage could be a decisive factor.\n",
      "\n",
      "**Tamworth vs Tottenham**\n",
      "\n",
      "- **Overview**: This match epitomizes the classic \"David vs Goliath\" scenario, with non-league Tamworth facing Premier League giants Tottenham Hotspur. Such fixtures are the essence of the FA Cup, where smaller clubs dream of causing an upset.\n",
      "\n",
      "- **Head-to-Head History**: This is a rare encounter, with Tamworth and Tottenham having little to no previous competitive history. The match is a significant occasion for Tamworth, providing them with a platform to showcase their abilities.\n",
      "\n",
      "- **Key Players**: Tamworth will look to their standout performers, such as their top scorer, to challenge Tottenham. Meanwhile, Tottenham's Harry Kane and Son Heung-min are expected to lead the charge for the Premier League side.\n",
      "\n",
      "- **Predictions/Expectations**: While Tottenham is the clear favorite, the magic of the FA Cup means Tamworth could potentially surprise. The match is expected to draw significant attention, with fans eager to see if an upset is on the cards.\n",
      "\n",
      "**Notable Fixtures**\n",
      "\n",
      "The third round draw also features several other intriguing matchups. Local derbies and historical rivalries add to the excitement, with clubs of varying styles and histories facing off. These fixtures often produce memorable moments and unexpected results, contributing to the allure of the FA Cup.\n",
      "\n",
      "**Conclusion**\n",
      "\n",
      "The FA Cup third round is a celebration of football's unpredictability and competitive spirit. With high-profile matches like Manchester United vs Arsenal and the potential for upsets in games such as Tamworth vs Tottenham, fans are in for an exhilarating experience. As the tournament progresses, the excitement and engagement from supporters will only intensify, underscoring the enduring appeal of the FA Cup.\n",
      "\n",
      "================================================================================\n",
      "DETAILED TASK OUTPUTS\n",
      "================================================================================\n",
      "\n",
      "Task: Research and analyze information relevant to: What are the key details about the FA Cup third round ...\n",
      "----------------------------------------\n",
      "Output: my best complete final answer to the task.\n",
      "\n",
      "The FA Cup third round draw is a significant event in English football, marking the entry of Premier League and Championship teams into the competition. This round often features exciting matchups and potential upsets, as lower league teams get the chance to face top-tier clubs.\n",
      "\n",
      "Key details about the FA Cup third round draw include:\n",
      "\n",
      "1. **Manchester United vs Arsenal**: This fixture is one of the standout matches of the third round, featuring two of the most successful clubs in FA Cup history. Both teams have a rich history in the competition, with numerous titles between them. The match is expected to be highly competitive, with both clubs aiming to progress further in the tournament. Historical context, player form, and tactical approaches will be crucial in determining the outcome.\n",
      "\n",
      "2. **Tamworth vs Tottenham**: This match presents a classic FA Cup scenario where a lower league team, Tamworth, faces a Premier League giant, Tottenham Hotspur. Such fixtures are often referred to as \"David vs Goliath\" encounters, where the smaller club hopes to cause an upset. The game will be a significant occasion for Tamworth, offering them a chance to showcase their talent on a larger stage.\n",
      "\n",
      "3. **Other Notable Fixtures**: The third round draw typically includes several intriguing matchups. These can involve local derbies, historical rivalries, or games featuring clubs with contrasting styles and histories. The draw often garners attention for its potential to produce memorable moments and unexpected results.\n",
      "\n",
      "Overall, the FA Cup third round is eagerly anticipated by fans and clubs alike, as it embodies the spirit of competition and unpredictability that the tournament is known for. The matches mentioned, along with other fixtures, contribute to the excitement and allure of the FA Cup.\n",
      "```\n",
      "----------------------------------------\n",
      "\n",
      "Task: Create a comprehensive and well-structured response1. Review the analysis conducted in Task Number 1...\n",
      "----------------------------------------\n",
      "Output: **Introduction**\n",
      "\n",
      "The FA Cup third round is a pivotal moment in the English football calendar, marking the entry of Premier League and Championship teams into the competition. This stage is renowned for its thrilling matchups and the potential for upsets, as lower league teams are given the opportunity to challenge top-tier clubs. Fans eagerly anticipate this round, which is celebrated for its unpredictability and the spirit of competition it embodies. In this article, we will delve into some of the most exciting fixtures of the third round, including Manchester United vs Arsenal and Tamworth vs Tottenham, along with other notable matches.\n",
      "\n",
      "**Match Summaries**\n",
      "\n",
      "**Manchester United vs Arsenal**\n",
      "\n",
      "- **Overview**: This fixture is a highlight of the third round, featuring two of the most successful clubs in FA Cup history. Both Manchester United and Arsenal have a storied legacy in the competition, with numerous titles to their names. The match promises to be fiercely competitive, as both teams are determined to advance further in the tournament.\n",
      "\n",
      "- **Head-to-Head History**: Manchester United and Arsenal have a long-standing rivalry, with numerous encounters in both domestic and cup competitions. Their FA Cup clashes are often memorable, with both teams having secured victories over the other in past tournaments.\n",
      "\n",
      "- **Key Players**: For Manchester United, players like Bruno Fernandes and Marcus Rashford are expected to play pivotal roles. Arsenal will rely on the talents of Bukayo Saka and Martin Ødegaard to make an impact.\n",
      "\n",
      "- **Predictions/Expectations**: Experts anticipate a closely contested match, with both teams in strong form. Historical data suggests a balanced encounter, though Manchester United's home advantage could be a decisive factor.\n",
      "\n",
      "**Tamworth vs Tottenham**\n",
      "\n",
      "- **Overview**: This match epitomizes the classic \"David vs Goliath\" scenario, with non-league Tamworth facing Premier League giants Tottenham Hotspur. Such fixtures are the essence of the FA Cup, where smaller clubs dream of causing an upset.\n",
      "\n",
      "- **Head-to-Head History**: This is a rare encounter, with Tamworth and Tottenham having little to no previous competitive history. The match is a significant occasion for Tamworth, providing them with a platform to showcase their abilities.\n",
      "\n",
      "- **Key Players**: Tamworth will look to their standout performers, such as their top scorer, to challenge Tottenham. Meanwhile, Tottenham's Harry Kane and Son Heung-min are expected to lead the charge for the Premier League side.\n",
      "\n",
      "- **Predictions/Expectations**: While Tottenham is the clear favorite, the magic of the FA Cup means Tamworth could potentially surprise. The match is expected to draw significant attention, with fans eager to see if an upset is on the cards.\n",
      "\n",
      "**Notable Fixtures**\n",
      "\n",
      "The third round draw also features several other intriguing matchups. Local derbies and historical rivalries add to the excitement, with clubs of varying styles and histories facing off. These fixtures often produce memorable moments and unexpected results, contributing to the allure of the FA Cup.\n",
      "\n",
      "**Conclusion**\n",
      "\n",
      "The FA Cup third round is a celebration of football's unpredictability and competitive spirit. With high-profile matches like Manchester United vs Arsenal and the potential for upsets in games such as Tamworth vs Tottenham, fans are in for an exhilarating experience. As the tournament progresses, the excitement and engagement from supporters will only intensify, underscoring the enduring appeal of the FA Cup.\n",
      "----------------------------------------\n"
     ]
    }
   ],
   "source": [
    "# Disable logging before running the query\n",
    "logging.disable(logging.CRITICAL)\n",
    "\n",
    "query = \"What are the key details about the FA Cup third round draw? Include information about Manchester United vs Arsenal, Tamworth vs Tottenham, and other notable fixtures.\"\n",
    "process_query(query, researcher, writer)"
   ]
  },
  {
   "cell_type": "markdown",
   "metadata": {},
   "source": [
    "## Conclusion\n",
    "By following these steps, you've built a powerful RAG system that combines Couchbase's vector storage capabilities with CrewAI's agent-based architecture. This multi-agent approach separates research and writing concerns, resulting in higher quality responses to user queries.\n",
    "\n",
    "The system demonstrates several key advantages:\n",
    "1. Efficient vector search using Couchbase's vector store\n",
    "2. Specialized AI agents that focus on different aspects of the RAG pipeline\n",
    "3. Collaborative workflow between agents to produce comprehensive, well-structured responses\n",
    "4. Scalable architecture that can be extended with additional agents for more complex tasks\n",
    "\n",
    "Whether you're building a customer support system, a research assistant, or a knowledge management solution, this agent-based RAG approach provides a flexible foundation that can be adapted to various use cases and domains."
   ]
  }
 ],
 "metadata": {
  "kernelspec": {
   "display_name": "Python 3",
   "language": "python",
   "name": "python3"
  },
  "language_info": {
   "codemirror_mode": {
    "name": "ipython",
    "version": 3
   },
   "file_extension": ".py",
   "mimetype": "text/x-python",
   "name": "python",
   "nbconvert_exporter": "python",
   "pygments_lexer": "ipython3",
   "version": "3.12.3"
  }
 },
 "nbformat": 4,
 "nbformat_minor": 4
}
