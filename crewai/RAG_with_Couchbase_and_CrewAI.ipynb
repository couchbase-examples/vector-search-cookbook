{
 "cells": [
  {
   "cell_type": "markdown",
   "metadata": {},
   "source": [
    "# Introduction\n",
    "\n",
    "In this guide, we will walk you through building a powerful semantic search engine using Couchbase as the backend database and [CrewAI](https://github.com/joaomdmoura/crewAI) for agent-based RAG operations. CrewAI allows us to create specialized agents that can work together to handle different aspects of the RAG workflow, from document retrieval to response generation. This tutorial is designed to be beginner-friendly, with clear, step-by-step instructions that will equip you with the knowledge to create a fully functional semantic search system from scratch."
   ]
  },
  {
   "cell_type": "markdown",
   "metadata": {},
   "source": [
    "# Setting the Stage: Installing Necessary Libraries\n",
    "\n",
    "To build our semantic search engine, we need a robust set of tools. The libraries we install handle everything from connecting to databases to performing complex machine learning tasks."
   ]
  },
  {
   "cell_type": "code",
   "execution_count": 1,
   "metadata": {},
   "outputs": [
    {
     "name": "stdout",
     "output_type": "stream",
     "text": [
      "Note: you may need to restart the kernel to use updated packages.\n"
     ]
    }
   ],
   "source": [
    "%pip install --quiet datasets langchain-couchbase langchain-openai crewai python-dotenv tqdm"
   ]
  },
  {
   "cell_type": "markdown",
   "metadata": {},
   "source": [
    "# Importing Libraries and Setting Up Logging\n",
    "\n",
    "Import all necessary libraries and configure logging."
   ]
  },
  {
   "cell_type": "code",
   "execution_count": 2,
   "metadata": {},
   "outputs": [
    {
     "name": "stderr",
     "output_type": "stream",
     "text": [
      "/Library/Frameworks/Python.framework/Versions/3.11/lib/python3.11/site-packages/tqdm/auto.py:21: TqdmWarning: IProgress not found. Please update jupyter and ipywidgets. See https://ipywidgets.readthedocs.io/en/stable/user_install.html\n",
      "  from .autonotebook import tqdm as notebook_tqdm\n"
     ]
    }
   ],
   "source": [
    "import json\n",
    "import logging\n",
    "import time\n",
    "import sys\n",
    "import os\n",
    "from datetime import timedelta\n",
    "from uuid import uuid4\n",
    "from typing import Any, Optional\n",
    "from dotenv import load_dotenv\n",
    "\n",
    "from couchbase.auth import PasswordAuthenticator\n",
    "from couchbase.cluster import Cluster\n",
    "from couchbase.exceptions import InternalServerFailureException, QueryIndexAlreadyExistsException\n",
    "from couchbase.management.search import SearchIndex\n",
    "from couchbase.options import ClusterOptions\n",
    "from datasets import load_dataset\n",
    "from langchain_openai import OpenAIEmbeddings, ChatOpenAI\n",
    "from langchain_core.documents import Document\n",
    "from langchain_core.globals import set_llm_cache\n",
    "from langchain_couchbase.cache import CouchbaseCache\n",
    "from langchain_couchbase.vectorstores import CouchbaseVectorStore\n",
    "from langchain.tools import Tool\n",
    "from crewai import Agent, Task, Crew, Process\n",
    "from tqdm import tqdm\n",
    "\n",
    "# Setup logging\n",
    "logging.basicConfig(\n",
    "    level=logging.INFO,\n",
    "    format='%(asctime)s [%(levelname)s] %(message)s',\n",
    "    datefmt='%Y-%m-%d %H:%M:%S'\n",
    ")"
   ]
  },
  {
   "cell_type": "markdown",
   "metadata": {},
   "source": [
    "# Loading Configuration Settings\n",
    "\n",
    "Load configuration settings from environment variables or use default values."
   ]
  },
  {
   "cell_type": "code",
   "execution_count": 3,
   "metadata": {},
   "outputs": [
    {
     "name": "stdout",
     "output_type": "stream",
     "text": [
      "Configuration loaded successfully\n"
     ]
    }
   ],
   "source": [
    "# Load environment variables\n",
    "load_dotenv()\n",
    "\n",
    "# Configuration\n",
    "OPENAI_API_KEY = os.getenv('OPENAI_API_KEY')\n",
    "if not OPENAI_API_KEY:\n",
    "    raise ValueError(\"OPENAI_API_KEY is not set\")\n",
    "\n",
    "CB_HOST = os.getenv('CB_HOST', 'couchbase://localhost')\n",
    "CB_USERNAME = os.getenv('CB_USERNAME', 'Administrator')\n",
    "CB_PASSWORD = os.getenv('CB_PASSWORD', 'password')\n",
    "CB_BUCKET_NAME = os.getenv('CB_BUCKET_NAME', 'vector-search-testing')\n",
    "INDEX_NAME = os.getenv('INDEX_NAME', 'vector_search_crew')\n",
    "SCOPE_NAME = os.getenv('SCOPE_NAME', 'shared')\n",
    "COLLECTION_NAME = os.getenv('COLLECTION_NAME', 'crew')\n",
    "CACHE_COLLECTION = os.getenv('CACHE_COLLECTION', 'cache')\n",
    "\n",
    "print(\"Configuration loaded successfully\")"
   ]
  },
  {
   "cell_type": "markdown",
   "metadata": {},
   "source": [
    "# Connecting to Couchbase\n",
    "\n",
    "Connect to Couchbase and set up the required collections."
   ]
  },
  {
   "cell_type": "code",
   "execution_count": 4,
   "metadata": {},
   "outputs": [
    {
     "name": "stdout",
     "output_type": "stream",
     "text": [
      "Successfully connected to Couchbase\n",
      "Collection 'crew' already exists\n",
      "Primary index created for 'crew'\n",
      "Collection 'crew' cleared\n",
      "Collection 'cache' already exists\n",
      "Primary index created for 'cache'\n",
      "Collection 'cache' cleared\n"
     ]
    }
   ],
   "source": [
    "# Connect to Couchbase\n",
    "auth = PasswordAuthenticator(CB_USERNAME, CB_PASSWORD)\n",
    "options = ClusterOptions(auth)\n",
    "cluster = Cluster(CB_HOST, options)\n",
    "cluster.wait_until_ready(timedelta(seconds=5))\n",
    "print(\"Successfully connected to Couchbase\")\n",
    "\n",
    "# Setup collections\n",
    "bucket = cluster.bucket(CB_BUCKET_NAME)\n",
    "bucket_manager = bucket.collections()\n",
    "\n",
    "# Setup main collection\n",
    "collections = bucket_manager.get_all_scopes()\n",
    "collection_exists = any(\n",
    "    scope.name == SCOPE_NAME and COLLECTION_NAME in [col.name for col in scope.collections]\n",
    "    for scope in collections\n",
    ")\n",
    "\n",
    "if not collection_exists:\n",
    "    bucket_manager.create_collection(SCOPE_NAME, COLLECTION_NAME)\n",
    "    print(f\"Collection '{COLLECTION_NAME}' created\")\n",
    "else:\n",
    "    print(f\"Collection '{COLLECTION_NAME}' already exists\")\n",
    "\n",
    "# Create primary index\n",
    "cluster.query(\n",
    "    f\"CREATE PRIMARY INDEX IF NOT EXISTS ON `{CB_BUCKET_NAME}`.`{SCOPE_NAME}`.`{COLLECTION_NAME}`\"\n",
    ").execute()\n",
    "print(f\"Primary index created for '{COLLECTION_NAME}'\")\n",
    "\n",
    "# Clear collection\n",
    "cluster.query(\n",
    "    f\"DELETE FROM `{CB_BUCKET_NAME}`.`{SCOPE_NAME}`.`{COLLECTION_NAME}`\"\n",
    ").execute()\n",
    "print(f\"Collection '{COLLECTION_NAME}' cleared\")\n",
    "\n",
    "# Setup cache collection\n",
    "collection_exists = any(\n",
    "    scope.name == SCOPE_NAME and CACHE_COLLECTION in [col.name for col in scope.collections]\n",
    "    for scope in collections\n",
    ")\n",
    "\n",
    "if not collection_exists:\n",
    "    bucket_manager.create_collection(SCOPE_NAME, CACHE_COLLECTION)\n",
    "    print(f\"Collection '{CACHE_COLLECTION}' created\")\n",
    "else:\n",
    "    print(f\"Collection '{CACHE_COLLECTION}' already exists\")\n",
    "\n",
    "# Create primary index for cache\n",
    "cluster.query(\n",
    "    f\"CREATE PRIMARY INDEX IF NOT EXISTS ON `{CB_BUCKET_NAME}`.`{SCOPE_NAME}`.`{CACHE_COLLECTION}`\"\n",
    ").execute()\n",
    "print(f\"Primary index created for '{CACHE_COLLECTION}'\")\n",
    "\n",
    "# Clear cache collection\n",
    "cluster.query(\n",
    "    f\"DELETE FROM `{CB_BUCKET_NAME}`.`{SCOPE_NAME}`.`{CACHE_COLLECTION}`\"\n",
    ").execute()\n",
    "print(f\"Collection '{CACHE_COLLECTION}' cleared\")"
   ]
  },
  {
   "cell_type": "markdown",
   "metadata": {},
   "source": [
    "# Setting Up Vector Search Index\n",
    "\n",
    "Load and create the vector search index in Couchbase."
   ]
  },
  {
   "cell_type": "code",
   "execution_count": 5,
   "metadata": {},
   "outputs": [
    {
     "name": "stdout",
     "output_type": "stream",
     "text": [
      "Index 'vector_search_crew' already exists\n"
     ]
    }
   ],
   "source": [
    "# Load index definition\n",
    "with open('crew_index.json', 'r') as file:\n",
    "    index_definition = json.load(file)\n",
    "\n",
    "# Setup vector search index\n",
    "scope_index_manager = cluster.bucket(CB_BUCKET_NAME).scope(SCOPE_NAME).search_indexes()\n",
    "\n",
    "# Check if index exists\n",
    "existing_indexes = scope_index_manager.get_all_indexes()\n",
    "index_exists = any(index.name == INDEX_NAME for index in existing_indexes)\n",
    "\n",
    "if index_exists:\n",
    "    print(f\"Index '{INDEX_NAME}' already exists\")\n",
    "else:\n",
    "    search_index = SearchIndex.from_json(index_definition)\n",
    "    scope_index_manager.upsert_index(search_index)\n",
    "    print(f\"Index '{INDEX_NAME}' created\")"
   ]
  },
  {
   "cell_type": "markdown",
   "metadata": {},
   "source": [
    "# Setting Up OpenAI Components\n",
    "\n",
    "Initialize OpenAI embeddings and language model."
   ]
  },
  {
   "cell_type": "code",
   "execution_count": 6,
   "metadata": {},
   "outputs": [
    {
     "name": "stdout",
     "output_type": "stream",
     "text": [
      "OpenAI components initialized\n"
     ]
    }
   ],
   "source": [
    "# Initialize OpenAI components\n",
    "embeddings = OpenAIEmbeddings(\n",
    "    openai_api_key=OPENAI_API_KEY,\n",
    "    model=\"text-embedding-ada-002\"\n",
    ")\n",
    "\n",
    "llm = ChatOpenAI(\n",
    "    openai_api_key=OPENAI_API_KEY,\n",
    "    model=\"gpt-4o\",\n",
    "    temperature=0.7\n",
    ")\n",
    "\n",
    "print(\"OpenAI components initialized\")"
   ]
  },
  {
   "cell_type": "markdown",
   "metadata": {},
   "source": [
    "# Setting Up Vector Store and Cache\n",
    "\n",
    "Initialize the vector store and cache components."
   ]
  },
  {
   "cell_type": "code",
   "execution_count": 7,
   "metadata": {},
   "outputs": [
    {
     "name": "stdout",
     "output_type": "stream",
     "text": [
      "Vector store initialized\n",
      "Cache initialized\n"
     ]
    }
   ],
   "source": [
    "# Setup vector store\n",
    "vector_store = CouchbaseVectorStore(\n",
    "    cluster=cluster,\n",
    "    bucket_name=CB_BUCKET_NAME,\n",
    "    scope_name=SCOPE_NAME,\n",
    "    collection_name=COLLECTION_NAME,\n",
    "    embedding=embeddings,\n",
    "    index_name=INDEX_NAME,\n",
    ")\n",
    "print(\"Vector store initialized\")\n",
    "\n",
    "# Setup cache\n",
    "cache = CouchbaseCache(\n",
    "    cluster=cluster,\n",
    "    bucket_name=CB_BUCKET_NAME,\n",
    "    scope_name=SCOPE_NAME,\n",
    "    collection_name=CACHE_COLLECTION,\n",
    ")\n",
    "set_llm_cache(cache)\n",
    "print(\"Cache initialized\")"
   ]
  },
  {
   "cell_type": "markdown",
   "metadata": {},
   "source": [
    "# Loading Sample Data\n",
    "\n",
    "Load and process the TREC dataset."
   ]
  },
  {
   "cell_type": "code",
   "execution_count": 8,
   "metadata": {},
   "outputs": [
    {
     "name": "stdout",
     "output_type": "stream",
     "text": [
      "Loaded 1000 samples from TREC dataset\n"
     ]
    },
    {
     "name": "stderr",
     "output_type": "stream",
     "text": [
      "Loading data:   0%|          | 0/20 [00:00<?, ?it/s]2024-12-09 19:16:29 [INFO] HTTP Request: POST https://api.openai.com/v1/embeddings \"HTTP/1.1 200 OK\"\n",
      "Loading data:   5%|▌         | 1/20 [00:04<01:28,  4.65s/it]2024-12-09 19:16:34 [INFO] HTTP Request: POST https://api.openai.com/v1/embeddings \"HTTP/1.1 200 OK\"\n",
      "Loading data:  10%|█         | 2/20 [00:08<01:17,  4.29s/it]2024-12-09 19:16:38 [INFO] HTTP Request: POST https://api.openai.com/v1/embeddings \"HTTP/1.1 200 OK\"\n",
      "Loading data:  15%|█▌        | 3/20 [00:11<01:01,  3.64s/it]2024-12-09 19:16:41 [INFO] HTTP Request: POST https://api.openai.com/v1/embeddings \"HTTP/1.1 200 OK\"\n",
      "Loading data:  20%|██        | 4/20 [00:14<00:51,  3.23s/it]2024-12-09 19:16:43 [INFO] HTTP Request: POST https://api.openai.com/v1/embeddings \"HTTP/1.1 200 OK\"\n",
      "Loading data:  25%|██▌       | 5/20 [00:16<00:42,  2.85s/it]2024-12-09 19:16:45 [INFO] HTTP Request: POST https://api.openai.com/v1/embeddings \"HTTP/1.1 200 OK\"\n",
      "Loading data:  30%|███       | 6/20 [00:18<00:36,  2.62s/it]2024-12-09 19:16:48 [INFO] HTTP Request: POST https://api.openai.com/v1/embeddings \"HTTP/1.1 200 OK\"\n",
      "Loading data:  35%|███▌      | 7/20 [00:21<00:33,  2.58s/it]2024-12-09 19:16:50 [INFO] HTTP Request: POST https://api.openai.com/v1/embeddings \"HTTP/1.1 200 OK\"\n",
      "Loading data:  40%|████      | 8/20 [00:23<00:30,  2.51s/it]2024-12-09 19:16:53 [INFO] HTTP Request: POST https://api.openai.com/v1/embeddings \"HTTP/1.1 200 OK\"\n",
      "Loading data:  45%|████▌     | 9/20 [00:25<00:27,  2.52s/it]2024-12-09 19:16:55 [INFO] HTTP Request: POST https://api.openai.com/v1/embeddings \"HTTP/1.1 200 OK\"\n",
      "Loading data:  50%|█████     | 10/20 [00:28<00:24,  2.46s/it]2024-12-09 19:16:57 [INFO] HTTP Request: POST https://api.openai.com/v1/embeddings \"HTTP/1.1 200 OK\"\n",
      "Loading data:  55%|█████▌    | 11/20 [00:30<00:21,  2.37s/it]2024-12-09 19:16:59 [INFO] HTTP Request: POST https://api.openai.com/v1/embeddings \"HTTP/1.1 200 OK\"\n",
      "Loading data:  60%|██████    | 12/20 [00:32<00:17,  2.23s/it]2024-12-09 19:17:02 [INFO] HTTP Request: POST https://api.openai.com/v1/embeddings \"HTTP/1.1 200 OK\"\n",
      "Loading data:  65%|██████▌   | 13/20 [00:35<00:16,  2.37s/it]2024-12-09 19:17:04 [INFO] HTTP Request: POST https://api.openai.com/v1/embeddings \"HTTP/1.1 200 OK\"\n",
      "Loading data:  70%|███████   | 14/20 [00:37<00:14,  2.38s/it]2024-12-09 19:17:07 [INFO] HTTP Request: POST https://api.openai.com/v1/embeddings \"HTTP/1.1 200 OK\"\n",
      "Loading data:  75%|███████▌  | 15/20 [00:39<00:11,  2.38s/it]2024-12-09 19:17:09 [INFO] HTTP Request: POST https://api.openai.com/v1/embeddings \"HTTP/1.1 200 OK\"\n",
      "Loading data:  80%|████████  | 16/20 [00:42<00:09,  2.47s/it]2024-12-09 19:17:12 [INFO] HTTP Request: POST https://api.openai.com/v1/embeddings \"HTTP/1.1 200 OK\"\n",
      "Loading data:  85%|████████▌ | 17/20 [00:44<00:06,  2.26s/it]2024-12-09 19:17:13 [INFO] HTTP Request: POST https://api.openai.com/v1/embeddings \"HTTP/1.1 200 OK\"\n",
      "Loading data:  90%|█████████ | 18/20 [00:46<00:04,  2.31s/it]2024-12-09 19:17:16 [INFO] HTTP Request: POST https://api.openai.com/v1/embeddings \"HTTP/1.1 200 OK\"\n",
      "Loading data:  95%|█████████▌| 19/20 [00:48<00:02,  2.30s/it]2024-12-09 19:17:18 [INFO] HTTP Request: POST https://api.openai.com/v1/embeddings \"HTTP/1.1 200 OK\"\n",
      "Loading data: 100%|██████████| 20/20 [00:51<00:00,  2.57s/it]"
     ]
    },
    {
     "name": "stdout",
     "output_type": "stream",
     "text": [
      "Sample data loaded into vector store\n"
     ]
    },
    {
     "name": "stderr",
     "output_type": "stream",
     "text": [
      "\n"
     ]
    }
   ],
   "source": [
    "# Load TREC dataset\n",
    "trec = load_dataset('trec', split='train[:1000]')\n",
    "print(f\"Loaded {len(trec)} samples from TREC dataset\")\n",
    "\n",
    "# Add documents in batches\n",
    "batch_size = 50\n",
    "for i in tqdm(range(0, len(trec['text']), batch_size), desc=\"Loading data\"):\n",
    "    batch = trec['text'][i:i + batch_size]\n",
    "    documents = [Document(page_content=text) for text in batch]\n",
    "    uuids = [str(uuid4()) for _ in range(len(documents))]\n",
    "    vector_store.add_documents(documents=documents, ids=uuids)\n",
    "\n",
    "print(\"Sample data loaded into vector store\")"
   ]
  },
  {
   "cell_type": "markdown",
   "metadata": {},
   "source": [
    "# Creating Vector Search Tool\n",
    "\n",
    "Create a tool for performing vector searches."
   ]
  },
  {
   "cell_type": "code",
   "execution_count": 9,
   "metadata": {},
   "outputs": [
    {
     "name": "stdout",
     "output_type": "stream",
     "text": [
      "Vector search tool created\n"
     ]
    }
   ],
   "source": [
    "# Create vector search tool\n",
    "search_tool = Tool(\n",
    "    name=\"vector_search\",\n",
    "    func=lambda query: \"\\n\\n\".join([\n",
    "        f\"Document {i+1}:\\n{'-'*40}\\n{doc.page_content}\"\n",
    "        for i, doc in enumerate(vector_store.similarity_search(\n",
    "            query if isinstance(query, str) else str(query.get('query', '')),\n",
    "            k=8,\n",
    "            fetch_k=20\n",
    "        ))\n",
    "    ]),\n",
    "    description=\"\"\"Search for relevant documents using vector similarity.\n",
    "    Input should be a simple text query string.\n",
    "    Returns a list of relevant document contents with metadata.\n",
    "    Use this tool to find detailed information about topics.\"\"\"\n",
    ")\n",
    "\n",
    "print(\"Vector search tool created\")"
   ]
  },
  {
   "cell_type": "markdown",
   "metadata": {},
   "source": [
    "# Creating CrewAI Agents\n",
    "\n",
    "Create specialized agents for research and writing tasks."
   ]
  },
  {
   "cell_type": "code",
   "execution_count": 10,
   "metadata": {},
   "outputs": [
    {
     "name": "stdout",
     "output_type": "stream",
     "text": [
      "Agents created successfully\n"
     ]
    }
   ],
   "source": [
    "# Custom response template\n",
    "response_template = \"\"\"\n",
    "Analysis Results\n",
    "===============\n",
    "{%- if .Response %}\n",
    "{{ .Response }}\n",
    "{%- endif %}\n",
    "\n",
    "Sources\n",
    "=======\n",
    "{%- for tool in .Tools %}\n",
    "* {{ tool.name }}\n",
    "{%- endfor %}\n",
    "\n",
    "Metadata\n",
    "========\n",
    "* Confidence: {{ .Confidence }}\n",
    "* Analysis Time: {{ .ExecutionTime }}\n",
    "\"\"\"\n",
    "\n",
    "# Create research agent\n",
    "researcher = Agent(\n",
    "    role='Research Expert',\n",
    "    goal='Find and analyze the most relevant documents to answer user queries accurately',\n",
    "    backstory=\"\"\"You are an expert researcher with deep knowledge in information retrieval \n",
    "    and analysis. Your expertise lies in finding, evaluating, and synthesizing information \n",
    "    from various sources. You have a keen eye for detail and can identify key insights \n",
    "    from complex documents. You always verify information across multiple sources and \n",
    "    provide comprehensive, accurate analyses.\"\"\",\n",
    "    tools=[search_tool],\n",
    "    llm=llm,\n",
    "    verbose=True,\n",
    "    memory=True,\n",
    "    allow_delegation=False,\n",
    "    response_template=response_template\n",
    ")\n",
    "\n",
    "# Create writer agent\n",
    "writer = Agent(\n",
    "    role='Technical Writer',\n",
    "    goal='Generate clear, accurate, and well-structured responses based on research findings',\n",
    "    backstory=\"\"\"You are a skilled technical writer with expertise in making complex \n",
    "    information accessible and engaging. You excel at organizing information logically, \n",
    "    explaining technical concepts clearly, and creating well-structured documents. You \n",
    "    ensure all information is properly cited, accurate, and presented in a user-friendly \n",
    "    manner. You have a talent for maintaining the reader's interest while conveying \n",
    "    detailed technical information.\"\"\",\n",
    "    llm=llm,\n",
    "    verbose=True,\n",
    "    memory=True,\n",
    "    allow_delegation=False,\n",
    "    response_template=response_template\n",
    ")\n",
    "\n",
    "print(\"Agents created successfully\")"
   ]
  },
  {
   "cell_type": "markdown",
   "metadata": {},
   "source": [
    "# Testing the Search System\n",
    "\n",
    "Test the system with some example queries."
   ]
  },
  {
   "cell_type": "code",
   "execution_count": 11,
   "metadata": {},
   "outputs": [],
   "source": [
    "def process_query(query, researcher, writer):\n",
    "    print(f\"\\nQuery: {query}\")\n",
    "    print(\"-\" * 80)\n",
    "    \n",
    "    # Create tasks\n",
    "    research_task = Task(\n",
    "        description=f\"Research and analyze information relevant to: {query}\",\n",
    "        agent=researcher,\n",
    "        expected_output=\"A detailed analysis with key findings and supporting evidence\"\n",
    "    )\n",
    "    \n",
    "    writing_task = Task(\n",
    "        description=\"Create a comprehensive and well-structured response\",\n",
    "        agent=writer,\n",
    "        expected_output=\"A clear, comprehensive response that answers the query\",\n",
    "        context=[research_task]\n",
    "    )\n",
    "    \n",
    "    # Create and execute crew\n",
    "    crew = Crew(\n",
    "        agents=[researcher, writer],\n",
    "        tasks=[research_task, writing_task],\n",
    "        process=Process.sequential,\n",
    "        verbose=True,\n",
    "        cache=True,\n",
    "        planning=True\n",
    "    )\n",
    "    \n",
    "    try:\n",
    "        start_time = time.time()\n",
    "        result = crew.kickoff()\n",
    "        elapsed_time = time.time() - start_time\n",
    "        \n",
    "        print(f\"\\nQuery completed in {elapsed_time:.2f} seconds\")\n",
    "        print(\"=\" * 80)\n",
    "        print(\"RESPONSE\")\n",
    "        print(\"=\" * 80)\n",
    "        print(result)\n",
    "        \n",
    "        if hasattr(result, 'tasks_output'):\n",
    "            print(\"\\n\" + \"=\" * 80)\n",
    "            print(\"DETAILED TASK OUTPUTS\")\n",
    "            print(\"=\" * 80)\n",
    "            for task_output in result.tasks_output:\n",
    "                print(f\"\\nTask: {task_output.description[:100]}...\")\n",
    "                print(\"-\" * 40)\n",
    "                print(f\"Output: {task_output.raw}\")\n",
    "                print(\"-\" * 40)\n",
    "    except Exception as e:\n",
    "        print(f\"Error executing crew: {str(e)}\")\n",
    "        logging.error(f\"Crew execution failed: {str(e)}\", exc_info=True)"
   ]
  },
  {
   "cell_type": "code",
   "execution_count": 12,
   "metadata": {},
   "outputs": [
    {
     "name": "stderr",
     "output_type": "stream",
     "text": [
      "\u001b[92m19:17:20 - LiteLLM:INFO\u001b[0m: utils.py:2741 - \n",
      "LiteLLM completion() model= gpt-4o-mini; provider = openai\n",
      "2024-12-09 19:17:20 [INFO] \n",
      "LiteLLM completion() model= gpt-4o-mini; provider = openai\n"
     ]
    },
    {
     "name": "stdout",
     "output_type": "stream",
     "text": [
      "\n",
      "Query: What caused the 1929 Great Depression?\n",
      "--------------------------------------------------------------------------------\n",
      "\u001b[1m\u001b[93m \n",
      "[2024-12-09 19:17:20][INFO]: Planning the crew execution\u001b[00m\n"
     ]
    },
    {
     "name": "stderr",
     "output_type": "stream",
     "text": [
      "2024-12-09 19:17:28 [INFO] HTTP Request: POST https://api.openai.com/v1/chat/completions \"HTTP/1.1 200 OK\"\n",
      "\u001b[92m19:17:28 - LiteLLM:INFO\u001b[0m: utils.py:890 - Wrapper: Completed Call, calling success_handler\n",
      "2024-12-09 19:17:28 [INFO] Wrapper: Completed Call, calling success_handler\n",
      "\u001b[92m19:17:28 - LiteLLM:INFO\u001b[0m: utils.py:2741 - \n",
      "LiteLLM completion() model= gpt-4o; provider = openai\n",
      "2024-12-09 19:17:28 [INFO] \n",
      "LiteLLM completion() model= gpt-4o; provider = openai\n"
     ]
    },
    {
     "name": "stdout",
     "output_type": "stream",
     "text": [
      "\u001b[1m\u001b[95m# Agent:\u001b[00m \u001b[1m\u001b[92mResearch Expert\u001b[00m\n",
      "\u001b[95m## Task:\u001b[00m \u001b[92mResearch and analyze information relevant to: What caused the 1929 Great Depression?1. Begin by formulating a clear and specific query to guide the research. Example query: 'causes of the 1929 Great Depression.' 2. Utilize the vector_search tool to input the query, ensuring that it captures the essence of the task by entering it in the query field accurately. 3. Execute the vector_search tool, which will initiate a search for relevant documents concerning the 1929 Great Depression. Review the returned list of documents and metadata for quality and relevance. 4. Identify and select the most pertinent documents that provide insights into the economic, social, and political factors that contributed to the Great Depression. 5. Analyze the contents of these documents for key findings, such as stock market speculation, bank failures, and decline in consumer spending. 6. Organize the information systematically, highlighting relationships between the various causes and their impacts. 7. Prepare a detailed analysis that includes context, comparisons to other economic events, and specific evidence from the documents. 8. Ensure that the analysis is thorough and addresses sub-questions related to the primary query, such as the role of government policies and international influences.\u001b[00m\n"
     ]
    },
    {
     "name": "stderr",
     "output_type": "stream",
     "text": [
      "2024-12-09 19:17:29 [INFO] HTTP Request: POST https://api.openai.com/v1/chat/completions \"HTTP/1.1 200 OK\"\n",
      "\u001b[92m19:17:29 - LiteLLM:INFO\u001b[0m: utils.py:890 - Wrapper: Completed Call, calling success_handler\n",
      "2024-12-09 19:17:29 [INFO] Wrapper: Completed Call, calling success_handler\n",
      "2024-12-09 19:17:30 [INFO] HTTP Request: POST https://api.openai.com/v1/embeddings \"HTTP/1.1 200 OK\"\n",
      "\u001b[92m19:17:31 - LiteLLM:INFO\u001b[0m: utils.py:2741 - \n",
      "LiteLLM completion() model= gpt-4o; provider = openai\n",
      "2024-12-09 19:17:31 [INFO] \n",
      "LiteLLM completion() model= gpt-4o; provider = openai\n"
     ]
    },
    {
     "name": "stdout",
     "output_type": "stream",
     "text": [
      "\n",
      "\n",
      "\u001b[1m\u001b[95m# Agent:\u001b[00m \u001b[1m\u001b[92mResearch Expert\u001b[00m\n",
      "\u001b[95m## Thought:\u001b[00m \u001b[92mI need to perform a search to find relevant documents about the causes of the 1929 Great Depression. This will involve using the vector_search tool with a clear and specific query.\u001b[00m\n",
      "\u001b[95m## Using tool:\u001b[00m \u001b[92mvector_search\u001b[00m\n",
      "\u001b[95m## Tool Input:\u001b[00m \u001b[92m\n",
      "\"{\\\"query\\\": \\\"causes of the 1929 Great Depression\\\"}\"\u001b[00m\n",
      "\u001b[95m## Tool Output:\u001b[00m \u001b[92m\n",
      "Document 1:\n",
      "----------------------------------------\n",
      "Why did the world enter a global depression in 1929 ?\n",
      "\n",
      "Document 2:\n",
      "----------------------------------------\n",
      "When was `` the Great Depression '' ?\n",
      "\n",
      "Document 3:\n",
      "----------------------------------------\n",
      "What crop failure caused the Irish Famine ?\n",
      "\n",
      "Document 4:\n",
      "----------------------------------------\n",
      "What were popular songs and types of songs in the 1920s ?\n",
      "\n",
      "Document 5:\n",
      "----------------------------------------\n",
      "What historical event happened in Dogtown in 1899 ?\n",
      "\n",
      "Document 6:\n",
      "----------------------------------------\n",
      "When was the first Wall Street Journal published ?\n",
      "\n",
      "Document 7:\n",
      "----------------------------------------\n",
      "What are some of the significant historical events of the 1990s ?\n",
      "\n",
      "Document 8:\n",
      "----------------------------------------\n",
      "What causes pneumonia ?\u001b[00m\n"
     ]
    },
    {
     "name": "stderr",
     "output_type": "stream",
     "text": [
      "2024-12-09 19:17:33 [INFO] HTTP Request: POST https://api.openai.com/v1/chat/completions \"HTTP/1.1 200 OK\"\n",
      "\u001b[92m19:17:33 - LiteLLM:INFO\u001b[0m: utils.py:890 - Wrapper: Completed Call, calling success_handler\n",
      "2024-12-09 19:17:33 [INFO] Wrapper: Completed Call, calling success_handler\n",
      "2024-12-09 19:17:33 [INFO] HTTP Request: POST https://api.openai.com/v1/embeddings \"HTTP/1.1 200 OK\"\n",
      "\u001b[92m19:17:34 - LiteLLM:INFO\u001b[0m: utils.py:2741 - \n",
      "LiteLLM completion() model= gpt-4o; provider = openai\n",
      "2024-12-09 19:17:34 [INFO] \n",
      "LiteLLM completion() model= gpt-4o; provider = openai\n"
     ]
    },
    {
     "name": "stdout",
     "output_type": "stream",
     "text": [
      "\n",
      "\n",
      "\u001b[1m\u001b[95m# Agent:\u001b[00m \u001b[1m\u001b[92mResearch Expert\u001b[00m\n",
      "\u001b[95m## Thought:\u001b[00m \u001b[92mThe search results did not return any relevant documents specifically addressing the causes of the 1929 Great Depression. I need to refine my search query or attempt the search again to ensure we find detailed documents that answer the query accurately.\u001b[00m\n",
      "\u001b[95m## Using tool:\u001b[00m \u001b[92mvector_search\u001b[00m\n",
      "\u001b[95m## Tool Input:\u001b[00m \u001b[92m\n",
      "\"{\\\"query\\\": \\\"economic and political factors of the 1929 Great Depression\\\"}\"\u001b[00m\n",
      "\u001b[95m## Tool Output:\u001b[00m \u001b[92m\n",
      "Document 1:\n",
      "----------------------------------------\n",
      "Why did the world enter a global depression in 1929 ?\n",
      "\n",
      "Document 2:\n",
      "----------------------------------------\n",
      "When was `` the Great Depression '' ?\n",
      "\n",
      "Document 3:\n",
      "----------------------------------------\n",
      "What do economists do ?\n",
      "\n",
      "Document 4:\n",
      "----------------------------------------\n",
      "What are some of the significant historical events of the 1990s ?\n",
      "\n",
      "Document 5:\n",
      "----------------------------------------\n",
      "What were popular songs and types of songs in the 1920s ?\n",
      "\n",
      "Document 6:\n",
      "----------------------------------------\n",
      "What crop failure caused the Irish Famine ?\n",
      "\n",
      "Document 7:\n",
      "----------------------------------------\n",
      "When was the first Wall Street Journal published ?\n",
      "\n",
      "Document 8:\n",
      "----------------------------------------\n",
      "When did the Dow first reach ?\u001b[00m\n"
     ]
    },
    {
     "name": "stderr",
     "output_type": "stream",
     "text": [
      "2024-12-09 19:17:36 [INFO] HTTP Request: POST https://api.openai.com/v1/chat/completions \"HTTP/1.1 200 OK\"\n",
      "\u001b[92m19:17:36 - LiteLLM:INFO\u001b[0m: utils.py:890 - Wrapper: Completed Call, calling success_handler\n",
      "2024-12-09 19:17:36 [INFO] Wrapper: Completed Call, calling success_handler\n",
      "2024-12-09 19:17:36 [INFO] HTTP Request: POST https://api.openai.com/v1/embeddings \"HTTP/1.1 200 OK\"\n",
      "\u001b[92m19:17:38 - LiteLLM:INFO\u001b[0m: utils.py:2741 - \n",
      "LiteLLM completion() model= gpt-4o; provider = openai\n",
      "2024-12-09 19:17:38 [INFO] \n",
      "LiteLLM completion() model= gpt-4o; provider = openai\n"
     ]
    },
    {
     "name": "stdout",
     "output_type": "stream",
     "text": [
      "\n",
      "\n",
      "\u001b[1m\u001b[95m# Agent:\u001b[00m \u001b[1m\u001b[92mResearch Expert\u001b[00m\n",
      "\u001b[95m## Thought:\u001b[00m \u001b[92mThe search results still do not provide relevant documents concerning the specific causes of the 1929 Great Depression. I'll attempt another search, focusing explicitly on the economic, social, and political factors that contributed to the Great Depression in 1929.\u001b[00m\n",
      "\u001b[95m## Using tool:\u001b[00m \u001b[92mvector_search\u001b[00m\n",
      "\u001b[95m## Tool Input:\u001b[00m \u001b[92m\n",
      "\"{\\\"query\\\": \\\"economic causes of 1929 Great Depression\\\"}\"\u001b[00m\n",
      "\u001b[95m## Tool Output:\u001b[00m \u001b[92m\n",
      "Document 1:\n",
      "----------------------------------------\n",
      "Why did the world enter a global depression in 1929 ?\n",
      "\n",
      "Document 2:\n",
      "----------------------------------------\n",
      "When was `` the Great Depression '' ?\n",
      "\n",
      "Document 3:\n",
      "----------------------------------------\n",
      "What do economists do ?\n",
      "\n",
      "Document 4:\n",
      "----------------------------------------\n",
      "What crop failure caused the Irish Famine ?\n",
      "\n",
      "Document 5:\n",
      "----------------------------------------\n",
      "What were popular songs and types of songs in the 1920s ?\n",
      "\n",
      "Document 6:\n",
      "----------------------------------------\n",
      "When was the first Wall Street Journal published ?\n",
      "\n",
      "Document 7:\n",
      "----------------------------------------\n",
      "What are some of the significant historical events of the 1990s ?\n",
      "\n",
      "Document 8:\n",
      "----------------------------------------\n",
      "When did the Dow first reach ?\n",
      "\n",
      "\n",
      "You ONLY have access to the following tools, and should NEVER make up tools that are not listed here:\n",
      "\n",
      "Tool Name: vector_search\n",
      "Tool Arguments: {'query': {'description': '', 'type': 'Any'}}\n",
      "Tool Description: Search for relevant documents using vector similarity.\n",
      "    Input should be a simple text query string.\n",
      "    Returns a list of relevant document contents with metadata.\n",
      "    Use this tool to find detailed information about topics.\n",
      "\n",
      "Use the following format:\n",
      "\n",
      "Thought: you should always think about what to do\n",
      "Action: the action to take, only one name of [vector_search], just the name, exactly as it's written.\n",
      "Action Input: the input to the action, just a simple python dictionary, enclosed in curly braces, using \" to wrap keys and values.\n",
      "Observation: the result of the action\n",
      "\n",
      "Once all necessary information is gathered:\n",
      "\n",
      "Thought: I now know the final answer\n",
      "Final Answer: the final answer to the original input question\n",
      "\u001b[00m\n"
     ]
    },
    {
     "name": "stderr",
     "output_type": "stream",
     "text": [
      "2024-12-09 19:17:39 [INFO] HTTP Request: POST https://api.openai.com/v1/chat/completions \"HTTP/1.1 200 OK\"\n",
      "\u001b[92m19:17:39 - LiteLLM:INFO\u001b[0m: utils.py:890 - Wrapper: Completed Call, calling success_handler\n",
      "2024-12-09 19:17:39 [INFO] Wrapper: Completed Call, calling success_handler\n",
      "2024-12-09 19:17:40 [INFO] HTTP Request: POST https://api.openai.com/v1/embeddings \"HTTP/1.1 200 OK\"\n",
      "\u001b[92m19:17:41 - LiteLLM:INFO\u001b[0m: utils.py:2741 - \n",
      "LiteLLM completion() model= gpt-4o; provider = openai\n",
      "2024-12-09 19:17:41 [INFO] \n",
      "LiteLLM completion() model= gpt-4o; provider = openai\n"
     ]
    },
    {
     "name": "stdout",
     "output_type": "stream",
     "text": [
      "\n",
      "\n",
      "\u001b[1m\u001b[95m# Agent:\u001b[00m \u001b[1m\u001b[92mResearch Expert\u001b[00m\n",
      "\u001b[95m## Thought:\u001b[00m \u001b[92mThe search results are still not providing the relevant information needed to address the causes of the 1929 Great Depression. I need to refine the search query further to capture more specific aspects of the Great Depression. I will try a more focused search query.\u001b[00m\n",
      "\u001b[95m## Using tool:\u001b[00m \u001b[92mvector_search\u001b[00m\n",
      "\u001b[95m## Tool Input:\u001b[00m \u001b[92m\n",
      "\"{\\\"query\\\": \\\"factors leading to the 1929 stock market crash and Great Depression\\\"}\"\u001b[00m\n",
      "\u001b[95m## Tool Output:\u001b[00m \u001b[92m\n",
      "Document 1:\n",
      "----------------------------------------\n",
      "Why did the world enter a global depression in 1929 ?\n",
      "\n",
      "Document 2:\n",
      "----------------------------------------\n",
      "When was `` the Great Depression '' ?\n",
      "\n",
      "Document 3:\n",
      "----------------------------------------\n",
      "What are bear and bull markets ?\n",
      "\n",
      "Document 4:\n",
      "----------------------------------------\n",
      "What animals do you find in the stock market ?\n",
      "\n",
      "Document 5:\n",
      "----------------------------------------\n",
      "When did the Dow first reach ?\n",
      "\n",
      "Document 6:\n",
      "----------------------------------------\n",
      "When was the first Wall Street Journal published ?\n",
      "\n",
      "Document 7:\n",
      "----------------------------------------\n",
      "What were popular songs and types of songs in the 1920s ?\n",
      "\n",
      "Document 8:\n",
      "----------------------------------------\n",
      "What crop failure caused the Irish Famine ?\u001b[00m\n"
     ]
    },
    {
     "name": "stderr",
     "output_type": "stream",
     "text": [
      "2024-12-09 19:17:47 [INFO] HTTP Request: POST https://api.openai.com/v1/chat/completions \"HTTP/1.1 200 OK\"\n",
      "\u001b[92m19:17:47 - LiteLLM:INFO\u001b[0m: utils.py:890 - Wrapper: Completed Call, calling success_handler\n",
      "2024-12-09 19:17:47 [INFO] Wrapper: Completed Call, calling success_handler\n",
      "\u001b[92m19:17:47 - LiteLLM:INFO\u001b[0m: utils.py:2741 - \n",
      "LiteLLM completion() model= gpt-4o; provider = openai\n",
      "2024-12-09 19:17:47 [INFO] \n",
      "LiteLLM completion() model= gpt-4o; provider = openai\n"
     ]
    },
    {
     "name": "stdout",
     "output_type": "stream",
     "text": [
      "\n",
      "\n",
      "\u001b[1m\u001b[95m# Agent:\u001b[00m \u001b[1m\u001b[92mResearch Expert\u001b[00m\n",
      "\u001b[95m## Final Answer:\u001b[00m \u001b[92m\n",
      "The 1929 Great Depression was caused by a combination of factors, including:\n",
      "\n",
      "1. **Stock Market Crash of 1929**: The crash in October 1929 is often cited as the immediate trigger that contributed to the economic downturn. Speculation had driven up stock prices to unsustainable levels, leading to a massive sell-off when confidence dropped.\n",
      "\n",
      "2. **Bank Failures**: During the 1920s, banks operated without regulations that are in place today, leading to risky banking practices. After the crash, many banks failed as they could not return depositors' money, leading to a loss of savings and further reduction in consumer spending.\n",
      "\n",
      "3. **Reduction in Consumer Spending**: With the loss of wealth and savings, consumer spending plummeted, leading to a decrease in production and, consequently, a rise in unemployment.\n",
      "\n",
      "4. **International Trade Decline**: The introduction of the Smoot-Hawley Tariff in 1930, which raised tariffs on imported goods, led to a decrease in international trade and worsened the global economic situation.\n",
      "\n",
      "5. **Drought Conditions**: The agricultural sector was hit by droughts during the early 1930s, exacerbating the economic situation for farmers and leading to further declines in production and employment.\n",
      "\n",
      "These factors, among others, interacted in complex ways to deepen and prolong the Great Depression.\n",
      "\n",
      "Unfortunately, without access to detailed documents through the search tool, this overview is based on a broader historical understanding rather than specific synthesized insights from new sources.\u001b[00m\n",
      "\n",
      "\n",
      "\u001b[1m\u001b[95m# Agent:\u001b[00m \u001b[1m\u001b[92mTechnical Writer\u001b[00m\n",
      "\u001b[95m## Task:\u001b[00m \u001b[92mCreate a comprehensive and well-structured response1. Gather all the analyzed information and key findings prepared in the previous task regarding the causes of the 1929 Great Depression. 2. Create an outline for the response, structuring it into logical sections such as Introduction, Key Causes, Supporting Evidence, and Conclusion. 3. Begin writing the Introduction, summarizing the overall impact of the Great Depression and its significance in American history. 4. In the Key Causes section, detail each identified cause, providing specific explanations for each, supported by evidence from the research conducted. 5. Use clear and concise language throughout the writing process to ensure that the response is accessible to a wide audience. 6. In the Supporting Evidence section, present detailed statistics, quotes from historical figures, and relevant examples that underline the points made in the Key Causes section. 7. Conclude the response by summarizing the main findings, emphasizing the interconnectedness of the causes presented, and their long-term effects on the economy. 8. Review the document thoroughly for coherence, clarity, and grammatical accuracy before submission to ensure a polished and professional final output.\u001b[00m\n"
     ]
    },
    {
     "name": "stderr",
     "output_type": "stream",
     "text": [
      "2024-12-09 19:18:01 [INFO] HTTP Request: POST https://api.openai.com/v1/chat/completions \"HTTP/1.1 200 OK\"\n",
      "\u001b[92m19:18:01 - LiteLLM:INFO\u001b[0m: utils.py:890 - Wrapper: Completed Call, calling success_handler\n",
      "2024-12-09 19:18:01 [INFO] Wrapper: Completed Call, calling success_handler\n"
     ]
    },
    {
     "name": "stdout",
     "output_type": "stream",
     "text": [
      "\n",
      "\n",
      "\u001b[1m\u001b[95m# Agent:\u001b[00m \u001b[1m\u001b[92mTechnical Writer\u001b[00m\n",
      "\u001b[95m## Final Answer:\u001b[00m \u001b[92m\n",
      "**Outline for the Response on the Causes of the 1929 Great Depression**  \n",
      "\n",
      "1. **Introduction**  \n",
      "   - Overview of the Great Depression  \n",
      "   - Significance in American history  \n",
      "\n",
      "2. **Key Causes**  \n",
      "   - Stock Market Crash of 1929  \n",
      "   - Bank Failures  \n",
      "   - Reduction in Consumer Spending  \n",
      "   - International Trade Decline  \n",
      "   - Drought Conditions  \n",
      "\n",
      "3. **Supporting Evidence**  \n",
      "   - Statistics  \n",
      "   - Quotes from historical figures  \n",
      "   - Relevant examples  \n",
      "\n",
      "4. **Conclusion**  \n",
      "   - Summary of main findings  \n",
      "   - Emphasis on interconnectedness of causes  \n",
      "   - Long-term effects on the economy  \n",
      "\n",
      "**Introduction**  \n",
      "The Great Depression, which began in 1929, was a catastrophic economic downturn that had profound and lasting impacts on the United States and the global economy. It is often regarded as one of the most severe economic crises in American history, leading to widespread unemployment, poverty, and a significant change in government policy. Understanding the causes of the Great Depression is crucial as it provides insights into the vulnerabilities of economic systems and informs current economic policies to prevent similar crises.  \n",
      "\n",
      "**Key Causes**  \n",
      "\n",
      "1. **Stock Market Crash of 1929**  \n",
      "   The stock market crash in October 1929 is frequently identified as the immediate trigger of the Great Depression. The 1920s saw a speculative boom where stock prices soared to exorbitant levels, driven by widespread speculation. When investor confidence waned, a rapid sell-off ensued, resulting in a market collapse that wiped out significant wealth and destabilized the economy.  \n",
      "\n",
      "2. **Bank Failures**  \n",
      "   During the 1920s, the banking sector in the United States operated with minimal regulation, which led to precarious banking practices. After the stock market crashed, banks faced massive withdrawals that they could not fulfill, resulting in widespread bank failures. This cascade effect led to the loss of savings for many Americans, further diminishing consumer confidence and spending.  \n",
      "\n",
      "3. **Reduction in Consumer Spending**  \n",
      "   The loss of wealth from the stock market crash and bank failures led to a sharp decline in consumer spending. As consumption dropped, businesses experienced reduced demand for goods and services, prompting a cut in production and leading to rising unemployment. This cycle of reduced spending and increasing unemployment further entrenched the economic downturn.  \n",
      "\n",
      "4. **International Trade Decline**  \n",
      "   In an attempt to protect American industries, the U.S. government enacted the Smoot-Hawley Tariff in 1930, significantly raising tariffs on imported goods. This protectionist policy led to retaliation from other countries, resulting in a dramatic decline in international trade. The reduction in global trade compounded the economic woes, as export markets for American goods shrank.  \n",
      "\n",
      "5. **Drought Conditions**  \n",
      "   The agricultural sector, already weakened by low prices and high debt, was devastated by severe droughts in the early 1930s. The droughts worsened the plight of farmers, leading to further declines in agricultural production and employment. The rural economy, heavily reliant on agriculture, suffered greatly, contributing to the broader economic depression.  \n",
      "\n",
      "**Supporting Evidence**  \n",
      "Statistics from the era highlight the severity of the Great Depression, such as the unemployment rate reaching approximately 25% in the United States by 1933. Notable quotes from historical figures, like Herbert Hoover, who stated, \"The fundamental business of the country...is on a sound and prosperous basis,\" reflect the initial underestimation of the crisis's severity.  \n",
      "\n",
      "Moreover, examples such as the Dust Bowl illustrate the compounded effects of environmental and economic factors on the agricultural sector, exacerbating the Great Depression's impact on rural communities.  \n",
      "\n",
      "**Conclusion**  \n",
      "The Great Depression was the result of a confluence of factors, each contributing to the depth and duration of the crisis. The stock market crash, bank failures, reduced consumer spending, decline in international trade, and drought conditions interacted in complex ways, deepening the economic downturn. The interconnectedness of these causes highlights the vulnerabilities in the economic system of the time. The Great Depression had long-term effects on the economy, leading to significant changes in government policy and the implementation of safeguards to prevent future economic disasters. Understanding these causes helps us appreciate the importance of robust economic policies and the need for vigilance in maintaining financial stability.  \n",
      "\n",
      "This comprehensive analysis of the Great Depression's causes offers valuable insights into the dynamics of economic crises and underscores the importance of learning from history to avert similar occurrences in the future.\u001b[00m\n",
      "\n",
      "\n",
      "\n",
      "Query completed in 41.01 seconds\n",
      "================================================================================\n",
      "RESPONSE\n",
      "================================================================================\n",
      "**Outline for the Response on the Causes of the 1929 Great Depression**  \n",
      "\n",
      "1. **Introduction**  \n",
      "   - Overview of the Great Depression  \n",
      "   - Significance in American history  \n",
      "\n",
      "2. **Key Causes**  \n",
      "   - Stock Market Crash of 1929  \n",
      "   - Bank Failures  \n",
      "   - Reduction in Consumer Spending  \n",
      "   - International Trade Decline  \n",
      "   - Drought Conditions  \n",
      "\n",
      "3. **Supporting Evidence**  \n",
      "   - Statistics  \n",
      "   - Quotes from historical figures  \n",
      "   - Relevant examples  \n",
      "\n",
      "4. **Conclusion**  \n",
      "   - Summary of main findings  \n",
      "   - Emphasis on interconnectedness of causes  \n",
      "   - Long-term effects on the economy  \n",
      "\n",
      "**Introduction**  \n",
      "The Great Depression, which began in 1929, was a catastrophic economic downturn that had profound and lasting impacts on the United States and the global economy. It is often regarded as one of the most severe economic crises in American history, leading to widespread unemployment, poverty, and a significant change in government policy. Understanding the causes of the Great Depression is crucial as it provides insights into the vulnerabilities of economic systems and informs current economic policies to prevent similar crises.  \n",
      "\n",
      "**Key Causes**  \n",
      "\n",
      "1. **Stock Market Crash of 1929**  \n",
      "   The stock market crash in October 1929 is frequently identified as the immediate trigger of the Great Depression. The 1920s saw a speculative boom where stock prices soared to exorbitant levels, driven by widespread speculation. When investor confidence waned, a rapid sell-off ensued, resulting in a market collapse that wiped out significant wealth and destabilized the economy.  \n",
      "\n",
      "2. **Bank Failures**  \n",
      "   During the 1920s, the banking sector in the United States operated with minimal regulation, which led to precarious banking practices. After the stock market crashed, banks faced massive withdrawals that they could not fulfill, resulting in widespread bank failures. This cascade effect led to the loss of savings for many Americans, further diminishing consumer confidence and spending.  \n",
      "\n",
      "3. **Reduction in Consumer Spending**  \n",
      "   The loss of wealth from the stock market crash and bank failures led to a sharp decline in consumer spending. As consumption dropped, businesses experienced reduced demand for goods and services, prompting a cut in production and leading to rising unemployment. This cycle of reduced spending and increasing unemployment further entrenched the economic downturn.  \n",
      "\n",
      "4. **International Trade Decline**  \n",
      "   In an attempt to protect American industries, the U.S. government enacted the Smoot-Hawley Tariff in 1930, significantly raising tariffs on imported goods. This protectionist policy led to retaliation from other countries, resulting in a dramatic decline in international trade. The reduction in global trade compounded the economic woes, as export markets for American goods shrank.  \n",
      "\n",
      "5. **Drought Conditions**  \n",
      "   The agricultural sector, already weakened by low prices and high debt, was devastated by severe droughts in the early 1930s. The droughts worsened the plight of farmers, leading to further declines in agricultural production and employment. The rural economy, heavily reliant on agriculture, suffered greatly, contributing to the broader economic depression.  \n",
      "\n",
      "**Supporting Evidence**  \n",
      "Statistics from the era highlight the severity of the Great Depression, such as the unemployment rate reaching approximately 25% in the United States by 1933. Notable quotes from historical figures, like Herbert Hoover, who stated, \"The fundamental business of the country...is on a sound and prosperous basis,\" reflect the initial underestimation of the crisis's severity.  \n",
      "\n",
      "Moreover, examples such as the Dust Bowl illustrate the compounded effects of environmental and economic factors on the agricultural sector, exacerbating the Great Depression's impact on rural communities.  \n",
      "\n",
      "**Conclusion**  \n",
      "The Great Depression was the result of a confluence of factors, each contributing to the depth and duration of the crisis. The stock market crash, bank failures, reduced consumer spending, decline in international trade, and drought conditions interacted in complex ways, deepening the economic downturn. The interconnectedness of these causes highlights the vulnerabilities in the economic system of the time. The Great Depression had long-term effects on the economy, leading to significant changes in government policy and the implementation of safeguards to prevent future economic disasters. Understanding these causes helps us appreciate the importance of robust economic policies and the need for vigilance in maintaining financial stability.  \n",
      "\n",
      "This comprehensive analysis of the Great Depression's causes offers valuable insights into the dynamics of economic crises and underscores the importance of learning from history to avert similar occurrences in the future.\n",
      "\n",
      "================================================================================\n",
      "DETAILED TASK OUTPUTS\n",
      "================================================================================\n",
      "\n",
      "Task: Research and analyze information relevant to: What caused the 1929 Great Depression?1. Begin by form...\n",
      "----------------------------------------\n",
      "Output: The 1929 Great Depression was caused by a combination of factors, including:\n",
      "\n",
      "1. **Stock Market Crash of 1929**: The crash in October 1929 is often cited as the immediate trigger that contributed to the economic downturn. Speculation had driven up stock prices to unsustainable levels, leading to a massive sell-off when confidence dropped.\n",
      "\n",
      "2. **Bank Failures**: During the 1920s, banks operated without regulations that are in place today, leading to risky banking practices. After the crash, many banks failed as they could not return depositors' money, leading to a loss of savings and further reduction in consumer spending.\n",
      "\n",
      "3. **Reduction in Consumer Spending**: With the loss of wealth and savings, consumer spending plummeted, leading to a decrease in production and, consequently, a rise in unemployment.\n",
      "\n",
      "4. **International Trade Decline**: The introduction of the Smoot-Hawley Tariff in 1930, which raised tariffs on imported goods, led to a decrease in international trade and worsened the global economic situation.\n",
      "\n",
      "5. **Drought Conditions**: The agricultural sector was hit by droughts during the early 1930s, exacerbating the economic situation for farmers and leading to further declines in production and employment.\n",
      "\n",
      "These factors, among others, interacted in complex ways to deepen and prolong the Great Depression.\n",
      "\n",
      "Unfortunately, without access to detailed documents through the search tool, this overview is based on a broader historical understanding rather than specific synthesized insights from new sources.\n",
      "----------------------------------------\n",
      "\n",
      "Task: Create a comprehensive and well-structured response1. Gather all the analyzed information and key fi...\n",
      "----------------------------------------\n",
      "Output: **Outline for the Response on the Causes of the 1929 Great Depression**  \n",
      "\n",
      "1. **Introduction**  \n",
      "   - Overview of the Great Depression  \n",
      "   - Significance in American history  \n",
      "\n",
      "2. **Key Causes**  \n",
      "   - Stock Market Crash of 1929  \n",
      "   - Bank Failures  \n",
      "   - Reduction in Consumer Spending  \n",
      "   - International Trade Decline  \n",
      "   - Drought Conditions  \n",
      "\n",
      "3. **Supporting Evidence**  \n",
      "   - Statistics  \n",
      "   - Quotes from historical figures  \n",
      "   - Relevant examples  \n",
      "\n",
      "4. **Conclusion**  \n",
      "   - Summary of main findings  \n",
      "   - Emphasis on interconnectedness of causes  \n",
      "   - Long-term effects on the economy  \n",
      "\n",
      "**Introduction**  \n",
      "The Great Depression, which began in 1929, was a catastrophic economic downturn that had profound and lasting impacts on the United States and the global economy. It is often regarded as one of the most severe economic crises in American history, leading to widespread unemployment, poverty, and a significant change in government policy. Understanding the causes of the Great Depression is crucial as it provides insights into the vulnerabilities of economic systems and informs current economic policies to prevent similar crises.  \n",
      "\n",
      "**Key Causes**  \n",
      "\n",
      "1. **Stock Market Crash of 1929**  \n",
      "   The stock market crash in October 1929 is frequently identified as the immediate trigger of the Great Depression. The 1920s saw a speculative boom where stock prices soared to exorbitant levels, driven by widespread speculation. When investor confidence waned, a rapid sell-off ensued, resulting in a market collapse that wiped out significant wealth and destabilized the economy.  \n",
      "\n",
      "2. **Bank Failures**  \n",
      "   During the 1920s, the banking sector in the United States operated with minimal regulation, which led to precarious banking practices. After the stock market crashed, banks faced massive withdrawals that they could not fulfill, resulting in widespread bank failures. This cascade effect led to the loss of savings for many Americans, further diminishing consumer confidence and spending.  \n",
      "\n",
      "3. **Reduction in Consumer Spending**  \n",
      "   The loss of wealth from the stock market crash and bank failures led to a sharp decline in consumer spending. As consumption dropped, businesses experienced reduced demand for goods and services, prompting a cut in production and leading to rising unemployment. This cycle of reduced spending and increasing unemployment further entrenched the economic downturn.  \n",
      "\n",
      "4. **International Trade Decline**  \n",
      "   In an attempt to protect American industries, the U.S. government enacted the Smoot-Hawley Tariff in 1930, significantly raising tariffs on imported goods. This protectionist policy led to retaliation from other countries, resulting in a dramatic decline in international trade. The reduction in global trade compounded the economic woes, as export markets for American goods shrank.  \n",
      "\n",
      "5. **Drought Conditions**  \n",
      "   The agricultural sector, already weakened by low prices and high debt, was devastated by severe droughts in the early 1930s. The droughts worsened the plight of farmers, leading to further declines in agricultural production and employment. The rural economy, heavily reliant on agriculture, suffered greatly, contributing to the broader economic depression.  \n",
      "\n",
      "**Supporting Evidence**  \n",
      "Statistics from the era highlight the severity of the Great Depression, such as the unemployment rate reaching approximately 25% in the United States by 1933. Notable quotes from historical figures, like Herbert Hoover, who stated, \"The fundamental business of the country...is on a sound and prosperous basis,\" reflect the initial underestimation of the crisis's severity.  \n",
      "\n",
      "Moreover, examples such as the Dust Bowl illustrate the compounded effects of environmental and economic factors on the agricultural sector, exacerbating the Great Depression's impact on rural communities.  \n",
      "\n",
      "**Conclusion**  \n",
      "The Great Depression was the result of a confluence of factors, each contributing to the depth and duration of the crisis. The stock market crash, bank failures, reduced consumer spending, decline in international trade, and drought conditions interacted in complex ways, deepening the economic downturn. The interconnectedness of these causes highlights the vulnerabilities in the economic system of the time. The Great Depression had long-term effects on the economy, leading to significant changes in government policy and the implementation of safeguards to prevent future economic disasters. Understanding these causes helps us appreciate the importance of robust economic policies and the need for vigilance in maintaining financial stability.  \n",
      "\n",
      "This comprehensive analysis of the Great Depression's causes offers valuable insights into the dynamics of economic crises and underscores the importance of learning from history to avert similar occurrences in the future.\n",
      "----------------------------------------\n"
     ]
    }
   ],
   "source": [
    "query = \"What caused the 1929 Great Depression?\"\n",
    "process_query(query, researcher, writer)"
   ]
  }
 ],
 "metadata": {
  "kernelspec": {
   "display_name": "Python 3",
   "language": "python",
   "name": "python3"
  },
  "language_info": {
   "codemirror_mode": {
    "name": "ipython",
    "version": 3
   },
   "file_extension": ".py",
   "mimetype": "text/x-python",
   "name": "python",
   "nbconvert_exporter": "python",
   "pygments_lexer": "ipython3",
   "version": "3.11.2"
  }
 },
 "nbformat": 4,
 "nbformat_minor": 4
}
