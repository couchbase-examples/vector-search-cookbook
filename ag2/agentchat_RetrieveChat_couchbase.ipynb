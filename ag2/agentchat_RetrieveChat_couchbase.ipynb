{
  "cells": [
    {
      "cell_type": "markdown",
      "metadata": {
        "id": "M3ram7A9atCG"
      },
      "source": [
        "# Using RetrieveChat Powered by Couchbase Capella for Retrieve Augmented Code Generation and Question Answering"
      ]
    },
    {
      "cell_type": "markdown",
      "metadata": {
        "id": "zRKiJtbnatCI"
      },
      "source": [
        "This tutorial will show you how we've made building Retrieval-Augmented Generation (RAG) applications much easier with [Couchbase](https://www.couchbase.com/) and [AG2](https://ag2.ai/). By leveraging [Couchbase's Search vector index](https://docs.couchbase.com/cloud/vector-search/vector-search.html) for storing and retrieving document embeddings, along with [AG2's powerful AI capabilities](https://docs.ag2.ai/docs/user-guide/basic-concepts/installing-ag2), our integration simplifies the entire process. As part of this tutorial, we'll also build a demo application where an AI agent can answer questions based on documentation links provided for any framework. This hands-on approach will demonstrate how effortlessly you can create intelligent, context-aware AI applications using this integration."
      ]
    },
    {
      "cell_type": "markdown",
      "metadata": {
        "id": "A5-D2ZMEatCI"
      },
      "source": [
        "RetrieveChat is a conversational system for retrieval-augmented code generation and question answering. In this notebook, we demonstrate how to utilize RetrieveChat to generate code and answer questions based on customized documentations that are not present in the LLM's training dataset. RetrieveChat uses the `AssistantAgent` and `RetrieveUserProxyAgent`, which is similar to the usage of `AssistantAgent` and `UserProxyAgent` in other notebooks (e.g., [Automated Task Solving with Code Generation, Execution & Debugging](https://docs.ag2.ai/docs/use-cases/notebooks/notebooks/agentchat_auto_feedback_from_code_execution)). Essentially, `RetrieveUserProxyAgent` implement a different auto-reply mechanism corresponding to the RetrieveChat prompts."
      ]
    },
    {
      "cell_type": "markdown",
      "metadata": {
        "id": "3NAMFr_satCI"
      },
      "source": [
        "Some extra dependencies are needed for this notebook, which can be installed via pip"
      ]
    },
    {
      "cell_type": "code",
      "execution_count": null,
      "metadata": {
        "colab": {
          "background_save": true
        },
        "collapsed": true,
        "id": "xsSOcbEKatCI"
      },
      "outputs": [],
      "source": [
        "!pip install \"pyautogen[openai,retrievechat-couchbase]\" \"flaml[automl]\" couchbase==4.3.3\n",
        "# For more information, please refer to the [installation guide](/docs/installation/)."
      ]
    },
    {
      "cell_type": "markdown",
      "metadata": {
        "id": "h-db_8PTatCJ"
      },
      "source": [
        "## Environment Setup"
      ]
    },
    {
      "cell_type": "markdown",
      "metadata": {
        "id": "S97TpEteatCJ"
      },
      "source": [
        "# Couchbase Capella Setup Instructions\n",
        "\n",
        "Before we proceed with the notebook, we will require a Couchbase Capella Database Cluster running.  \n",
        "\n",
        "## Setting Up a Free Cluster\n",
        "- To set up a free operational cluster, head over to [Couchbase Cloud](https://cloud.couchbase.com) and create an account. There, create a free cluster. For more details on creating a cluster, [refer here](https://docs.couchbase.com/cloud/get-started/create-account.html).  \n",
        "\n",
        "## Creating Required Resources\n",
        "- After creating the cluster, we need to create our required bucket, scope, and collections. Head over to **Data Tools**. On the left-hand side panel, you will find an option to create a bucket. Assign appropriate names for the Bucket, Scope, and Collection. For this tutorial, use the following:  \n",
        "    - **Bucket Name**: `new_bucket`  \n",
        "    - **Scope Name**: `new_scope`  \n",
        "    - **Collection Name**: `new_collection`  \n",
        "    - **Vector SearchIndex Name**: `vector_index`\n",
        "\n",
        "## Creating a Search Index\n",
        "Before proceeding further, we need to set up a search index for vector-based retrieval. This is essential for efficient querying in our RAG pipeline. Follow the steps below:  \n",
        "\n",
        "  - [Couchbase Capella](https://docs.couchbase.com/cloud/search/import-search-index.html)\n",
        "  - Copy the index definition below to a new file index.json\n",
        "  - Import the file in Capella using the instructions in the documentation.\n",
        "  - Click on Create Index to create the index.\n",
        "\n",
        "- [Couchbase Server](https://docs.couchbase.com/server/current/search/import-search-index.html)\n",
        "  - Click on Search -> Add Index -> Import\n",
        "  - Copy the following index definition in the Import screen\n",
        "  - Click on Create Index to create the index.\n",
        "\n",
        "#### Index Definition\n",
        "\n",
        "`bucket`, `scope`, `collection` === `sample_bucekt`, `sample_scope`, `sample_collection`  \n",
        "\n",
        "```json\n",
        "{\n",
        "  \"name\": \"vector_index\",\n",
        "  \"type\": \"fulltext-index\",\n",
        "  \"params\": {\n",
        "    \"doc_config\": {\n",
        "      \"docid_prefix_delim\": \"\",\n",
        "      \"docid_regexp\": \"\",\n",
        "      \"mode\": \"scope.collection.type_field\",\n",
        "      \"type_field\": \"type\"\n",
        "    },\n",
        "    \"mapping\": {\n",
        "      \"default_analyzer\": \"standard\",\n",
        "      \"default_datetime_parser\": \"dateTimeOptional\",\n",
        "      \"default_field\": \"_all\",\n",
        "      \"default_mapping\": {\n",
        "        \"dynamic\": true,\n",
        "        \"enabled\": false\n",
        "      },\n",
        "      \"default_type\": \"_default\",\n",
        "      \"docvalues_dynamic\": false,\n",
        "      \"index_dynamic\": true,\n",
        "      \"store_dynamic\": false,\n",
        "      \"type_field\": \"_type\",\n",
        "      \"types\": {\n",
        "        \"sample_scope.sample_collection\": {\n",
        "          \"dynamic\": true,\n",
        "          \"enabled\": true,\n",
        "          \"properties\": {\n",
        "            \"embedding\": {\n",
        "              \"enabled\": true,\n",
        "              \"dynamic\": false,\n",
        "              \"fields\": [\n",
        "                {\n",
        "                  \"dims\": 384,\n",
        "                  \"index\": true,\n",
        "                  \"name\": \"embedding\",\n",
        "                  \"similarity\": \"dot_product\",\n",
        "                  \"type\": \"vector\",\n",
        "                  \"vector_index_optimized_for\": \"recall\"\n",
        "                }\n",
        "              ]\n",
        "            },\n",
        "            \"content\": {\n",
        "              \"enabled\": true,\n",
        "              \"dynamic\": false,\n",
        "              \"fields\": [\n",
        "                {\n",
        "                  \"index\": true,\n",
        "                  \"name\": \"content\",\n",
        "                  \"store\": true,\n",
        "                  \"type\": \"text\"\n",
        "                }\n",
        "              ]\n",
        "            }\n",
        "          }\n",
        "        }\n",
        "      }\n",
        "    },\n",
        "    \"store\": {\n",
        "      \"indexType\": \"scorch\",\n",
        "      \"segmentVersion\": 16\n",
        "    }\n",
        "  },\n",
        "  \"sourceType\": \"gocbcore\",\n",
        "  \"sourceName\": \"sample_bucket\",\n",
        "  \"sourceParams\": {},\n",
        "  \"planParams\": {\n",
        "    \"maxPartitionsPerPIndex\": 64,\n",
        "    \"indexPartitions\": 16,\n",
        "    \"numReplicas\": 0\n",
        "  }\n",
        "}\n",
        "```\n",
        "\n",
        "## Connecting to the Cluster\n",
        "- Now, we will connect to the cluster. [Refer to this page for connection details](https://docs.couchbase.com/cloud/get-started/connect.html).  \n",
        "\n",
        "- **Create a user to connect:**  \n",
        "  - Navigate to the **Settings** tab.  \n",
        "  - Click **Create Cluster Access** and specify a username and password.  \n",
        "  - Assign **read/write access to all buckets** (you may create more users with restricted permissions as needed).  \n",
        "  - For more details, [refer here](https://docs.couchbase.com/cloud/clusters/manage-database-users.html#create-database-credentials).  \n",
        "\n",
        "- **Add an IP Address to the allowed list:**  \n",
        "  - In **Settings**, click on **Networking**.  \n",
        "  - Add an [allowed IP](https://docs.couchbase.com/cloud/clusters/allow-ip-address.html) based on your requirements.  \n",
        "\n",
        "- **Set up environment variables:**  \n",
        "  Retrieve the connection string from the **Connect** tab. Then, configure the following environment variables:  \n",
        "  - `CB_CONN_STR`: Couchbase Cluster Connection String  \n",
        "  - `CB_USERNAME`: Username of the created user  \n",
        "  - `CB_PASSWORD`: Password of the created user  \n",
        "  - `OPENAI_API_KEY`: OpenAI API Key (required for agents)"
      ]
    },
    {
      "cell_type": "code",
      "execution_count": null,
      "metadata": {
        "id": "rhS6JBCuciiG"
      },
      "outputs": [],
      "source": [
        "import os\n",
        "# Environment Variables\n",
        "os.environ[\"CB_CONN_STR\"] = \"<<CONNECTION_STRING_TO_YOUR_CLUSTER>>\"\n",
        "os.environ[\"CB_USERNAME\"] = \"<<CLUSTER_ACCESS_USERNAME>>\"\n",
        "os.environ[\"CB_PASSWORD\"] = \"<<CLUSTER_ACCESS_PASSWORD>>\"\n",
        "os.environ[\"OPENAI_API_KEY\"] = \"<<OPENAI_API_KEY>>\"\n",
        "\n",
        "# you can chge the ones below, but then  you will have to change these in the vector search index created in the couchbase cluster as well. \n",
        "os.environ[\"CB_BUCKET\"] = \"sample_bucket\"\n",
        "os.environ[\"CB_SCOPE\"] = \"sample_scope\"\n",
        "os.environ[\"CB_COLLECTION\"] = \"sample_collection\"\n",
        "os.environ[\"CB_INDEX_NAME\"] = \"vector_index\""
      ]
    },
    {
      "cell_type": "markdown",
      "metadata": {
        "id": "gf9Aq1rOjGbH"
      },
      "source": [
        "**Voila! Your cluster is now ready to be used.**"
      ]
    },
    {
      "cell_type": "markdown",
      "metadata": {
        "id": "xt9xrcb8atCK"
      },
      "source": [
        "## Initializing Agents"
      ]
    },
    {
      "cell_type": "markdown",
      "metadata": {
        "id": "TUb8Cw-DatCK"
      },
      "source": [
        "We start by initializing the `AssistantAgent` and `RetrieveUserProxyAgent`. The system message needs to be set to \"You are a helpful assistant.\" for AssistantAgent. The detailed instructions are given in the user message. Later we will use the `RetrieveUserProxyAgent.message_generator` to combine the instructions and a retrieval augmented generation task for an initial prompt to be sent to the LLM assistant."
      ]
    },
    {
      "cell_type": "code",
      "execution_count": null,
      "metadata": {
        "id": "xGcPjA69cUps"
      },
      "outputs": [],
      "source": [
        "import os\n",
        "import sys\n",
        "\n",
        "from autogen import AssistantAgent\n",
        "\n",
        "sys.path.append(os.path.abspath(\"/workspaces/autogen/autogen/agentchat/contrib\"))\n",
        "\n",
        "from autogen.agentchat.contrib.retrieve_user_proxy_agent import RetrieveUserProxyAgent\n",
        "\n",
        "# Accepted file formats for that can be stored in\n",
        "# a vector database instance\n",
        "from autogen.retrieve_utils import TEXT_FORMATS\n",
        "\n",
        "config_list = [{\"model\": \"gpt-4o\", \"api_key\": os.environ[\"OPENAI_API_KEY\"], \"api_type\": \"openai\"}]\n",
        "assert len(config_list) > 0\n",
        "print(\"models to use: \", [config_list[i][\"model\"] for i in range(len(config_list))])"
      ]
    },
    {
      "cell_type": "code",
      "execution_count": null,
      "metadata": {
        "id": "_EscGSkXcUpt"
      },
      "outputs": [],
      "source": [
        "print(\"Accepted file formats for `docs_path`:\")\n",
        "print(TEXT_FORMATS)"
      ]
    },
    {
      "cell_type": "markdown",
      "metadata": {
        "id": "M3DD33FpoHGG"
      },
      "source": [
        "### Understanding `AssistantAgent` in AutoGen  "
      ]
    },
    {
      "cell_type": "markdown",
      "metadata": {
        "id": "oVtTYHGBn3Pf"
      },
      "source": [
        "The `AssistantAgent` in AutoGen is a specialized subclass of `ConversableAgent` designed to perform tasks using large language models (LLMs). By default, it generates code suggestions and debugging assistance but does not execute code autonomously; it relies on user intervention for code execution.\n",
        "\n",
        "**Key Components of the `AssistantAgent` Initialization:**\n",
        "\n",
        "- **`name`**: Assigns a unique identifier to the agent.\n",
        "\n",
        "- **`system_message`**: Sets the default behavior and role of the agent. In this case, it's initialized with \"You are a helpful assistant,\" guiding the agent to provide assistance aligned with this directive.\n",
        "\n",
        "- **`llm_config`**: Configures the LLM's behavior with parameters like timeout settings, caching mechanisms, and a list of model configurations (`config_list`).\n",
        "\n",
        "**How `AssistantAgent` Operates:**\n",
        "\n",
        "Once initialized, the `AssistantAgent` can interact with users or other agents to process tasks. It leverages the specified LLM configurations to generate responses, code snippets, or debugging advice based on the input it receives. However, it does not execute code by default, awaiting user approval or execution commands.\n",
        "\n",
        "For more detailed information, refer to the official AG2 documentation on [`AssistantAgent`](https://docs.ag2.ai/docs/api-reference/autogen/AssistantAgent).  "
      ]
    },
    {
      "cell_type": "markdown",
      "metadata": {
        "id": "yIehftqtn4Yl"
      },
      "source": [
        "### Implementing `AssistantAgent` for LLM-Powered Assistance"
      ]
    },
    {
      "cell_type": "markdown",
      "metadata": {
        "id": "cm2jok61oR7W"
      },
      "source": [
        "The provided code snippet demonstrates the creation of an `AssistantAgent` instance named \"assistant\" using the AutoGen framework. The `AssistantAgent` class is designed to interact with large language models (LLMs) to solve tasks, including suggesting Python code blocks and debugging. By default, it does not execute code and expects the user to handle code execution.\n",
        "\n",
        "- **`name=\"assistant\"`**: Assigns the name \"assistant\" to the agent.\n",
        "\n",
        "- **`system_message=\"You are a helpful assistant.\"`**: Sets a system message that defines the assistant's role and behavior during interactions.\n",
        "\n",
        "- **`llm_config={...}`**: Provides configuration settings for the LLM:\n",
        "  - **`timeout=600`**: Specifies a timeout of 600 seconds for LLM responses.\n",
        "  - **`cache_seed=42`**: Sets a seed value for caching mechanisms to ensure consistent results.\n",
        "  - **`config_list=config_list`**: Includes a list of additional configurations, which can define specific LLM models or parameters to use.\n",
        "\n",
        "By default, the `AssistantAgent` has `human_input_mode` set to \"NEVER\" and `code_execution_config` set to `False`, meaning it doesn't execute code and doesn't require human input during interactions.  "
      ]
    },
    {
      "cell_type": "code",
      "execution_count": null,
      "metadata": {
        "id": "UhG1doBjdMIm"
      },
      "outputs": [],
      "source": [
        "# 1. create an AssistantAgent instance named \"assistant\"\n",
        "assistant = AssistantAgent( # As defined above \n",
        "    name=\"assistant\",\n",
        "    system_message=\"You are a helpful assistant.\",\n",
        "    llm_config={ \n",
        "        \"timeout\": 600,\n",
        "        \"cache_seed\": 42,\n",
        "        \"config_list\": config_list,\n",
        "    },\n",
        ")\n",
        "print(\"AssistantAgent instance created, with the configurations as defined above.\")"
      ]
    },
    {
      "cell_type": "markdown",
      "metadata": {
        "id": "ZBv1OVfaatCL"
      },
      "source": [
        "## Fetching Documentation"
      ]
    },
    {
      "cell_type": "markdown",
      "metadata": {
        "id": "dumfDiq_atCL"
      },
      "source": [
        "The following function recursively fetches all unique internal links from the given documentation URL within a specified time limit. This is useful for gathering documentation pages that will be used to augment the LLM's responses."
      ]
    },
    {
      "cell_type": "code",
      "execution_count": null,
      "metadata": {
        "id": "NaKfEfFmdM_v"
      },
      "outputs": [],
      "source": [
        "import requests\n",
        "from bs4 import BeautifulSoup\n",
        "from urllib.parse import urljoin, urlparse\n",
        "import time\n",
        "import os\n",
        "from concurrent.futures import ThreadPoolExecutor, as_completed\n",
        "\n",
        "def get_documentation_links(base_url, visited=None, start_time=None, time_limit=10):\n",
        "    \"\"\"\n",
        "    Recursively fetch all unique internal links from the given documentation URL with a time constraint.\n",
        "\n",
        "    Args:\n",
        "        base_url (str): The URL of the documentation homepage.\n",
        "        visited (set): A set to keep track of visited URLs.\n",
        "        start_time (float): The start time of execution.\n",
        "        time_limit (int): The maximum time allowed for execution in seconds.\n",
        "\n",
        "    Returns:\n",
        "        list: A list of unique internal links found in the documentation.\n",
        "    \"\"\"\n",
        "    if visited is None:\n",
        "        visited = set()\n",
        "    if start_time is None:\n",
        "        start_time = time.time()\n",
        "\n",
        "    # Stop recursion if time limit is exceeded\n",
        "    if time.time() - start_time > time_limit:\n",
        "        return list(visited)\n",
        "\n",
        "    try:\n",
        "        response = requests.get(base_url, timeout=5)\n",
        "        response.raise_for_status()\n",
        "    except requests.RequestException as e:\n",
        "        print(f\"Error fetching the page: {e}\")\n",
        "        return list(visited)\n",
        "\n",
        "    soup = BeautifulSoup(response.text, \"html.parser\")\n",
        "    domain = urlparse(base_url).netloc\n",
        "\n",
        "    links = set()\n",
        "    for a_tag in soup.find_all(\"a\", href=True):\n",
        "        href = a_tag[\"href\"].strip()\n",
        "        full_url = urljoin(base_url, href)\n",
        "        parsed_url = urlparse(full_url)\n",
        "\n",
        "        if parsed_url.netloc == domain and full_url not in visited:  # Ensure it's an internal link within the same domain\n",
        "            visited.add(full_url)\n",
        "            links.add(full_url)\n",
        "            links.update(get_documentation_links(full_url, visited, start_time, time_limit))  # Recursive call with time check\n",
        "\n",
        "    return list(visited)\n"
      ]
    },
    {
      "cell_type": "code",
      "execution_count": null,
      "metadata": {
        "id": "sPXTA8GhjS_d"
      },
      "outputs": [],
      "source": [
        "def fetch_content_generators(links, num_workers=5):\n",
        "    \"\"\"\n",
        "    Splits the links into separate lists for each worker and returns generators for each worker.\n",
        "    Extracts only plain text from HTML before yielding.\n",
        "\n",
        "    Args:\n",
        "        links (list): List of URLs to fetch content from.\n",
        "        num_workers (int): Number of workers, each receiving a distinct set of links.\n",
        "\n",
        "    Returns:\n",
        "        list: A list of generators, one for each worker.\n",
        "    \"\"\"\n",
        "    def fetch_content(sub_links):\n",
        "        for link in sub_links:\n",
        "            try:\n",
        "                response = requests.get(link, timeout=5)\n",
        "                response.raise_for_status()\n",
        "\n",
        "                # Extract plain text from HTML\n",
        "                soup = BeautifulSoup(response.text, \"html.parser\")\n",
        "                text_content = soup.get_text()\n",
        "\n",
        "                yield link, text_content\n",
        "            except requests.RequestException as e:\n",
        "                print(f\"Error fetching {link}: {e}\")\n",
        "                yield link, None\n",
        "\n",
        "    # Split links into chunks for each worker\n",
        "    chunk_size = (len(links) + num_workers - 1) // num_workers  # Ensure even distribution\n",
        "    link_chunks = [links[i:i + chunk_size] for i in range(0, len(links), chunk_size)]\n",
        "\n",
        "    return [fetch_content(chunk) for chunk in link_chunks]"
      ]
    },
    {
      "cell_type": "code",
      "execution_count": null,
      "metadata": {
        "id": "umjcgXZtr9bz"
      },
      "outputs": [],
      "source": [
        "def save_content_to_files(links, output_folder=\"docs_data\", num_workers=5):\n",
        "    \"\"\"\n",
        "    Uses fetch_content_generators to fetch content in parallel and save it to local files.\n",
        "\n",
        "    Args:\n",
        "        links (list): List of URLs to fetch content from.\n",
        "        output_folder (str): Folder to store the saved text files.\n",
        "        num_workers (int): Number of workers for parallel processing.\n",
        "\n",
        "    Returns:\n",
        "        list: A list of file paths where content is saved.\n",
        "    \"\"\"\n",
        "    os.makedirs(output_folder, exist_ok=True)\n",
        "    generators = fetch_content_generators(links, num_workers=num_workers)\n",
        "\n",
        "    file_paths = []\n",
        "\n",
        "    def process_and_save(gen, worker_id):\n",
        "        local_paths = []\n",
        "        for j, (url, content) in enumerate(gen):\n",
        "            if content:  # Avoid saving empty or failed fetches\n",
        "                file_name = f\"doc_{worker_id}_{j}.txt\"\n",
        "                file_path = os.path.join(output_folder, file_name)\n",
        "                with open(file_path, \"w\", encoding=\"utf-8\") as f:\n",
        "                    f.write(content)\n",
        "                local_paths.append(file_path)\n",
        "        return local_paths\n",
        "\n",
        "    with ThreadPoolExecutor(max_workers=num_workers) as executor:\n",
        "        futures = {executor.submit(process_and_save, gen, i): i for i, gen in enumerate(generators)}\n",
        "        for future in as_completed(futures):\n",
        "            file_paths.extend(future.result())\n",
        "\n",
        "    return file_paths"
      ]
    },
    {
      "cell_type": "markdown",
      "metadata": {
        "id": "WTau7EfAW-dw"
      },
      "source": [
        "### 📌 Input Documentation Link Here\n",
        "Please enter the link to the documentation below.  "
      ]
    },
    {
      "cell_type": "code",
      "execution_count": null,
      "metadata": {
        "id": "3HsLHuZ6XPTf"
      },
      "outputs": [],
      "source": [
        "default_link = \"https://docs.ag2.ai/docs/use-cases/notebooks/Notebooks\"\n",
        "main_doc_link = input(f\"Enter documentation link: \") or default_link\n",
        "print(\"Selected link:\", main_doc_link)"
      ]
    },
    {
      "cell_type": "code",
      "execution_count": null,
      "metadata": {
        "collapsed": true,
        "id": "hTb8DV6Rr_i-"
      },
      "outputs": [],
      "source": [
        "docs_links = get_documentation_links(main_doc_link, None, None, 5)\n",
        "docs_file_paths = save_content_to_files(docs_links, \"./docs\", 12)"
      ]
    },
    {
      "cell_type": "code",
      "execution_count": null,
      "metadata": {
        "id": "FOQqd3TqsyeT"
      },
      "outputs": [],
      "source": [
        "len(docs_file_paths), len(docs_links)"
      ]
    },
    {
      "cell_type": "markdown",
      "metadata": {
        "id": "UoWZImdlatCL"
      },
      "source": [
        "## Using RetrieveChat"
      ]
    },
    {
      "cell_type": "markdown",
      "metadata": {
        "id": "kkkxqrhTire0"
      },
      "source": [
        "The `RetrieveUserProxyAgent` in AutoGen is a specialized agent designed to facilitate retrieval-augmented generation (RAG) by leveraging external knowledge sources, typically a vector database. It acts as an intermediary between the user and an AI assistant, ensuring that relevant context is retrieved and supplied to the assistant for more informed responses."
      ]
    },
    {
      "cell_type": "markdown",
      "metadata": {
        "id": "mYU_D5LlhnS1"
      },
      "source": [
        "\n",
        "\n",
        "### **How RetrieveUserProxyAgent Works**\n"
      ]
    },
    {
      "cell_type": "markdown",
      "metadata": {
        "id": "zISHuAhfiS9k"
      },
      "source": [
        "1. **Query Processing & Context Retrieval**  \n",
        "   When the user submits a question, the `RetrieveUserProxyAgent` first determines if the available context is sufficient. If not, it retrieves additional relevant information from an external knowledge base (e.g., a vector database) using similarity search.\n",
        "\n",
        "2. **Interaction with the Assistant**  \n",
        "   Once the relevant context is retrieved, the agent forwards both the user's query and the retrieved context to the `AssistantAgent` (such as an OpenAI-based model). This step ensures that the assistant generates an informed and contextually accurate response.\n",
        "\n",
        "3. **Handling Responses**  \n",
        "   - If the assistant's response satisfies the user, the conversation ends.  \n",
        "   - If the response is unsatisfactory or additional context is needed, the agent updates the context and repeats the retrieval process.\n",
        "\n",
        "4. **User Feedback & Iteration**  \n",
        "   - The user can provide feedback, request refinements, or terminate the interaction.  \n",
        "   - If updates are needed, the agent refines the context and interacts with the assistant again."
      ]
    },
    {
      "cell_type": "markdown",
      "metadata": {
        "id": "ZznixFCdhupX"
      },
      "source": [
        "![Retrival-Augmented Assistant](https://microsoft.github.io/autogen/0.2/assets/images/retrievechat-arch-959e180405c99ceb3da88a441c02f45e.png)"
      ]
    },
    {
      "cell_type": "markdown",
      "metadata": {
        "id": "nJadrbvfhvM-"
      },
      "source": [
        "Source: [Retrieval-Augmented Generation (RAG) Applications with AutoGen](https://microsoft.github.io/autogen/0.2/blog/2023/10/18/RetrieveChat/)"
      ]
    },
    {
      "cell_type": "markdown",
      "metadata": {
        "id": "-iaSz08hiFjL"
      },
      "source": [
        "### **Configuring `RetrieveUserProxyAgent` with Custom Text Splitting and OpenAI Embeddings for RAG**  "
      ]
    },
    {
      "cell_type": "markdown",
      "metadata": {
        "id": "RpXgeunQio1s"
      },
      "source": [
        "This code snippet demonstrates how to configure a `RetrieveUserProxyAgent` in AutoGen with a custom text splitter and an OpenAI-based embedding function for retrieval-augmented generation (RAG). It utilizes `RecursiveCharacterTextSplitter` to break documents into structured chunks for better embedding and retrieval.  \n",
        "\n",
        "The embedding function is set up using OpenAI's `text-embedding-3-small` model, but users can alternatively use the default **SentenceTransformers** embedding model. The `RetrieveUserProxyAgent` is then initialized with a predefined task, auto-reply constraints, and a document retrieval path, enabling it to fetch relevant context dynamically and generate accurate responses in an automated workflow."
      ]
    },
    {
      "cell_type": "code",
      "execution_count": null,
      "metadata": {
        "id": "qiRGwh1FcUpt"
      },
      "outputs": [],
      "source": [
        "from chromadb.utils import embedding_functions\n",
        "from langchain.text_splitter import RecursiveCharacterTextSplitter\n",
        "\n",
        "# Initialize a recursive character text splitter with specified separators\n",
        "recur_spliter = RecursiveCharacterTextSplitter(separators=[\"\\n\", \"\\r\", \"\\t\"])\n",
        "\n",
        "# Option 1: Using OpenAI Embeddings\n",
        "openai_ef = embedding_functions.OpenAIEmbeddingFunction(\n",
        "    api_key=os.environ[\"OPENAI_API_KEY\"],\n",
        "    model_name=\"text-embedding-3-small\",\n",
        ")\n",
        "\n",
        "ragproxyagent = RetrieveUserProxyAgent(\n",
        "    name=\"ragproxyagent\",\n",
        "    human_input_mode=\"NEVER\",\n",
        "    max_consecutive_auto_reply=2,\n",
        "    retrieve_config={\n",
        "        \"task\": \"code\",\n",
        "        \"docs_path\": docs_file_paths,\n",
        "        \"chunk_token_size\": 1200,  # Defines chunk size for document splitting\n",
        "        \"model\": config_list[0][\"model\"],\n",
        "        \"vector_db\": \"couchbase\",  # Using Couchbase Capella VectorDB\n",
        "        \"collection_name\": os.environ[\"CB_COLLECTION\"] ,  # Collection name in Couchbase\n",
        "        \"db_config\": {\n",
        "            \"connection_string\": os.environ[\"CB_CONN_STR\"],  # Connection string for Couchbase\n",
        "            \"username\": os.environ[\"CB_USERNAME\"],  # Couchbase username\n",
        "            \"password\": os.environ[\"CB_PASSWORD\"],  # Couchbase password\n",
        "            \"bucket_name\": os.environ[\"CB_BUCKET\"],  # Bucket name in Couchbase\n",
        "            \"scope_name\": os.environ[\"CB_SCOPE\"],  # Scope name in Couchbase\n",
        "            \"index_name\": os.environ[\"CB_INDEX_NAME\"],  # Index name in Couchbase\n",
        "        },\n",
        "        \"get_or_create\": True,  # Set to False to avoid reusing an existing collection\n",
        "        \"overwrite\": False,  # Set to True to overwrite an existing collection (forces index recreation)\n",
        "\n",
        "        # Option 1: Use OpenAI embedding function (Uncomment below to enable)\n",
        "        # \"embedding_function\": openai_ef,\n",
        "\n",
        "        # Option 2: Default embedding model (SentenceTransformers 'all-mpnet-base-v2')\n",
        "        \"embedding_model\": \"all-mpnet-base-v2\",  # Default model if OpenAI embeddings are not used\n",
        "\n",
        "        # Custom text splitter function\n",
        "        \"custom_text_split_function\": recur_spliter.split_text,\n",
        "    },\n",
        "    code_execution_config=False,  # Set to True if you want to execute retrieved code\n",
        ")"
      ]
    },
    {
      "cell_type": "markdown",
      "metadata": {
        "id": "dkGFdI98atCM"
      },
      "source": [
        "## Chat Interaction"
      ]
    },
    {
      "cell_type": "markdown",
      "metadata": {
        "id": "uEDBUAAWatCM"
      },
      "source": [
        "This section marks the beginning of the chat interaction using RetrieveChat powered by Couchbase Capella for Retrieve Augmented Code Generation and Question Answering in AG2."
      ]
    },
    {
      "cell_type": "markdown",
      "metadata": {
        "id": "P2GxDQKsatCM"
      },
      "source": [
        "### Example 1"
      ]
    },
    {
      "cell_type": "markdown",
      "metadata": {
        "id": "_z_p4UbvatCM"
      },
      "source": [
        "Use RetrieveChat to help generate sample code and automatically run the code and fix errors if there is any.\n",
        "\n",
        "Problem: How to use RetrieveChat Powered by Couchbase Capella for Retrieve Augmented Code Generation and Question Answering in AG2?\n",
        "\n",
        "Note: You may need to create an index on the cluster to query"
      ]
    },
    {
      "cell_type": "code",
      "execution_count": null,
      "metadata": {
        "collapsed": true,
        "id": "kKH-JCBy9pr8"
      },
      "outputs": [],
      "source": [
        "assistant.reset()\n",
        "code_problem = \"How to use RetrieveChat Powered by Couchbase Capella for Retrieve Augmented Code Generation and Question Answering in AG2?\"\n",
        "chat_result = ragproxyagent.initiate_chat(assistant, message=ragproxyagent.message_generator, problem=code_problem)"
      ]
    },
    {
      "cell_type": "markdown",
      "metadata": {},
      "source": [
        "**Expected Output**\n",
        "\n",
        "The notebook which explains how to use Couchbase with AG2 contains this code snippet. And so, the RAG Agent should return some code snippet similiar to this.\n",
        "\n",
        "```python\n",
        "ragproxyagent = RetrieveUserProxyAgent(\n",
        "    name=\"ragproxyagent\",\n",
        "    human_input_mode=\"NEVER\",\n",
        "    max_consecutive_auto_reply=3,\n",
        "    retrieve_config={\n",
        "        \"task\": \"code\",\n",
        "        \"docs_path\": [\n",
        "            \"https://raw.githubusercontent.com/microsoft/FLAML/main/website/docs/Examples/Integrate%20-%20Spark.md\",\n",
        "            \"https://raw.githubusercontent.com/microsoft/FLAML/main/website/docs/Research.md\",\n",
        "        ],\n",
        "        \"chunk_token_size\": 2000,\n",
        "        \"model\": config_list[0][\"model\"],\n",
        "        \"vector_db\": \"couchbase\",  # Couchbase Capella VectorDB\n",
        "        \"collection_name\": \"demo_collection\",  # Couchbase Capella collection name to be utilized/created\n",
        "        \"db_config\": {\n",
        "            \"connection_string\": os.environ[\"CB_CONN_STR\"],  # Couchbase Capella connection string\n",
        "            \"username\": os.environ[\"CB_USERNAME\"],  # Couchbase Capella username\n",
        "            \"password\": os.environ[\"CB_PASSWORD\"],  # Couchbase Capella password\n",
        "            \"bucket_name\": \"test_db\",  # Couchbase Capella bucket name\n",
        "            \"scope_name\": \"test_scope\",  # Couchbase Capella scope name\n",
        "            \"index_name\": \"vector_index\",  # Couchbase Capella index name to be created\n",
        "        },\n",
        "        \"get_or_create\": True,  # set to False if you don't want to reuse an existing collection\n",
        "        \"overwrite\": False,  # set to True if you want to overwrite an existing collection, each overwrite will force a index creation and reupload of documents\n",
        "    },\n",
        "    code_execution_config=False,  # set to False if you don't want to execute the code\n",
        ")\n",
        "```"
      ]
    }
  ],
  "metadata": {
    "colab": {
      "provenance": []
    },
    "front_matter": {
      "description": "Explore the use of AG2's RetrieveChat for tasks like code generation from docstrings, answering complex questions with human feedback, and exploiting features like Update Context, custom prompts, and few-shot learning.",
      "tags": [
        "RAG"
      ]
    },
    "kernelspec": {
      "display_name": "venv",
      "language": "python",
      "name": "python3"
    },
    "language_info": {
      "codemirror_mode": {
        "name": "ipython",
        "version": 3
      },
      "file_extension": ".py",
      "mimetype": "text/x-python",
      "name": "python",
      "nbconvert_exporter": "python",
      "pygments_lexer": "ipython3",
      "version": "3.12.9"
    },
    "skip_test": "Requires interactive usage"
  },
  "nbformat": 4,
  "nbformat_minor": 0
}
