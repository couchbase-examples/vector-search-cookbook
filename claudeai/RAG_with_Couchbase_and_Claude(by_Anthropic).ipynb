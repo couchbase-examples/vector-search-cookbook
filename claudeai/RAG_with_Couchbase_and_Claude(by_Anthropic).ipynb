{
  "cells": [
    {
      "cell_type": "markdown",
      "metadata": {
        "id": "kNdImxzypDlm"
      },
      "source": [
        "# Introduction\n",
        "In this guide, we will walk you through building a powerful semantic search engine using Couchbase as the backend database, [OpenAI](https://openai.com/) as the AI-powered embedding and [Anthropic](https://claude.ai/) as the language model provider. Semantic search goes beyond simple keyword matching by understanding the context and meaning behind the words in a query, making it an essential tool for applications that require intelligent information retrieval. This tutorial is designed to be beginner-friendly, with clear, step-by-step instructions that will equip you with the knowledge to create a fully functional semantic search system from scratch."
      ]
    },
    {
      "cell_type": "markdown",
      "metadata": {},
      "source": [
        "# How to run this tutorial\n",
        "\n",
        "This tutorial is available as a Jupyter Notebook (`.ipynb` file) that you can run interactively. You can access the original notebook [here](https://github.com/couchbase-examples/vector-search-cookbook/blob/main/claudeai/RAG_with_Couchbase_and_Claude(by_Anthropic).ipynb).\n",
        "\n",
        "You can either download the notebook file and run it on [Google Colab](https://colab.research.google.com/) or run it on your system by setting up the Python environment."
      ]
    },
    {
      "cell_type": "markdown",
      "metadata": {},
      "source": [
        "# Before you start\n",
        "\n",
        "## Get Credentials for OpenAI and Anthropic\n",
        "\n",
        "* Please follow the [instructions](https://platform.openai.com/docs/quickstart) to generate the OpenAI credentials.\n",
        "* Please follow the [instructions](https://docs.anthropic.com/en/api/getting-started) to generate the Anthropic credentials.\n",
        "\n",
        "## Create and Deploy Your Free Tier Operational cluster on Capella\n",
        "\n",
        "To get started with Couchbase Capella, create an account and use it to deploy a forever free tier operational cluster. This account provides you with an environment where you can explore and learn about Capella with no time constraint.\n",
        "\n",
        "To know more, please follow the [instructions](https://docs.couchbase.com/cloud/get-started/create-account.html).\n",
        "\n",
        "### Couchbase Capella Configuration\n",
        "\n",
        "When running Couchbase using [Capella](https://cloud.couchbase.com/sign-in), the following prerequisites need to be met.\n",
        "\n",
        "* Create the [database credentials](https://docs.couchbase.com/cloud/clusters/manage-database-users.html) to access the travel-sample bucket (Read and Write) used in the application.\n",
        "* [Allow access](https://docs.couchbase.com/cloud/clusters/allow-ip-address.html) to the Cluster from the IP on which the application is running."
      ]
    },
    {
      "cell_type": "markdown",
      "metadata": {
        "id": "NH2o6pqa69oG"
      },
      "source": [
        "# Setting the Stage: Installing Necessary Libraries\n",
        "To build our semantic search engine, we need a robust set of tools. The libraries we install handle everything from connecting to databases to performing complex machine learning tasks. Each library has a specific role: Couchbase libraries manage database operations, LangChain handles AI model integrations, and OpenAI provides advanced AI models for generating embeddings and Claude(by Anthropic) for understanding natural language. By setting up these libraries, we ensure our environment is equipped to handle the data-intensive and computationally complex tasks required for semantic search."
      ]
    },
    {
      "cell_type": "code",
      "execution_count": 1,
      "metadata": {
        "colab": {
          "base_uri": "https://localhost:8080/"
        },
        "id": "DYhPj0Ta8l_A",
        "outputId": "6af482de-ca00-4a67-abb2-d5fac8bd5818"
      },
      "outputs": [
        {
          "name": "stdout",
          "output_type": "stream",
          "text": [
            "Note: you may need to restart the kernel to use updated packages.\n"
          ]
        }
      ],
      "source": [
        "%pip install --quiet datasets langchain-couchbase langchain-anthropic langchain-openai python-dotenv"
      ]
    },
    {
      "cell_type": "markdown",
      "metadata": {
        "id": "1pp7GtNg8mB9"
      },
      "source": [
        "# Importing Necessary Libraries\n",
        "The script starts by importing a series of libraries required for various tasks, including handling JSON, logging, time tracking, Couchbase connections, embedding generation, and dataset loading. These libraries provide essential functions for working with data, managing database connections, and processing machine learning models."
      ]
    },
    {
      "cell_type": "code",
      "execution_count": 2,
      "metadata": {
        "id": "8GzS6tfL8mFP"
      },
      "outputs": [],
      "source": [
        "import getpass\n",
        "import json\n",
        "import logging\n",
        "import os\n",
        "import time\n",
        "from uuid import uuid4\n",
        "from datetime import timedelta\n",
        "\n",
        "\n",
        "from multiprocessing import AuthenticationError\n",
        "from couchbase.auth import PasswordAuthenticator\n",
        "from couchbase.cluster import Cluster\n",
        "from couchbase.exceptions import (CouchbaseException,\n",
        "                                  InternalServerFailureException,\n",
        "                                  QueryIndexAlreadyExistsException)\n",
        "from couchbase.management.search import SearchIndex\n",
        "from couchbase.options import ClusterOptions\n",
        "from datasets import load_dataset\n",
        "from dotenv import load_dotenv\n",
        "from langchain_anthropic import ChatAnthropic\n",
        "from langchain_core.globals import set_llm_cache\n",
        "from langchain_core.prompts.chat import (ChatPromptTemplate,\n",
        "                                         HumanMessagePromptTemplate,\n",
        "                                         SystemMessagePromptTemplate)\n",
        "from langchain_core.runnables import RunnablePassthrough\n",
        "from langchain_couchbase.cache import CouchbaseCache\n",
        "from langchain_couchbase.vectorstores import CouchbaseVectorStore\n",
        "from langchain_openai import OpenAIEmbeddings\n",
        "from tqdm import tqdm"
      ]
    },
    {
      "cell_type": "markdown",
      "metadata": {
        "id": "pBnMp5vb8mIb"
      },
      "source": [
        "# Setup Logging\n",
        "Logging is configured to track the progress of the script and capture any errors or warnings. This is crucial for debugging and understanding the flow of execution. The logging output includes timestamps, log levels (e.g., INFO, ERROR), and messages that describe what is happening in the script.\n"
      ]
    },
    {
      "cell_type": "code",
      "execution_count": 3,
      "metadata": {
        "id": "Yv8kWcuf8mLx"
      },
      "outputs": [],
      "source": [
        "logging.basicConfig(level=logging.INFO, format='%(asctime)s - %(levelname)s - %(message)s', force=True)\n",
        "\n",
        "# Disable all logging except critical to prevent OpenAI API request logs\n",
        "logging.getLogger(\"httpx\").setLevel(logging.CRITICAL)"
      ]
    },
    {
      "cell_type": "markdown",
      "metadata": {
        "id": "K9G5a0en8mPA"
      },
      "source": [
        "# Loading Sensitive Informnation\n",
        "In this section, we prompt the user to input essential configuration settings needed. These settings include sensitive information like API keys, database credentials, and specific configuration names. Instead of hardcoding these details into the script, we request the user to provide them at runtime, ensuring flexibility and security.\n",
        "\n",
        "The script also validates that all required inputs are provided, raising an error if any crucial information is missing. This approach ensures that your integration is both secure and correctly configured without hardcoding sensitive information, enhancing the overall security and maintainability of your code."
      ]
    },
    {
      "cell_type": "code",
      "execution_count": 4,
      "metadata": {
        "colab": {
          "base_uri": "https://localhost:8080/"
        },
        "id": "PFGyHll18mSe",
        "outputId": "421e1142-85dd-4a95-b0ad-cb16430c6dcf"
      },
      "outputs": [],
      "source": [
        "load_dotenv()\n",
        "\n",
        "# Load from environment variables or prompt for input in one-liners\n",
        "ANTHROPIC_API_KEY = os.getenv('ANTHROPIC_API_KEY') or getpass.getpass('Enter your Anthropic API key: ')\n",
        "OPENAI_API_KEY = os.getenv('OPENAI_API_KEY') or getpass.getpass('Enter your OpenAI API key: ')\n",
        "CB_HOST = os.getenv('CB_HOST', 'couchbase://localhost') or input('Enter your Couchbase host (default: couchbase://localhost): ') or 'couchbase://localhost'\n",
        "CB_USERNAME = os.getenv('CB_USERNAME', 'Administrator') or input('Enter your Couchbase username (default: Administrator): ') or 'Administrator'\n",
        "CB_PASSWORD = os.getenv('CB_PASSWORD', 'password') or getpass.getpass('Enter your Couchbase password (default: password): ') or 'password'\n",
        "CB_BUCKET_NAME = os.getenv('CB_BUCKET_NAME', 'vector-search-testing') or input('Enter your Couchbase bucket name (default: vector-search-testing): ') or 'vector-search-testing'\n",
        "INDEX_NAME = os.getenv('INDEX_NAME', 'vector_search_claude') or input('Enter your index name (default: vector_search_claude): ') or 'vector_search_claude'\n",
        "SCOPE_NAME = os.getenv('SCOPE_NAME', 'shared') or input('Enter your scope name (default: shared): ') or 'shared'\n",
        "COLLECTION_NAME = os.getenv('COLLECTION_NAME', 'claude') or input('Enter your collection name (default: claude): ') or 'claude'\n",
        "CACHE_COLLECTION = os.getenv('CACHE_COLLECTION', 'cache') or input('Enter your cache collection name (default: cache): ') or 'cache'\n",
        "BATCH_PROCESSING_MODE = os.getenv('BATCH_PROCESSING_MODE', 'automatic') or input('Enter your batch processing mode (default: manual/automatic): ') or 'automatic'\n",
        "# Check if the variables are correctly loaded\n",
        "if not ANTHROPIC_API_KEY:\n",
        "    raise ValueError(\"ANTHROPIC_API_KEY is not set in the environment.\")\n",
        "if not OPENAI_API_KEY:\n",
        "    raise ValueError(\"OPENAI_API_KEY is not set in the environment.\")\n",
        "\n",
        "if BATCH_PROCESSING_MODE not in ['manual', 'automatic']:\n",
        "    raise ValueError(\"BATCH_PROCESSING_MODE must be either 'manual' or 'automatic'.\")"
      ]
    },
    {
      "cell_type": "markdown",
      "metadata": {
        "id": "qtGrYzUY8mV3"
      },
      "source": [
        "# Connecting to the Couchbase Cluster\n",
        "Connecting to a Couchbase cluster is the foundation of our project. Couchbase will serve as our primary data store, handling all the storage and retrieval operations required for our semantic search engine. By establishing this connection, we enable our application to interact with the database, allowing us to perform operations such as storing embeddings, querying data, and managing collections. This connection is the gateway through which all data will flow, so ensuring it's set up correctly is paramount.\n",
        "\n"
      ]
    },
    {
      "cell_type": "code",
      "execution_count": 5,
      "metadata": {
        "colab": {
          "base_uri": "https://localhost:8080/"
        },
        "id": "Zb3kK-7W8mZK",
        "outputId": "0c574ca7-9e21-4c74-b44f-d17b3667cd76"
      },
      "outputs": [
        {
          "name": "stderr",
          "output_type": "stream",
          "text": [
            "2025-02-05 13:19:12,163 - INFO - Successfully connected to Couchbase\n"
          ]
        }
      ],
      "source": [
        "try:\n",
        "    auth = PasswordAuthenticator(CB_USERNAME, CB_PASSWORD)\n",
        "    options = ClusterOptions(auth)\n",
        "    cluster = Cluster(CB_HOST, options)\n",
        "    cluster.wait_until_ready(timedelta(seconds=5))\n",
        "    logging.info(\"Successfully connected to Couchbase\")\n",
        "except Exception as e:\n",
        "    raise ConnectionError(f\"Failed to connect to Couchbase: {str(e)}\")"
      ]
    },
    {
      "cell_type": "markdown",
      "metadata": {
        "id": "C_Gpy32N8mcZ"
      },
      "source": [
        "# Setting Up Collections in Couchbase\n",
        "In Couchbase, data is organized in buckets, which can be further divided into scopes and collections. Think of a collection as a table in a traditional SQL database. Before we can store any data, we need to ensure that our collections exist. If they don't, we must create them. This step is important because it prepares the database to handle the specific types of data our application will process. By setting up collections, we define the structure of our data storage, which is essential for efficient data retrieval and management.\n",
        "\n",
        "Moreover, setting up collections allows us to isolate different types of data within the same bucket, providing a more organized and scalable data structure. This is particularly useful when dealing with large datasets, as it ensures that related data is stored together, making it easier to manage and query."
      ]
    },
    {
      "cell_type": "code",
      "execution_count": 6,
      "metadata": {
        "colab": {
          "base_uri": "https://localhost:8080/"
        },
        "id": "ACZcwUnG8mf2",
        "outputId": "a0db89a6-c9bc-4e26-ae37-d53c0700024b"
      },
      "outputs": [
        {
          "name": "stderr",
          "output_type": "stream",
          "text": [
            "2025-02-05 13:19:12,182 - INFO - Collection 'claude' already exists.Skipping creation.\n",
            "2025-02-05 13:19:13,466 - INFO - Primary index present or created successfully.\n",
            "2025-02-05 13:19:13,468 - INFO - All documents cleared from the collection.\n",
            "2025-02-05 13:19:13,472 - INFO - Collection 'cache' already exists.Skipping creation.\n",
            "2025-02-05 13:19:13,473 - INFO - Primary index present or created successfully.\n",
            "2025-02-05 13:19:13,475 - INFO - All documents cleared from the collection.\n"
          ]
        },
        {
          "data": {
            "text/plain": [
              "<couchbase.collection.Collection at 0x17e080f90>"
            ]
          },
          "execution_count": 6,
          "metadata": {},
          "output_type": "execute_result"
        }
      ],
      "source": [
        "def setup_collection(cluster, bucket_name, scope_name, collection_name):\n",
        "    try:\n",
        "        bucket = cluster.bucket(bucket_name)\n",
        "        bucket_manager = bucket.collections()\n",
        "\n",
        "        # Check if collection exists, create if it doesn't\n",
        "        collections = bucket_manager.get_all_scopes()\n",
        "        collection_exists = any(\n",
        "            scope.name == scope_name and collection_name in [col.name for col in scope.collections]\n",
        "            for scope in collections\n",
        "        )\n",
        "\n",
        "        if not collection_exists:\n",
        "            logging.info(f\"Collection '{collection_name}' does not exist. Creating it...\")\n",
        "            bucket_manager.create_collection(scope_name, collection_name)\n",
        "            logging.info(f\"Collection '{collection_name}' created successfully.\")\n",
        "        else:\n",
        "            logging.info(f\"Collection '{collection_name}' already exists.Skipping creation.\")\n",
        "\n",
        "        collection = bucket.scope(scope_name).collection(collection_name)\n",
        "\n",
        "        # Ensure primary index exists\n",
        "        try:\n",
        "            cluster.query(f\"CREATE PRIMARY INDEX IF NOT EXISTS ON `{bucket_name}`.`{scope_name}`.`{collection_name}`\").execute()\n",
        "            logging.info(\"Primary index present or created successfully.\")\n",
        "        except Exception as e:\n",
        "            logging.warning(f\"Error creating primary index: {str(e)}\")\n",
        "\n",
        "        # Clear all documents in the collection\n",
        "        try:\n",
        "            query = f\"DELETE FROM `{bucket_name}`.`{scope_name}`.`{collection_name}`\"\n",
        "            cluster.query(query).execute()\n",
        "            logging.info(\"All documents cleared from the collection.\")\n",
        "        except Exception as e:\n",
        "            logging.warning(f\"Error while clearing documents: {str(e)}. The collection might be empty.\")\n",
        "\n",
        "        return collection\n",
        "    except Exception as e:\n",
        "        raise RuntimeError(f\"Error setting up collection: {str(e)}\")\n",
        "\n",
        "setup_collection(cluster, CB_BUCKET_NAME, SCOPE_NAME, COLLECTION_NAME)\n",
        "setup_collection(cluster, CB_BUCKET_NAME, SCOPE_NAME, CACHE_COLLECTION)"
      ]
    },
    {
      "cell_type": "markdown",
      "metadata": {
        "id": "NMJ7RRYp8mjV"
      },
      "source": [
        "# Loading Couchbase Vector Search Index\n",
        "\n",
        "Semantic search requires an efficient way to retrieve relevant documents based on a user's query. This is where the Couchbase **Vector Search Index** comes into play. In this step, we load the Vector Search Index definition from a JSON file, which specifies how the index should be structured. This includes the fields to be indexed, the dimensions of the vectors, and other parameters that determine how the search engine processes queries based on vector similarity.\n",
        "\n",
        "For more information on creating a vector search index, please follow the [instructions](https://docs.couchbase.com/cloud/vector-search/create-vector-search-index-ui.html).\n"
      ]
    },
    {
      "cell_type": "code",
      "execution_count": 7,
      "metadata": {
        "colab": {
          "base_uri": "https://localhost:8080/",
          "height": 90
        },
        "id": "y7xiCrOc8mmj",
        "outputId": "4994171c-0531-4cb5-f8d4-44743dc23def"
      },
      "outputs": [],
      "source": [
        "# If you are running this script locally (not in Google Colab), uncomment the following line\n",
        "# and provide the path to your index definition file.\n",
        "\n",
        "# index_definition_path = '/path_to_your_index_file/claude_index.json'  # Local setup: specify your file path here\n",
        "\n",
        "# # Version for Google Colab\n",
        "# def load_index_definition_colab():\n",
        "#     from google.colab import files\n",
        "#     print(\"Upload your index definition file\")\n",
        "#     uploaded = files.upload()\n",
        "#     index_definition_path = list(uploaded.keys())[0]\n",
        "\n",
        "#     try:\n",
        "#         with open(index_definition_path, 'r') as file:\n",
        "#             index_definition = json.load(file)\n",
        "#         return index_definition\n",
        "#     except Exception as e:\n",
        "#         raise ValueError(f\"Error loading index definition from {index_definition_path}: {str(e)}\")\n",
        "\n",
        "# Version for Local Environment\n",
        "def load_index_definition_local(index_definition_path):\n",
        "    try:\n",
        "        with open(index_definition_path, 'r') as file:\n",
        "            index_definition = json.load(file)\n",
        "        return index_definition\n",
        "    except Exception as e:\n",
        "        raise ValueError(f\"Error loading index definition from {index_definition_path}: {str(e)}\")\n",
        "\n",
        "# Usage\n",
        "# Uncomment the appropriate line based on your environment\n",
        "# index_definition = load_index_definition_colab()\n",
        "index_definition = load_index_definition_local('claude_index.json')"
      ]
    },
    {
      "cell_type": "markdown",
      "metadata": {
        "id": "v_ddPQ_Y8mpm"
      },
      "source": [
        "# Creating or Updating Search Indexes\n",
        "\n",
        "With the index definition loaded, the next step is to create or update the **Vector Search Index** in Couchbase. This step is crucial because it optimizes our database for vector similarity search operations, allowing us to perform searches based on the semantic content of documents rather than just keywords. By creating or updating a Vector Search Index, we enable our search engine to handle complex queries that involve finding semantically similar documents using vector embeddings, which is essential for a robust semantic search engine."
      ]
    },
    {
      "cell_type": "code",
      "execution_count": 8,
      "metadata": {
        "colab": {
          "base_uri": "https://localhost:8080/"
        },
        "id": "bHEpUu1l8msx",
        "outputId": "449ab04e-1cdd-40ec-cb6e-bba5743b1def"
      },
      "outputs": [
        {
          "name": "stderr",
          "output_type": "stream",
          "text": [
            "2025-02-05 13:19:13,494 - INFO - Creating new index 'vector_search_claude'...\n",
            "2025-02-05 13:19:13,517 - INFO - Index 'vector_search_claude' successfully created/updated.\n"
          ]
        }
      ],
      "source": [
        "try:\n",
        "    scope_index_manager = cluster.bucket(CB_BUCKET_NAME).scope(SCOPE_NAME).search_indexes()\n",
        "\n",
        "    # Check if index already exists\n",
        "    existing_indexes = scope_index_manager.get_all_indexes()\n",
        "    index_name = index_definition[\"name\"]\n",
        "\n",
        "    if index_name in [index.name for index in existing_indexes]:\n",
        "        logging.info(f\"Index '{index_name}' found\")\n",
        "    else:\n",
        "        logging.info(f\"Creating new index '{index_name}'...\")\n",
        "\n",
        "    # Create SearchIndex object from JSON definition\n",
        "    search_index = SearchIndex.from_json(index_definition)\n",
        "\n",
        "    # Upsert the index (create if not exists, update if exists)\n",
        "    scope_index_manager.upsert_index(search_index)\n",
        "    logging.info(f\"Index '{index_name}' successfully created/updated.\")\n",
        "\n",
        "except QueryIndexAlreadyExistsException:\n",
        "    logging.info(f\"Index '{index_name}' already exists. Skipping creation/update.\")\n",
        "\n",
        "except InternalServerFailureException as e:\n",
        "    error_message = str(e)\n",
        "    logging.error(f\"InternalServerFailureException raised: {error_message}\")\n",
        "\n",
        "    try:\n",
        "        # Accessing the response_body attribute from the context\n",
        "        error_context = e.context\n",
        "        response_body = error_context.response_body\n",
        "        if response_body:\n",
        "            error_details = json.loads(response_body)\n",
        "            error_message = error_details.get('error', '')\n",
        "\n",
        "            if \"collection: 'claude' doesn't belong to scope: 'shared'\" in error_message:\n",
        "                raise ValueError(\"Collection 'claude' does not belong to scope 'shared'. Please check the collection and scope names.\")\n",
        "\n",
        "    except ValueError as ve:\n",
        "        logging.error(str(ve))\n",
        "        raise\n",
        "\n",
        "    except Exception as json_error:\n",
        "        logging.error(f\"Failed to parse the error message: {json_error}\")\n",
        "        raise RuntimeError(f\"Internal server error while creating/updating search index: {error_message}\")"
      ]
    },
    {
      "cell_type": "markdown",
      "metadata": {
        "id": "7FvxRsg38m3G"
      },
      "source": [
        "# Creating OpenAI Embeddings\n",
        "Embeddings are at the heart of semantic search. They are numerical representations of text that capture the semantic meaning of the words and phrases. Unlike traditional keyword-based search, which looks for exact matches, embeddings allow our search engine to understand the context and nuances of language, enabling it to retrieve documents that are semantically similar to the query, even if they don't contain the exact keywords. By creating embeddings using OpenAI, we equip our search engine with the ability to understand and process natural language in a way that's much closer to how humans understand language. This step transforms our raw text data into a format that the search engine can use to find and rank relevant documents.\n",
        "\n"
      ]
    },
    {
      "cell_type": "code",
      "execution_count": 9,
      "metadata": {
        "colab": {
          "base_uri": "https://localhost:8080/"
        },
        "id": "_75ZyCRh8m6m",
        "outputId": "711f7aa9-4a1b-4252-b64c-7bb5cfbafa2f"
      },
      "outputs": [
        {
          "name": "stderr",
          "output_type": "stream",
          "text": [
            "2025-02-05 13:19:13,537 - INFO - Successfully created OpenAIEmbeddings\n"
          ]
        }
      ],
      "source": [
        "try:\n",
        "    embeddings = OpenAIEmbeddings(openai_api_key=OPENAI_API_KEY, model='text-embedding-ada-002')\n",
        "    logging.info(\"Successfully created OpenAIEmbeddings\")\n",
        "except Exception as e:\n",
        "    raise ValueError(f\"Error creating OpenAIEmbeddings: {str(e)}\")"
      ]
    },
    {
      "cell_type": "markdown",
      "metadata": {
        "id": "8IwZMUnF8m-N"
      },
      "source": [
        "#  Setting Up the Couchbase Vector Store\n",
        "A vector store is where we'll keep our embeddings. Unlike the FTS index, which is used for text-based search, the vector store is specifically designed to handle embeddings and perform similarity searches. When a user inputs a query, the search engine converts the query into an embedding and compares it against the embeddings stored in the vector store. This allows the engine to find documents that are semantically similar to the query, even if they don't contain the exact same words. By setting up the vector store in Couchbase, we create a powerful tool that enables our search engine to understand and retrieve information based on the meaning and context of the query, rather than just the specific words used."
      ]
    },
    {
      "cell_type": "code",
      "execution_count": 10,
      "metadata": {
        "colab": {
          "base_uri": "https://localhost:8080/"
        },
        "id": "DwIJQjYT9RV_",
        "outputId": "6aae222c-65d2-48d7-ce0a-17291e8e06b6"
      },
      "outputs": [
        {
          "name": "stderr",
          "output_type": "stream",
          "text": [
            "2025-02-05 13:19:13,559 - INFO - Successfully created vector store\n"
          ]
        }
      ],
      "source": [
        "try:\n",
        "    vector_store = CouchbaseVectorStore(\n",
        "        cluster=cluster,\n",
        "        bucket_name=CB_BUCKET_NAME,\n",
        "        scope_name=SCOPE_NAME,\n",
        "        collection_name=COLLECTION_NAME,\n",
        "        embedding=embeddings,\n",
        "        index_name=INDEX_NAME,\n",
        "    )\n",
        "    logging.info(\"Successfully created vector store\")\n",
        "except Exception as e:\n",
        "    raise ValueError(f\"Failed to create vector store: {str(e)}\")\n"
      ]
    },
    {
      "cell_type": "markdown",
      "metadata": {},
      "source": [
        "# Load the BBC News Dataset\n",
        "To build a search engine, we need data to search through. We use the BBC News dataset from RealTimeData, which provides real-world news articles. This dataset contains news articles from BBC covering various topics and time periods. Loading the dataset is a crucial step because it provides the raw material that our search engine will work with. The quality and diversity of the news articles make it an excellent choice for testing and refining our search engine, ensuring it can handle real-world news content effectively.\n",
        "\n",
        "The BBC News dataset allows us to work with authentic news articles, enabling us to build and test a search engine that can effectively process and retrieve relevant news content. The dataset is loaded using the Hugging Face datasets library, specifically accessing the \"RealTimeData/bbc_news_alltime\" dataset with the \"2024-12\" version."
      ]
    },
    {
      "cell_type": "code",
      "execution_count": 11,
      "metadata": {},
      "outputs": [
        {
          "name": "stderr",
          "output_type": "stream",
          "text": [
            "2025-02-05 13:19:19,926 - INFO - Successfully loaded the BBC News dataset with 2687 rows.\n"
          ]
        },
        {
          "name": "stdout",
          "output_type": "stream",
          "text": [
            "Loaded the BBC News dataset with 2687 rows\n"
          ]
        }
      ],
      "source": [
        "try:\n",
        "    news_dataset = load_dataset(\n",
        "        \"RealTimeData/bbc_news_alltime\", \"2024-12\", split=\"train\"\n",
        "    )\n",
        "    print(f\"Loaded the BBC News dataset with {len(news_dataset)} rows\")\n",
        "    logging.info(f\"Successfully loaded the BBC News dataset with {len(news_dataset)} rows.\")\n",
        "except Exception as e:\n",
        "    raise ValueError(f\"Error loading the BBC News dataset: {str(e)}\")"
      ]
    },
    {
      "cell_type": "markdown",
      "metadata": {},
      "source": [
        "## Cleaning up the Data\n",
        "We will use the content of the news articles for our RAG system.\n",
        "\n",
        "The dataset contains a few duplicate records. We are removing them to avoid duplicate results in the retrieval stage of our RAG system."
      ]
    },
    {
      "cell_type": "code",
      "execution_count": 12,
      "metadata": {},
      "outputs": [
        {
          "name": "stdout",
          "output_type": "stream",
          "text": [
            "We have 1749 unique articles in our database.\n"
          ]
        }
      ],
      "source": [
        "news_articles = news_dataset[\"content\"]\n",
        "unique_articles = set()\n",
        "for article in news_articles:\n",
        "    if article:\n",
        "        unique_articles.add(article)\n",
        "unique_news_articles = list(unique_articles)\n",
        "print(f\"We have {len(unique_news_articles)} unique articles in our database.\")"
      ]
    },
    {
      "cell_type": "markdown",
      "metadata": {},
      "source": [
        "## Saving Data to the Vector Store\n",
        "Now that we have our Vector store configured, we'll populate it with the BBC news articles using either manual or automatic processing. In manual mode, articles are processed in batches of 50, while automatic mode processes all articles at once. Both modes skip articles exceeding 50,000 characters due to the embedding model's token limit. \n",
        "\n",
        "In manual mode, the code uses tqdm to show a progress bar as articles are processed batch by batch. Each batch is added to the vector store using add_texts(), with error handling for individual articles and batches. Any remaining articles in a partial final batch are also processed.\n",
        "\n",
        "In automatic mode, the code filters out articles exceeding the character limit and processes all valid articles in a single batch. Both modes use Amazon Bedrock to generate vector embeddings enabling semantic search capabilities.\n",
        "\n",
        "The user can select the processing mode via input prompt, with logging to track the selected mode and completion status. Invalid mode selections raise an error."
      ]
    },
    {
      "cell_type": "code",
      "execution_count": 13,
      "metadata": {},
      "outputs": [
        {
          "name": "stderr",
          "output_type": "stream",
          "text": [
            "2025-02-05 13:20:18,218 - INFO - Automatic processing completed successfully\n"
          ]
        }
      ],
      "source": [
        "if BATCH_PROCESSING_MODE == \"manual\":\n",
        "    # Manual batch processing\n",
        "    batch_size = 50\n",
        "    texts = []\n",
        "\n",
        "    for article in tqdm(unique_news_articles, desc=\"Processing articles\"):\n",
        "        try:\n",
        "            # Skip articles that exceed the model's token limit (50,000 characters)\n",
        "            if len(article) > 50000:\n",
        "                print(f\"Skipping article with length {len(article)} - exceeds 50,000 character limit\")\n",
        "                continue\n",
        "                \n",
        "            # Add article to current batch\n",
        "            texts.append(article)\n",
        "            \n",
        "            # When batch is full, add to vector store\n",
        "            if len(texts) >= batch_size:\n",
        "                vector_store.add_texts(texts=texts, batch_size=batch_size)\n",
        "                # Clear list for next batch\n",
        "                texts = []\n",
        "                \n",
        "        except Exception as e:\n",
        "            print(f\"Failed to process article: {str(e)}\")\n",
        "            continue\n",
        "\n",
        "    # Add any remaining documents in the final batch\n",
        "    if texts:\n",
        "        try:\n",
        "            vector_store.add_texts(texts=texts, batch_size=batch_size)\n",
        "        except Exception as e:\n",
        "            print(f\"Failed to save final batch to vector store: {str(e)}\")\n",
        "    \n",
        "    logging.info(\"Manual processing completed successfully\")\n",
        "\n",
        "elif BATCH_PROCESSING_MODE == \"automatic\":\n",
        "    # Automatic Batch Processing\n",
        "    articles = [article for article in unique_news_articles if article and len(article) <= 50000]\n",
        "\n",
        "    try:\n",
        "        vector_store.add_texts(\n",
        "            texts=articles\n",
        "        )\n",
        "        logging.info(\"Automatic processing completed successfully\")\n",
        "    except Exception as e:\n",
        "        raise ValueError(f\"Failed to save documents to vector store: {str(e)}\")\n",
        "\n",
        "else:\n",
        "    raise ValueError(\"Invalid processing mode. Please enter 'manual' or 'automatic'.\")"
      ]
    },
    {
      "cell_type": "markdown",
      "metadata": {
        "id": "8Pn8-dQw9RfQ"
      },
      "source": [
        "# Setting Up a Couchbase Cache\n",
        "To further optimize our system, we set up a Couchbase-based cache. A cache is a temporary storage layer that holds data that is frequently accessed, speeding up operations by reducing the need to repeatedly retrieve the same information from the database. In our setup, the cache will help us accelerate repetitive tasks, such as looking up similar documents. By implementing a cache, we enhance the overall performance of our search engine, ensuring that it can handle high query volumes and deliver results quickly.\n",
        "\n",
        "Caching is particularly valuable in scenarios where users may submit similar queries multiple times or where certain pieces of information are frequently requested. By storing these in a cache, we can significantly reduce the time it takes to respond to these queries, improving the user experience.\n"
      ]
    },
    {
      "cell_type": "code",
      "execution_count": 14,
      "metadata": {
        "colab": {
          "base_uri": "https://localhost:8080/"
        },
        "id": "V2y7dyjf9Rid",
        "outputId": "5e342184-2fb1-44d3-90c1-cf45b3ca97f3"
      },
      "outputs": [
        {
          "name": "stderr",
          "output_type": "stream",
          "text": [
            "2025-02-05 13:20:18,260 - INFO - Successfully created cache\n"
          ]
        }
      ],
      "source": [
        "try:\n",
        "    cache = CouchbaseCache(\n",
        "        cluster=cluster,\n",
        "        bucket_name=CB_BUCKET_NAME,\n",
        "        scope_name=SCOPE_NAME,\n",
        "        collection_name=CACHE_COLLECTION,\n",
        "    )\n",
        "    logging.info(\"Successfully created cache\")\n",
        "    set_llm_cache(cache)\n",
        "except Exception as e:\n",
        "    raise ValueError(f\"Failed to create cache: {str(e)}\")"
      ]
    },
    {
      "cell_type": "markdown",
      "metadata": {
        "id": "uehAx36o9Rlm"
      },
      "source": [
        "# Using the Claude 3.5 Sonnet Language Model (LLM)\n",
        "Language models are AI systems that are trained to understand and generate human language. We'll be using the `Claude 3.5 Sonnet` language model to process user queries and generate meaningful responses. This model is a key component of our semantic search engine, allowing it to go beyond simple keyword matching and truly understand the intent behind a query. By creating this language model, we equip our search engine with the ability to interpret complex queries, understand the nuances of language, and provide more accurate and contextually relevant responses.\n",
        "\n",
        "The language model's ability to understand context and generate coherent responses is what makes our search engine truly intelligent. It can not only find the right information but also present it in a way that is useful and understandable to the user.\n",
        "\n"
      ]
    },
    {
      "cell_type": "code",
      "execution_count": 15,
      "metadata": {
        "colab": {
          "base_uri": "https://localhost:8080/"
        },
        "id": "yRAfBRLH9RpO",
        "outputId": "4b48b13f-ee7b-4f73-ac7a-db9d3da3f094"
      },
      "outputs": [
        {
          "name": "stderr",
          "output_type": "stream",
          "text": [
            "2025-02-05 13:20:18,273 - INFO - Successfully created ChatAnthropic\n"
          ]
        }
      ],
      "source": [
        "try:\n",
        "    llm = ChatAnthropic(temperature=0.1, anthropic_api_key=ANTHROPIC_API_KEY, model_name='claude-3-5-sonnet-20241022')\n",
        "    logging.info(\"Successfully created ChatAnthropic\")\n",
        "except Exception as e:\n",
        "    logging.error(f\"Error creating ChatAnthropic: {str(e)}. Please check your API key and network connection.\")\n",
        "    raise"
      ]
    },
    {
      "cell_type": "markdown",
      "metadata": {
        "id": "k_XDfCx19UvG"
      },
      "source": [
        "# Perform Semantic Search\n",
        "Semantic search in Couchbase involves converting queries and documents into vector representations using an embeddings model. These vectors capture the semantic meaning of the text and are stored directly in Couchbase. When a query is made, Couchbase performs a similarity search by comparing the query vector against the stored document vectors. The similarity metric used for this comparison is configurable, allowing flexibility in how the relevance of documents is determined. Common metrics include cosine similarity, Euclidean distance, or dot product, but other metrics can be implemented based on specific use cases. Different embedding models like BERT, Word2Vec, or GloVe can also be used depending on the application's needs, with the vectors generated by these models stored and searched within Couchbase itself.\n",
        "\n",
        "In the provided code, the search process begins by recording the start time, followed by executing the similarity_search_with_score method of the CouchbaseVectorStore. This method searches Couchbase for the most relevant documents based on the vector similarity to the query. The search results include the document content and a similarity score that reflects how closely each document aligns with the query in the defined semantic space. The time taken to perform this search is then calculated and logged, and the results are displayed, showing the most relevant documents along with their similarity scores. This approach leverages Couchbase as both a storage and retrieval engine for vector data, enabling efficient and scalable semantic searches. The integration of vector storage and search capabilities within Couchbase allows for sophisticated semantic search operations without relying on external services for vector storage or comparison."
      ]
    },
    {
      "cell_type": "code",
      "execution_count": 31,
      "metadata": {
        "colab": {
          "base_uri": "https://localhost:8080/"
        },
        "id": "Pk-oFbnC9Uym",
        "outputId": "2a0ee48a-dc92-4d06-86d2-ae479caf5250"
      },
      "outputs": [
        {
          "name": "stderr",
          "output_type": "stream",
          "text": [
            "2025-02-05 13:28:44,894 - INFO - Semantic search completed in 0.43 seconds\n"
          ]
        },
        {
          "name": "stdout",
          "output_type": "stream",
          "text": [
            "\n",
            "Semantic Search Results (completed in 0.43 seconds):\n",
            "--------------------------------------------------------------------------------\n",
            "Score: 0.8352, Text: 'He's in my heart' - Soucek's goal tribute to injured Antonio\n",
            "\n",
            "Michail Antonio had appeared in all 14 of West Ham's matches in the Premier League prior to Monday\n",
            "\n",
            "Tomas Soucek dedicated his goal in West Ham's crucial 2-1 win over Wolves to Michail Antonio - and revealed the players had a video call with their injured team-mate before Monday's game. The Hammers forward, 34, remains in hospital after being involved in a car crash on Saturday. Antonio had surgery on Sunday on a lower limb fracture and will continue to receive care over the coming days. Soucek and Jarrod Bowen scored as West Ham overcame Wolves for a vital victory to move nine points clear of the relegation zone and ease the pressure on under-fire head coach Julen Lopetegui. When asked about Antonio, midfielder Soucek told Sky Sports: \"The goal was for him. I said before the game I really wanted to score even more today. \"He's been here since I came here - he is really my favourite. I said it would be tough for me to play without him. \"I am happy that he is doing fine, but this is for him. He is a massive player and he is in my heart.\" The 29-year-old Czech international was worried when he heard the news of Antonio's accident as he added: \"It was really tough for us. I was with the kids and I saw this information on the phone. I messaged everyone asking what happened and how he was. \"I was so scared what was going to happen. It was a really tough week for him, his family and us. \"We had a video call with him, the whole team, before the game. He smiled to us and gave us all the best. I can't wait to visit him. He is a really lovely guy and also funny. He even made a few jokes before the game and he wished us all the best.\" Jamaica international Antonio is West Ham's all-time leading scorer in the Premier League, with 68 goals in 268 league appearances. Soucek held up nine fingers, representing Antonio's shirt number, when celebrating his opener against second-bottom Wolves, while captain Bowen held up Antonio's shirt too after netting the 72nd-minute winner. Antonio joined the club in 2015 and Soucek added: \"He is probably one of the best players West Ham have had. \"He will be soon with us. These things can happen, but hopefully he will be even better soon.\"\n",
            "\n",
            "This video can not be played To play this video you need to enable JavaScript in your browser.\n",
            "\n",
            "All proceeds from auctioned attire will also be matched by the West Ham board.\n",
            "\n",
            "West Ham's players warmed up in Antonio shirts prior to the game at London Stadium. \"Everyone loves Mic, he is big character and waiting for news on the Saturday was difficult,\" Bowen told Sky Sports before kick-off. \"He is not just a team-mate, he is a friend and has been for many years - a dad as well, to beautiful children. I just want to say thank you to all the support from everyone. As captain I've seen all the messages and support Mic has got. \"It is one of those things where life is bigger than football. The main thing is Mic is safe and well and he is here to tell the story. He is a warrior and a fighter, he always has been, through his career and I know he will be back stronger for this.\" Manager Lopetegui added: \"Fortunately he was a miracle, looking at the picture of the the car. These are more important things, the person, the dad, the brother. \"We are happy because he overcame the surgery that he had yesterday.\" There was also a minute's applause for Antonio in the ninth minute at the London Stadium once the game against Wolves had kicked off. The Hammers said the special 'Antonio 9' shirts, walking-out tops and the players' match-worn shirts will be signed and auctioned off, with the proceeds donated to the National Health Service and Air Ambulances UK. In a statement, the club added it \"would like to reiterate heartfelt thanks to the first responders, emergency services, air ambulance staff and the NHS for the incredible support given to Michail in the wake of the accident\".\n",
            "--------------------------------------------------------------------------------\n",
            "Score: 0.7888, Text: Forensic officers are on the scene in central London\n",
            "\n",
            "A man has been arrested on suspicion of attempted murder after four pedestrians were injured in London's West End. Police were called following reports a car was driven on the wrong side of the road in Shaftesbury Avenue, in Soho, at 00:45 GMT on Wednesday. One pedestrian was in a life-threatening condition, Met Police said. The driver - a 31-year-old man - was arrested on suspicion of attempted murder.\n",
            "\n",
            "Police say four pedestrians were injured\n",
            "\n",
            "Police are treating it as an isolated incident and said was not terror-related. A Met Police spokesperson said officers were called to \"reports of a road traffic collision and a car driving on the wrong side of the road\". Earlier today forensic officers were seen bagging up shoes and other items of clothing from the pavement. Various cordons remain in place around Shaftesbury Avenue. Deputy Assistant Commissioner Stuart Cundy said: \"Detectives are quickly progressing inquiries as part of this investigation. “It's believed that the suspect was involved in an altercation at a nightclub prior to getting in his car and mounting the pavement.\"\n",
            "--------------------------------------------------------------------------------\n",
            "Score: 0.7784, Text: A man accused of murdering four women and a nine-year-old boy by driving a car into them at a Christmas market in the German city of Magdeburg has been remanded in custody. The 50-year-old was brought before a judge on Saturday evening following the incident on Friday when a black BMW car ploughed through the crowded market injuring more than 200 people. Magdeburg Police said investigations are continuing and officers are appealing for witnesses to send in photos or video of the incident. The suspect has been named in local media as Taleb al-Abdulmohsen, a 50-year-old Saudi citizen who arrived in Germany in 2006 and had worked as a doctor.\n",
            "\n",
            "Magdeburg police said the four women killed were aged 45, 52, 67 and 75. \"The judge ordered pre-trial detention for five counts of murder, multiple attempted murder and multiple counts of dangerous bodily harm,\" its statement said. City officials said around 100 police, medics and firefighters, as well as 50 rescue service personnel, went to the scene shortly after 19:00 local time (18:00 GMT) on Friday.\n",
            "\n",
            "People lay floral tributes and placed candles close to the scene of Friday's attack\n",
            "\n",
            "Witnesses described how they had to jump out of the car's path during the attack. In an interview with German paper Bild, one woman called Nadine described being at the Christmas market with her boyfriend Marco when the car came speeding towards them. \"He was hit and pulled away from my side,\" the 32-year-old told the paper. \"It was terrible.\" Lars Frohmüller, a reporter for German public broadcaster MDR, told BBC Radio 4's World Tonight programme he saw \"blood on the floor\" as well as \"many doctors trying to keep people warm and help them with their injuries\".\n",
            "\n",
            "A memorial service for victims of the attack was held at Magdeburg Cathedral on Saturday evening The service was attended by families of the victims, emergency workers and federal government officials, including German Chancellor Olaf Scholz.\n",
            "\n",
            "Chancellor Olaf Scholz has condemned the \"terrible, insane\" attack that has so far killed five people\n",
            "\n",
            "During a visit to the market earlier on Saturday, Scholz described the attack as a \"dreadful tragedy\" as \"so many people were injured and killed with such brutality\" in a place that is supposed to be \"joyful\". He told reporters that there were serious concerns for those who had been critically injured and that \"all resources\" will be allocated to investigating the suspect behind the attack. Previously, Reiner Haseloff, the premier of Saxony-Anhalt state, said a preliminary investigation suggested the alleged attacker was acting alone. Prosecutor Horst Walter Nopens said on Saturday that the investigation was ongoing but suggested one potential motive for the attack \"could have been disgruntlement with the way Saudi Arabian refugees are treated in Germany\".\n",
            "\n",
            "Al-Abdulmohsen is thought to have driven into the market through an entry point which was reserved for emergency vehicles, police said. The suspect is a psychiatrist who lived in Bernburg, around 40km (25 miles) south of Magdeburg. Originally from Saudi Arabia, al-Abdulmohsen arrived in Germany in 2006 and in 2016 was recognised as a refugee. He ran a website that aimed to help other former Muslims flee persecution in their Gulf homelands.\n",
            "\n",
            "The suspected attacker has no known links to Islamist extremism. His social media and posts appear to suggest he had been critical of Islam. A source close to the Saudi government told the BBC it sent four official notifications known as \"Notes Verbal\" to German authorities, warning them about what they said were \"the very extreme views\" held by al-Abdulmohsen. The source, who asked not to be named, said these notifications were ignored. However, another experienced counter-terrorism expert said the Saudis may be mounting a disinformation campaign to discredit someone who tried to help young Saudi women seek asylum in Germany.\n",
            "--------------------------------------------------------------------------------\n",
            "Score: 0.7689, Text: The vehicle, which had \"press\" markings, was parked at a hospital when it was hit\n",
            "\n",
            "A Palestinian TV channel says five of its journalists have been killed in an Israeli strike in the central Gaza Strip. They were in a Quds Today van parked outside al-Awda hospital, where the wife of one of the journalists was about to give birth, in the central Nuseirat refugee camp. The channel posted a video of what it said was the burning vehicle with \"press\" signage on the back doors. The Israel Defense Forces (IDF) said it had targeted \"Islamic Jihad operatives posing as journalists\" and that steps were taken to avoid harming civilians.\n",
            "\n",
            "The BBC has not been able to verify claims made by either side, with international media being prevented by Israel from entering and freely working on the ground in Gaza. Quds Today is affiliated with the Palestinian Islamic Jihad (PIJ), an armed group that took part in the 7 October 2023 Hamas-led attack on Israel. The unprecedented attack triggered the war in Gaza. The TV channel is believed to receive funding from the group. In a separate development, the director of the Kamal Adwan hospital on the northern edge of Gaza said on Thursday about 50 people, including five of its staff, had been killed in an Israeli strike on a building by the hospital. A paediatrician and two paramedics were among them. The IDF said it was \"unaware of strikes\" in the hospital area, adding that it was looking into claims that five doctors had been killed. \"The number of casualties reported in the media does not align with the information held by the IDF,\" it said. The Committee to Protect Journalists (CPJ) said it was \"devastated by the reports\" of five journalists being killed in the central Gaza Strip. \"Journalists are civilians and must always be protected,\" it said. The Israeli military named the five killed as Ibrahim Jamal Ibrahim Al-Sheikh Ali; Faisal Abdallah Muhammad Abu Qamsan; Mohammed Ayad Khamis al-Ladaa; Ayman Nihad Abd Alrahman Jadi; and Fadi Ihab Muhammad Ramadan Hassouna. It said \"intelligence from multiple sources confirmed\" that all were PIJ operatives, and that a list found during an operation in Gaza \"explicitly identified four\" of them as such. In a statement, Quds Today said the men \"were killed as they carried out their media and humanitarian duty\". As of 20 December, at least 133 Palestinian journalists have been killed during the course of the war, making it the deadliest conflict for journalists, according to the CPJ. The press freedom organisation has called for accountability for Palestinian journalists who have been directly targeted by the Israeli military. At least another five people were also reported killed in Israeli strikes on Gaza City on Wednesday. The Palestinian Wafa news agency, and the Hamas-run Gaza health ministry, also said a further 20 people were injured in the city's al-Zeitoun neighbourhood. The Israeli military has not commented on the reported bombing. Meanwhile, the father of a two-week-old Palestinian girl has told the BBC how his baby daughter froze to death in a tent in Gaza - the third child in a week to die in similar conditions. Mahmoud Ismail Al-Faseeh said he woke up in the severe cold to find his daughter, Sila, suffering convulsions. She was rushed to hospital but died from hypothermia, the head of paediatrics at Nasser Hospital in Khan Younis told the Associated Press news agency. The family was sheltering in al-Mawasi area on Gaza's coast, a strip of land designated by the Israel Defense Forces (IDF) as a humanitarian zone but which has been hit by air strikes. Ahmed al-Farra, the head of paediatrics, said two other babies - one three days old and the other a month old - had been brought in over the past 48 hours after dying from hypothermia. Hopes of progress towards a ceasefire in recent days have begun to recede, with Hamas and Israel blaming each other. Hamas accused the Israeli government of imposing \"new conditions\" that it said were delaying the agreement. Israeli Prime Minister Benjamin Netanyahu said the group was reneging on understandings that had already been reached about a possible ceasefire. The latest statements mark a notable change of tone on both sides following optimistic signals. The Israeli military launched air strikes and a ground offensive in the Gaza Strip in response to last year's Hamas attack. About 1,200 people were killed in the attack and another 251 taken back to Gaza as hostages. More than 45,000 Palestinians have been killed in Israel's offensive, Gaza's health ministry says. Almost two million people - 90% of the population - have been displaced, according to the UN.\n",
            "--------------------------------------------------------------------------------\n",
            "Score: 0.7675, Text: Kahir Shahin Hussain was named locally as the man killed by a falling tree\n",
            "\n",
            "A man who was killed by a falling tree during Storm Darragh has been named locally as Kahir Shahin Hussain. Mr Shahin died on Saturday when a tree collapsed and fell on to a car on Sutton Road in Erdington, Birmingham, at about 15:00 GMT. In a post on X, external, Birmingham city councillor Majid Mahmood named Mr Shahin as the victim and said his thoughts and prayers were with his family. West Midlands Police said the case had been referred to the coroner.\n",
            "\n",
            "Residents spoke of their horror after the incident, with Hafiz Khalid saying he heard a \"big bang\" and his daughter's scream as she looked out the window. He said a \"big chunk\" of the tree had fallen across the car's windscreen.\n",
            "\n",
            "The man was fatally injured as the tree fell down on Sutton Road in Erdington on Saturday evening\n",
            "\n",
            "\"People were trying to open the doors,\" he said, adding the vehicle's horn was sounding continuously.\" \"The police arrived and they opened the back window on the left side, and looked into it and shouted 'can you hear?' and there was no noise from [inside] the car.\" Sgt Benjamin Parsons, of the West Midlands roads policing unit, confirmed the victim's next of kin had been informed.\n",
            "\n",
            "Tell us which stories we should cover in Birmingham and the Black Country\n",
            "--------------------------------------------------------------------------------\n",
            "Score: 0.7667, Text: Brazil's President Luiz Inácio Lula da Silva is doing \"well\" after undergoing surgery for a brain bleed, his doctors say. The 79-year-old was taken to hospital in the capital, Brasília, on Monday after he had complained of a severe headache. An MRI scan revealed the bleed and Lula was transferred to the renowned Sírio-Libanês hospital in São Paulo to have it drained. The intracranial haemorrhage was caused by a blow to the head he sustained when he fell in his bathroom at the presidential residence in October, according to a hospital statement.\n",
            "\n",
            "Doctors said they had performed a craniotomy on the president, a procedure in which part of the bone is surgically removed from the skull to treat the bleed and relieve the pressure. The bone is then replaced. In a news conference on Tuesday morning local time, the doctors said that the president was in a stable condition following the surgery and was conscious. They said Lula was \"lucid\" and conversing with medical staff. They also insisted that he had not sustained any brain injury and was not experiencing and after-effects from the surgery. Asked when he would return to the capital, doctors said that if everything went well, they expected Lula to be back in Brasilia \"next week\". Earlier, the presidential spokesman, Paulo Pimenta, had said that Lula would likely remain in the intensive care unit for another 48 hours. \"He is stable, conscious and calm,\" Mr Pimenta said. While Lula is in hospital, Vice-President Geraldo Alckmin will take on some of the president's commitments, including welcoming Slovak Prime Minister Robert Fico, who is due to arrive in Brazil later today. The doctors said the bleeding was a result of the fall Lula had sustained in October. They explained that it was not unusual for problems from a blow to the head to appear \"months later\". Lula had slipped in the bathroom in the Alvorada Palace on 19 October and hit the back of his head. He had to have five stitches and, on his doctors' advice, cancelled his planned trip to Russia for a summit of the Brics countries. He returned to full duties days later. Lula has been in power since 1 January 2023 after narrowly beating the incumbent, Jair Bolsonaro, in a bitterly fought election. During the election campaign, he often joked that he had \"the energy of a 30-year-old\".\n",
            "--------------------------------------------------------------------------------\n",
            "Score: 0.7651, Text: Mr Voyce's family have expressed their gratitude for all the help and support from police, friends and the local community\n",
            "\n",
            "Police fear former England rugby international Tom Voyce has died after he went missing in an area of Northumberland which was flooded during Storm Darragh. Northumbria Police began its search on Sunday lunchtime when the 43-year-old did not return home from an evening with friends. It is suspected Mr Voyce attempted to cross Abberwick Ford, near Alnwick, in his car which was then pulled along by the current of the river. Officers have since recovered the vehicle, but a force spokesperson said: \"It is believed in his attempts to escape he has been swept away and tragically died.\"\n",
            "\n",
            "Specialist officers from the Northumbria Police's Marine Section, the National Police Air Service, drones and dog handlers were all deployed in the search. Volunteers from the two Mountain Rescue teams based in Northumberland have also been assisting, alongside Mr Voyce's family and friends. His wife Anna and his family expressed their gratitude for all the help and support from police, friends and the local community.\n",
            "\n",
            "Abberwick Ford near Bolton, Northumberland, is still deep under water\n",
            "\n",
            "Ch Supt Helena Barron said: \"This is an extremely tragic incident and our thoughts are very much with Tom's loved ones at this time. \"Our searches continue but we are dealing with very challenging circumstances in trying to recover Tom. \"This is down to the conditions, including the river flow and the level being significantly heightened due to the exceptionally heavy rain we experienced over the weekend.\" A team from Northumberland Fire Service secured Mr Voyce's car to the riverbank, but the brigade has since been stood down from the search.\n",
            "\n",
            "Tom Voyce has not returned home following an evening with friends on Saturday\n",
            "\n",
            "Mr Voyce, from Truro in Cornwall, was capped nine times for England from 2001 until 2006. He played for Wasps, Bath and Gloucester before retiring from the sport in 2013, and has been living in Alnwick since 2020. The rugby community has rallied around Mr Voyce's loved ones. England Rugby said: \"Our thoughts and prayers are with the family and friends of Tom Voyce at this extremely challenging time.\" Gloucester Rugby said it was \"desperately sad to hear the distressing news regarding our former player and friend\", while Bath Rugby posted on X saying its \"thoughts and prayers\" are with Mr Voyce's loved ones.\n",
            "• None Search for missing man near ford flooded in storm\n",
            "--------------------------------------------------------------------------------\n",
            "Score: 0.7625, Text: This video can not be played To play this video you need to enable JavaScript in your browser. Watch: Luigi Mangione shouts at reporters while being escorted into court\n",
            "\n",
            "Police have found a positive match between the fingerprints of a suspect accused of fatally shooting healthcare insurance CEO Brian Thompson in New York to those discovered at the scene of the crime. Fingerprints found on a water bottle and a protein bar near the crime scene match those of 26-year-old Luigi Mangione, who was arrested in Pennsylvania on Monday after a nearly weeklong manhunt, NYPD Commissioner Jessica Tisch said on Wednesday. It marks the first forensic link tying Mr Mangione to the healthcare executive's murder outside a Manhattan hotel a week ago. The gun Mr Mangione was carrying when he was arrested also matches shell casings from the crime scene, Ms Tisch said.\n",
            "\n",
            "Mr Mangione was arrested on Monday after being spotted at a McDonald's in Altoona, Pennsylvania, where he is being held on gun-related charges as he fights extradition to New York to face murder charges. \"He's pleading not guilty to those offences,\" the lawyer said in relation to the Pennsylvania charges, adding: \"I haven't seen any evidence that he is the shooter.'\" US states each have different laws and judicial systems and the process involved in the transfer of fugitives could take days or weeks. Mr Mangione's arrest follows a days-long manhunt that spanned several states. He was allegedly found with a gun similar to the murder weapon, a silencer and a fake ID. Three handwritten pages were allegedly also in his possession. New York police said they took these to be a claim of responsibility in Mr Thompson's fatal shooting, since they appeared to record frustrations with the US healthcare system. The UnitedHealthcare chief executive, 50, was gunned down by a masked man outside a Manhattan hotel in what authorities have called a targeted attack.\n",
            "\n",
            "Mr Mangione was denied bail for a second time on Tuesday, after prosecutors said he was too dangerous to be released. The judge then gave prosecutors 30 days to seek a warrant from New York Governor Kathy Hochul to secure his extradition to the state. Hochul later said she would provide one. \"I am co-ordinating with the District Attorney's Office and will sign a request for a governor's warrant to ensure this individual is tried and held accountable,\" she said. Defence lawyers also have a two-week window in which to submit motions against Mr Mangione being moved to New York. The challenge was described by a Pennsylvania prosecutor as creating \"more hoops... to jump through\". Mr Mangione looked around at the rows of reporters in court and smiled at times. At one point, he interrupted his own lawyer, who quickly quietened him. Following the hearing on Tuesday afternoon, that lawyer, Thomas Dickey, spoke to reporters outside court. \"You can't rush to judgement in this case or any case,\" he said. \"He's presumed innocent. Let's not forget that.\" Mr Dickey reiterated his position to ABC News on Wednesday, saying he was not aware of any evidence that linked Mr Mangione's gun with the crime. \"A lot of guns look the same,\" he added. As for the handwritten pages - Mr Dickey conceded that they \"certainly, could be\" evidence, but added: \"I haven't seen any of that yet.\" Mr Mangione has been charged with several offences in Pennsylvania, including providing fraudulent identification to police and possessing an unlicensed firearm. He is being held at a Pennsylvania state prison and will plead not guilty. In New York, he faces separate charges including murder for Mr Thompson's killing on 4 December.\n",
            "\n",
            "This video can not be played To play this video you need to enable JavaScript in your browser.\n",
            "\n",
            "Mr Thompson was named chief executive of the company, which is the largest private insurer in the US, in April 2021. He had received threats before his death relating to medical coverage, according to his widow, Paulette Thompson, but a motive for his killing has not been suggested by prosecutors. On Tuesday, however, as police pored through evidence and worked to piece together Mr Mangione's movements after the shooting, more details emerged about his alleged grievances with the health insurance industry. New York Police Department's Chief of Detectives Joseph Kenny told Good Morning America that he had read a three-page handwritten note allegedly found on the suspect when he was arrested. \"He does make some indication that he's frustrated with the healthcare system in the United States,\" he said. \"He was writing a lot about his disdain for corporate America and in particular the healthcare industry.\" The note, which has been seen by several US media outlets, reportedly refers to \"parasites\" that \"had it coming\". He also allegedly writes that he acted alone.\n",
            "\n",
            "Brian Thompson was shot dead on 4 December as he was walking into a hotel where the company he led was holding an investors' meeting\n",
            "\n",
            "Former friends who spoke to the BBC said Mr Mangione had suffered from a back injury. They said he had left a surfing community in Hawaii over the summer of 2023 to undergo spinal surgery. RJ Martin, a former roommate of the suspect who knew him in Hawaii, said the injury \"prohibited him, at times, from just doing many normal things\". Various details of Mr Mangione's background have surfaced since his arrest. He was born in Maryland, to a wealthy, well-known family, and police say he has ties to San Francisco, California. His last-known address was in Honolulu, Hawaii. He attended the University of Pennsylvania, an Ivy League college, where he earned a bachelor's and a master's degree in software engineering. Local media reported that Mr Mangione's mother had reported him missing last month, telling authorities in San Francisco that she had not heard from her son since July. \"Our family is shocked and devastated by Luigi's arrest,\" Mr Mangione's family said in a statement posted on social media by his cousin. \"We offer our prayers to the family of Brian Thompson and we ask people to pray for all involved.\"\n",
            "\n",
            "This video can not be played To play this video you need to enable JavaScript in your browser. Watch: NY shooting suspect 'is no hero', says Pennsylvania governor\n",
            "--------------------------------------------------------------------------------\n",
            "Score: 0.7605, Text: Manchester United manager Ruben Amorim has questioned the \"choices\" of people close to forward Marcus Rashford. Rashford, 27, said he was \"ready for a new challenge\" in an interview after being dropped for the 2-1 win at Manchester City on 15 December. The England international subsequently missed the 4-3 Carabao Cup quarter-final defeat by Tottenham and was also left out as United lost 3-0 to Bournemouth on Sunday, adding to speculation he could leave Old Trafford in January. \"I understand these players have a lot of people around them, making choices that are not the first idea from the player. \"They chose to do the interview as it is not just Marcus.\"\n",
            "\n",
            "This video can not be played To play this video you need to enable JavaScript in your browser. 'He wants to play. He is trying'\n",
            "\n",
            "Rashford has scored 138 goals in 426 appearances for the club since making his debut in 2016, having come through the United youth ranks. However, while he managed 30 goals in all competitions in 2022-23, he has struggled for form in three of the previous four seasons and attracted criticism from pundits and fans for a number of laboured displays during that time. Amorim said he can \"separate\" the decisions of those advising Rashford from his relationship with the player. \"At the moment I'm focused on improving Marcus,\" he added. \"We need a talented guy like Marcus. I forget the interview now and see what I see on the pitch.\" Regarding Rashford's future, the Portuguese boss said it is for him and the club \"to deal with that when the time comes\". Speaking to the wider media before United face Wolverhampton Wanderers on Thursday, Amorim denied the talk around Rashford was a distraction, adding: \"Some guys have a big responsibility here because they have been here for a long time. \"If you have big talents, [we need] big performances, big responsibility, big engagement to push everybody forward in this moment. Like any other player, [we want him to be] the best he can be. \"This is maybe one of the lowest moments in our club. We have to face it and be strong.\" United's humbling defeat by the Cherries means they head into Christmas in 13th place in the Premier League, after Wolves they host Newcastle on 30 December. It will be their lowest position in the table at this stage since they were 15th in 1986, just over two months into Sir Alex Ferguson's reign as manager. Amorim had to halt his post-match news conference on Sunday because of a leak in the ceiling of the press room. Asked later how he intended to reverse fortunes at Old Trafford, the former Sporting coach pointed to the ceiling and said: \"If I knew, I would solve all the problems of this club, even this. \"I know what I am going to do. That is so clear for me. I will not say I feel relaxed because I'm really frustrated. It's a very difficult moment but we will solve problems step by step and find answers for everything.\"\n",
            "--------------------------------------------------------------------------------\n",
            "Score: 0.7600, Text: Brazil's Lula says he's well after brain bleed surgery\n",
            "\n",
            "Brazil's President Luiz Inácio Lula da Silva has been discharged from hospital after undergoing emergency surgery for a brain bleed, doctors said. The 79-year-old appeared alongside his medical team at a news conference at Sírio-Libanês hospital in São Paulo. \"This here is not an interview, this is simply a session to say thanks. To thank, firstly, God, who has looked after me in a very generous manner,\" he said. Lula was taken to hospital on Monday after he had complained of a severe headache.\n",
            "\n",
            "Doctors performed a craniotomy on the president, a procedure in which part of the bone is surgically removed from the skull to treat the bleed and relieve the pressure. The bone is then replaced. The brain bleed, or intracranial haemorrhage, was caused by a blow to the head he sustained when he fell in his bathroom at the presidential residence in October, according to a hospital statement. \"Thank you very much for the prayers,\" Lula added on Sunday. \"And for those who only have hate, you're forgiven. I am here, alive, whole, and with more desire to work.\"\n",
            "\n",
            "On Tuesday, doctors said the president was in a stable condition following the surgery and was conscious. Lula was \"lucid\" and conversing with medical staff, they added. They also insisted that he had not sustained any brain injury and was not experiencing after-effects from the surgery. Asked when he would return to the capital, doctors had said that if everything went well, they expected Lula to be back in Brasilia \"next week\". While Lula was in hospital, Vice-President Geraldo Alckmin took on some of the president's commitments. The doctors said the bleeding was a result of the fall Lula had sustained in October. They explained that it was not unusual for problems from a blow to the head to appear \"months later\". Lula had slipped in the bathroom in the Alvorada Palace on 19 October and hit the back of his head. On Sunday, he explained he had been cutting his toe nails at the time and had been sitting down. He went on to have five stitches. On his doctors' advice, the president cancelled his planned trip to Russia for a summit of the Brics countries. He returned to full duties days later. Lula has been in power since January last year after narrowly beating the incumbent, Jair Bolsonaro, in a bitterly fought election. During the election campaign, he often joked that he had \"the energy of a 30-year-old\".\n",
            "--------------------------------------------------------------------------------\n"
          ]
        }
      ],
      "source": [
        "query = \"What happened in Michail Antonio's car accident and what is his current condition?\"\n",
        "\n",
        "try:\n",
        "    # Perform the semantic search\n",
        "    start_time = time.time()\n",
        "    search_results = vector_store.similarity_search_with_score(query, k=10)\n",
        "    search_elapsed_time = time.time() - start_time\n",
        "\n",
        "    logging.info(f\"Semantic search completed in {search_elapsed_time:.2f} seconds\")\n",
        "\n",
        "    # Display search results\n",
        "    print(f\"\\nSemantic Search Results (completed in {search_elapsed_time:.2f} seconds):\")\n",
        "    print(\"-\" * 80)  # Add separator line\n",
        "    for doc, score in search_results:\n",
        "        print(f\"Score: {score:.4f}, Text: {doc.page_content}\")\n",
        "        print(\"-\" * 80)  # Add separator between results\n",
        "\n",
        "except CouchbaseException as e:\n",
        "    raise RuntimeError(f\"Error performing semantic search: {str(e)}\")\n",
        "except Exception as e:\n",
        "    raise RuntimeError(f\"Unexpected error: {str(e)}\")"
      ]
    },
    {
      "cell_type": "markdown",
      "metadata": {
        "id": "sS0FebHI9U1l"
      },
      "source": [
        "# Retrieval-Augmented Generation (RAG) with Couchbase and LangChain\n",
        "Couchbase and LangChain can be seamlessly integrated to create RAG (Retrieval-Augmented Generation) chains, enhancing the process of generating contextually relevant responses. In this setup, Couchbase serves as the vector store, where embeddings of documents are stored. When a query is made, LangChain retrieves the most relevant documents from Couchbase by comparing the query’s embedding with the stored document embeddings. These documents, which provide contextual information, are then passed to a generative language model within LangChain.\n",
        "\n",
        "The language model, equipped with the context from the retrieved documents, generates a response that is both informed and contextually accurate. This integration allows the RAG chain to leverage Couchbase’s efficient storage and retrieval capabilities, while LangChain handles the generation of responses based on the context provided by the retrieved documents. Together, they create a powerful system that can deliver highly relevant and accurate answers by combining the strengths of both retrieval and generation."
      ]
    },
    {
      "cell_type": "code",
      "execution_count": 32,
      "metadata": {
        "colab": {
          "base_uri": "https://localhost:8080/"
        },
        "id": "ZGUXQQmv9ge4",
        "outputId": "8c19df4b-19ab-489e-bec4-c2b093e3736a"
      },
      "outputs": [
        {
          "name": "stderr",
          "output_type": "stream",
          "text": [
            "2025-02-05 13:28:47,899 - INFO - Successfully created RAG chain\n"
          ]
        }
      ],
      "source": [
        "system_template = \"You are a helpful assistant that answers questions based on the provided context.\"\n",
        "system_message_prompt = SystemMessagePromptTemplate.from_template(system_template)\n",
        "\n",
        "human_template = \"Context: {context}\\n\\nQuestion: {question}\"\n",
        "human_message_prompt = HumanMessagePromptTemplate.from_template(human_template)\n",
        "\n",
        "chat_prompt = ChatPromptTemplate.from_messages([\n",
        "    system_message_prompt,\n",
        "    human_message_prompt\n",
        "])\n",
        "\n",
        "def format_docs(docs):\n",
        "    return \"\\n\\n\".join(doc.page_content for doc in docs)\n",
        "\n",
        "rag_chain = (\n",
        "    {\"context\": lambda x: format_docs(vector_store.similarity_search(x)), \"question\": RunnablePassthrough()}\n",
        "    | chat_prompt\n",
        "    | llm\n",
        ")\n",
        "logging.info(\"Successfully created RAG chain\")"
      ]
    },
    {
      "cell_type": "code",
      "execution_count": 36,
      "metadata": {
        "colab": {
          "base_uri": "https://localhost:8080/"
        },
        "id": "Mia7XxM9978M",
        "outputId": "be72f001-4a4c-4d71-95f1-54a2850d9dab"
      },
      "outputs": [
        {
          "name": "stdout",
          "output_type": "stream",
          "text": [
            "RAG Response: Based on the provided context, Michail Antonio was involved in a car crash on Saturday, but specific details about the accident itself are not mentioned. What we know about his current condition is that:\n",
            "\n",
            "1. He remains in hospital\n",
            "2. He had surgery on Sunday for a lower limb fracture\n",
            "3. He will continue to receive care over the coming days\n",
            "4. He appears to be in relatively good spirits, as he participated in a video call with his teammates before their Monday game and even made some jokes\n",
            "\n",
            "His manager Julen Lopetegui mentioned it was \"a miracle\" when looking at the picture of the car, suggesting it was a serious accident. The incident has led to an outpouring of support from his teammates and the club, with players wearing special 'Antonio 9' shirts during warm-up and holding a minute's applause during the ninth minute of the game. Antonio is West Ham's all-time leading Premier League scorer with 68 goals in 268 league appearances, and had appeared in all 14 of West Ham's Premier League matches this season prior to the accident.\n",
            "RAG response generated in 7.58 seconds\n"
          ]
        }
      ],
      "source": [
        "try:\n",
        "    start_time = time.time()\n",
        "    rag_response = rag_chain.invoke(query)\n",
        "    rag_elapsed_time = time.time() - start_time\n",
        "\n",
        "    print(f\"RAG Response: {rag_response.content}\")\n",
        "    print(f\"RAG response generated in {rag_elapsed_time:.2f} seconds\")\n",
        "except AuthenticationError as e:\n",
        "    print(f\"Authentication error: {str(e)}\")\n",
        "except Exception as e:\n",
        "    print(f\"Error generating response: {str(e)}\")"
      ]
    },
    {
      "cell_type": "markdown",
      "metadata": {
        "id": "aIdayPzw9glT"
      },
      "source": [
        "# Using Couchbase as a caching mechanism\n",
        "Couchbase can be effectively used as a caching mechanism for RAG (Retrieval-Augmented Generation) responses by storing and retrieving precomputed results for specific queries. This approach enhances the system's efficiency and speed, particularly when dealing with repeated or similar queries. When a query is first processed, the RAG chain retrieves relevant documents, generates a response using the language model, and then stores this response in Couchbase, with the query serving as the key.\n",
        "\n",
        "For subsequent requests with the same query, the system checks Couchbase first. If a cached response is found, it is retrieved directly from Couchbase, bypassing the need to re-run the entire RAG process. This significantly reduces response time because the computationally expensive steps of document retrieval and response generation are skipped. Couchbase's role in this setup is to provide a fast and scalable storage solution for caching these responses, ensuring that frequently asked queries can be answered more quickly and efficiently.\n"
      ]
    },
    {
      "cell_type": "code",
      "execution_count": 40,
      "metadata": {
        "colab": {
          "base_uri": "https://localhost:8080/"
        },
        "id": "0xM2G3ef-GS2",
        "outputId": "b09556d9-afc2-4f71-fc9a-33d591690e6c"
      },
      "outputs": [
        {
          "name": "stdout",
          "output_type": "stream",
          "text": [
            "\n",
            "Query 1: What happened to Neighbours actor Ian Smith and what is his current condition?\n",
            "Response: I don't see any information in the provided context about Neighbours actor Ian Smith or his current condition. The context contains articles about Max George from The Wanted being hospitalized, Helen Worth leaving Coronation Street, and Jonno Davies playing Robbie Williams in the film Better Man. I cannot make any claims about Ian Smith's situation without having accurate information about him.\n",
            "Time taken: 4.24 seconds\n",
            "\n",
            "Query 2: What happened in Michail Antonio's car accident and what is his current condition?\n",
            "Response: Based on the provided context, Michail Antonio was involved in a car crash on Saturday, but specific details about the accident itself are not mentioned. What we know about his current condition is that:\n",
            "\n",
            "1. He remains in hospital\n",
            "2. He had surgery on Sunday for a lower limb fracture\n",
            "3. He will continue to receive care over the coming days\n",
            "4. He appears to be in relatively good spirits, as he participated in a video call with his teammates before their Monday game and even made some jokes\n",
            "\n",
            "His manager Julen Lopetegui mentioned it was \"a miracle\" when looking at the picture of the car, suggesting it was a serious accident. The incident has led to an outpouring of support from his teammates and the club, with players wearing special 'Antonio 9' shirts during warm-up and holding a minute's applause during the ninth minute of the game. Antonio is West Ham's all-time leading Premier League scorer with 68 goals in 268 league appearances, and had appeared in all 14 of West Ham's Premier League matches this season prior to the accident.\n",
            "Time taken: 0.56 seconds\n",
            "\n",
            "Query 3: What happened to Neighbours actor Ian Smith and what is his current condition?\n",
            "Response: I don't see any information in the provided context about Neighbours actor Ian Smith or his current condition. The context contains articles about Max George from The Wanted being hospitalized, Helen Worth leaving Coronation Street, and Jonno Davies playing Robbie Williams in the film Better Man. I cannot make any claims about Ian Smith's situation without having accurate information about him.\n",
            "Time taken: 0.54 seconds\n"
          ]
        }
      ],
      "source": [
        "try:\n",
        "    queries = [\n",
        "        \"What happened to Neighbours actor Ian Smith and what is his current condition?\",\n",
        "        \"What happened in Michail Antonio's car accident and what is his current condition?\", # Repeated query\n",
        "        \"What happened to Neighbours actor Ian Smith and what is his current condition?\", # Repeated query\n",
        "    ]\n",
        "\n",
        "    for i, query in enumerate(queries, 1):\n",
        "        print(f\"\\nQuery {i}: {query}\")\n",
        "        start_time = time.time()\n",
        "\n",
        "        response = rag_chain.invoke(query)\n",
        "        elapsed_time = time.time() - start_time\n",
        "        print(f\"Response: {response.content}\")\n",
        "        print(f\"Time taken: {elapsed_time:.2f} seconds\")\n",
        "except Exception as e:\n",
        "    raise ValueError(f\"Error generating RAG response: {str(e)}\")"
      ]
    },
    {
      "cell_type": "markdown",
      "metadata": {
        "id": "yJQ5P8E29go1"
      },
      "source": [
        "By following these steps, you’ll have a fully functional semantic search engine that leverages the strengths of Couchbase and Claude(by Anthropic). This guide is designed not just to show you how to build the system, but also to explain why each step is necessary, giving you a deeper understanding of the principles behind semantic search and how to implement it effectively. Whether you’re a newcomer to software development or an experienced developer looking to expand your skills, this guide will provide you with the knowledge and tools you need to create a powerful, AI-driven search engine."
      ]
    }
  ],
  "metadata": {
    "colab": {
      "provenance": [],
      "toc_visible": true
    },
    "kernelspec": {
      "display_name": "Python 3",
      "name": "python3"
    },
    "language_info": {
      "codemirror_mode": {
        "name": "ipython",
        "version": 3
      },
      "file_extension": ".py",
      "mimetype": "text/x-python",
      "name": "python",
      "nbconvert_exporter": "python",
      "pygments_lexer": "ipython3",
      "version": "3.11.2"
    },
    "widgets": {
      "application/vnd.jupyter.widget-state+json": {
        "00fec107b63648d2963143e1818a883f": {
          "model_module": "@jupyter-widgets/controls",
          "model_module_version": "1.5.0",
          "model_name": "HTMLModel",
          "state": {
            "_dom_classes": [],
            "_model_module": "@jupyter-widgets/controls",
            "_model_module_version": "1.5.0",
            "_model_name": "HTMLModel",
            "_view_count": null,
            "_view_module": "@jupyter-widgets/controls",
            "_view_module_version": "1.5.0",
            "_view_name": "HTMLView",
            "description": "",
            "description_tooltip": null,
            "layout": "IPY_MODEL_2764e246c4ee485cbe9c8a123d6fdd7d",
            "placeholder": "​",
            "style": "IPY_MODEL_8885c27b04284da381085aff0e4b20de",
            "value": "Downloading builder script: 100%"
          }
        },
        "01fb5f4bf5ff46379df9d0de0985b8d2": {
          "model_module": "@jupyter-widgets/controls",
          "model_module_version": "1.5.0",
          "model_name": "DescriptionStyleModel",
          "state": {
            "_model_module": "@jupyter-widgets/controls",
            "_model_module_version": "1.5.0",
            "_model_name": "DescriptionStyleModel",
            "_view_count": null,
            "_view_module": "@jupyter-widgets/base",
            "_view_module_version": "1.2.0",
            "_view_name": "StyleView",
            "description_width": ""
          }
        },
        "02038b7ea0044af5b74fa2c57d594d5b": {
          "model_module": "@jupyter-widgets/controls",
          "model_module_version": "1.5.0",
          "model_name": "HBoxModel",
          "state": {
            "_dom_classes": [],
            "_model_module": "@jupyter-widgets/controls",
            "_model_module_version": "1.5.0",
            "_model_name": "HBoxModel",
            "_view_count": null,
            "_view_module": "@jupyter-widgets/controls",
            "_view_module_version": "1.5.0",
            "_view_name": "HBoxView",
            "box_style": "",
            "children": [
              "IPY_MODEL_242b078b293f4cffa8ac8225e9224954",
              "IPY_MODEL_0945dcbd30414d16852d77a72a844d5e",
              "IPY_MODEL_871088792d8e466eaff966a92fd87b80"
            ],
            "layout": "IPY_MODEL_db02362a599449558a7154c283d7aad5"
          }
        },
        "048c541e179a465e8e1f1b29e0daa666": {
          "model_module": "@jupyter-widgets/controls",
          "model_module_version": "1.5.0",
          "model_name": "ProgressStyleModel",
          "state": {
            "_model_module": "@jupyter-widgets/controls",
            "_model_module_version": "1.5.0",
            "_model_name": "ProgressStyleModel",
            "_view_count": null,
            "_view_module": "@jupyter-widgets/base",
            "_view_module_version": "1.2.0",
            "_view_name": "StyleView",
            "bar_color": null,
            "description_width": ""
          }
        },
        "0723a46e2b3e4781945261901aa37754": {
          "model_module": "@jupyter-widgets/base",
          "model_module_version": "1.2.0",
          "model_name": "LayoutModel",
          "state": {
            "_model_module": "@jupyter-widgets/base",
            "_model_module_version": "1.2.0",
            "_model_name": "LayoutModel",
            "_view_count": null,
            "_view_module": "@jupyter-widgets/base",
            "_view_module_version": "1.2.0",
            "_view_name": "LayoutView",
            "align_content": null,
            "align_items": null,
            "align_self": null,
            "border": null,
            "bottom": null,
            "display": null,
            "flex": null,
            "flex_flow": null,
            "grid_area": null,
            "grid_auto_columns": null,
            "grid_auto_flow": null,
            "grid_auto_rows": null,
            "grid_column": null,
            "grid_gap": null,
            "grid_row": null,
            "grid_template_areas": null,
            "grid_template_columns": null,
            "grid_template_rows": null,
            "height": null,
            "justify_content": null,
            "justify_items": null,
            "left": null,
            "margin": null,
            "max_height": null,
            "max_width": null,
            "min_height": null,
            "min_width": null,
            "object_fit": null,
            "object_position": null,
            "order": null,
            "overflow": null,
            "overflow_x": null,
            "overflow_y": null,
            "padding": null,
            "right": null,
            "top": null,
            "visibility": null,
            "width": null
          }
        },
        "0813454e096645b7a81c255aae4ae0c0": {
          "model_module": "@jupyter-widgets/controls",
          "model_module_version": "1.5.0",
          "model_name": "HBoxModel",
          "state": {
            "_dom_classes": [],
            "_model_module": "@jupyter-widgets/controls",
            "_model_module_version": "1.5.0",
            "_model_name": "HBoxModel",
            "_view_count": null,
            "_view_module": "@jupyter-widgets/controls",
            "_view_module_version": "1.5.0",
            "_view_name": "HBoxView",
            "box_style": "",
            "children": [
              "IPY_MODEL_294bbed142eb4689a0be83fab59dd5bb",
              "IPY_MODEL_f9cc57f324294afdac594145771c1aee",
              "IPY_MODEL_43dd7d8c3d8b4da6ac60ba04575f6832"
            ],
            "layout": "IPY_MODEL_535ad65f1cc64f45aafd5bbd5ecf70c2"
          }
        },
        "0945dcbd30414d16852d77a72a844d5e": {
          "model_module": "@jupyter-widgets/controls",
          "model_module_version": "1.5.0",
          "model_name": "FloatProgressModel",
          "state": {
            "_dom_classes": [],
            "_model_module": "@jupyter-widgets/controls",
            "_model_module_version": "1.5.0",
            "_model_name": "FloatProgressModel",
            "_view_count": null,
            "_view_module": "@jupyter-widgets/controls",
            "_view_module_version": "1.5.0",
            "_view_name": "ProgressView",
            "bar_style": "success",
            "description": "",
            "description_tooltip": null,
            "layout": "IPY_MODEL_e7a1464199dc45ceb19068835bed9bc8",
            "max": 500,
            "min": 0,
            "orientation": "horizontal",
            "style": "IPY_MODEL_be2029af0ad84060ae9a54e0d0f0547c",
            "value": 500
          }
        },
        "18c6e6b004b04757926c79a49393bade": {
          "model_module": "@jupyter-widgets/base",
          "model_module_version": "1.2.0",
          "model_name": "LayoutModel",
          "state": {
            "_model_module": "@jupyter-widgets/base",
            "_model_module_version": "1.2.0",
            "_model_name": "LayoutModel",
            "_view_count": null,
            "_view_module": "@jupyter-widgets/base",
            "_view_module_version": "1.2.0",
            "_view_name": "LayoutView",
            "align_content": null,
            "align_items": null,
            "align_self": null,
            "border": null,
            "bottom": null,
            "display": null,
            "flex": null,
            "flex_flow": null,
            "grid_area": null,
            "grid_auto_columns": null,
            "grid_auto_flow": null,
            "grid_auto_rows": null,
            "grid_column": null,
            "grid_gap": null,
            "grid_row": null,
            "grid_template_areas": null,
            "grid_template_columns": null,
            "grid_template_rows": null,
            "height": null,
            "justify_content": null,
            "justify_items": null,
            "left": null,
            "margin": null,
            "max_height": null,
            "max_width": null,
            "min_height": null,
            "min_width": null,
            "object_fit": null,
            "object_position": null,
            "order": null,
            "overflow": null,
            "overflow_x": null,
            "overflow_y": null,
            "padding": null,
            "right": null,
            "top": null,
            "visibility": null,
            "width": null
          }
        },
        "194a2e2ba51e4b4bb6aca7bc26d84cda": {
          "model_module": "@jupyter-widgets/controls",
          "model_module_version": "1.5.0",
          "model_name": "FloatProgressModel",
          "state": {
            "_dom_classes": [],
            "_model_module": "@jupyter-widgets/controls",
            "_model_module_version": "1.5.0",
            "_model_name": "FloatProgressModel",
            "_view_count": null,
            "_view_module": "@jupyter-widgets/controls",
            "_view_module_version": "1.5.0",
            "_view_name": "ProgressView",
            "bar_style": "success",
            "description": "",
            "description_tooltip": null,
            "layout": "IPY_MODEL_1d223aa8e3e940a48f2a13be9bd92ae5",
            "max": 5452,
            "min": 0,
            "orientation": "horizontal",
            "style": "IPY_MODEL_f2685cbcfa514cb6bd1e81164a09db91",
            "value": 5452
          }
        },
        "1cd504c80899404c9254a9139a0c6a55": {
          "model_module": "@jupyter-widgets/controls",
          "model_module_version": "1.5.0",
          "model_name": "DescriptionStyleModel",
          "state": {
            "_model_module": "@jupyter-widgets/controls",
            "_model_module_version": "1.5.0",
            "_model_name": "DescriptionStyleModel",
            "_view_count": null,
            "_view_module": "@jupyter-widgets/base",
            "_view_module_version": "1.2.0",
            "_view_name": "StyleView",
            "description_width": ""
          }
        },
        "1d223aa8e3e940a48f2a13be9bd92ae5": {
          "model_module": "@jupyter-widgets/base",
          "model_module_version": "1.2.0",
          "model_name": "LayoutModel",
          "state": {
            "_model_module": "@jupyter-widgets/base",
            "_model_module_version": "1.2.0",
            "_model_name": "LayoutModel",
            "_view_count": null,
            "_view_module": "@jupyter-widgets/base",
            "_view_module_version": "1.2.0",
            "_view_name": "LayoutView",
            "align_content": null,
            "align_items": null,
            "align_self": null,
            "border": null,
            "bottom": null,
            "display": null,
            "flex": null,
            "flex_flow": null,
            "grid_area": null,
            "grid_auto_columns": null,
            "grid_auto_flow": null,
            "grid_auto_rows": null,
            "grid_column": null,
            "grid_gap": null,
            "grid_row": null,
            "grid_template_areas": null,
            "grid_template_columns": null,
            "grid_template_rows": null,
            "height": null,
            "justify_content": null,
            "justify_items": null,
            "left": null,
            "margin": null,
            "max_height": null,
            "max_width": null,
            "min_height": null,
            "min_width": null,
            "object_fit": null,
            "object_position": null,
            "order": null,
            "overflow": null,
            "overflow_x": null,
            "overflow_y": null,
            "padding": null,
            "right": null,
            "top": null,
            "visibility": null,
            "width": null
          }
        },
        "242b078b293f4cffa8ac8225e9224954": {
          "model_module": "@jupyter-widgets/controls",
          "model_module_version": "1.5.0",
          "model_name": "HTMLModel",
          "state": {
            "_dom_classes": [],
            "_model_module": "@jupyter-widgets/controls",
            "_model_module_version": "1.5.0",
            "_model_name": "HTMLModel",
            "_view_count": null,
            "_view_module": "@jupyter-widgets/controls",
            "_view_module_version": "1.5.0",
            "_view_name": "HTMLView",
            "description": "",
            "description_tooltip": null,
            "layout": "IPY_MODEL_0723a46e2b3e4781945261901aa37754",
            "placeholder": "​",
            "style": "IPY_MODEL_acbd6da4056b4a999df1bc6145c2e0e7",
            "value": "Generating test split: 100%"
          }
        },
        "26c5eda7756c4a8280a4af530a9c33f9": {
          "model_module": "@jupyter-widgets/controls",
          "model_module_version": "1.5.0",
          "model_name": "HBoxModel",
          "state": {
            "_dom_classes": [],
            "_model_module": "@jupyter-widgets/controls",
            "_model_module_version": "1.5.0",
            "_model_name": "HBoxModel",
            "_view_count": null,
            "_view_module": "@jupyter-widgets/controls",
            "_view_module_version": "1.5.0",
            "_view_name": "HBoxView",
            "box_style": "",
            "children": [
              "IPY_MODEL_32f9ddc615fc486588e3b4ab18defb1b",
              "IPY_MODEL_64a5e834f36c475c8421bfe72d02a9f0",
              "IPY_MODEL_a7aa91bfc5d649fa9dcf1c9821e441e3"
            ],
            "layout": "IPY_MODEL_a682ad68842b40c49b4a2ce9fea76d52"
          }
        },
        "2764e246c4ee485cbe9c8a123d6fdd7d": {
          "model_module": "@jupyter-widgets/base",
          "model_module_version": "1.2.0",
          "model_name": "LayoutModel",
          "state": {
            "_model_module": "@jupyter-widgets/base",
            "_model_module_version": "1.2.0",
            "_model_name": "LayoutModel",
            "_view_count": null,
            "_view_module": "@jupyter-widgets/base",
            "_view_module_version": "1.2.0",
            "_view_name": "LayoutView",
            "align_content": null,
            "align_items": null,
            "align_self": null,
            "border": null,
            "bottom": null,
            "display": null,
            "flex": null,
            "flex_flow": null,
            "grid_area": null,
            "grid_auto_columns": null,
            "grid_auto_flow": null,
            "grid_auto_rows": null,
            "grid_column": null,
            "grid_gap": null,
            "grid_row": null,
            "grid_template_areas": null,
            "grid_template_columns": null,
            "grid_template_rows": null,
            "height": null,
            "justify_content": null,
            "justify_items": null,
            "left": null,
            "margin": null,
            "max_height": null,
            "max_width": null,
            "min_height": null,
            "min_width": null,
            "object_fit": null,
            "object_position": null,
            "order": null,
            "overflow": null,
            "overflow_x": null,
            "overflow_y": null,
            "padding": null,
            "right": null,
            "top": null,
            "visibility": null,
            "width": null
          }
        },
        "294bbed142eb4689a0be83fab59dd5bb": {
          "model_module": "@jupyter-widgets/controls",
          "model_module_version": "1.5.0",
          "model_name": "HTMLModel",
          "state": {
            "_dom_classes": [],
            "_model_module": "@jupyter-widgets/controls",
            "_model_module_version": "1.5.0",
            "_model_name": "HTMLModel",
            "_view_count": null,
            "_view_module": "@jupyter-widgets/controls",
            "_view_module_version": "1.5.0",
            "_view_name": "HTMLView",
            "description": "",
            "description_tooltip": null,
            "layout": "IPY_MODEL_e2a142c3f4f44a5fafc861ab3482ce9d",
            "placeholder": "​",
            "style": "IPY_MODEL_8e97eb6fa69b4cfdbb98dbe07d19fdec",
            "value": "Downloading data: 100%"
          }
        },
        "32f9ddc615fc486588e3b4ab18defb1b": {
          "model_module": "@jupyter-widgets/controls",
          "model_module_version": "1.5.0",
          "model_name": "HTMLModel",
          "state": {
            "_dom_classes": [],
            "_model_module": "@jupyter-widgets/controls",
            "_model_module_version": "1.5.0",
            "_model_name": "HTMLModel",
            "_view_count": null,
            "_view_module": "@jupyter-widgets/controls",
            "_view_module_version": "1.5.0",
            "_view_name": "HTMLView",
            "description": "",
            "description_tooltip": null,
            "layout": "IPY_MODEL_dbe5197b9c904b34bbb0afe0219fa48e",
            "placeholder": "​",
            "style": "IPY_MODEL_6a52248d2dc9412a988d48017c32d240",
            "value": "Downloading readme: 100%"
          }
        },
        "43dd7d8c3d8b4da6ac60ba04575f6832": {
          "model_module": "@jupyter-widgets/controls",
          "model_module_version": "1.5.0",
          "model_name": "HTMLModel",
          "state": {
            "_dom_classes": [],
            "_model_module": "@jupyter-widgets/controls",
            "_model_module_version": "1.5.0",
            "_model_name": "HTMLModel",
            "_view_count": null,
            "_view_module": "@jupyter-widgets/controls",
            "_view_module_version": "1.5.0",
            "_view_name": "HTMLView",
            "description": "",
            "description_tooltip": null,
            "layout": "IPY_MODEL_823a230ef2084d828ac5460afee96e0a",
            "placeholder": "​",
            "style": "IPY_MODEL_908d0ced42ae4adfbed2209518a7ba1d",
            "value": " 23.4k/23.4k [00:00&lt;00:00, 594kB/s]"
          }
        },
        "4d321c08dc124da79f3dbc2e824f20e3": {
          "model_module": "@jupyter-widgets/base",
          "model_module_version": "1.2.0",
          "model_name": "LayoutModel",
          "state": {
            "_model_module": "@jupyter-widgets/base",
            "_model_module_version": "1.2.0",
            "_model_name": "LayoutModel",
            "_view_count": null,
            "_view_module": "@jupyter-widgets/base",
            "_view_module_version": "1.2.0",
            "_view_name": "LayoutView",
            "align_content": null,
            "align_items": null,
            "align_self": null,
            "border": null,
            "bottom": null,
            "display": null,
            "flex": null,
            "flex_flow": null,
            "grid_area": null,
            "grid_auto_columns": null,
            "grid_auto_flow": null,
            "grid_auto_rows": null,
            "grid_column": null,
            "grid_gap": null,
            "grid_row": null,
            "grid_template_areas": null,
            "grid_template_columns": null,
            "grid_template_rows": null,
            "height": null,
            "justify_content": null,
            "justify_items": null,
            "left": null,
            "margin": null,
            "max_height": null,
            "max_width": null,
            "min_height": null,
            "min_width": null,
            "object_fit": null,
            "object_position": null,
            "order": null,
            "overflow": null,
            "overflow_x": null,
            "overflow_y": null,
            "padding": null,
            "right": null,
            "top": null,
            "visibility": null,
            "width": null
          }
        },
        "5203dcca0a134e228652d8e4cfceab4a": {
          "model_module": "@jupyter-widgets/controls",
          "model_module_version": "1.5.0",
          "model_name": "HTMLModel",
          "state": {
            "_dom_classes": [],
            "_model_module": "@jupyter-widgets/controls",
            "_model_module_version": "1.5.0",
            "_model_name": "HTMLModel",
            "_view_count": null,
            "_view_module": "@jupyter-widgets/controls",
            "_view_module_version": "1.5.0",
            "_view_name": "HTMLView",
            "description": "",
            "description_tooltip": null,
            "layout": "IPY_MODEL_6a06c2ec79a44b55b8e1a8d6c91a3cd3",
            "placeholder": "​",
            "style": "IPY_MODEL_1cd504c80899404c9254a9139a0c6a55",
            "value": "Generating train split: 100%"
          }
        },
        "535ad65f1cc64f45aafd5bbd5ecf70c2": {
          "model_module": "@jupyter-widgets/base",
          "model_module_version": "1.2.0",
          "model_name": "LayoutModel",
          "state": {
            "_model_module": "@jupyter-widgets/base",
            "_model_module_version": "1.2.0",
            "_model_name": "LayoutModel",
            "_view_count": null,
            "_view_module": "@jupyter-widgets/base",
            "_view_module_version": "1.2.0",
            "_view_name": "LayoutView",
            "align_content": null,
            "align_items": null,
            "align_self": null,
            "border": null,
            "bottom": null,
            "display": null,
            "flex": null,
            "flex_flow": null,
            "grid_area": null,
            "grid_auto_columns": null,
            "grid_auto_flow": null,
            "grid_auto_rows": null,
            "grid_column": null,
            "grid_gap": null,
            "grid_row": null,
            "grid_template_areas": null,
            "grid_template_columns": null,
            "grid_template_rows": null,
            "height": null,
            "justify_content": null,
            "justify_items": null,
            "left": null,
            "margin": null,
            "max_height": null,
            "max_width": null,
            "min_height": null,
            "min_width": null,
            "object_fit": null,
            "object_position": null,
            "order": null,
            "overflow": null,
            "overflow_x": null,
            "overflow_y": null,
            "padding": null,
            "right": null,
            "top": null,
            "visibility": null,
            "width": null
          }
        },
        "5e4cdf60ec2b43b7a5ee80f59d542101": {
          "model_module": "@jupyter-widgets/controls",
          "model_module_version": "1.5.0",
          "model_name": "DescriptionStyleModel",
          "state": {
            "_model_module": "@jupyter-widgets/controls",
            "_model_module_version": "1.5.0",
            "_model_name": "DescriptionStyleModel",
            "_view_count": null,
            "_view_module": "@jupyter-widgets/base",
            "_view_module_version": "1.2.0",
            "_view_name": "StyleView",
            "description_width": ""
          }
        },
        "5f367bd7da804a7b9a9159e591d93537": {
          "model_module": "@jupyter-widgets/controls",
          "model_module_version": "1.5.0",
          "model_name": "HTMLModel",
          "state": {
            "_dom_classes": [],
            "_model_module": "@jupyter-widgets/controls",
            "_model_module_version": "1.5.0",
            "_model_name": "HTMLModel",
            "_view_count": null,
            "_view_module": "@jupyter-widgets/controls",
            "_view_module_version": "1.5.0",
            "_view_name": "HTMLView",
            "description": "",
            "description_tooltip": null,
            "layout": "IPY_MODEL_6eeb609f17cb4d6980ba2c4c48bf4718",
            "placeholder": "​",
            "style": "IPY_MODEL_ae6902c232a74c92989949579a659e8a",
            "value": " 5.09k/5.09k [00:00&lt;00:00, 42.8kB/s]"
          }
        },
        "64a5e834f36c475c8421bfe72d02a9f0": {
          "model_module": "@jupyter-widgets/controls",
          "model_module_version": "1.5.0",
          "model_name": "FloatProgressModel",
          "state": {
            "_dom_classes": [],
            "_model_module": "@jupyter-widgets/controls",
            "_model_module_version": "1.5.0",
            "_model_name": "FloatProgressModel",
            "_view_count": null,
            "_view_module": "@jupyter-widgets/controls",
            "_view_module_version": "1.5.0",
            "_view_name": "ProgressView",
            "bar_style": "success",
            "description": "",
            "description_tooltip": null,
            "layout": "IPY_MODEL_84482d2a1d4448aaa7eb6f0224dfd6e2",
            "max": 10630,
            "min": 0,
            "orientation": "horizontal",
            "style": "IPY_MODEL_048c541e179a465e8e1f1b29e0daa666",
            "value": 10630
          }
        },
        "67f94c392f49486bb72df884a8dfb275": {
          "model_module": "@jupyter-widgets/controls",
          "model_module_version": "1.5.0",
          "model_name": "ProgressStyleModel",
          "state": {
            "_model_module": "@jupyter-widgets/controls",
            "_model_module_version": "1.5.0",
            "_model_name": "ProgressStyleModel",
            "_view_count": null,
            "_view_module": "@jupyter-widgets/base",
            "_view_module_version": "1.2.0",
            "_view_name": "StyleView",
            "bar_color": null,
            "description_width": ""
          }
        },
        "694a52495f6047f6b0c2f4e774de23a8": {
          "model_module": "@jupyter-widgets/base",
          "model_module_version": "1.2.0",
          "model_name": "LayoutModel",
          "state": {
            "_model_module": "@jupyter-widgets/base",
            "_model_module_version": "1.2.0",
            "_model_name": "LayoutModel",
            "_view_count": null,
            "_view_module": "@jupyter-widgets/base",
            "_view_module_version": "1.2.0",
            "_view_name": "LayoutView",
            "align_content": null,
            "align_items": null,
            "align_self": null,
            "border": null,
            "bottom": null,
            "display": null,
            "flex": null,
            "flex_flow": null,
            "grid_area": null,
            "grid_auto_columns": null,
            "grid_auto_flow": null,
            "grid_auto_rows": null,
            "grid_column": null,
            "grid_gap": null,
            "grid_row": null,
            "grid_template_areas": null,
            "grid_template_columns": null,
            "grid_template_rows": null,
            "height": null,
            "justify_content": null,
            "justify_items": null,
            "left": null,
            "margin": null,
            "max_height": null,
            "max_width": null,
            "min_height": null,
            "min_width": null,
            "object_fit": null,
            "object_position": null,
            "order": null,
            "overflow": null,
            "overflow_x": null,
            "overflow_y": null,
            "padding": null,
            "right": null,
            "top": null,
            "visibility": null,
            "width": null
          }
        },
        "6a06c2ec79a44b55b8e1a8d6c91a3cd3": {
          "model_module": "@jupyter-widgets/base",
          "model_module_version": "1.2.0",
          "model_name": "LayoutModel",
          "state": {
            "_model_module": "@jupyter-widgets/base",
            "_model_module_version": "1.2.0",
            "_model_name": "LayoutModel",
            "_view_count": null,
            "_view_module": "@jupyter-widgets/base",
            "_view_module_version": "1.2.0",
            "_view_name": "LayoutView",
            "align_content": null,
            "align_items": null,
            "align_self": null,
            "border": null,
            "bottom": null,
            "display": null,
            "flex": null,
            "flex_flow": null,
            "grid_area": null,
            "grid_auto_columns": null,
            "grid_auto_flow": null,
            "grid_auto_rows": null,
            "grid_column": null,
            "grid_gap": null,
            "grid_row": null,
            "grid_template_areas": null,
            "grid_template_columns": null,
            "grid_template_rows": null,
            "height": null,
            "justify_content": null,
            "justify_items": null,
            "left": null,
            "margin": null,
            "max_height": null,
            "max_width": null,
            "min_height": null,
            "min_width": null,
            "object_fit": null,
            "object_position": null,
            "order": null,
            "overflow": null,
            "overflow_x": null,
            "overflow_y": null,
            "padding": null,
            "right": null,
            "top": null,
            "visibility": null,
            "width": null
          }
        },
        "6a52248d2dc9412a988d48017c32d240": {
          "model_module": "@jupyter-widgets/controls",
          "model_module_version": "1.5.0",
          "model_name": "DescriptionStyleModel",
          "state": {
            "_model_module": "@jupyter-widgets/controls",
            "_model_module_version": "1.5.0",
            "_model_name": "DescriptionStyleModel",
            "_view_count": null,
            "_view_module": "@jupyter-widgets/base",
            "_view_module_version": "1.2.0",
            "_view_name": "StyleView",
            "description_width": ""
          }
        },
        "6a9c59c86df642b78d7cbaa4979ade56": {
          "model_module": "@jupyter-widgets/base",
          "model_module_version": "1.2.0",
          "model_name": "LayoutModel",
          "state": {
            "_model_module": "@jupyter-widgets/base",
            "_model_module_version": "1.2.0",
            "_model_name": "LayoutModel",
            "_view_count": null,
            "_view_module": "@jupyter-widgets/base",
            "_view_module_version": "1.2.0",
            "_view_name": "LayoutView",
            "align_content": null,
            "align_items": null,
            "align_self": null,
            "border": null,
            "bottom": null,
            "display": null,
            "flex": null,
            "flex_flow": null,
            "grid_area": null,
            "grid_auto_columns": null,
            "grid_auto_flow": null,
            "grid_auto_rows": null,
            "grid_column": null,
            "grid_gap": null,
            "grid_row": null,
            "grid_template_areas": null,
            "grid_template_columns": null,
            "grid_template_rows": null,
            "height": null,
            "justify_content": null,
            "justify_items": null,
            "left": null,
            "margin": null,
            "max_height": null,
            "max_width": null,
            "min_height": null,
            "min_width": null,
            "object_fit": null,
            "object_position": null,
            "order": null,
            "overflow": null,
            "overflow_x": null,
            "overflow_y": null,
            "padding": null,
            "right": null,
            "top": null,
            "visibility": null,
            "width": null
          }
        },
        "6eeb609f17cb4d6980ba2c4c48bf4718": {
          "model_module": "@jupyter-widgets/base",
          "model_module_version": "1.2.0",
          "model_name": "LayoutModel",
          "state": {
            "_model_module": "@jupyter-widgets/base",
            "_model_module_version": "1.2.0",
            "_model_name": "LayoutModel",
            "_view_count": null,
            "_view_module": "@jupyter-widgets/base",
            "_view_module_version": "1.2.0",
            "_view_name": "LayoutView",
            "align_content": null,
            "align_items": null,
            "align_self": null,
            "border": null,
            "bottom": null,
            "display": null,
            "flex": null,
            "flex_flow": null,
            "grid_area": null,
            "grid_auto_columns": null,
            "grid_auto_flow": null,
            "grid_auto_rows": null,
            "grid_column": null,
            "grid_gap": null,
            "grid_row": null,
            "grid_template_areas": null,
            "grid_template_columns": null,
            "grid_template_rows": null,
            "height": null,
            "justify_content": null,
            "justify_items": null,
            "left": null,
            "margin": null,
            "max_height": null,
            "max_width": null,
            "min_height": null,
            "min_width": null,
            "object_fit": null,
            "object_position": null,
            "order": null,
            "overflow": null,
            "overflow_x": null,
            "overflow_y": null,
            "padding": null,
            "right": null,
            "top": null,
            "visibility": null,
            "width": null
          }
        },
        "724291f2d5af47dc863df357fc5f55f9": {
          "model_module": "@jupyter-widgets/controls",
          "model_module_version": "1.5.0",
          "model_name": "HBoxModel",
          "state": {
            "_dom_classes": [],
            "_model_module": "@jupyter-widgets/controls",
            "_model_module_version": "1.5.0",
            "_model_name": "HBoxModel",
            "_view_count": null,
            "_view_module": "@jupyter-widgets/controls",
            "_view_module_version": "1.5.0",
            "_view_name": "HBoxView",
            "box_style": "",
            "children": [
              "IPY_MODEL_5203dcca0a134e228652d8e4cfceab4a",
              "IPY_MODEL_194a2e2ba51e4b4bb6aca7bc26d84cda",
              "IPY_MODEL_7a3a658d3885477c8a7c42d92133f4f0"
            ],
            "layout": "IPY_MODEL_6a9c59c86df642b78d7cbaa4979ade56"
          }
        },
        "7a3a658d3885477c8a7c42d92133f4f0": {
          "model_module": "@jupyter-widgets/controls",
          "model_module_version": "1.5.0",
          "model_name": "HTMLModel",
          "state": {
            "_dom_classes": [],
            "_model_module": "@jupyter-widgets/controls",
            "_model_module_version": "1.5.0",
            "_model_name": "HTMLModel",
            "_view_count": null,
            "_view_module": "@jupyter-widgets/controls",
            "_view_module_version": "1.5.0",
            "_view_name": "HTMLView",
            "description": "",
            "description_tooltip": null,
            "layout": "IPY_MODEL_a8d45a6621f74d63ba3e97b7d3edeca2",
            "placeholder": "​",
            "style": "IPY_MODEL_5e4cdf60ec2b43b7a5ee80f59d542101",
            "value": " 5452/5452 [00:00&lt;00:00, 11622.18 examples/s]"
          }
        },
        "823a230ef2084d828ac5460afee96e0a": {
          "model_module": "@jupyter-widgets/base",
          "model_module_version": "1.2.0",
          "model_name": "LayoutModel",
          "state": {
            "_model_module": "@jupyter-widgets/base",
            "_model_module_version": "1.2.0",
            "_model_name": "LayoutModel",
            "_view_count": null,
            "_view_module": "@jupyter-widgets/base",
            "_view_module_version": "1.2.0",
            "_view_name": "LayoutView",
            "align_content": null,
            "align_items": null,
            "align_self": null,
            "border": null,
            "bottom": null,
            "display": null,
            "flex": null,
            "flex_flow": null,
            "grid_area": null,
            "grid_auto_columns": null,
            "grid_auto_flow": null,
            "grid_auto_rows": null,
            "grid_column": null,
            "grid_gap": null,
            "grid_row": null,
            "grid_template_areas": null,
            "grid_template_columns": null,
            "grid_template_rows": null,
            "height": null,
            "justify_content": null,
            "justify_items": null,
            "left": null,
            "margin": null,
            "max_height": null,
            "max_width": null,
            "min_height": null,
            "min_width": null,
            "object_fit": null,
            "object_position": null,
            "order": null,
            "overflow": null,
            "overflow_x": null,
            "overflow_y": null,
            "padding": null,
            "right": null,
            "top": null,
            "visibility": null,
            "width": null
          }
        },
        "84482d2a1d4448aaa7eb6f0224dfd6e2": {
          "model_module": "@jupyter-widgets/base",
          "model_module_version": "1.2.0",
          "model_name": "LayoutModel",
          "state": {
            "_model_module": "@jupyter-widgets/base",
            "_model_module_version": "1.2.0",
            "_model_name": "LayoutModel",
            "_view_count": null,
            "_view_module": "@jupyter-widgets/base",
            "_view_module_version": "1.2.0",
            "_view_name": "LayoutView",
            "align_content": null,
            "align_items": null,
            "align_self": null,
            "border": null,
            "bottom": null,
            "display": null,
            "flex": null,
            "flex_flow": null,
            "grid_area": null,
            "grid_auto_columns": null,
            "grid_auto_flow": null,
            "grid_auto_rows": null,
            "grid_column": null,
            "grid_gap": null,
            "grid_row": null,
            "grid_template_areas": null,
            "grid_template_columns": null,
            "grid_template_rows": null,
            "height": null,
            "justify_content": null,
            "justify_items": null,
            "left": null,
            "margin": null,
            "max_height": null,
            "max_width": null,
            "min_height": null,
            "min_width": null,
            "object_fit": null,
            "object_position": null,
            "order": null,
            "overflow": null,
            "overflow_x": null,
            "overflow_y": null,
            "padding": null,
            "right": null,
            "top": null,
            "visibility": null,
            "width": null
          }
        },
        "863ebab7a9b8452faab6206ca2b71074": {
          "model_module": "@jupyter-widgets/controls",
          "model_module_version": "1.5.0",
          "model_name": "HTMLModel",
          "state": {
            "_dom_classes": [],
            "_model_module": "@jupyter-widgets/controls",
            "_model_module_version": "1.5.0",
            "_model_name": "HTMLModel",
            "_view_count": null,
            "_view_module": "@jupyter-widgets/controls",
            "_view_module_version": "1.5.0",
            "_view_name": "HTMLView",
            "description": "",
            "description_tooltip": null,
            "layout": "IPY_MODEL_a102c5087141442ba954c9e97da23957",
            "placeholder": "​",
            "style": "IPY_MODEL_9773b079ecb848f19763d10984eebaaf",
            "value": "Downloading data: 100%"
          }
        },
        "871088792d8e466eaff966a92fd87b80": {
          "model_module": "@jupyter-widgets/controls",
          "model_module_version": "1.5.0",
          "model_name": "HTMLModel",
          "state": {
            "_dom_classes": [],
            "_model_module": "@jupyter-widgets/controls",
            "_model_module_version": "1.5.0",
            "_model_name": "HTMLModel",
            "_view_count": null,
            "_view_module": "@jupyter-widgets/controls",
            "_view_module_version": "1.5.0",
            "_view_name": "HTMLView",
            "description": "",
            "description_tooltip": null,
            "layout": "IPY_MODEL_a9e8901827ed43de85bc56d177311009",
            "placeholder": "​",
            "style": "IPY_MODEL_01fb5f4bf5ff46379df9d0de0985b8d2",
            "value": " 500/500 [00:00&lt;00:00, 7173.63 examples/s]"
          }
        },
        "8885c27b04284da381085aff0e4b20de": {
          "model_module": "@jupyter-widgets/controls",
          "model_module_version": "1.5.0",
          "model_name": "DescriptionStyleModel",
          "state": {
            "_model_module": "@jupyter-widgets/controls",
            "_model_module_version": "1.5.0",
            "_model_name": "DescriptionStyleModel",
            "_view_count": null,
            "_view_module": "@jupyter-widgets/base",
            "_view_module_version": "1.2.0",
            "_view_name": "StyleView",
            "description_width": ""
          }
        },
        "8e97eb6fa69b4cfdbb98dbe07d19fdec": {
          "model_module": "@jupyter-widgets/controls",
          "model_module_version": "1.5.0",
          "model_name": "DescriptionStyleModel",
          "state": {
            "_model_module": "@jupyter-widgets/controls",
            "_model_module_version": "1.5.0",
            "_model_name": "DescriptionStyleModel",
            "_view_count": null,
            "_view_module": "@jupyter-widgets/base",
            "_view_module_version": "1.2.0",
            "_view_name": "StyleView",
            "description_width": ""
          }
        },
        "908d0ced42ae4adfbed2209518a7ba1d": {
          "model_module": "@jupyter-widgets/controls",
          "model_module_version": "1.5.0",
          "model_name": "DescriptionStyleModel",
          "state": {
            "_model_module": "@jupyter-widgets/controls",
            "_model_module_version": "1.5.0",
            "_model_name": "DescriptionStyleModel",
            "_view_count": null,
            "_view_module": "@jupyter-widgets/base",
            "_view_module_version": "1.2.0",
            "_view_name": "StyleView",
            "description_width": ""
          }
        },
        "9773b079ecb848f19763d10984eebaaf": {
          "model_module": "@jupyter-widgets/controls",
          "model_module_version": "1.5.0",
          "model_name": "DescriptionStyleModel",
          "state": {
            "_model_module": "@jupyter-widgets/controls",
            "_model_module_version": "1.5.0",
            "_model_name": "DescriptionStyleModel",
            "_view_count": null,
            "_view_module": "@jupyter-widgets/base",
            "_view_module_version": "1.2.0",
            "_view_name": "StyleView",
            "description_width": ""
          }
        },
        "9b2d831e32c54be59e287479331cc117": {
          "model_module": "@jupyter-widgets/base",
          "model_module_version": "1.2.0",
          "model_name": "LayoutModel",
          "state": {
            "_model_module": "@jupyter-widgets/base",
            "_model_module_version": "1.2.0",
            "_model_name": "LayoutModel",
            "_view_count": null,
            "_view_module": "@jupyter-widgets/base",
            "_view_module_version": "1.2.0",
            "_view_name": "LayoutView",
            "align_content": null,
            "align_items": null,
            "align_self": null,
            "border": null,
            "bottom": null,
            "display": null,
            "flex": null,
            "flex_flow": null,
            "grid_area": null,
            "grid_auto_columns": null,
            "grid_auto_flow": null,
            "grid_auto_rows": null,
            "grid_column": null,
            "grid_gap": null,
            "grid_row": null,
            "grid_template_areas": null,
            "grid_template_columns": null,
            "grid_template_rows": null,
            "height": null,
            "justify_content": null,
            "justify_items": null,
            "left": null,
            "margin": null,
            "max_height": null,
            "max_width": null,
            "min_height": null,
            "min_width": null,
            "object_fit": null,
            "object_position": null,
            "order": null,
            "overflow": null,
            "overflow_x": null,
            "overflow_y": null,
            "padding": null,
            "right": null,
            "top": null,
            "visibility": null,
            "width": null
          }
        },
        "9d0769b999b746748dc295a84ee8c871": {
          "model_module": "@jupyter-widgets/controls",
          "model_module_version": "1.5.0",
          "model_name": "HBoxModel",
          "state": {
            "_dom_classes": [],
            "_model_module": "@jupyter-widgets/controls",
            "_model_module_version": "1.5.0",
            "_model_name": "HBoxModel",
            "_view_count": null,
            "_view_module": "@jupyter-widgets/controls",
            "_view_module_version": "1.5.0",
            "_view_name": "HBoxView",
            "box_style": "",
            "children": [
              "IPY_MODEL_00fec107b63648d2963143e1818a883f",
              "IPY_MODEL_ee6a7ca0e2724bad8d001c356fd5004b",
              "IPY_MODEL_5f367bd7da804a7b9a9159e591d93537"
            ],
            "layout": "IPY_MODEL_4d321c08dc124da79f3dbc2e824f20e3"
          }
        },
        "a102c5087141442ba954c9e97da23957": {
          "model_module": "@jupyter-widgets/base",
          "model_module_version": "1.2.0",
          "model_name": "LayoutModel",
          "state": {
            "_model_module": "@jupyter-widgets/base",
            "_model_module_version": "1.2.0",
            "_model_name": "LayoutModel",
            "_view_count": null,
            "_view_module": "@jupyter-widgets/base",
            "_view_module_version": "1.2.0",
            "_view_name": "LayoutView",
            "align_content": null,
            "align_items": null,
            "align_self": null,
            "border": null,
            "bottom": null,
            "display": null,
            "flex": null,
            "flex_flow": null,
            "grid_area": null,
            "grid_auto_columns": null,
            "grid_auto_flow": null,
            "grid_auto_rows": null,
            "grid_column": null,
            "grid_gap": null,
            "grid_row": null,
            "grid_template_areas": null,
            "grid_template_columns": null,
            "grid_template_rows": null,
            "height": null,
            "justify_content": null,
            "justify_items": null,
            "left": null,
            "margin": null,
            "max_height": null,
            "max_width": null,
            "min_height": null,
            "min_width": null,
            "object_fit": null,
            "object_position": null,
            "order": null,
            "overflow": null,
            "overflow_x": null,
            "overflow_y": null,
            "padding": null,
            "right": null,
            "top": null,
            "visibility": null,
            "width": null
          }
        },
        "a682ad68842b40c49b4a2ce9fea76d52": {
          "model_module": "@jupyter-widgets/base",
          "model_module_version": "1.2.0",
          "model_name": "LayoutModel",
          "state": {
            "_model_module": "@jupyter-widgets/base",
            "_model_module_version": "1.2.0",
            "_model_name": "LayoutModel",
            "_view_count": null,
            "_view_module": "@jupyter-widgets/base",
            "_view_module_version": "1.2.0",
            "_view_name": "LayoutView",
            "align_content": null,
            "align_items": null,
            "align_self": null,
            "border": null,
            "bottom": null,
            "display": null,
            "flex": null,
            "flex_flow": null,
            "grid_area": null,
            "grid_auto_columns": null,
            "grid_auto_flow": null,
            "grid_auto_rows": null,
            "grid_column": null,
            "grid_gap": null,
            "grid_row": null,
            "grid_template_areas": null,
            "grid_template_columns": null,
            "grid_template_rows": null,
            "height": null,
            "justify_content": null,
            "justify_items": null,
            "left": null,
            "margin": null,
            "max_height": null,
            "max_width": null,
            "min_height": null,
            "min_width": null,
            "object_fit": null,
            "object_position": null,
            "order": null,
            "overflow": null,
            "overflow_x": null,
            "overflow_y": null,
            "padding": null,
            "right": null,
            "top": null,
            "visibility": null,
            "width": null
          }
        },
        "a7aa91bfc5d649fa9dcf1c9821e441e3": {
          "model_module": "@jupyter-widgets/controls",
          "model_module_version": "1.5.0",
          "model_name": "HTMLModel",
          "state": {
            "_dom_classes": [],
            "_model_module": "@jupyter-widgets/controls",
            "_model_module_version": "1.5.0",
            "_model_name": "HTMLModel",
            "_view_count": null,
            "_view_module": "@jupyter-widgets/controls",
            "_view_module_version": "1.5.0",
            "_view_name": "HTMLView",
            "description": "",
            "description_tooltip": null,
            "layout": "IPY_MODEL_694a52495f6047f6b0c2f4e774de23a8",
            "placeholder": "​",
            "style": "IPY_MODEL_cd41975732464f99bcb74fd92e038461",
            "value": " 10.6k/10.6k [00:00&lt;00:00, 96.5kB/s]"
          }
        },
        "a8d45a6621f74d63ba3e97b7d3edeca2": {
          "model_module": "@jupyter-widgets/base",
          "model_module_version": "1.2.0",
          "model_name": "LayoutModel",
          "state": {
            "_model_module": "@jupyter-widgets/base",
            "_model_module_version": "1.2.0",
            "_model_name": "LayoutModel",
            "_view_count": null,
            "_view_module": "@jupyter-widgets/base",
            "_view_module_version": "1.2.0",
            "_view_name": "LayoutView",
            "align_content": null,
            "align_items": null,
            "align_self": null,
            "border": null,
            "bottom": null,
            "display": null,
            "flex": null,
            "flex_flow": null,
            "grid_area": null,
            "grid_auto_columns": null,
            "grid_auto_flow": null,
            "grid_auto_rows": null,
            "grid_column": null,
            "grid_gap": null,
            "grid_row": null,
            "grid_template_areas": null,
            "grid_template_columns": null,
            "grid_template_rows": null,
            "height": null,
            "justify_content": null,
            "justify_items": null,
            "left": null,
            "margin": null,
            "max_height": null,
            "max_width": null,
            "min_height": null,
            "min_width": null,
            "object_fit": null,
            "object_position": null,
            "order": null,
            "overflow": null,
            "overflow_x": null,
            "overflow_y": null,
            "padding": null,
            "right": null,
            "top": null,
            "visibility": null,
            "width": null
          }
        },
        "a9e8901827ed43de85bc56d177311009": {
          "model_module": "@jupyter-widgets/base",
          "model_module_version": "1.2.0",
          "model_name": "LayoutModel",
          "state": {
            "_model_module": "@jupyter-widgets/base",
            "_model_module_version": "1.2.0",
            "_model_name": "LayoutModel",
            "_view_count": null,
            "_view_module": "@jupyter-widgets/base",
            "_view_module_version": "1.2.0",
            "_view_name": "LayoutView",
            "align_content": null,
            "align_items": null,
            "align_self": null,
            "border": null,
            "bottom": null,
            "display": null,
            "flex": null,
            "flex_flow": null,
            "grid_area": null,
            "grid_auto_columns": null,
            "grid_auto_flow": null,
            "grid_auto_rows": null,
            "grid_column": null,
            "grid_gap": null,
            "grid_row": null,
            "grid_template_areas": null,
            "grid_template_columns": null,
            "grid_template_rows": null,
            "height": null,
            "justify_content": null,
            "justify_items": null,
            "left": null,
            "margin": null,
            "max_height": null,
            "max_width": null,
            "min_height": null,
            "min_width": null,
            "object_fit": null,
            "object_position": null,
            "order": null,
            "overflow": null,
            "overflow_x": null,
            "overflow_y": null,
            "padding": null,
            "right": null,
            "top": null,
            "visibility": null,
            "width": null
          }
        },
        "ac5623d01ddb4ce8927be677d13d656e": {
          "model_module": "@jupyter-widgets/controls",
          "model_module_version": "1.5.0",
          "model_name": "FloatProgressModel",
          "state": {
            "_dom_classes": [],
            "_model_module": "@jupyter-widgets/controls",
            "_model_module_version": "1.5.0",
            "_model_name": "FloatProgressModel",
            "_view_count": null,
            "_view_module": "@jupyter-widgets/controls",
            "_view_module_version": "1.5.0",
            "_view_name": "ProgressView",
            "bar_style": "success",
            "description": "",
            "description_tooltip": null,
            "layout": "IPY_MODEL_9b2d831e32c54be59e287479331cc117",
            "max": 335858,
            "min": 0,
            "orientation": "horizontal",
            "style": "IPY_MODEL_ef13f5dfbf1941ee8c7d9c2205945c52",
            "value": 335858
          }
        },
        "acbd6da4056b4a999df1bc6145c2e0e7": {
          "model_module": "@jupyter-widgets/controls",
          "model_module_version": "1.5.0",
          "model_name": "DescriptionStyleModel",
          "state": {
            "_model_module": "@jupyter-widgets/controls",
            "_model_module_version": "1.5.0",
            "_model_name": "DescriptionStyleModel",
            "_view_count": null,
            "_view_module": "@jupyter-widgets/base",
            "_view_module_version": "1.2.0",
            "_view_name": "StyleView",
            "description_width": ""
          }
        },
        "ae6902c232a74c92989949579a659e8a": {
          "model_module": "@jupyter-widgets/controls",
          "model_module_version": "1.5.0",
          "model_name": "DescriptionStyleModel",
          "state": {
            "_model_module": "@jupyter-widgets/controls",
            "_model_module_version": "1.5.0",
            "_model_name": "DescriptionStyleModel",
            "_view_count": null,
            "_view_module": "@jupyter-widgets/base",
            "_view_module_version": "1.2.0",
            "_view_name": "StyleView",
            "description_width": ""
          }
        },
        "be2029af0ad84060ae9a54e0d0f0547c": {
          "model_module": "@jupyter-widgets/controls",
          "model_module_version": "1.5.0",
          "model_name": "ProgressStyleModel",
          "state": {
            "_model_module": "@jupyter-widgets/controls",
            "_model_module_version": "1.5.0",
            "_model_name": "ProgressStyleModel",
            "_view_count": null,
            "_view_module": "@jupyter-widgets/base",
            "_view_module_version": "1.2.0",
            "_view_name": "StyleView",
            "bar_color": null,
            "description_width": ""
          }
        },
        "bfae1814bf2d4c25b97d57538a66e628": {
          "model_module": "@jupyter-widgets/controls",
          "model_module_version": "1.5.0",
          "model_name": "HBoxModel",
          "state": {
            "_dom_classes": [],
            "_model_module": "@jupyter-widgets/controls",
            "_model_module_version": "1.5.0",
            "_model_name": "HBoxModel",
            "_view_count": null,
            "_view_module": "@jupyter-widgets/controls",
            "_view_module_version": "1.5.0",
            "_view_name": "HBoxView",
            "box_style": "",
            "children": [
              "IPY_MODEL_863ebab7a9b8452faab6206ca2b71074",
              "IPY_MODEL_ac5623d01ddb4ce8927be677d13d656e",
              "IPY_MODEL_ee5a3d2681b546b08fe4bfa1b73a52b6"
            ],
            "layout": "IPY_MODEL_18c6e6b004b04757926c79a49393bade"
          }
        },
        "cd41975732464f99bcb74fd92e038461": {
          "model_module": "@jupyter-widgets/controls",
          "model_module_version": "1.5.0",
          "model_name": "DescriptionStyleModel",
          "state": {
            "_model_module": "@jupyter-widgets/controls",
            "_model_module_version": "1.5.0",
            "_model_name": "DescriptionStyleModel",
            "_view_count": null,
            "_view_module": "@jupyter-widgets/base",
            "_view_module_version": "1.2.0",
            "_view_name": "StyleView",
            "description_width": ""
          }
        },
        "d6c120b5e40b4206ba5868a318aa4a0d": {
          "model_module": "@jupyter-widgets/controls",
          "model_module_version": "1.5.0",
          "model_name": "ProgressStyleModel",
          "state": {
            "_model_module": "@jupyter-widgets/controls",
            "_model_module_version": "1.5.0",
            "_model_name": "ProgressStyleModel",
            "_view_count": null,
            "_view_module": "@jupyter-widgets/base",
            "_view_module_version": "1.2.0",
            "_view_name": "StyleView",
            "bar_color": null,
            "description_width": ""
          }
        },
        "db02362a599449558a7154c283d7aad5": {
          "model_module": "@jupyter-widgets/base",
          "model_module_version": "1.2.0",
          "model_name": "LayoutModel",
          "state": {
            "_model_module": "@jupyter-widgets/base",
            "_model_module_version": "1.2.0",
            "_model_name": "LayoutModel",
            "_view_count": null,
            "_view_module": "@jupyter-widgets/base",
            "_view_module_version": "1.2.0",
            "_view_name": "LayoutView",
            "align_content": null,
            "align_items": null,
            "align_self": null,
            "border": null,
            "bottom": null,
            "display": null,
            "flex": null,
            "flex_flow": null,
            "grid_area": null,
            "grid_auto_columns": null,
            "grid_auto_flow": null,
            "grid_auto_rows": null,
            "grid_column": null,
            "grid_gap": null,
            "grid_row": null,
            "grid_template_areas": null,
            "grid_template_columns": null,
            "grid_template_rows": null,
            "height": null,
            "justify_content": null,
            "justify_items": null,
            "left": null,
            "margin": null,
            "max_height": null,
            "max_width": null,
            "min_height": null,
            "min_width": null,
            "object_fit": null,
            "object_position": null,
            "order": null,
            "overflow": null,
            "overflow_x": null,
            "overflow_y": null,
            "padding": null,
            "right": null,
            "top": null,
            "visibility": null,
            "width": null
          }
        },
        "dbc785c6fe8844bfbcf7547dd400b795": {
          "model_module": "@jupyter-widgets/base",
          "model_module_version": "1.2.0",
          "model_name": "LayoutModel",
          "state": {
            "_model_module": "@jupyter-widgets/base",
            "_model_module_version": "1.2.0",
            "_model_name": "LayoutModel",
            "_view_count": null,
            "_view_module": "@jupyter-widgets/base",
            "_view_module_version": "1.2.0",
            "_view_name": "LayoutView",
            "align_content": null,
            "align_items": null,
            "align_self": null,
            "border": null,
            "bottom": null,
            "display": null,
            "flex": null,
            "flex_flow": null,
            "grid_area": null,
            "grid_auto_columns": null,
            "grid_auto_flow": null,
            "grid_auto_rows": null,
            "grid_column": null,
            "grid_gap": null,
            "grid_row": null,
            "grid_template_areas": null,
            "grid_template_columns": null,
            "grid_template_rows": null,
            "height": null,
            "justify_content": null,
            "justify_items": null,
            "left": null,
            "margin": null,
            "max_height": null,
            "max_width": null,
            "min_height": null,
            "min_width": null,
            "object_fit": null,
            "object_position": null,
            "order": null,
            "overflow": null,
            "overflow_x": null,
            "overflow_y": null,
            "padding": null,
            "right": null,
            "top": null,
            "visibility": null,
            "width": null
          }
        },
        "dbe5197b9c904b34bbb0afe0219fa48e": {
          "model_module": "@jupyter-widgets/base",
          "model_module_version": "1.2.0",
          "model_name": "LayoutModel",
          "state": {
            "_model_module": "@jupyter-widgets/base",
            "_model_module_version": "1.2.0",
            "_model_name": "LayoutModel",
            "_view_count": null,
            "_view_module": "@jupyter-widgets/base",
            "_view_module_version": "1.2.0",
            "_view_name": "LayoutView",
            "align_content": null,
            "align_items": null,
            "align_self": null,
            "border": null,
            "bottom": null,
            "display": null,
            "flex": null,
            "flex_flow": null,
            "grid_area": null,
            "grid_auto_columns": null,
            "grid_auto_flow": null,
            "grid_auto_rows": null,
            "grid_column": null,
            "grid_gap": null,
            "grid_row": null,
            "grid_template_areas": null,
            "grid_template_columns": null,
            "grid_template_rows": null,
            "height": null,
            "justify_content": null,
            "justify_items": null,
            "left": null,
            "margin": null,
            "max_height": null,
            "max_width": null,
            "min_height": null,
            "min_width": null,
            "object_fit": null,
            "object_position": null,
            "order": null,
            "overflow": null,
            "overflow_x": null,
            "overflow_y": null,
            "padding": null,
            "right": null,
            "top": null,
            "visibility": null,
            "width": null
          }
        },
        "dd0e4f232c7741f9a692f38e378672d1": {
          "model_module": "@jupyter-widgets/base",
          "model_module_version": "1.2.0",
          "model_name": "LayoutModel",
          "state": {
            "_model_module": "@jupyter-widgets/base",
            "_model_module_version": "1.2.0",
            "_model_name": "LayoutModel",
            "_view_count": null,
            "_view_module": "@jupyter-widgets/base",
            "_view_module_version": "1.2.0",
            "_view_name": "LayoutView",
            "align_content": null,
            "align_items": null,
            "align_self": null,
            "border": null,
            "bottom": null,
            "display": null,
            "flex": null,
            "flex_flow": null,
            "grid_area": null,
            "grid_auto_columns": null,
            "grid_auto_flow": null,
            "grid_auto_rows": null,
            "grid_column": null,
            "grid_gap": null,
            "grid_row": null,
            "grid_template_areas": null,
            "grid_template_columns": null,
            "grid_template_rows": null,
            "height": null,
            "justify_content": null,
            "justify_items": null,
            "left": null,
            "margin": null,
            "max_height": null,
            "max_width": null,
            "min_height": null,
            "min_width": null,
            "object_fit": null,
            "object_position": null,
            "order": null,
            "overflow": null,
            "overflow_x": null,
            "overflow_y": null,
            "padding": null,
            "right": null,
            "top": null,
            "visibility": null,
            "width": null
          }
        },
        "e2a142c3f4f44a5fafc861ab3482ce9d": {
          "model_module": "@jupyter-widgets/base",
          "model_module_version": "1.2.0",
          "model_name": "LayoutModel",
          "state": {
            "_model_module": "@jupyter-widgets/base",
            "_model_module_version": "1.2.0",
            "_model_name": "LayoutModel",
            "_view_count": null,
            "_view_module": "@jupyter-widgets/base",
            "_view_module_version": "1.2.0",
            "_view_name": "LayoutView",
            "align_content": null,
            "align_items": null,
            "align_self": null,
            "border": null,
            "bottom": null,
            "display": null,
            "flex": null,
            "flex_flow": null,
            "grid_area": null,
            "grid_auto_columns": null,
            "grid_auto_flow": null,
            "grid_auto_rows": null,
            "grid_column": null,
            "grid_gap": null,
            "grid_row": null,
            "grid_template_areas": null,
            "grid_template_columns": null,
            "grid_template_rows": null,
            "height": null,
            "justify_content": null,
            "justify_items": null,
            "left": null,
            "margin": null,
            "max_height": null,
            "max_width": null,
            "min_height": null,
            "min_width": null,
            "object_fit": null,
            "object_position": null,
            "order": null,
            "overflow": null,
            "overflow_x": null,
            "overflow_y": null,
            "padding": null,
            "right": null,
            "top": null,
            "visibility": null,
            "width": null
          }
        },
        "e35a96d0387742d59115c3db9ba11734": {
          "model_module": "@jupyter-widgets/controls",
          "model_module_version": "1.5.0",
          "model_name": "DescriptionStyleModel",
          "state": {
            "_model_module": "@jupyter-widgets/controls",
            "_model_module_version": "1.5.0",
            "_model_name": "DescriptionStyleModel",
            "_view_count": null,
            "_view_module": "@jupyter-widgets/base",
            "_view_module_version": "1.2.0",
            "_view_name": "StyleView",
            "description_width": ""
          }
        },
        "e7a1464199dc45ceb19068835bed9bc8": {
          "model_module": "@jupyter-widgets/base",
          "model_module_version": "1.2.0",
          "model_name": "LayoutModel",
          "state": {
            "_model_module": "@jupyter-widgets/base",
            "_model_module_version": "1.2.0",
            "_model_name": "LayoutModel",
            "_view_count": null,
            "_view_module": "@jupyter-widgets/base",
            "_view_module_version": "1.2.0",
            "_view_name": "LayoutView",
            "align_content": null,
            "align_items": null,
            "align_self": null,
            "border": null,
            "bottom": null,
            "display": null,
            "flex": null,
            "flex_flow": null,
            "grid_area": null,
            "grid_auto_columns": null,
            "grid_auto_flow": null,
            "grid_auto_rows": null,
            "grid_column": null,
            "grid_gap": null,
            "grid_row": null,
            "grid_template_areas": null,
            "grid_template_columns": null,
            "grid_template_rows": null,
            "height": null,
            "justify_content": null,
            "justify_items": null,
            "left": null,
            "margin": null,
            "max_height": null,
            "max_width": null,
            "min_height": null,
            "min_width": null,
            "object_fit": null,
            "object_position": null,
            "order": null,
            "overflow": null,
            "overflow_x": null,
            "overflow_y": null,
            "padding": null,
            "right": null,
            "top": null,
            "visibility": null,
            "width": null
          }
        },
        "ede1b42527c943b3b023939f14b7205a": {
          "model_module": "@jupyter-widgets/base",
          "model_module_version": "1.2.0",
          "model_name": "LayoutModel",
          "state": {
            "_model_module": "@jupyter-widgets/base",
            "_model_module_version": "1.2.0",
            "_model_name": "LayoutModel",
            "_view_count": null,
            "_view_module": "@jupyter-widgets/base",
            "_view_module_version": "1.2.0",
            "_view_name": "LayoutView",
            "align_content": null,
            "align_items": null,
            "align_self": null,
            "border": null,
            "bottom": null,
            "display": null,
            "flex": null,
            "flex_flow": null,
            "grid_area": null,
            "grid_auto_columns": null,
            "grid_auto_flow": null,
            "grid_auto_rows": null,
            "grid_column": null,
            "grid_gap": null,
            "grid_row": null,
            "grid_template_areas": null,
            "grid_template_columns": null,
            "grid_template_rows": null,
            "height": null,
            "justify_content": null,
            "justify_items": null,
            "left": null,
            "margin": null,
            "max_height": null,
            "max_width": null,
            "min_height": null,
            "min_width": null,
            "object_fit": null,
            "object_position": null,
            "order": null,
            "overflow": null,
            "overflow_x": null,
            "overflow_y": null,
            "padding": null,
            "right": null,
            "top": null,
            "visibility": null,
            "width": null
          }
        },
        "ee5a3d2681b546b08fe4bfa1b73a52b6": {
          "model_module": "@jupyter-widgets/controls",
          "model_module_version": "1.5.0",
          "model_name": "HTMLModel",
          "state": {
            "_dom_classes": [],
            "_model_module": "@jupyter-widgets/controls",
            "_model_module_version": "1.5.0",
            "_model_name": "HTMLModel",
            "_view_count": null,
            "_view_module": "@jupyter-widgets/controls",
            "_view_module_version": "1.5.0",
            "_view_name": "HTMLView",
            "description": "",
            "description_tooltip": null,
            "layout": "IPY_MODEL_dd0e4f232c7741f9a692f38e378672d1",
            "placeholder": "​",
            "style": "IPY_MODEL_e35a96d0387742d59115c3db9ba11734",
            "value": " 336k/336k [00:00&lt;00:00, 789kB/s]"
          }
        },
        "ee6a7ca0e2724bad8d001c356fd5004b": {
          "model_module": "@jupyter-widgets/controls",
          "model_module_version": "1.5.0",
          "model_name": "FloatProgressModel",
          "state": {
            "_dom_classes": [],
            "_model_module": "@jupyter-widgets/controls",
            "_model_module_version": "1.5.0",
            "_model_name": "FloatProgressModel",
            "_view_count": null,
            "_view_module": "@jupyter-widgets/controls",
            "_view_module_version": "1.5.0",
            "_view_name": "ProgressView",
            "bar_style": "success",
            "description": "",
            "description_tooltip": null,
            "layout": "IPY_MODEL_dbc785c6fe8844bfbcf7547dd400b795",
            "max": 5090,
            "min": 0,
            "orientation": "horizontal",
            "style": "IPY_MODEL_67f94c392f49486bb72df884a8dfb275",
            "value": 5090
          }
        },
        "ef13f5dfbf1941ee8c7d9c2205945c52": {
          "model_module": "@jupyter-widgets/controls",
          "model_module_version": "1.5.0",
          "model_name": "ProgressStyleModel",
          "state": {
            "_model_module": "@jupyter-widgets/controls",
            "_model_module_version": "1.5.0",
            "_model_name": "ProgressStyleModel",
            "_view_count": null,
            "_view_module": "@jupyter-widgets/base",
            "_view_module_version": "1.2.0",
            "_view_name": "StyleView",
            "bar_color": null,
            "description_width": ""
          }
        },
        "f2685cbcfa514cb6bd1e81164a09db91": {
          "model_module": "@jupyter-widgets/controls",
          "model_module_version": "1.5.0",
          "model_name": "ProgressStyleModel",
          "state": {
            "_model_module": "@jupyter-widgets/controls",
            "_model_module_version": "1.5.0",
            "_model_name": "ProgressStyleModel",
            "_view_count": null,
            "_view_module": "@jupyter-widgets/base",
            "_view_module_version": "1.2.0",
            "_view_name": "StyleView",
            "bar_color": null,
            "description_width": ""
          }
        },
        "f9cc57f324294afdac594145771c1aee": {
          "model_module": "@jupyter-widgets/controls",
          "model_module_version": "1.5.0",
          "model_name": "FloatProgressModel",
          "state": {
            "_dom_classes": [],
            "_model_module": "@jupyter-widgets/controls",
            "_model_module_version": "1.5.0",
            "_model_name": "FloatProgressModel",
            "_view_count": null,
            "_view_module": "@jupyter-widgets/controls",
            "_view_module_version": "1.5.0",
            "_view_name": "ProgressView",
            "bar_style": "success",
            "description": "",
            "description_tooltip": null,
            "layout": "IPY_MODEL_ede1b42527c943b3b023939f14b7205a",
            "max": 23354,
            "min": 0,
            "orientation": "horizontal",
            "style": "IPY_MODEL_d6c120b5e40b4206ba5868a318aa4a0d",
            "value": 23354
          }
        }
      }
    }
  },
  "nbformat": 4,
  "nbformat_minor": 0
}
