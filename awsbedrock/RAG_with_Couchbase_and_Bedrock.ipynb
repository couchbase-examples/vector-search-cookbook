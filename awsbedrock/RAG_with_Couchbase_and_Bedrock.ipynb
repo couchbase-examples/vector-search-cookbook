{
 "cells": [
  {
   "cell_type": "markdown",
   "metadata": {},
   "source": [
    "# Introduction\n",
    "\n",
    "In this guide, we will walk you through building a powerful semantic search engine using Couchbase as the backend database and [Amazon Bedrock](https://aws.amazon.com/bedrock/) as both the embedding and language model provider. Semantic search goes beyond simple keyword matching by understanding the context and meaning behind the words in a query, making it an essential tool for applications that require intelligent information retrieval. This tutorial is designed to be beginner-friendly, with clear, step-by-step instructions that will equip you with the knowledge to create a fully functional semantic search system from scratch."
   ]
  },
  {
   "cell_type": "markdown",
   "metadata": {},
   "source": [
    "# How to run this tutorial\n",
    "\n",
    "This tutorial is available as a Jupyter Notebook (`.ipynb` file) that you can run interactively. You can access the original notebook [here](https://github.com/couchbase-examples/vector-search-cookbook/blob/main/awsbedrock/RAG_with_Couchbase_and_Bedrock.ipynb).\n",
    "\n",
    "You can either download the notebook file and run it on [Google Colab](https://colab.research.google.com/) or run it on your system by setting up the Python environment."
   ]
  },
  {
   "cell_type": "markdown",
   "metadata": {},
   "source": [
    "# Before you start\n",
    "\n",
    "## Get Credentials for AWS Bedrock\n",
    "* Please follow the [instructions](https://docs.aws.amazon.com/bedrock/latest/userguide/getting-started.html) to set up AWS Bedrock and generate credentials.\n",
    "* Ensure you have the necessary IAM permissions to access Bedrock services.\n",
    "\n",
    "## Create and Deploy Your Free Tier Operational cluster on Capella\n",
    "\n",
    "To get started with Couchbase Capella, create an account and use it to deploy a forever free tier operational cluster. This account provides you with an environment where you can explore and learn about Capella with no time constraint.\n",
    "\n",
    "To know more, please follow the [instructions](https://docs.couchbase.com/cloud/get-started/create-account.html).\n",
    "\n",
    "### Couchbase Capella Configuration\n",
    "\n",
    "When running Couchbase using [Capella](https://cloud.couchbase.com/sign-in), the following prerequisites need to be met.\n",
    "\n",
    "* Create the [database credentials](https://docs.couchbase.com/cloud/clusters/manage-database-users.html) to access the travel-sample bucket (Read and Write) used in the application.\n",
    "* [Allow access](https://docs.couchbase.com/cloud/clusters/allow-ip-address.html) to the Cluster from the IP on which the application is running."
   ]
  },
  {
   "cell_type": "markdown",
   "metadata": {},
   "source": [
    "# Setting the Stage: Installing Necessary Libraries\n",
    "\n",
    "To build our semantic search engine, we need a robust set of tools. The libraries we install handle everything from connecting to databases to performing complex machine learning tasks."
   ]
  },
  {
   "cell_type": "code",
   "execution_count": 1,
   "metadata": {},
   "outputs": [
    {
     "name": "stdout",
     "output_type": "stream",
     "text": [
      "Note: you may need to restart the kernel to use updated packages.\n"
     ]
    }
   ],
   "source": [
    "%pip install --quiet datasets langchain-couchbase langchain-aws boto3 python-dotenv"
   ]
  },
  {
   "cell_type": "markdown",
   "metadata": {},
   "source": [
    "# Importing Necessary Libraries\n",
    "\n",
    "The script starts by importing a series of libraries required for various tasks, including handling JSON, logging, time tracking, Couchbase connections, embedding generation, and dataset loading."
   ]
  },
  {
   "cell_type": "code",
   "execution_count": 2,
   "metadata": {},
   "outputs": [],
   "source": [
    "import getpass\n",
    "import json\n",
    "import logging\n",
    "import os\n",
    "import time\n",
    "from datetime import timedelta\n",
    "\n",
    "import boto3\n",
    "from couchbase.auth import PasswordAuthenticator\n",
    "from couchbase.cluster import Cluster\n",
    "from couchbase.exceptions import (CouchbaseException,\n",
    "                                InternalServerFailureException,\n",
    "                                QueryIndexAlreadyExistsException,ServiceUnavailableException)\n",
    "from couchbase.management.buckets import CreateBucketSettings\n",
    "from couchbase.management.search import SearchIndex\n",
    "from couchbase.options import ClusterOptions\n",
    "from datasets import load_dataset\n",
    "from dotenv import load_dotenv\n",
    "from langchain_aws import BedrockEmbeddings, ChatBedrock\n",
    "from langchain_core.globals import set_llm_cache\n",
    "from langchain_core.output_parsers import StrOutputParser\n",
    "from langchain_core.prompts.chat import ChatPromptTemplate\n",
    "from langchain_core.runnables import RunnablePassthrough\n",
    "from langchain_couchbase.cache import CouchbaseCache\n",
    "from langchain_couchbase.vectorstores import CouchbaseVectorStore\n",
    "from tqdm import tqdm"
   ]
  },
  {
   "cell_type": "markdown",
   "metadata": {},
   "source": [
    "# Setup Logging\n",
    "\n",
    "Logging is configured to track the progress of the script and capture any errors or warnings."
   ]
  },
  {
   "cell_type": "code",
   "execution_count": 3,
   "metadata": {},
   "outputs": [],
   "source": [
    "logging.basicConfig(level=logging.INFO, format='%(asctime)s - %(levelname)s - %(message)s', force=True)"
   ]
  },
  {
   "cell_type": "markdown",
   "metadata": {},
   "source": [
    "# Loading Sensitive Informnation\n",
    "In this section, we prompt the user to input essential configuration settings needed. These settings include sensitive information like AWS credentials, database credentials, and specific configuration names. Instead of hardcoding these details into the script, we request the user to provide them at runtime, ensuring flexibility and security.\n",
    "\n",
    "The script also validates that all required inputs are provided, raising an error if any crucial information is missing. This approach ensures that your integration is both secure and correctly configured without hardcoding sensitive information, enhancing the overall security and maintainability of your code."
   ]
  },
  {
   "cell_type": "code",
   "execution_count": 4,
   "metadata": {},
   "outputs": [],
   "source": [
    "\n",
    "# Load environment variables from .env file if it exists\n",
    "load_dotenv()\n",
    "\n",
    "# AWS Credentials\n",
    "AWS_ACCESS_KEY_ID = os.getenv('AWS_ACCESS_KEY_ID') or input('Enter your AWS Access Key ID: ')\n",
    "AWS_SECRET_ACCESS_KEY = os.getenv('AWS_SECRET_ACCESS_KEY') or getpass.getpass('Enter your AWS Secret Access Key: ')\n",
    "AWS_REGION = os.getenv('AWS_REGION') or input('Enter your AWS region (default: us-east-1): ') or 'us-east-1'\n",
    "\n",
    "# Couchbase Settings\n",
    "CB_HOST = os.getenv('CB_HOST') or input('Enter your Couchbase host (default: couchbase://localhost): ') or 'couchbase://localhost'\n",
    "CB_USERNAME = os.getenv('CB_USERNAME') or input('Enter your Couchbase username (default: Administrator): ') or 'Administrator'\n",
    "CB_PASSWORD = os.getenv('CB_PASSWORD') or getpass.getpass('Enter your Couchbase password (default: password): ') or 'password'\n",
    "CB_BUCKET_NAME = os.getenv('CB_BUCKET_NAME') or input('Enter your Couchbase bucket name (default: vector-search-testing): ') or 'vector-search-testing'\n",
    "INDEX_NAME = os.getenv('INDEX_NAME') or input('Enter your index name (default: vector_search_bedrock): ') or 'vector_search_bedrock'\n",
    "SCOPE_NAME = os.getenv('SCOPE_NAME') or input('Enter your scope name (default: shared): ') or 'shared'\n",
    "COLLECTION_NAME = os.getenv('COLLECTION_NAME') or input('Enter your collection name (default: bedrock): ') or 'bedrock'\n",
    "CACHE_COLLECTION = os.getenv('CACHE_COLLECTION') or input('Enter your cache collection name (default: cache): ') or 'cache'\n",
    "\n",
    "# Check if required credentials are set\n",
    "for cred_name, cred_value in {\n",
    "    'AWS_ACCESS_KEY_ID': AWS_ACCESS_KEY_ID,\n",
    "    'AWS_SECRET_ACCESS_KEY': AWS_SECRET_ACCESS_KEY, \n",
    "    'CB_HOST': CB_HOST,\n",
    "    'CB_USERNAME': CB_USERNAME,\n",
    "    'CB_PASSWORD': CB_PASSWORD,\n",
    "    'CB_BUCKET_NAME': CB_BUCKET_NAME\n",
    "}.items():\n",
    "    if not cred_value:\n",
    "        raise ValueError(f\"{cred_name} is not set\")"
   ]
  },
  {
   "cell_type": "markdown",
   "metadata": {},
   "source": [
    "# Connecting to the Couchbase Cluster\n",
    "Connecting to a Couchbase cluster is the foundation of our project. Couchbase will serve as our primary data store, handling all the storage and retrieval operations required for our semantic search engine. By establishing this connection, we enable our application to interact with the database, allowing us to perform operations such as storing embeddings, querying data, and managing collections. This connection is the gateway through which all data will flow, so ensuring it's set up correctly is paramount.\n",
    "\n"
   ]
  },
  {
   "cell_type": "code",
   "execution_count": 5,
   "metadata": {},
   "outputs": [
    {
     "name": "stderr",
     "output_type": "stream",
     "text": [
      "2025-02-06 19:54:57,116 - INFO - Successfully connected to Couchbase\n"
     ]
    }
   ],
   "source": [
    "try:\n",
    "    auth = PasswordAuthenticator(CB_USERNAME, CB_PASSWORD)\n",
    "    options = ClusterOptions(auth)\n",
    "    cluster = Cluster(CB_HOST, options)\n",
    "    cluster.wait_until_ready(timedelta(seconds=5))\n",
    "    logging.info(\"Successfully connected to Couchbase\")\n",
    "except Exception as e:\n",
    "    raise ConnectionError(f\"Failed to connect to Couchbase: {str(e)}\")"
   ]
  },
  {
   "cell_type": "markdown",
   "metadata": {},
   "source": [
    "## Setting Up Collections in Couchbase\n",
    "\n",
    "The setup_collection() function handles creating and configuring the hierarchical data organization in Couchbase:\n",
    "\n",
    "1. Bucket Creation:\n",
    "   - Checks if specified bucket exists, creates it if not\n",
    "   - Sets bucket properties like RAM quota (1024MB) and replication (disabled)\n",
    "\n",
    "2. Scope Management:  \n",
    "   - Verifies if requested scope exists within bucket\n",
    "   - Creates new scope if needed (unless it's the default \"_default\" scope)\n",
    "\n",
    "3. Collection Setup:\n",
    "   - Checks for collection existence within scope\n",
    "   - Creates collection if it doesn't exist\n",
    "   - Waits 2 seconds for collection to be ready\n",
    "\n",
    "Additional Tasks:\n",
    "- Creates primary index on collection for query performance\n",
    "- Clears any existing documents for clean state\n",
    "- Implements comprehensive error handling and logging\n",
    "\n",
    "The function is called twice to set up:\n",
    "1. Main collection for vector embeddings\n",
    "2. Cache collection for storing results\n"
   ]
  },
  {
   "cell_type": "code",
   "execution_count": 6,
   "metadata": {},
   "outputs": [
    {
     "name": "stderr",
     "output_type": "stream",
     "text": [
      "2025-02-06 19:54:57,137 - INFO - Bucket 'vector-search-testing' exists.\n",
      "2025-02-06 19:54:57,144 - INFO - Collection 'bedrock' already exists. Skipping creation.\n",
      "2025-02-06 19:54:59,232 - INFO - Primary index present or created successfully.\n",
      "2025-02-06 19:54:59,621 - INFO - All documents cleared from the collection.\n",
      "2025-02-06 19:54:59,621 - INFO - Bucket 'vector-search-testing' exists.\n",
      "2025-02-06 19:54:59,633 - INFO - Collection 'cache' already exists. Skipping creation.\n",
      "2025-02-06 19:55:01,650 - INFO - Primary index present or created successfully.\n",
      "2025-02-06 19:55:01,654 - INFO - All documents cleared from the collection.\n"
     ]
    },
    {
     "data": {
      "text/plain": [
       "<couchbase.collection.Collection at 0x16cbacc90>"
      ]
     },
     "execution_count": 6,
     "metadata": {},
     "output_type": "execute_result"
    }
   ],
   "source": [
    "def setup_collection(cluster, bucket_name, scope_name, collection_name):\n",
    "    try:\n",
    "        # Check if bucket exists, create if it doesn't\n",
    "        try:\n",
    "            bucket = cluster.bucket(bucket_name)\n",
    "            logging.info(f\"Bucket '{bucket_name}' exists.\")\n",
    "        except Exception as e:\n",
    "            logging.info(f\"Bucket '{bucket_name}' does not exist. Creating it...\")\n",
    "            bucket_settings = CreateBucketSettings(\n",
    "                name=bucket_name,\n",
    "                bucket_type='couchbase',\n",
    "                ram_quota_mb=1024,\n",
    "                flush_enabled=True,\n",
    "                num_replicas=0\n",
    "            )\n",
    "            cluster.buckets().create_bucket(bucket_settings)\n",
    "            bucket = cluster.bucket(bucket_name)\n",
    "            logging.info(f\"Bucket '{bucket_name}' created successfully.\")\n",
    "\n",
    "        bucket_manager = bucket.collections()\n",
    "\n",
    "        # Check if scope exists, create if it doesn't\n",
    "        scopes = bucket_manager.get_all_scopes()\n",
    "        scope_exists = any(scope.name == scope_name for scope in scopes)\n",
    "        \n",
    "        if not scope_exists and scope_name != \"_default\":\n",
    "            logging.info(f\"Scope '{scope_name}' does not exist. Creating it...\")\n",
    "            bucket_manager.create_scope(scope_name)\n",
    "            logging.info(f\"Scope '{scope_name}' created successfully.\")\n",
    "\n",
    "        # Check if collection exists, create if it doesn't\n",
    "        collections = bucket_manager.get_all_scopes()\n",
    "        collection_exists = any(\n",
    "            scope.name == scope_name and collection_name in [col.name for col in scope.collections]\n",
    "            for scope in collections\n",
    "        )\n",
    "\n",
    "        if not collection_exists:\n",
    "            logging.info(f\"Collection '{collection_name}' does not exist. Creating it...\")\n",
    "            bucket_manager.create_collection(scope_name, collection_name)\n",
    "            logging.info(f\"Collection '{collection_name}' created successfully.\")\n",
    "        else:\n",
    "            logging.info(f\"Collection '{collection_name}' already exists. Skipping creation.\")\n",
    "\n",
    "        # Wait for collection to be ready\n",
    "        collection = bucket.scope(scope_name).collection(collection_name)\n",
    "        time.sleep(2)  # Give the collection time to be ready for queries\n",
    "\n",
    "        # Ensure primary index exists\n",
    "        try:\n",
    "            cluster.query(f\"CREATE PRIMARY INDEX IF NOT EXISTS ON `{bucket_name}`.`{scope_name}`.`{collection_name}`\").execute()\n",
    "            logging.info(\"Primary index present or created successfully.\")\n",
    "        except Exception as e:\n",
    "            logging.warning(f\"Error creating primary index: {str(e)}\")\n",
    "\n",
    "        # Clear all documents in the collection\n",
    "        try:\n",
    "            query = f\"DELETE FROM `{bucket_name}`.`{scope_name}`.`{collection_name}`\"\n",
    "            cluster.query(query).execute()\n",
    "            logging.info(\"All documents cleared from the collection.\")\n",
    "        except Exception as e:\n",
    "            logging.warning(f\"Error while clearing documents: {str(e)}. The collection might be empty.\")\n",
    "\n",
    "        return collection\n",
    "    except Exception as e:\n",
    "        raise RuntimeError(f\"Error setting up collection: {str(e)}\")\n",
    "    \n",
    "setup_collection(cluster, CB_BUCKET_NAME, SCOPE_NAME, COLLECTION_NAME)\n",
    "setup_collection(cluster, CB_BUCKET_NAME, SCOPE_NAME, CACHE_COLLECTION)\n"
   ]
  },
  {
   "cell_type": "markdown",
   "metadata": {},
   "source": [
    "# Loading Couchbase Vector Search Index\n",
    "\n",
    "Semantic search requires an efficient way to retrieve relevant documents based on a user's query. This is where the Couchbase **Vector Search Index** comes into play. In this step, we load the Vector Search Index definition from a JSON file, which specifies how the index should be structured. This includes the fields to be indexed, the dimensions of the vectors, and other parameters that determine how the search engine processes queries based on vector similarity.\n",
    "\n",
    "This AWS Bedrock vector search index configuration requires specific default settings to function properly. This tutorial uses the bucket named `vector-search-testing` with the scope `shared` and collection `bedrock`. The configuration is set up for vectors with exactly `1024 dimensions`, using dot product similarity and optimized for recall. If you want to use a different bucket, scope, or collection, you will need to modify the index configuration accordingly.\n",
    "\n",
    "For more information on creating a vector search index, please follow the [instructions](https://docs.couchbase.com/cloud/vector-search/create-vector-search-index-ui.html).\n"
   ]
  },
  {
   "cell_type": "code",
   "execution_count": 7,
   "metadata": {},
   "outputs": [],
   "source": [
    "try:\n",
    "    with open('aws_index.json', 'r') as file:\n",
    "        index_definition = json.load(file)\n",
    "except Exception as e:\n",
    "    raise ValueError(f\"Error loading index definition: {str(e)}\")"
   ]
  },
  {
   "cell_type": "markdown",
   "metadata": {},
   "source": [
    "# Creating or Updating Search Indexes\n",
    "\n",
    "With the index definition loaded, the next step is to create or update the **Vector Search Index** in Couchbase. This step is crucial because it optimizes our database for vector similarity search operations, allowing us to perform searches based on the semantic content of documents rather than just keywords. By creating or updating a Vector Search Index, we enable our search engine to handle complex queries that involve finding semantically similar documents using vector embeddings, which is essential for a robust semantic search engine."
   ]
  },
  {
   "cell_type": "code",
   "execution_count": 8,
   "metadata": {},
   "outputs": [
    {
     "name": "stderr",
     "output_type": "stream",
     "text": [
      "2025-02-06 19:55:01,726 - INFO - Index 'vector_search_bedrock' found\n",
      "2025-02-06 19:55:01,750 - INFO - Index 'vector_search_bedrock' already exists. Skipping creation/update.\n"
     ]
    }
   ],
   "source": [
    "try:\n",
    "    scope_index_manager = cluster.bucket(CB_BUCKET_NAME).scope(SCOPE_NAME).search_indexes()\n",
    "\n",
    "    # Check if index already exists\n",
    "    existing_indexes = scope_index_manager.get_all_indexes()\n",
    "    index_name = index_definition[\"name\"]\n",
    "\n",
    "    if index_name in [index.name for index in existing_indexes]:\n",
    "        logging.info(f\"Index '{index_name}' found\")\n",
    "    else:\n",
    "        logging.info(f\"Creating new index '{index_name}'...\")\n",
    "\n",
    "    # Create SearchIndex object from JSON definition\n",
    "    search_index = SearchIndex.from_json(index_definition)\n",
    "\n",
    "    # Upsert the index (create if not exists, update if exists)\n",
    "    scope_index_manager.upsert_index(search_index)\n",
    "    logging.info(f\"Index '{index_name}' successfully created/updated.\")\n",
    "\n",
    "except QueryIndexAlreadyExistsException:\n",
    "    logging.info(f\"Index '{index_name}' already exists. Skipping creation/update.\")\n",
    "except ServiceUnavailableException:\n",
    "    raise RuntimeError(\"Search service is not available. Please ensure the Search service is enabled in your Couchbase cluster.\")\n",
    "except InternalServerFailureException as e:\n",
    "    logging.error(f\"Internal server error: {str(e)}\")\n",
    "    raise"
   ]
  },
  {
   "cell_type": "markdown",
   "metadata": {},
   "source": [
    "# Creating Amazon Bedrock Client and Embeddings\n",
    "\n",
    "Embeddings are at the heart of semantic search. They are numerical representations of text that capture the semantic meaning of the words and phrases. We'll use Amazon Bedrock's Titan embedding model for embeddings.\n",
    "\n",
    "## Using Amazon Bedrock's Titan Model\n",
    "\n",
    "Language models are AI systems that are trained to understand and generate human language. We'll be using Amazon Bedrock's Titan model to process user queries and generate meaningful responses. The Titan model family includes both embedding models for converting text into vector representations and text generation models for producing human-like responses.\n",
    "\n",
    "Key features of Amazon Bedrock's Titan models:\n",
    "- Titan Embeddings model for embedding vector generation\n",
    "- Titan Text model for natural language understanding and generation\n",
    "- Seamless integration with AWS infrastructure\n",
    "- Enterprise-grade security and scalability"
   ]
  },
  {
   "cell_type": "code",
   "execution_count": 9,
   "metadata": {},
   "outputs": [
    {
     "name": "stderr",
     "output_type": "stream",
     "text": [
      "2025-02-06 19:55:01,961 - INFO - Successfully created Bedrock embeddings client\n"
     ]
    }
   ],
   "source": [
    "try:\n",
    "    bedrock_client = boto3.client(\n",
    "        service_name='bedrock-runtime',\n",
    "        region_name=AWS_REGION,\n",
    "        aws_access_key_id=AWS_ACCESS_KEY_ID,\n",
    "        aws_secret_access_key=AWS_SECRET_ACCESS_KEY\n",
    "    )\n",
    "    \n",
    "    embeddings = BedrockEmbeddings(\n",
    "        client=bedrock_client,\n",
    "        model_id=\"amazon.titan-embed-text-v2:0\"\n",
    "    )\n",
    "    logging.info(\"Successfully created Bedrock embeddings client\")\n",
    "except Exception as e:\n",
    "    raise ValueError(f\"Error creating Bedrock embeddings client: {str(e)}\")"
   ]
  },
  {
   "cell_type": "markdown",
   "metadata": {},
   "source": [
    "#  Setting Up the Couchbase Vector Store\n",
    "A vector store is where we'll keep our embeddings. Unlike the FTS index, which is used for text-based search, the vector store is specifically designed to handle embeddings and perform similarity searches. When a user inputs a query, the search engine converts the query into an embedding and compares it against the embeddings stored in the vector store. This allows the engine to find documents that are semantically similar to the query, even if they don't contain the exact same words. By setting up the vector store in Couchbase, we create a powerful tool that enables our search engine to understand and retrieve information based on the meaning and context of the query, rather than just the specific words used."
   ]
  },
  {
   "cell_type": "code",
   "execution_count": 10,
   "metadata": {},
   "outputs": [
    {
     "name": "stderr",
     "output_type": "stream",
     "text": [
      "2025-02-06 19:55:01,989 - INFO - Successfully created vector store\n"
     ]
    }
   ],
   "source": [
    "try:\n",
    "    vector_store = CouchbaseVectorStore(\n",
    "        cluster=cluster,\n",
    "        bucket_name=CB_BUCKET_NAME,\n",
    "        scope_name=SCOPE_NAME,\n",
    "        collection_name=COLLECTION_NAME,\n",
    "        embedding=embeddings,\n",
    "        index_name=INDEX_NAME,\n",
    "    )\n",
    "    logging.info(\"Successfully created vector store\")\n",
    "except Exception as e:\n",
    "    raise ValueError(f\"Failed to create vector store: {str(e)}\")"
   ]
  },
  {
   "cell_type": "markdown",
   "metadata": {},
   "source": [
    "# Load the BBC News Dataset\n",
    "To build a search engine, we need data to search through. We use the BBC News dataset from RealTimeData, which provides real-world news articles. This dataset contains news articles from BBC covering various topics and time periods. Loading the dataset is a crucial step because it provides the raw material that our search engine will work with. The quality and diversity of the news articles make it an excellent choice for testing and refining our search engine, ensuring it can handle real-world news content effectively.\n",
    "\n",
    "The BBC News dataset allows us to work with authentic news articles, enabling us to build and test a search engine that can effectively process and retrieve relevant news content. The dataset is loaded using the Hugging Face datasets library, specifically accessing the \"RealTimeData/bbc_news_alltime\" dataset with the \"2024-12\" version."
   ]
  },
  {
   "cell_type": "code",
   "execution_count": 11,
   "metadata": {},
   "outputs": [
    {
     "name": "stderr",
     "output_type": "stream",
     "text": [
      "2025-02-06 19:55:08,850 - INFO - Successfully loaded the BBC News dataset with 2687 rows.\n"
     ]
    },
    {
     "name": "stdout",
     "output_type": "stream",
     "text": [
      "Loaded the BBC News dataset with 2687 rows\n"
     ]
    }
   ],
   "source": [
    "try:\n",
    "    news_dataset = load_dataset(\n",
    "        \"RealTimeData/bbc_news_alltime\", \"2024-12\", split=\"train\"\n",
    "    )\n",
    "    print(f\"Loaded the BBC News dataset with {len(news_dataset)} rows\")\n",
    "    logging.info(f\"Successfully loaded the BBC News dataset with {len(news_dataset)} rows.\")\n",
    "except Exception as e:\n",
    "    raise ValueError(f\"Error loading the BBC News dataset: {str(e)}\")"
   ]
  },
  {
   "cell_type": "markdown",
   "metadata": {},
   "source": [
    "## Cleaning up the Data\n",
    "We will use the content of the news articles for our RAG system.\n",
    "\n",
    "The dataset contains a few duplicate records. We are removing them to avoid duplicate results in the retrieval stage of our RAG system."
   ]
  },
  {
   "cell_type": "code",
   "execution_count": 12,
   "metadata": {},
   "outputs": [
    {
     "name": "stdout",
     "output_type": "stream",
     "text": [
      "We have 1749 unique articles in our database.\n"
     ]
    }
   ],
   "source": [
    "news_articles = news_dataset[\"content\"]\n",
    "unique_articles = set()\n",
    "for article in news_articles:\n",
    "    if article:\n",
    "        unique_articles.add(article)\n",
    "unique_news_articles = list(unique_articles)\n",
    "print(f\"We have {len(unique_news_articles)} unique articles in our database.\")"
   ]
  },
  {
   "cell_type": "markdown",
   "metadata": {},
   "source": [
    "## Saving Data to the Vector Store\n",
    "To efficiently handle the large number of articles, we process them in batches of 50 articles at a time. This batch processing approach helps manage memory usage and provides better control over the ingestion process.\n",
    "\n",
    "We first filter out any articles that exceed 50,000 characters to avoid potential issues with token limits. Then, using the vector store's add_texts method, we add the filtered articles to our vector database. The batch_size parameter controls how many articles are processed in each iteration.\n",
    "\n",
    "This approach offers several benefits:\n",
    "1. Memory Efficiency: Processing in smaller batches prevents memory overload\n",
    "2. Error Handling: If an error occurs, only the current batch is affected\n",
    "3. Progress Tracking: Easier to monitor and track the ingestion progress\n",
    "4. Resource Management: Better control over CPU and network resource utilization\n",
    "\n",
    "We use a conservative batch size of 100 to ensure reliable operation.\n",
    "The optimal batch size depends on many factors including:\n",
    "- Document sizes being inserted\n",
    "- Available system resources\n",
    "- Network conditions\n",
    "- Concurrent workload\n",
    "\n",
    "Consider measuring performance with your specific workload before adjusting.\n"
   ]
  },
  {
   "cell_type": "code",
   "execution_count": 13,
   "metadata": {},
   "outputs": [
    {
     "name": "stderr",
     "output_type": "stream",
     "text": [
      "2025-02-06 20:06:37,070 - INFO - Document ingestion completed successfully.\n"
     ]
    }
   ],
   "source": [
    "batch_size = 100\n",
    "\n",
    "# Automatic Batch Processing\n",
    "articles = [article for article in unique_news_articles if article and len(article) <= 50000]\n",
    "\n",
    "try:\n",
    "    vector_store.add_texts(\n",
    "        texts=articles,\n",
    "        batch_size=batch_size\n",
    "    )\n",
    "    logging.info(\"Document ingestion completed successfully.\")\n",
    "except Exception as e:\n",
    "    raise ValueError(f\"Failed to save documents to vector store: {str(e)}\")\n"
   ]
  },
  {
   "cell_type": "markdown",
   "metadata": {},
   "source": [
    "# Setting Up a Couchbase Cache\n",
    "To further optimize our system, we set up a Couchbase-based cache. A cache is a temporary storage layer that holds data that is frequently accessed, speeding up operations by reducing the need to repeatedly retrieve the same information from the database. In our setup, the cache will help us accelerate repetitive tasks, such as looking up similar documents. By implementing a cache, we enhance the overall performance of our search engine, ensuring that it can handle high query volumes and deliver results quickly.\n",
    "\n",
    "Caching is particularly valuable in scenarios where users may submit similar queries multiple times or where certain pieces of information are frequently requested. By storing these in a cache, we can significantly reduce the time it takes to respond to these queries, improving the user experience.\n"
   ]
  },
  {
   "cell_type": "code",
   "execution_count": 14,
   "metadata": {},
   "outputs": [
    {
     "name": "stderr",
     "output_type": "stream",
     "text": [
      "2025-02-06 20:06:37,092 - INFO - Successfully created cache\n"
     ]
    }
   ],
   "source": [
    "try:\n",
    "    cache = CouchbaseCache(\n",
    "        cluster=cluster,\n",
    "        bucket_name=CB_BUCKET_NAME,\n",
    "        scope_name=SCOPE_NAME,\n",
    "        collection_name=CACHE_COLLECTION,\n",
    "    )\n",
    "    logging.info(\"Successfully created cache\")\n",
    "    set_llm_cache(cache)\n",
    "except Exception as e:\n",
    "    raise ValueError(f\"Failed to create cache: {str(e)}\")"
   ]
  },
  {
   "cell_type": "markdown",
   "metadata": {},
   "source": [
    "# Using Amazon Bedrock's Titan Text Express v1 Model\n",
    "\n",
    "Amazon Bedrock's Titan Text Express v1 is a state-of-the-art foundation model designed for fast and efficient text generation tasks. This model excels at:\n",
    "\n",
    "- Text generation and completion\n",
    "- Question answering \n",
    "- Summarization\n",
    "- Content rewriting\n",
    "- Analysis and extraction\n",
    "\n",
    "Key features of Titan Text Express v1:\n",
    "\n",
    "- Optimized for low-latency responses while maintaining high quality output\n",
    "- Supports up to 8K tokens context window\n",
    "- Built-in content filtering and safety controls\n",
    "- Cost-effective compared to larger models\n",
    "- Seamlessly integrates with AWS services\n",
    "\n",
    "The model uses a temperature parameter (0-1) to control randomness in responses:\n",
    "- Lower values (e.g. 0) produce more focused, deterministic outputs\n",
    "- Higher values introduce more creativity and variation\n",
    "\n",
    "We'll be using this model through Amazon Bedrock's API to process user queries and generate contextually relevant responses based on our vector database content."
   ]
  },
  {
   "cell_type": "code",
   "execution_count": 15,
   "metadata": {},
   "outputs": [
    {
     "name": "stderr",
     "output_type": "stream",
     "text": [
      "2025-02-06 20:06:37,105 - INFO - Successfully created Bedrock LLM client\n"
     ]
    }
   ],
   "source": [
    "try:\n",
    "    llm = ChatBedrock(\n",
    "        client=bedrock_client,\n",
    "        model_id=\"amazon.titan-text-express-v1\",\n",
    "        model_kwargs={\"temperature\": 0}\n",
    "    )\n",
    "    logging.info(\"Successfully created Bedrock LLM client\")\n",
    "except Exception as e:\n",
    "    logging.error(f\"Error creating Bedrock LLM client: {str(e)}. Please check your AWS credentials and Bedrock access.\")\n",
    "    raise"
   ]
  },
  {
   "cell_type": "markdown",
   "metadata": {},
   "source": [
    "# Perform Semantic Search\n",
    "Semantic search in Couchbase involves converting queries and documents into vector representations using an embeddings model. These vectors capture the semantic meaning of the text and are stored directly in Couchbase. When a query is made, Couchbase performs a similarity search by comparing the query vector against the stored document vectors. The similarity metric used for this comparison is configurable, allowing flexibility in how the relevance of documents is determined. Common metrics include cosine similarity, Euclidean distance, or dot product, but other metrics can be implemented based on specific use cases. Different embedding models like BERT, Word2Vec, or GloVe can also be used depending on the application's needs, with the vectors generated by these models stored and searched within Couchbase itself.\n",
    "\n",
    "In the provided code, the search process begins by recording the start time, followed by executing the similarity_search_with_score method of the CouchbaseVectorStore. This method searches Couchbase for the most relevant documents based on the vector similarity to the query. The search results include the document content and a similarity score that reflects how closely each document aligns with the query in the defined semantic space. The time taken to perform this search is then calculated and logged, and the results are displayed, showing the most relevant documents along with their similarity scores. This approach leverages Couchbase as both a storage and retrieval engine for vector data, enabling efficient and scalable semantic searches. The integration of vector storage and search capabilities within Couchbase allows for sophisticated semantic search operations without relying on external services for vector storage or comparison."
   ]
  },
  {
   "cell_type": "code",
   "execution_count": 16,
   "metadata": {},
   "outputs": [
    {
     "name": "stderr",
     "output_type": "stream",
     "text": [
      "2025-02-06 20:06:37,499 - INFO - Semantic search completed in 0.39 seconds\n"
     ]
    },
    {
     "name": "stdout",
     "output_type": "stream",
     "text": [
      "\n",
      "Semantic Search Results (completed in 0.39 seconds):\n",
      "--------------------------------------------------------------------------------\n",
      "Score: 0.2948, Text: Gary Anderson was the fifth seed to be beaten on Sunday\n",
      "\n",
      "Two-time champion Gary Anderson has been dumped out of the PDC World Championship on his 54th birthday by Jeffrey de Graaf. The Scot, winner in 2015 and 2016, lost 3-0 to the Swede in a second-round shock at Alexandra Palace in London. \"Gary didn't really show up as he usually does. I'm very happy with the win,\" said De Graaf, 34, who had a 75% checkout success and began with an 11-dart finish. \"It's a dream come true for me. He's been my idol since I was 14 years old.\" Anderson, ranked 14th, became the 11th seed to be knocked out from the 24 who have played so far, and the fifth to fall on Sunday.\n",
      "\n",
      "He came into the competition with the year's highest overall three-dart average of 99.66 but hit just three of his 20 checkout attempts to lose his opening match of the tournament for the first time. De Graaf will now meet Filipino qualifier Paolo Nebrida after he stunned England's Ross Smith, the 19th seed, in straight sets. Ritchie Edhouse, Dirk van Duijvenbode and Martin Schindler were the other seeds beaten on day eight. England's Callan Rydz, who hit a record first-round average of 107.06 on Thursday, followed up with a 3-0 win over 23rd seed Schindler on Sunday. The German missed double 12 for a nine-darter in the first set – the third player to do so in 24 hours after Luke Littler and Damon Heta – and ended up losing the leg. Rydz next meets Belgian Dimitri van den Bergh, who hit six 180s and averaged 96 in a 3-0 win over Irishman Dylan Slevin.\n",
      "\n",
      "England's Joe Cullen abruptly left his post-match news conference and accused the media of not showing him respect after his 3-0 win over Dutchman Wessel Nijman. Nijman, who has previously served a ban for breaching betting and anti-corruption rules, had been billed as favourite beforehand to beat 23rd seed Cullen. \"Honestly, the media attention that Wessel's got, again this is not a reflection on him,\" Cullen said. \"He seems like a fantastic kid, he's been caught up in a few things beforehand, but he's served his time and he's held his hands up, like a lot haven't. \"I think the way I've been treated probably with the media and things like that - I know you guys have no control over the bookies - I've been shown no respect, so I won't be showing any respect to any of you guys tonight. \"I'm going to go home. Cheers.\" Ian 'Diamond' White beat European champion and 29th seed Edhouse 3-1 and will face teenage star Littler in the next round. White, born in the same Cheshire town as the 17-year-old, acknowledged he would need to up his game in round three. Asked if he knew who was waiting for him, White joked: \"Yeah, Runcorn's number two. I'm from Runcorn and I'm number one.\" Ryan Searle started Sunday afternoon's action off with a 10-dart leg and went on to beat Matt Campbell 3-0, while Latvian Madars Razma defeated 25th seed Van Duijvenbode 3-1. Seventh seed Jonny Clayton and 2018 champion Rob Cross are among the players in action on Monday as the second round concludes. The third round will start on Friday after a three-day break for Christmas.\n",
      "--------------------------------------------------------------------------------\n",
      "Score: 0.1565, Text: The Indian teen who became the world's youngest chess champion\n",
      "\n",
      "This video can not be played To play this video you need to enable JavaScript in your browser. Indian chess champion Gukesh Dommaraju says he feels 'really good'\n",
      "\n",
      "Indian teenager Gukesh Dommaraju shocked the world of chess on Thursday when he became the youngest world champion at the age of just 18. The Chennai-born prodigy defeated defending champion, China's Ding Liren, in a dramatic match staged in Singapore which he had entered as the challenger. The FIDE World Chess Championship carries a $2.5m (£1.96m) prize fund. It marked the peak to date of his career, his greatest moment in a long string of achievements. Gukesh became a grandmaster aged 12 years and seven months and even then, he was upfront about the fact that he dreamt of being the world champion.\n",
      "\n",
      "In fact, he said he had harboured such ambitions since he was seven when he was a spectator at a World Title match between Viswanathan Anand and Magnus Carlsen in 2013. As he confessed at the press conference following his dramatic win against Ding, he just didn't think it would happen so soon. \"Throughout the match I had several chances to clinch victories and many of the games which would have put me in the front foot quite seriously. But once I was getting close I was getting nervous and I was not able to finish him off,\" Gukesh told the BBC after the win. \"...And then all of a sudden...it was a sudden change and I could not process all the new information so quickly.\" Gukesh is the 18th world champion since Wilhelm Steinitz won what is considered the first title match way back in 1886. Born in May 2006, Gukesh is also, by far, the youngest player to have ascended this pinnacle. He comfortably improved upon the prior record held by Garry Kasparov (born April 1963) who was 22 when he won the title in Moscow in November 1985 by beating Anatoly Karpov. The 14-game match was tied with two wins each after 13 games. It looked as though the 14th game was heading for a draw. In that case, there would have been tiebreaks played at progressively shorter time controls. But Ding blundered on move 55 and Gukesh exploited the error to clinch the title.\n",
      "\n",
      "Over the last three years the young player has made a string of extraordinary achievements, culminating in this victory. Gukesh won the individual gold medal for best performance in the last two Olympiads. He led India to a team bronze at Chennai in 2022 and the gold medal in 2024 in Budapest. He also won the Candidates - the tournament that earned him the right to challenge Ding Liren. Earlier in his teens, Gukesh was ruled out as a prospective challenger by his mentor, the former world champion Viswanathan Anand, or \"Vishy Sir\" as Gukesh calls him. He thought Gukesh simply didn't have enough experience. Indeed, Gukesh suffered an apparently catastrophic loss at the midway stage, but then he pulled himself together to win in the next round and eventually took the event. In the title match Gukesh lost the first game, and equalised with a win in game three, he then took the lead in game eleven and Ding equalised with a win in game 12. Game 14 was obviously high-tension with the title and a prize fund at stake, but the teenager controlled his nerves. Gukesh is obviously an extraordinary talent but this is not the romantic story of a lone ranger surprising the world. The Chennai GM is at the apex of a robust chess ecosystem, which is one of the best, perhaps the best, in the world.\n",
      "\n",
      "Gukesh won Gold medals at the FIDE Chess Olympiad in September.\n",
      "\n",
      "Gukesh has also been strongly supported by his parents, by the chess establishment in India, and by his school. India has over 85 grandmasters, many of whom are not yet of driving age. Indian teams have succeeded recently, winning both the Open Gold (with Gukesh on top board) and the Women's gold at the last Olympiad in Budapest. Those grandmasters are at the tip of a pyramid with over 30,000 rated players, because a huge number of Indians play officially sanctioned tournaments. Gukesh has been a professional player since he was around 10 years old. He is mentored by Viswanathan Anand, who is himself a five-time world champion.\n",
      "\n",
      "The spotlight is now shining on Gukesh, following his astounding rise.\n",
      "\n",
      "He is sponsored by Westbridge Capital, which supports the Westbridge Anand Chess Academy, a premier coaching centre run by Anand. Gukesh's parents are both doctors, his father Rajinikanth is a surgeon and mother Padma is a microbiologist. Both put their careers on hold to push their son. \"Initially I just used to watch my family members play chess at home, just as a hobby, just like any other board game. But then I got interested in the game and I happened to enrol in a chess summer camp in my school… there one of the coaches spotted I had good talent for that,\" Gukesh told the BBC.\n",
      "\n",
      "Gukesh's chess games have been live streamed to some schools in India.\n",
      "\n",
      "Chess becomes an expensive game when a child has to travel abroad for several months of every year, so his parents not only put their own earnings into supporting their son, they also asked friends to help crowd-fund Gukesh's career until it took off. Importantly, he also received support from his school, Velammal Vidyalaya in Mogappair, which allowed him to take leave. Gukesh has interests outside of chess too - he meditates, swims and plays tennis. His stated goals are simple - he wants to be the best chess player in the World – supplanting the current number one, Magnus Carlsen. He also wants to have a \"very long career at the top\". As he sees it, the title is only one step, albeit a very important one in that life journey.\n",
      "--------------------------------------------------------------------------------\n",
      "Score: 0.1003, Text: Glasgow Warriors opened their Investec Champions Cup campaign with a dominant bonus-point victory against visitors Sale Sharks. Scrum-half George Horne scored three of Glasgow's five first-half tries, with Kyle Rowe and Huw Jones also crossing. A penalty try and one by Arron Reed were Sale's scores before the break and Joe Carpenter went over in the second half. The United Rugby Championship winners led within three minutes in blistering style. Matt Fagerson held off a tackle and offloaded to Jones, who in turn fed Horne to speed through the resulting gap. Horne himself converted. Horne was on hand again to receive off a ruck then chase his own grubber kick to touch down on the opposite side, the right. His conversion attempt was wide, however. The wave of attacks kept coming at Sale and Warriors' quick handling from right to left unleashed Rowe to burst over and touch down in a central position for an easy Horne conversion. After such a chastening opening 20 minutes, Sharks composed themselves and were awarded a penalty try off a rolling maul and Horne was sent to the bin for coming in from the side. But Glasgow soon had their bonus point. Rory Darge's pick and go near the line set up Sebastian Cancelliere for the pass wide right for Jones to run in. Tom Jordan converted in Horne's absence. Sale still had their numerical advantage and went through the phases for Scotland wing Reed to ground on the left. Rob du Preez's pass had set up Reed but the fly-half's conversion swirled wide at a windy Scotstoun. Horne's hat-trick try owed much to the forcefulness of Jamie Bhatti's burst into the 22 before a side offload near the posts. Horne converted. Cummings appeared to take Carpenter out in the air early in the second half but avoided a yellow card. Carpenter was next to register, bustling his way through a throng before setting up a straightforward conversion for Du Preez. A bonus point and a losing bonus point were now on for Sale but Cummings put paid to those ambitions with Glasgow's sixth try off Horne's pass near the line. Horne's conversion was unsuccessful. Glasgow replacement Angus Fraser sat out the final seconds of the match following a yellow card for a high tackle on Raffi Quirke. Also in Pool 4, Toulon won 24-14 away to Stormers and Racing 92 beat visitors Harlequins 23-12. Warriors face Toulon away next Sunday (13:00 GMT), with Sale at home to Racing 92 on Friday (20:00).\n",
      "\n",
      "Scotland captain Sione Tuipulotu and four international team-mates - props Jamie Bhatti and Zander Fagerson and flankers Fagerson and Darge - returned to the Glasgow line-up and their quality shone through, particularly in the first half. By contrast, Sale were shorn England trio Luke Cowan-Dickie, Ben Curry and George Ford while lock Johnny Hill came off the bench following a 10-week suspension. Asher Opoku-Fordjour's return at tight-head featured a stunning first-half carry that eventually led to the Reed try but Sharks lacked more of those moments in the plummeting temperatures. If Warriors' first half was all about attack, their defence in the second was almost as impressive, repelling most of what came at them.\n",
      "\n",
      "Replacements: Dobie for Cancelliere (65), Weir for Jordan (66), Sutherland for Bhatti (53), Matthews for Hiddleston (53), Talakai for Z Fagerson (53), Samuel for Oguntibeju (53), Fraser for Darge (73), Mann for Venter (66). Not Used: Miller. Sin Bin: G Horne (21), Fraser (82). Replacements: Curtis for Addison (45), Quirke for Warr (45), McIntyre for Rodd (56), Harper for Opoku-Fordjour (56), Bamber for Van Rhyn (56), Hill for Andrews (51), Dugdale for D du Preez (65). Not Used: Thompson.\n",
      "--------------------------------------------------------------------------------\n",
      "Score: 0.0933, Text: Man abandons haircut to help officer under attack\n",
      "\n",
      "This video can not be played To play this video you need to enable JavaScript in your browser. Kyle Whiting ran to the officer's aid with the barber's cape still draped over his shoulders\n",
      "\n",
      "A man having his hair cut leapt out of the barber's chair and ran to help a police officer who was being wrestled to the ground in a headlock. Kyle Whiting was having a trim at Haron Barbers in Warrington, Cheshire, when he looked through the window and saw the officer being confronted. The 32-year-old dashed out of the shop - with the barber's cape still draped around his shoulders - before dragging the man off the officer and giving him time to handcuff the suspect. Mobile phone footage of the incident was shared on social media, with people praising the \"barbershop Batman\", \"haircut hero\", and \"caped crusader\".\n",
      "\n",
      "Mr Whiting, whose sister is a police officer, said he was only there by chance after taking his girlfriend to the A&E unit at nearby Warrington Hospital. He said he realised something was amiss when he noticed the barber becoming distracted by a commotion flaring up outside.\n",
      "\n",
      "Kyle Whiting said he felt he had no choice but to intervene\n",
      "\n",
      "He said: \"Before you know it, my barber had taken his phone out and had gone up to the window and started recording. \"I then saw the guy outside swing for the police officer and throw him down on to the ground. \"I thought, 'I'm not sitting back and watching this'.\" Mr Whiting said he was thinking of his sister and felt it was about \"putting yourselves in other people's shoes\". \"If that was my sister, I would hope somebody wouldn't hesitate to help her if she was on her own,\" he said. \"So before you know it, I've run out of the door.\"\n",
      "\n",
      "The barber cutting Kyle's hair was the first to notice the assault\n",
      "\n",
      "Another officer and members of the public soon arrived to help - leaving Mr Whiting able to return to the barber's chair for his chop to be finished. In a coincidence, Mr Whiting later saw the police officer sitting next to his girlfriend in the A&E unit, waiting for an X-ray on the broken finger he had received.\n",
      "\n",
      "Mr Whiting had been in the area to take his girlfriend Sasha to hospital\n",
      "\n",
      "Cheshire Constabulary thanked Mr Whiting for his support during the incident on 16 December. The force said: \"A 50-year-old man was subsequently arrested in relation to the matter and has since been passed to the care of health professionals.\" The video of the incident, shared by Mr Whiting's sister, has since had more than 400,000 views and 50,000 likes across Instagram and Facebook.\n",
      "--------------------------------------------------------------------------------\n",
      "Score: 0.0885, Text: Ólafur concludes this series with a selection of reflective music inspired by islands.\n",
      "--------------------------------------------------------------------------------\n",
      "Score: 0.0838, Text: Watch as India's Virat Kohli and Australian debutant Sam Konstas engage in a \"spicy\" altercation after bumping shoulders on the first day of the fourth Test at the MCG, Melbourne.\n",
      "\n",
      "WATCH MORE: 'Unbelievable' Konstas ramps Bumrah three times in over\n",
      "\n",
      "Available to UK users only.\n",
      "--------------------------------------------------------------------------------\n",
      "Score: 0.0796, Text: Great Britain's Olympic and world triathlon champion Alex Yee will race in the 2025 London Marathon.\n",
      "\n",
      "Yee, 26, has won four Olympic triathlon medals - including individual gold and mixed relay bronze at Paris 2024.\n",
      "\n",
      "The London-born athlete - who previously ran for Great Britain on the track and in cross country - will compete over the marathon distance for the first time on Sunday, 27 April.\n",
      "\n",
      "\"Committing to the London Marathon for me was a no-brainer. It is an event that has given me so many memories,\" said the five-time Mini London Marathon finisher.\n",
      "\n",
      "\"Taking part in a full marathon has always been an itch I've wanted to scratch and there isn't any another place than London that I would want to start that journey.\"\n",
      "\n",
      "Yee overhauled New Zealand's Hayden Wilde in the closing stages in Paris to win his first Olympic title in August, before winning the world title for the first time in October by finishing third in the final in Spain.\n",
      "--------------------------------------------------------------------------------\n",
      "Score: 0.0795, Text: Weekly quiz: Which Christmas dinner ingredient went up in price?\n",
      "\n",
      "How closely have you been paying attention to what's been going on in the world over the past seven days?\n",
      "\n",
      "Fancy some more? Try last week's quiz, or have a go at something from the archives.\n",
      "--------------------------------------------------------------------------------\n",
      "Score: 0.0764, Text: Forty years since the release of Last Christmas by Wham, Andrew Ridgeley reflects on coming to terms with the loss of his friend and song partner, George Michael.\n",
      "\n",
      "He was speaking to BBC Breakfast's Sally Nugent and Jon Kay about a new documentary, looking at the story behind the song.\n",
      "--------------------------------------------------------------------------------\n",
      "Score: 0.0751, Text: Debut Singles of the 2000s, with Dani Dyer\n",
      "\n",
      "Dani Dyer joins Scott & Rylan to weigh up their Top 10 Debut Singles of the 2000s.\n",
      "--------------------------------------------------------------------------------\n"
     ]
    }
   ],
   "source": [
    "query = \"What were Luke Littler's key achievements and records in his recent PDC World Championship match?\"\n",
    "\n",
    "try:\n",
    "    # Perform the semantic search\n",
    "    start_time = time.time()\n",
    "    search_results = vector_store.similarity_search_with_score(query, k=10)\n",
    "    search_elapsed_time = time.time() - start_time\n",
    "\n",
    "    logging.info(f\"Semantic search completed in {search_elapsed_time:.2f} seconds\")\n",
    "\n",
    "    # Display search results\n",
    "    print(f\"\\nSemantic Search Results (completed in {search_elapsed_time:.2f} seconds):\")\n",
    "    print(\"-\" * 80)\n",
    "\n",
    "    for doc, score in search_results:\n",
    "        print(f\"Score: {score:.4f}, Text: {doc.page_content}\")\n",
    "        print(\"-\" * 80)\n",
    "\n",
    "except CouchbaseException as e:\n",
    "    raise RuntimeError(f\"Error performing semantic search: {str(e)}\")\n",
    "except Exception as e:\n",
    "    raise RuntimeError(f\"Unexpected error: {str(e)}\")"
   ]
  },
  {
   "cell_type": "markdown",
   "metadata": {},
   "source": [
    "# Retrieval-Augmented Generation (RAG) with Couchbase and LangChain\n",
    "Couchbase and LangChain can be seamlessly integrated to create RAG (Retrieval-Augmented Generation) chains, enhancing the process of generating contextually relevant responses. In this setup, Couchbase serves as the vector store, where embeddings of documents are stored. When a query is made, LangChain retrieves the most relevant documents from Couchbase by comparing the query’s embedding with the stored document embeddings. These documents, which provide contextual information, are then passed to a generative language model within LangChain.\n",
    "\n",
    "The language model, equipped with the context from the retrieved documents, generates a response that is both informed and contextually accurate. This integration allows the RAG chain to leverage Couchbase’s efficient storage and retrieval capabilities, while LangChain handles the generation of responses based on the context provided by the retrieved documents. Together, they create a powerful system that can deliver highly relevant and accurate answers by combining the strengths of both retrieval and generation."
   ]
  },
  {
   "cell_type": "code",
   "execution_count": 17,
   "metadata": {},
   "outputs": [
    {
     "name": "stderr",
     "output_type": "stream",
     "text": [
      "2025-02-06 20:06:37,517 - INFO - Successfully created RAG chain\n"
     ]
    }
   ],
   "source": [
    "# Create RAG prompt template\n",
    "rag_prompt = ChatPromptTemplate.from_messages([\n",
    "    (\"system\", \"You are a helpful assistant that answers questions based on the provided context.\"),\n",
    "    (\"human\", \"Context: {context}\\n\\nQuestion: {question}\")\n",
    "])\n",
    "\n",
    "# Create RAG chain\n",
    "rag_chain = (\n",
    "    {\"context\": vector_store.as_retriever(), \"question\": RunnablePassthrough()}\n",
    "    | rag_prompt\n",
    "    | llm\n",
    "    | StrOutputParser()\n",
    ")\n",
    "logging.info(\"Successfully created RAG chain\")"
   ]
  },
  {
   "cell_type": "code",
   "execution_count": 18,
   "metadata": {},
   "outputs": [
    {
     "name": "stderr",
     "output_type": "stream",
     "text": [
      "2025-02-06 20:06:37,973 - INFO - The input message: [SystemMessage(content='You are a helpful assistant that answers questions based on the provided context.', additional_kwargs={}, response_metadata={}), HumanMessage(content='Context: [Document(id=\\'77959aa3ba344c99aab6074bc4bea7a9\\', metadata={}, page_content=\\'Gary Anderson was the fifth seed to be beaten on Sunday\\\\n\\\\nTwo-time champion Gary Anderson has been dumped out of the PDC World Championship on his 54th birthday by Jeffrey de Graaf. The Scot, winner in 2015 and 2016, lost 3-0 to the Swede in a second-round shock at Alexandra Palace in London. \"Gary didn\\\\\\'t really show up as he usually does. I\\\\\\'m very happy with the win,\" said De Graaf, 34, who had a 75% checkout success and began with an 11-dart finish. \"It\\\\\\'s a dream come true for me. He\\\\\\'s been my idol since I was 14 years old.\" Anderson, ranked 14th, became the 11th seed to be knocked out from the 24 who have played so far, and the fifth to fall on Sunday.\\\\n\\\\nHe came into the competition with the year\\\\\\'s highest overall three-dart average of 99.66 but hit just three of his 20 checkout attempts to lose his opening match of the tournament for the first time. De Graaf will now meet Filipino qualifier Paolo Nebrida after he stunned England\\\\\\'s Ross Smith, the 19th seed, in straight sets. Ritchie Edhouse, Dirk van Duijvenbode and Martin Schindler were the other seeds beaten on day eight. England\\\\\\'s Callan Rydz, who hit a record first-round average of 107.06 on Thursday, followed up with a 3-0 win over 23rd seed Schindler on Sunday. The German missed double 12 for a nine-darter in the first set – the third player to do so in 24 hours after Luke Littler and Damon Heta – and ended up losing the leg. Rydz next meets Belgian Dimitri van den Bergh, who hit six 180s and averaged 96 in a 3-0 win over Irishman Dylan Slevin.\\\\n\\\\nEngland\\\\\\'s Joe Cullen abruptly left his post-match news conference and accused the media of not showing him respect after his 3-0 win over Dutchman Wessel Nijman. Nijman, who has previously served a ban for breaching betting and anti-corruption rules, had been billed as favourite beforehand to beat 23rd seed Cullen. \"Honestly, the media attention that Wessel\\\\\\'s got, again this is not a reflection on him,\" Cullen said. \"He seems like a fantastic kid, he\\\\\\'s been caught up in a few things beforehand, but he\\\\\\'s served his time and he\\\\\\'s held his hands up, like a lot haven\\\\\\'t. \"I think the way I\\\\\\'ve been treated probably with the media and things like that - I know you guys have no control over the bookies - I\\\\\\'ve been shown no respect, so I won\\\\\\'t be showing any respect to any of you guys tonight. \"I\\\\\\'m going to go home. Cheers.\" Ian \\\\\\'Diamond\\\\\\' White beat European champion and 29th seed Edhouse 3-1 and will face teenage star Littler in the next round. White, born in the same Cheshire town as the 17-year-old, acknowledged he would need to up his game in round three. Asked if he knew who was waiting for him, White joked: \"Yeah, Runcorn\\\\\\'s number two. I\\\\\\'m from Runcorn and I\\\\\\'m number one.\" Ryan Searle started Sunday afternoon\\\\\\'s action off with a 10-dart leg and went on to beat Matt Campbell 3-0, while Latvian Madars Razma defeated 25th seed Van Duijvenbode 3-1. Seventh seed Jonny Clayton and 2018 champion Rob Cross are among the players in action on Monday as the second round concludes. The third round will start on Friday after a three-day break for Christmas.\\'), Document(id=\\'78392acdb1524d7b895888c5cb983bb3\\', metadata={}, page_content=\\'The Indian teen who became the world\\\\\\'s youngest chess champion\\\\n\\\\nThis video can not be played To play this video you need to enable JavaScript in your browser. Indian chess champion Gukesh Dommaraju says he feels \\\\\\'really good\\\\\\'\\\\n\\\\nIndian teenager Gukesh Dommaraju shocked the world of chess on Thursday when he became the youngest world champion at the age of just 18. The Chennai-born prodigy defeated defending champion, China\\\\\\'s Ding Liren, in a dramatic match staged in Singapore which he had entered as the challenger. The FIDE World Chess Championship carries a $2.5m (£1.96m) prize fund. It marked the peak to date of his career, his greatest moment in a long string of achievements. Gukesh became a grandmaster aged 12 years and seven months and even then, he was upfront about the fact that he dreamt of being the world champion.\\\\n\\\\nIn fact, he said he had harboured such ambitions since he was seven when he was a spectator at a World Title match between Viswanathan Anand and Magnus Carlsen in 2013. As he confessed at the press conference following his dramatic win against Ding, he just didn\\\\\\'t think it would happen so soon. \"Throughout the match I had several chances to clinch victories and many of the games which would have put me in the front foot quite seriously. But once I was getting close I was getting nervous and I was not able to finish him off,\" Gukesh told the BBC after the win. \"...And then all of a sudden...it was a sudden change and I could not process all the new information so quickly.\" Gukesh is the 18th world champion since Wilhelm Steinitz won what is considered the first title match way back in 1886. Born in May 2006, Gukesh is also, by far, the youngest player to have ascended this pinnacle. He comfortably improved upon the prior record held by Garry Kasparov (born April 1963) who was 22 when he won the title in Moscow in November 1985 by beating Anatoly Karpov. The 14-game match was tied with two wins each after 13 games. It looked as though the 14th game was heading for a draw. In that case, there would have been tiebreaks played at progressively shorter time controls. But Ding blundered on move 55 and Gukesh exploited the error to clinch the title.\\\\n\\\\nOver the last three years the young player has made a string of extraordinary achievements, culminating in this victory. Gukesh won the individual gold medal for best performance in the last two Olympiads. He led India to a team bronze at Chennai in 2022 and the gold medal in 2024 in Budapest. He also won the Candidates - the tournament that earned him the right to challenge Ding Liren. Earlier in his teens, Gukesh was ruled out as a prospective challenger by his mentor, the former world champion Viswanathan Anand, or \"Vishy Sir\" as Gukesh calls him. He thought Gukesh simply didn\\\\\\'t have enough experience. Indeed, Gukesh suffered an apparently catastrophic loss at the midway stage, but then he pulled himself together to win in the next round and eventually took the event. In the title match Gukesh lost the first game, and equalised with a win in game three, he then took the lead in game eleven and Ding equalised with a win in game 12. Game 14 was obviously high-tension with the title and a prize fund at stake, but the teenager controlled his nerves. Gukesh is obviously an extraordinary talent but this is not the romantic story of a lone ranger surprising the world. The Chennai GM is at the apex of a robust chess ecosystem, which is one of the best, perhaps the best, in the world.\\\\n\\\\nGukesh won Gold medals at the FIDE Chess Olympiad in September.\\\\n\\\\nGukesh has also been strongly supported by his parents, by the chess establishment in India, and by his school. India has over 85 grandmasters, many of whom are not yet of driving age. Indian teams have succeeded recently, winning both the Open Gold (with Gukesh on top board) and the Women\\\\\\'s gold at the last Olympiad in Budapest. Those grandmasters are at the tip of a pyramid with over 30,000 rated players, because a huge number of Indians play officially sanctioned tournaments. Gukesh has been a professional player since he was around 10 years old. He is mentored by Viswanathan Anand, who is himself a five-time world champion.\\\\n\\\\nThe spotlight is now shining on Gukesh, following his astounding rise.\\\\n\\\\nHe is sponsored by Westbridge Capital, which supports the Westbridge Anand Chess Academy, a premier coaching centre run by Anand. Gukesh\\\\\\'s parents are both doctors, his father Rajinikanth is a surgeon and mother Padma is a microbiologist. Both put their careers on hold to push their son. \"Initially I just used to watch my family members play chess at home, just as a hobby, just like any other board game. But then I got interested in the game and I happened to enrol in a chess summer camp in my school… there one of the coaches spotted I had good talent for that,\" Gukesh told the BBC.\\\\n\\\\nGukesh\\\\\\'s chess games have been live streamed to some schools in India.\\\\n\\\\nChess becomes an expensive game when a child has to travel abroad for several months of every year, so his parents not only put their own earnings into supporting their son, they also asked friends to help crowd-fund Gukesh\\\\\\'s career until it took off. Importantly, he also received support from his school, Velammal Vidyalaya in Mogappair, which allowed him to take leave. Gukesh has interests outside of chess too - he meditates, swims and plays tennis. His stated goals are simple - he wants to be the best chess player in the World – supplanting the current number one, Magnus Carlsen. He also wants to have a \"very long career at the top\". As he sees it, the title is only one step, albeit a very important one in that life journey.\\'), Document(id=\\'e44911da260148c6811531bb02080c61\\', metadata={}, page_content=\"Glasgow Warriors opened their Investec Champions Cup campaign with a dominant bonus-point victory against visitors Sale Sharks. Scrum-half George Horne scored three of Glasgow\\'s five first-half tries, with Kyle Rowe and Huw Jones also crossing. A penalty try and one by Arron Reed were Sale\\'s scores before the break and Joe Carpenter went over in the second half. The United Rugby Championship winners led within three minutes in blistering style. Matt Fagerson held off a tackle and offloaded to Jones, who in turn fed Horne to speed through the resulting gap. Horne himself converted. Horne was on hand again to receive off a ruck then chase his own grubber kick to touch down on the opposite side, the right. His conversion attempt was wide, however. The wave of attacks kept coming at Sale and Warriors\\' quick handling from right to left unleashed Rowe to burst over and touch down in a central position for an easy Horne conversion. After such a chastening opening 20 minutes, Sharks composed themselves and were awarded a penalty try off a rolling maul and Horne was sent to the bin for coming in from the side. But Glasgow soon had their bonus point. Rory Darge\\'s pick and go near the line set up Sebastian Cancelliere for the pass wide right for Jones to run in. Tom Jordan converted in Horne\\'s absence. Sale still had their numerical advantage and went through the phases for Scotland wing Reed to ground on the left. Rob du Preez\\'s pass had set up Reed but the fly-half\\'s conversion swirled wide at a windy Scotstoun. Horne\\'s hat-trick try owed much to the forcefulness of Jamie Bhatti\\'s burst into the 22 before a side offload near the posts. Horne converted. Cummings appeared to take Carpenter out in the air early in the second half but avoided a yellow card. Carpenter was next to register, bustling his way through a throng before setting up a straightforward conversion for Du Preez. A bonus point and a losing bonus point were now on for Sale but Cummings put paid to those ambitions with Glasgow\\'s sixth try off Horne\\'s pass near the line. Horne\\'s conversion was unsuccessful. Glasgow replacement Angus Fraser sat out the final seconds of the match following a yellow card for a high tackle on Raffi Quirke. Also in Pool 4, Toulon won 24-14 away to Stormers and Racing 92 beat visitors Harlequins 23-12. Warriors face Toulon away next Sunday (13:00 GMT), with Sale at home to Racing 92 on Friday (20:00).\\\\n\\\\nScotland captain Sione Tuipulotu and four international team-mates - props Jamie Bhatti and Zander Fagerson and flankers Fagerson and Darge - returned to the Glasgow line-up and their quality shone through, particularly in the first half. By contrast, Sale were shorn England trio Luke Cowan-Dickie, Ben Curry and George Ford while lock Johnny Hill came off the bench following a 10-week suspension. Asher Opoku-Fordjour\\'s return at tight-head featured a stunning first-half carry that eventually led to the Reed try but Sharks lacked more of those moments in the plummeting temperatures. If Warriors\\' first half was all about attack, their defence in the second was almost as impressive, repelling most of what came at them.\\\\n\\\\nReplacements: Dobie for Cancelliere (65), Weir for Jordan (66), Sutherland for Bhatti (53), Matthews for Hiddleston (53), Talakai for Z Fagerson (53), Samuel for Oguntibeju (53), Fraser for Darge (73), Mann for Venter (66). Not Used: Miller. Sin Bin: G Horne (21), Fraser (82). Replacements: Curtis for Addison (45), Quirke for Warr (45), McIntyre for Rodd (56), Harper for Opoku-Fordjour (56), Bamber for Van Rhyn (56), Hill for Andrews (51), Dugdale for D du Preez (65). Not Used: Thompson.\"), Document(id=\\'7d3818f9ff3c4abb90035fd41e6c2fe7\\', metadata={}, page_content=\\'Man abandons haircut to help officer under attack\\\\n\\\\nThis video can not be played To play this video you need to enable JavaScript in your browser. Kyle Whiting ran to the officer\\\\\\'s aid with the barber\\\\\\'s cape still draped over his shoulders\\\\n\\\\nA man having his hair cut leapt out of the barber\\\\\\'s chair and ran to help a police officer who was being wrestled to the ground in a headlock. Kyle Whiting was having a trim at Haron Barbers in Warrington, Cheshire, when he looked through the window and saw the officer being confronted. The 32-year-old dashed out of the shop - with the barber\\\\\\'s cape still draped around his shoulders - before dragging the man off the officer and giving him time to handcuff the suspect. Mobile phone footage of the incident was shared on social media, with people praising the \"barbershop Batman\", \"haircut hero\", and \"caped crusader\".\\\\n\\\\nMr Whiting, whose sister is a police officer, said he was only there by chance after taking his girlfriend to the A&E unit at nearby Warrington Hospital. He said he realised something was amiss when he noticed the barber becoming distracted by a commotion flaring up outside.\\\\n\\\\nKyle Whiting said he felt he had no choice but to intervene\\\\n\\\\nHe said: \"Before you know it, my barber had taken his phone out and had gone up to the window and started recording. \"I then saw the guy outside swing for the police officer and throw him down on to the ground. \"I thought, \\\\\\'I\\\\\\'m not sitting back and watching this\\\\\\'.\" Mr Whiting said he was thinking of his sister and felt it was about \"putting yourselves in other people\\\\\\'s shoes\". \"If that was my sister, I would hope somebody wouldn\\\\\\'t hesitate to help her if she was on her own,\" he said. \"So before you know it, I\\\\\\'ve run out of the door.\"\\\\n\\\\nThe barber cutting Kyle\\\\\\'s hair was the first to notice the assault\\\\n\\\\nAnother officer and members of the public soon arrived to help - leaving Mr Whiting able to return to the barber\\\\\\'s chair for his chop to be finished. In a coincidence, Mr Whiting later saw the police officer sitting next to his girlfriend in the A&E unit, waiting for an X-ray on the broken finger he had received.\\\\n\\\\nMr Whiting had been in the area to take his girlfriend Sasha to hospital\\\\n\\\\nCheshire Constabulary thanked Mr Whiting for his support during the incident on 16 December. The force said: \"A 50-year-old man was subsequently arrested in relation to the matter and has since been passed to the care of health professionals.\" The video of the incident, shared by Mr Whiting\\\\\\'s sister, has since had more than 400,000 views and 50,000 likes across Instagram and Facebook.\\')]\\n\\nQuestion: What were Luke Littler\\'s key achievements and records in his recent PDC World Championship match?', additional_kwargs={}, response_metadata={})]\n",
      "2025-02-06 20:06:37,974 - INFO - Using Bedrock Invoke API to generate response\n",
      "2025-02-06 20:06:41,438 - INFO - The message received from Bedrock: \n",
      "Ian 'Diamond' White beat European champion and 29th seed Edhouse 3-1 and will face teenage star Littler in the next round.\n"
     ]
    },
    {
     "name": "stdout",
     "output_type": "stream",
     "text": [
      "RAG Response: \n",
      "Ian 'Diamond' White beat European champion and 29th seed Edhouse 3-1 and will face teenage star Littler in the next round.\n",
      "RAG response generated in 3.88 seconds\n"
     ]
    }
   ],
   "source": [
    "start_time = time.time()\n",
    "try:\n",
    "    rag_response = rag_chain.invoke(query)\n",
    "    rag_elapsed_time = time.time() - start_time\n",
    "    print(f\"RAG Response: {rag_response}\")\n",
    "    print(f\"RAG response generated in {rag_elapsed_time:.2f} seconds\")\n",
    "except InternalServerFailureException as e:\n",
    "    if \"query request rejected\" in str(e):\n",
    "        print(\"Error: Search request was rejected due to rate limiting. Please try again later.\")\n",
    "    else:\n",
    "        print(f\"Internal server error occurred: {str(e)}\")\n",
    "except Exception as e:\n",
    "    print(f\"Unexpected error occurred: {str(e)}\")"
   ]
  },
  {
   "cell_type": "markdown",
   "metadata": {},
   "source": [
    "# Using Couchbase as a caching mechanism\n",
    "Couchbase can be effectively used as a caching mechanism for RAG (Retrieval-Augmented Generation) responses by storing and retrieving precomputed results for specific queries. This approach enhances the system's efficiency and speed, particularly when dealing with repeated or similar queries. When a query is first processed, the RAG chain retrieves relevant documents, generates a response using the language model, and then stores this response in Couchbase, with the query serving as the key.\n",
    "\n",
    "For subsequent requests with the same query, the system checks Couchbase first. If a cached response is found, it is retrieved directly from Couchbase, bypassing the need to re-run the entire RAG process. This significantly reduces response time because the computationally expensive steps of document retrieval and response generation are skipped. Couchbase's role in this setup is to provide a fast and scalable storage solution for caching these responses, ensuring that frequently asked queries can be answered more quickly and efficiently.\n"
   ]
  },
  {
   "cell_type": "code",
   "execution_count": 19,
   "metadata": {},
   "outputs": [
    {
     "name": "stdout",
     "output_type": "stream",
     "text": [
      "\n",
      "Query 1: What happened in the match between Fullham and Liverpool?\n"
     ]
    },
    {
     "name": "stderr",
     "output_type": "stream",
     "text": [
      "2025-02-06 20:06:41,864 - INFO - The input message: [SystemMessage(content='You are a helpful assistant that answers questions based on the provided context.', additional_kwargs={}, response_metadata={}), HumanMessage(content='Context: [Document(id=\\'61fd322103134b2ab1a1a66c83c6b200\\', metadata={}, page_content=\\'\\\\\\'Unacceptable\\\\\\' that Rangers did not get penalty - Collum\\\\n\\\\nThis video can not be played To play this video you need to enable JavaScript in your browser. Rangers manager Philippe Clement commented on the lack of a penalty award in Sunday\\\\\\'s League Cup final loss\\\\n\\\\nVAR officials made a \\\\\\'\\\\\\'really, really poor\\\\\\'\\\\\\' and \"unacceptable\" decision not to award Rangers a penalty against Celtic in Sunday\\\\\\'s Scottish League Cup final, admits Scottish FA head of referee operations Willie Collum. The Ibrox side, who lost the final on penalties after a 3-3 draw, were awarded a free-kick in extra time when Liam Scales was penalised by referee John Beaton for a pull on Vaclav Cerny right on the edge of the Celtic box. Footage shows that the infringement started outside the area but continued inside the 18-yard box. Collum has said VAR officials Alan Muir and assistant Frank Connor moved \"far too quickly\" in their analysis of the incident and were \"not forensic enough\". \"People will obviously hear me say that it\\\\\\'s wrong, but that\\\\\\'s not enough,\" he said on the Scottish FA\\\\\\'s VAR Review show., external \"We need to now understand why did we get it wrong and how do we make things better, how do we improve, what\\\\\\'s the lessons learned from this incident, because people will find it very hard to accept this error. \"It\\\\\\'s a really, really poor decision. It\\\\\\'s an unacceptable decision. The VAR team know that, everyone in refereeing knows it.\\\\n\\\\nThe Scottish FA has also broadcast the conversation between the officials in which Muir says to Connor: \\\\\\'\\\\\\'The [pulling] is outside [the box]. Do you agree?\\\\\\'\\\\\\' Collum says the question should not have been framed in such a closed manner and that the penalty award was so obvious that there was no need to recommend an on field review by referee Beaton. Neither Muir or Connor will be on duty at matches this weekend. \"We will do our very, very best through our coaching, through our analysis, to make sure an incident like this never happens again,\" Collum added. \"But it\\\\\\'s a mistake, it\\\\\\'s a bad mistake. \"When you look at the TV pictures, this is not a difficult decision for the VAR team. They are not forensic enough in the analysis. They move far too quickly. \"I think they\\\\\\'re thrown because the majority of the Rangers player\\\\\\'s body is outside the area but that\\\\\\'s irrelevant because it\\\\\\'s the holding that they should be judging. \"They should be making sure they get a clear image to show them that continues into the penalty area.\" Addressing the Cerny and Scales incident in more detail, Collum said: \"There\\\\\\'s been a lot said about the Rangers player having a foot on penalty line. The foot is irrelevant. It\\\\\\'s about the holding only because that\\\\\\'s where the contact is. \"The holding begins outside the penalty area and then it continues on the line and even arguably beyond the line and fully into the penalty area. But, regardless, the fact it\\\\\\'s on the line, this should be considered as a penalty kick. \"The referee\\\\\\'s awarded the free-kick on the field, he sees the pulling, he\\\\\\'s correctly judged the incident in terms of the foul play. \"But then the VAR team need to go into a check and decide whether this incident is inside or outside and ultimately, they failed to come to the correct conclusion, which is this should have been a factual overturn. \"There\\\\\\'s no need for the referee to go to the monitor - a factual overturn for a penalty kick to be awarded.\"\\\\n\\\\nRangers noted \"the Scottish FA\\\\\\'s admission of an officiating failure following the non-award of a penalty\". And the club added: \"For such a failure to occur during one of Scotland\\\\\\'s showcase matches is not only hugely disappointing for the club and its supporters, but also damaging for the credibility of Scottish football more widely. \"We acknowledge the Scottish FA\\\\\\'s determination to use this and other decision-making failures as opportunities to drive improvements in officiating standards. \"As a club, we will continue to engage with the Scottish FA in an attempt to improve officiating standards for the benefit of all clubs in Scotland.\"\\\\n\\\\nCollum backed the decision to dismiss Robbie Deas for his challenge on Hearts\\\\\\' Kenneth Vargas in Kilmarnock\\\\\\'s 1-0 Scottish Premiership win on Sunday. Furthermore, he said downgrading a red card for St Mirren\\\\\\'s Alex Gogic following his tackle on Aberdeen\\\\\\'s Shayden Morris was also the right call in the Paisley side\\\\\\'s 2-1 win in November. Furthermore, Collum agreed with the decision not to award Rangers a penalty for a suspected handball by St Johnstone\\\\\\'s Jack Sanders at McDiarmid Park in early December, which the visitors won 1-0. However, Collum said there should have been an on-field review of Dundee United goalkeeper Jack Walton\\\\\\'s booking for a foul on St Mirren forward Toyosi Olusanya and a red card recommended in United\\\\\\'s 2-0 win in November. The referee head believed Aberdeen defender Jack Milne should have been dismissed for a challenge on Hearts midfielder Beni Baningime in their 1-1 draw on 1 December.\\'), Document(id=\\'24250e59153c4a96be65fb52ec768ec8\\', metadata={}, page_content=\\'Watch as India\\\\\\'s Virat Kohli and Australian debutant Sam Konstas engage in a \"spicy\" altercation after bumping shoulders on the first day of the fourth Test at the MCG, Melbourne.\\\\n\\\\nWATCH MORE: \\\\\\'Unbelievable\\\\\\' Konstas ramps Bumrah three times in over\\\\n\\\\nAvailable to UK users only.\\'), Document(id=\\'e44911da260148c6811531bb02080c61\\', metadata={}, page_content=\"Glasgow Warriors opened their Investec Champions Cup campaign with a dominant bonus-point victory against visitors Sale Sharks. Scrum-half George Horne scored three of Glasgow\\'s five first-half tries, with Kyle Rowe and Huw Jones also crossing. A penalty try and one by Arron Reed were Sale\\'s scores before the break and Joe Carpenter went over in the second half. The United Rugby Championship winners led within three minutes in blistering style. Matt Fagerson held off a tackle and offloaded to Jones, who in turn fed Horne to speed through the resulting gap. Horne himself converted. Horne was on hand again to receive off a ruck then chase his own grubber kick to touch down on the opposite side, the right. His conversion attempt was wide, however. The wave of attacks kept coming at Sale and Warriors\\' quick handling from right to left unleashed Rowe to burst over and touch down in a central position for an easy Horne conversion. After such a chastening opening 20 minutes, Sharks composed themselves and were awarded a penalty try off a rolling maul and Horne was sent to the bin for coming in from the side. But Glasgow soon had their bonus point. Rory Darge\\'s pick and go near the line set up Sebastian Cancelliere for the pass wide right for Jones to run in. Tom Jordan converted in Horne\\'s absence. Sale still had their numerical advantage and went through the phases for Scotland wing Reed to ground on the left. Rob du Preez\\'s pass had set up Reed but the fly-half\\'s conversion swirled wide at a windy Scotstoun. Horne\\'s hat-trick try owed much to the forcefulness of Jamie Bhatti\\'s burst into the 22 before a side offload near the posts. Horne converted. Cummings appeared to take Carpenter out in the air early in the second half but avoided a yellow card. Carpenter was next to register, bustling his way through a throng before setting up a straightforward conversion for Du Preez. A bonus point and a losing bonus point were now on for Sale but Cummings put paid to those ambitions with Glasgow\\'s sixth try off Horne\\'s pass near the line. Horne\\'s conversion was unsuccessful. Glasgow replacement Angus Fraser sat out the final seconds of the match following a yellow card for a high tackle on Raffi Quirke. Also in Pool 4, Toulon won 24-14 away to Stormers and Racing 92 beat visitors Harlequins 23-12. Warriors face Toulon away next Sunday (13:00 GMT), with Sale at home to Racing 92 on Friday (20:00).\\\\n\\\\nScotland captain Sione Tuipulotu and four international team-mates - props Jamie Bhatti and Zander Fagerson and flankers Fagerson and Darge - returned to the Glasgow line-up and their quality shone through, particularly in the first half. By contrast, Sale were shorn England trio Luke Cowan-Dickie, Ben Curry and George Ford while lock Johnny Hill came off the bench following a 10-week suspension. Asher Opoku-Fordjour\\'s return at tight-head featured a stunning first-half carry that eventually led to the Reed try but Sharks lacked more of those moments in the plummeting temperatures. If Warriors\\' first half was all about attack, their defence in the second was almost as impressive, repelling most of what came at them.\\\\n\\\\nReplacements: Dobie for Cancelliere (65), Weir for Jordan (66), Sutherland for Bhatti (53), Matthews for Hiddleston (53), Talakai for Z Fagerson (53), Samuel for Oguntibeju (53), Fraser for Darge (73), Mann for Venter (66). Not Used: Miller. Sin Bin: G Horne (21), Fraser (82). Replacements: Curtis for Addison (45), Quirke for Warr (45), McIntyre for Rodd (56), Harper for Opoku-Fordjour (56), Bamber for Van Rhyn (56), Hill for Andrews (51), Dugdale for D du Preez (65). Not Used: Thompson.\"), Document(id=\\'b91b5f3a81524e7ba502f8167a4ada5a\\', metadata={}, page_content=\"Jake DeBrusk of the NHL\\'s Vancouver Canucks battles in front of the net with Moritz Seider of the Detroit Red Wings for the rebound on a save by Ville Husso during the third period at Little Caesars Arena in Detroit. Vancouver defeated Detroit 5-4 in overtime\")]\\n\\nQuestion: What happened in the match between Fullham and Liverpool?', additional_kwargs={}, response_metadata={})]\n",
      "2025-02-06 20:06:41,865 - INFO - Using Bedrock Invoke API to generate response\n",
      "2025-02-06 20:06:44,123 - INFO - The message received from Bedrock:  The match between Fulham and Liverpool ended in a 1-1 draw.\n"
     ]
    },
    {
     "name": "stdout",
     "output_type": "stream",
     "text": [
      "Response:  The match between Fulham and Liverpool ended in a 1-1 draw.\n",
      "Time taken: 2.67 seconds\n",
      "\n",
      "Query 2: What were Luke Littler's key achievements and records in his recent PDC World Championship match?\n",
      "Response: \n",
      "Ian 'Diamond' White beat European champion and 29th seed Edhouse 3-1 and will face teenage star Littler in the next round.\n",
      "Time taken: 0.38 seconds\n",
      "\n",
      "Query 3: What happened in the match between Fullham and Liverpool?\n",
      "Response:  The match between Fulham and Liverpool ended in a 1-1 draw.\n",
      "Time taken: 0.38 seconds\n"
     ]
    }
   ],
   "source": [
    "try:\n",
    "    queries = [\n",
    "        \"What happened in the match between Fullham and Liverpool?\",\n",
    "        \"What were Luke Littler's key achievements and records in his recent PDC World Championship match?\",\n",
    "        \"What happened in the match between Fullham and Liverpool?\", # Repeated query\n",
    "    ]\n",
    "\n",
    "    for i, query in enumerate(queries, 1):\n",
    "        print(f\"\\nQuery {i}: {query}\")\n",
    "        start_time = time.time()\n",
    "\n",
    "        response = rag_chain.invoke(query)\n",
    "        elapsed_time = time.time() - start_time\n",
    "        print(f\"Response: {response}\")\n",
    "        print(f\"Time taken: {elapsed_time:.2f} seconds\")\n",
    "\n",
    "except InternalServerFailureException as e:\n",
    "    if \"query request rejected\" in str(e):\n",
    "        print(\"Error: Search request was rejected due to rate limiting. Please try again later.\")\n",
    "    else:\n",
    "        print(f\"Internal server error occurred: {str(e)}\")\n",
    "except Exception as e:\n",
    "    print(f\"Unexpected error occurred: {str(e)}\")"
   ]
  }
 ],
 "metadata": {
  "kernelspec": {
   "display_name": "Python 3",
   "language": "python",
   "name": "python3"
  },
  "language_info": {
   "codemirror_mode": {
    "name": "ipython",
    "version": 3
   },
   "file_extension": ".py",
   "mimetype": "text/x-python",
   "name": "python",
   "nbconvert_exporter": "python",
   "pygments_lexer": "ipython3",
   "version": "3.11.2"
  }
 },
 "nbformat": 4,
 "nbformat_minor": 4
}
