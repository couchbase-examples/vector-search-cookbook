{
 "cells": [
  {
   "cell_type": "markdown",
   "id": "4c60986a",
   "metadata": {},
   "source": [
    "# Introduction\n",
    "\n",
    "In this guide, we will walk you through building a powerful semantic search engine using Couchbase as the backend database, [Hugging Face](https://huggingface.co/) as the AI-powered embedding Model. Semantic search goes beyond simple keyword matching by understanding the context and meaning behind the words in a query, making it an essential tool for applications that require intelligent information retrieval. This tutorial is designed to be beginner-friendly, with clear, step-by-step instructions that will equip you with the knowledge to create a fully functional semantic search system from scratch."
   ]
  },
  {
   "cell_type": "markdown",
   "id": "6178e6b3",
   "metadata": {},
   "source": [
    "# How to run this tutorial\n",
    "\n",
    "This tutorial is available as a Jupyter Notebook (`.ipynb` file) that you can run interactively. You can access the original notebook [here](https://github.com/couchbase-examples/vector-search-cookbook/blob/main/huggingface/hugging_face.ipynb).\n",
    "\n",
    "You can either download the notebook file and run it on [Google Colab](https://colab.research.google.com/) or run it on your system by setting up the Python environment."
   ]
  },
  {
   "cell_type": "markdown",
   "id": "ef73d80c",
   "metadata": {},
   "source": [
    "# Before you start\n",
    "\n",
    "## Create and Deploy Your Free Tier Operational cluster on Capella\n",
    "\n",
    "To get started with Couchbase Capella, create an account and use it to deploy a forever free tier operational cluster. This account provides you with a environment where you can explore and learn about Capella with no time constraint.\n",
    "\n",
    "To know more, please follow the [instructions](https://docs.couchbase.com/cloud/get-started/create-account.html).\n",
    "\n",
    "### Couchbase Capella Configuration\n",
    "\n",
    "When running Couchbase using [Capella](https://cloud.couchbase.com/sign-in), the following prerequisites need to be met.\n",
    "\n",
    "* Create the [database credentials](https://docs.couchbase.com/cloud/clusters/manage-database-users.html) to access the travel-sample bucket (Read and Write) used in the application.\n",
    "* [Allow access](https://docs.couchbase.com/cloud/clusters/allow-ip-address.html) to the Cluster from the IP on which the application is running."
   ]
  },
  {
   "cell_type": "markdown",
   "id": "77308721",
   "metadata": {},
   "source": [
    "# Install necessary libraries"
   ]
  },
  {
   "cell_type": "code",
   "execution_count": null,
   "id": "208a54a1",
   "metadata": {},
   "outputs": [],
   "source": [
    "!pip install couchbase==4.3.6 transformers==4.52.2 sentence_transformers==4.1.0 langchain-community==0.3.24"
   ]
  },
  {
   "cell_type": "markdown",
   "id": "9470f9e3-311b-45c8-81c3-baa5fe0995d2",
   "metadata": {},
   "source": [
    "# Imports"
   ]
  },
  {
   "cell_type": "code",
   "execution_count": null,
   "id": "1fd83070-32d7-4b22-9a7b-25b5c7e4d16e",
   "metadata": {},
   "outputs": [],
   "source": [
    "from pathlib import Path\n",
    "from datetime import timedelta\n",
    "from transformers import pipeline, AutoModel, AutoTokenizer\n",
    "from langchain.embeddings import HuggingFaceEmbeddings\n",
    "from couchbase.auth import PasswordAuthenticator\n",
    "from couchbase.cluster import Cluster\n",
    "from couchbase.options import (ClusterOptions, ClusterTimeoutOptions,\n",
    "                               QueryOptions)\n",
    "import couchbase.search as search\n",
    "from couchbase.options import SearchOptions\n",
    "from couchbase.vector_search import VectorQuery, VectorSearch\n",
    "import uuid"
   ]
  },
  {
   "cell_type": "markdown",
   "id": "041a3edf-f5f7-43e1-99b9-b775e94fbfe6",
   "metadata": {},
   "source": [
    "# Prerequisites\n",
    "In order to run this tutorial, you will need access to a Couchbase Cluster with Full Text Search service either through Couchbase Capella or by running it locally and have credentials to acces a collection on that cluster:"
   ]
  },
  {
   "cell_type": "code",
   "execution_count": 14,
   "id": "56551dec-1029-4951-83f9-7899ee4cc34d",
   "metadata": {},
   "outputs": [],
   "source": [
    "import getpass\n",
    "couchbase_cluster_url = input(\"Couchbase Cluster URL:\")\n",
    "couchbase_username = input(\"Couchbase Username:\")\n",
    "couchbase_password = getpass.getpass(\"Couchbase password:\")\n",
    "couchbase_bucket = input(\"Couchbase Bucket:\")\n",
    "couchbase_scope = input(\"Couchbase Scope:\")\n",
    "couchbase_collection = input(\"Couchbase Collection:\")"
   ]
  },
  {
   "cell_type": "markdown",
   "id": "15edfec2-64bd-4ba1-b072-4fadacddb01a",
   "metadata": {},
   "source": [
    "# Couchbase Connection\n",
    "In this section, we first need to create a `PasswordAuthenticator` object that would hold our Couchbase credentials:"
   ]
  },
  {
   "cell_type": "code",
   "execution_count": 15,
   "id": "2ae34ded-a52e-45bd-9712-c3bb5ea4f7f3",
   "metadata": {},
   "outputs": [],
   "source": [
    "auth = PasswordAuthenticator(\n",
    "    couchbase_username,\n",
    "    couchbase_password\n",
    ")"
   ]
  },
  {
   "cell_type": "markdown",
   "id": "a5b07864-1b17-4a6c-9127-3f74ab1117c3",
   "metadata": {},
   "source": [
    "Then, we use this object to connect to Couchbase Cluster and select specified above bucket, scope and collection:"
   ]
  },
  {
   "cell_type": "code",
   "execution_count": 16,
   "id": "6ea57ff8-2556-46d3-9211-3803420d93ea",
   "metadata": {},
   "outputs": [
    {
     "name": "stdout",
     "output_type": "stream",
     "text": [
      "Connecting to cluster at URL: couchbase://localhost\n",
      "Connected to the cluster\n"
     ]
    }
   ],
   "source": [
    "print(\"Connecting to cluster at URL: \" + couchbase_cluster_url)\n",
    "cluster = Cluster(couchbase_cluster_url, ClusterOptions(auth))\n",
    "cluster.wait_until_ready(timedelta(seconds=5))\n",
    "\n",
    "bucket = cluster.bucket(couchbase_bucket)\n",
    "scope = bucket.scope(couchbase_scope)\n",
    "collection = scope.collection(couchbase_collection)\n",
    "print(\"Connected to the cluster\")"
   ]
  },
  {
   "cell_type": "markdown",
   "id": "625881d5-39e2-44ed-bbca-0db67e98f765",
   "metadata": {},
   "source": [
    "# Creating Couchbase Vector Search Index\n",
    "In order to store generated with Hugging Face embeddings onto a Couchbase Cluster, a vector search index needs to be created first. We included a sample index definition that will work with this tutorial in a file named `huggingface_index.json` located in the folder with this tutorial. The definition can be used to create a vector index using Couchbase server web console, on more information on vector indexes, please read [Create a Vector Search Index with the Server Web Console](https://docs.couchbase.com/server/current/vector-search/create-vector-search-index-ui.html). Please note that the index is configured for documents from bucket `hugginface`, scope `_default` and collection `huggingface` and you will have to edit `source` and document type name in the index definition file if your collection, scope or bucket names are different.\n",
    "\n",
    "Here, our code verifies the existence of the index and will throw an exception if the index has not been found:"
   ]
  },
  {
   "cell_type": "code",
   "execution_count": 17,
   "id": "a66753ba-22d4-4eaf-8275-ffd9fd53b2f5",
   "metadata": {},
   "outputs": [
    {
     "name": "stdout",
     "output_type": "stream",
     "text": [
      "Found index: pdf-docs._default.vector_test\n"
     ]
    }
   ],
   "source": [
    "search_index_name = couchbase_bucket + \"._default.vector_test\"\n",
    "search_index = cluster.search_indexes().get_index(search_index_name)\n",
    "print(\"Found index: \" + search_index_name)"
   ]
  },
  {
   "cell_type": "markdown",
   "id": "d71a7207-54d1-44fd-aa9d-d361b42d2c96",
   "metadata": {},
   "source": [
    "# Hugging Face Initialization"
   ]
  },
  {
   "cell_type": "code",
   "execution_count": 25,
   "id": "14fe91cb-41a5-4e71-ac5a-3a8070f21e0a",
   "metadata": {},
   "outputs": [
    {
     "name": "stderr",
     "output_type": "stream",
     "text": [
      "/var/folders/zd/hmksn4rj5kd_pj7w7bw48y9m0000gn/T/ipykernel_33093/3783819977.py:1: LangChainDeprecationWarning: Default values for HuggingFaceEmbeddings.model_name were deprecated in LangChain 0.2.16 and will be removed in 0.4.0. Explicitly pass a model_name to the HuggingFaceEmbeddings constructor instead.\n",
      "  embedding_model = HuggingFaceEmbeddings()\n"
     ]
    },
    {
     "name": "stdout",
     "output_type": "stream",
     "text": [
      "Initialized successfully\n"
     ]
    }
   ],
   "source": [
    "embedding_model = HuggingFaceEmbeddings()\n",
    "print(\"Initialized successfully\")"
   ]
  },
  {
   "cell_type": "markdown",
   "id": "c0d8e261-d670-4c40-8037-3d4e3084c360",
   "metadata": {},
   "source": [
    "# Embedding Documents\n",
    "After initializing Hugging Face transformers library, it can be used to generate vector embeddings for user input or predefined set of phrases. Here, we're generating 2 embeddings for contained in the array strings:"
   ]
  },
  {
   "cell_type": "code",
   "execution_count": 26,
   "id": "fe90414b-2611-4c99-9dfc-c0d634eb2af9",
   "metadata": {},
   "outputs": [],
   "source": [
    "texts = [\n",
    "    \"Couchbase Server is a multipurpose, distributed database that fuses the strengths of relational databases such as SQL and ACID transactions with JSON’s versatility, with a foundation that is extremely fast and scalable.\",\n",
    "    \"It’s used across industries for things like user profiles, dynamic product catalogs, GenAI apps, vector search, high-speed caching, and much more.\",\n",
    "    input(\"Enter custom embedding text:\")\n",
    "]\n",
    "embeddings = []\n",
    "for i in range(0, len(texts)):\n",
    "    embeddings.append(embedding_model.embed_query(texts[i]))"
   ]
  },
  {
   "cell_type": "markdown",
   "id": "80814e90-699f-4201-8cd3-7ef8adab9966",
   "metadata": {},
   "source": [
    "# Storing Embeddings in Couchbase\n",
    "Generated embeddings are then stored as vector fields inside documents that can contain additional information about the vector, including the original text. The documents are then upserted onto the couchbase cluster:"
   ]
  },
  {
   "cell_type": "code",
   "execution_count": 27,
   "id": "7f779554-b197-4fcb-8ca1-09d55dab149c",
   "metadata": {},
   "outputs": [],
   "source": [
    "for i in range(0, len(texts)):\n",
    "    doc = {\n",
    "        \"id\": str(uuid.uuid4()),\n",
    "        \"text\": texts[i],\n",
    "        \"vector\": embeddings[i],\n",
    "    }\n",
    "    collection.upsert(doc[\"id\"], doc)"
   ]
  },
  {
   "cell_type": "markdown",
   "id": "f11a0d98-bcf5-4fe4-b602-6e8a23edf95e",
   "metadata": {},
   "source": [
    "# Searching For Embeddings\n",
    "After the documents are upserted onto the cluster, their vector fields will be added into previously imported vector index. Later, new embeddings can be added or used to perform a similarity search on the previously added documents:"
   ]
  },
  {
   "cell_type": "code",
   "execution_count": 29,
   "id": "d7e8283c-73ff-452e-98ee-e89fa992371e",
   "metadata": {},
   "outputs": [
    {
     "name": "stdout",
     "output_type": "stream",
     "text": [
      "Vector similarity search for phrase: \"name a multipurpose database with distributed capability\"\n",
      "Found answer: 169df8dd-2aa4-4e43-889d-c8cdb0041927; score: 0.9951430384777361\n",
      "Answer text: Get Started Couchbase Capella (DBaaS) Explore Couchbase Capella, our fully-managed database as a service offering. Take the complexity out of deploying, managing, scaling, and securing Couchbase in the public cloud. Store, query, and analyze any amount of data — and let us handle more of the administration — all in a few clicks.  Couchbase Capella    Capella Columnar (RT-OLAP) Capella Columnar is a real-time analytical database (RT-OLAP) for real time apps and operational intelligence. Capella Columnar is a standalone, cloud-only offering from Couchbase under the Capella family of products.  Capella Columnar  Couchbase Server Explore Couchbase Server, a modern, distributed document database with all the desired capabilities of a relational database and more. It exposes a scale-out, key-value store with managed cache for sub-millisecond data operations, purpose-built indexers for efficient queries, and a powerful query engine for executing SQL-like queries.  Couchbase Server  Couchbase Mobile Couchbase Mobile brings the power of NoSQL to the edge. The combination of Sync Gateway and Couchbase Lite coupled with the power of Couchbase Server provides fast, efficient bidirectional synchronization of data between the edge and the cloud. Enabling you to deploy your offline-first mobile and embedded applications with greater agility on premises or in any cloud.  Couchbase Lite | Sync Gateway | Couchbase Edge Server\n",
      "------\n",
      "Vector similarity search for phrase: \"couchbase server\"\n",
      "Found answer: aac1c41e-f19f-4a2f-b35a-cd8052f5a321; score: 2.427605207049905\n",
      "Answer text: Couchbase Server is a multipurpose, distributed database that fuses the strengths of relational databases such as SQL and ACID transactions with JSON’s versatility, with a foundation that is extremely fast and scalable.\n"
     ]
    }
   ],
   "source": [
    "def search_similar(text):\n",
    "    print(\"Vector similarity search for phrase: \\\"\" + text + \"\\\"\")\n",
    "    search_embedding = embedding_model.embed_query(text)\n",
    "    \n",
    "    search_req = search.SearchRequest.create(search.MatchNoneQuery()).with_vector_search(\n",
    "        VectorSearch.from_vector_query(\n",
    "            VectorQuery(\n",
    "                \"vector\", search_embedding, num_candidates=1\n",
    "            )\n",
    "        )\n",
    "    )\n",
    "    result = scope.search(\n",
    "        \"vector_test\", \n",
    "        search_req, \n",
    "        SearchOptions(\n",
    "            limit=13, \n",
    "            fields=[\"vector\", \"id\", \"text\"]\n",
    "        )\n",
    "    )\n",
    "    for row in result.rows():\n",
    "        print(\"Found answer: \" + row.id + \"; score: \" + str(row.score))\n",
    "        doc = collection.get(row.id)\n",
    "        print(\"Answer text: \" + doc.value[\"text\"])\n",
    "        \n",
    "search_similar(\"name a multipurpose database with distributed capability\")\n",
    "print(\"------\")\n",
    "search_similar(input(\"Enter custom search phrase:\"))"
   ]
  }
 ],
 "metadata": {
  "kernelspec": {
   "display_name": ".venv",
   "language": "python",
   "name": "python3"
  },
  "language_info": {
   "codemirror_mode": {
    "name": "ipython",
    "version": 3
   },
   "file_extension": ".py",
   "mimetype": "text/x-python",
   "name": "python",
   "nbconvert_exporter": "python",
   "pygments_lexer": "ipython3",
   "version": "3.13.3"
  }
 },
 "nbformat": 4,
 "nbformat_minor": 5
}
