{
  "cells": [
    {
      "cell_type": "markdown",
      "metadata": {
        "id": "NH2o6pqa69oG"
      },
      "source": [
        "# Install Required Libraries\n",
        "First, install all the necessary Python libraries using pip:\n"
      ]
    },
    {
      "cell_type": "code",
      "execution_count": null,
      "metadata": {
        "id": "DYhPj0Ta8l_A"
      },
      "outputs": [],
      "source": [
        "!pip install couchbase datasets langchain jina tqdm python-dotenv"
      ]
    },
    {
      "cell_type": "markdown",
      "metadata": {
        "id": "1pp7GtNg8mB9"
      },
      "source": [
        "# Import the Necessary Libraries\n",
        "Import the libraries required for database operations, AI-related tasks, and utilities for logging, data handling, and environment management:"
      ]
    },
    {
      "cell_type": "code",
      "execution_count": null,
      "metadata": {
        "id": "8GzS6tfL8mFP"
      },
      "outputs": [],
      "source": [
        "import json\n",
        "import logging\n",
        "import os\n",
        "import time\n",
        "import warnings\n",
        "from datetime import timedelta\n",
        "from uuid import uuid4\n",
        "\n",
        "import numpy as np\n",
        "from couchbase.auth import PasswordAuthenticator\n",
        "from couchbase.cluster import Cluster\n",
        "from couchbase.exceptions import CollectionNotFoundException, CouchbaseException, InternalServerFailureException, QueryIndexAlreadyExistsException\n",
        "from couchbase.management.search import SearchIndex\n",
        "from couchbase.options import ClusterOptions\n",
        "from datasets import load_dataset\n",
        "from dotenv import load_dotenv\n",
        "from langchain_community.chat_models import JinaChat\n",
        "from langchain_community.embeddings import JinaEmbeddings\n",
        "from langchain_core.documents import Document\n",
        "from langchain_core.globals import set_llm_cache\n",
        "from langchain_core.prompts import ChatPromptTemplate\n",
        "from langchain_core.prompts.chat import ChatPromptTemplate, HumanMessagePromptTemplate, SystemMessagePromptTemplate\n",
        "from langchain_core.runnables import RunnablePassthrough\n",
        "from langchain_couchbase.cache import CouchbaseCache\n",
        "from langchain_couchbase.vectorstores import CouchbaseVectorStore\n",
        "from tqdm import tqdm"
      ]
    },
    {
      "cell_type": "markdown",
      "metadata": {
        "id": "pBnMp5vb8mIb"
      },
      "source": [
        "# Set Up Logging\n",
        "Set up logging to monitor the progress and handle any errors that may occur:"
      ]
    },
    {
      "cell_type": "code",
      "execution_count": null,
      "metadata": {
        "id": "Yv8kWcuf8mLx"
      },
      "outputs": [],
      "source": [
        "logging.basicConfig(level=logging.INFO, format='%(asctime)s - %(levelname)s - %(message)s')"
      ]
    },
    {
      "cell_type": "markdown",
      "metadata": {
        "id": "K9G5a0en8mPA"
      },
      "source": [
        "# Load Environment Variables\n",
        "Load environment variables from a .env file, which contains sensitive information such as API keys and database credentials. Ensure that your .env file is correctly configured:"
      ]
    },
    {
      "cell_type": "code",
      "execution_count": null,
      "metadata": {
        "id": "PFGyHll18mSe"
      },
      "outputs": [],
      "source": [
        "load_dotenv()\n",
        "\n",
        "JINA_API_KEY = os.getenv('JINA_API_KEY')\n",
        "JINACHAT_API_KEY = os.getenv('JINACHAT_API_KEY')\n",
        "OPENAI_API_KEY = os.getenv(\"OPENAI_API_KEY\")\n",
        "CB_HOST = os.getenv('CB_HOST', 'couchbase://localhost')\n",
        "CB_USERNAME = os.getenv('CB_USERNAME', 'Administrator')\n",
        "CB_PASSWORD = os.getenv('CB_PASSWORD', 'password')\n",
        "CB_BUCKET_NAME = os.getenv('CB_BUCKET_NAME', 'vector-search-testing')\n",
        "INDEX_NAME = os.getenv('INDEX_NAME', 'vector_search_jina')\n",
        "\n",
        "SCOPE_NAME = os.getenv('SCOPE_NAME', 'shared')\n",
        "COLLECTION_NAME = os.getenv('COLLECTION_NAME', 'jina')\n",
        "CACHE_COLLECTION = os.getenv('CACHE_COLLECTION', 'cache')"
      ]
    },
    {
      "cell_type": "markdown",
      "metadata": {
        "id": "qtGrYzUY8mV3"
      },
      "source": [
        "# Connect to Couchbase\n",
        "Connect to the Couchbase cluster using the credentials and connection string loaded from the environment variables:\n"
      ]
    },
    {
      "cell_type": "code",
      "execution_count": null,
      "metadata": {
        "id": "Zb3kK-7W8mZK"
      },
      "outputs": [],
      "source": [
        "try:\n",
        "    auth = PasswordAuthenticator(CB_USERNAME, CB_PASSWORD)\n",
        "    options = ClusterOptions(auth)\n",
        "    cluster = Cluster(CB_HOST, options)\n",
        "    cluster.wait_until_ready(timedelta(seconds=5))\n",
        "    logging.info(\"Successfully connected to Couchbase\")\n",
        "except Exception as e:\n",
        "    raise ConnectionError(f\"Failed to connect to Couchbase: {str(e)}\")"
      ]
    },
    {
      "cell_type": "markdown",
      "metadata": {
        "id": "C_Gpy32N8mcZ"
      },
      "source": [
        "# Setup Collection in Couchbase\n",
        "Setup a collection within a specified bucket and scope in Couchbase. If the collection doesn’t exist, create it:"
      ]
    },
    {
      "cell_type": "code",
      "execution_count": null,
      "metadata": {
        "id": "ACZcwUnG8mf2"
      },
      "outputs": [],
      "source": [
        "try:\n",
        "    bucket = cluster.bucket(CB_BUCKET_NAME)\n",
        "    bucket_manager = bucket.collections()\n",
        "\n",
        "    # Check if collection exists, create if it doesn't\n",
        "    collections = bucket_manager.get_all_scopes()\n",
        "    collection_exists = any(\n",
        "        scope.name == SCOPE_NAME and COLLECTION_NAME in [col.name for col in scope.collections]\n",
        "        for scope in collections\n",
        "    )\n",
        "\n",
        "    if not collection_exists:\n",
        "        logging.info(f\"Collection '{COLLECTION_NAME}' does not exist. Creating it...\")\n",
        "        bucket_manager.create_collection(SCOPE_NAME, COLLECTION_NAME)\n",
        "        logging.info(f\"Collection '{COLLECTION_NAME}' created successfully.\")\n",
        "    else:\n",
        "        logging.info(f\"Collection '{COLLECTION_NAME}' already exists.\")\n",
        "\n",
        "    # Wait for the collection to be available\n",
        "    max_retries = 3\n",
        "    retry_delay = 1\n",
        "    for _ in range(max_retries):\n",
        "        try:\n",
        "            collection = bucket.scope(SCOPE_NAME).collection(COLLECTION_NAME)\n",
        "            break\n",
        "        except CollectionNotFoundException:\n",
        "            time.sleep(retry_delay)\n",
        "    else:\n",
        "        raise RuntimeError(f\"Collection '{COLLECTION_NAME}' not available after {max_retries} retries\")\n",
        "\n",
        "    # Ensure primary index exists\n",
        "    try:\n",
        "        cluster.query(f\"CREATE PRIMARY INDEX ON `{CB_BUCKET_NAME}`.`{SCOPE_NAME}`.`{COLLECTION_NAME}`\").execute()\n",
        "        logging.info(\"Primary index created successfully.\")\n",
        "    except QueryIndexAlreadyExistsException:\n",
        "        logging.info(\"Primary index already exists.\")\n",
        "    except Exception as e:\n",
        "        logging.warning(f\"Error creating primary index: {str(e)}\")\n",
        "\n",
        "    # Clear all documents in the collection\n",
        "    try:\n",
        "        query = f\"DELETE FROM `{CB_BUCKET_NAME}`.`{SCOPE_NAME}`.`{COLLECTION_NAME}`\"\n",
        "        cluster.query(query).execute()\n",
        "        logging.info(\"All documents cleared from the collection.\")\n",
        "    except Exception as e:\n",
        "        logging.warning(f\"Error while clearing documents: {str(e)}. The collection might be empty.\")\n",
        "except Exception as e:\n",
        "    raise RuntimeError(f\"Error setting up collection: {str(e)}\")"
      ]
    },
    {
      "cell_type": "markdown",
      "metadata": {
        "id": "NMJ7RRYp8mjV"
      },
      "source": [
        "#  Load Index Definition from JSON\n",
        "Load the index definition for the search index from a JSON file:"
      ]
    },
    {
      "cell_type": "code",
      "execution_count": null,
      "metadata": {
        "id": "y7xiCrOc8mmj"
      },
      "outputs": [],
      "source": [
        "index_definition_path = '/path_to_your_index_file/jina_index.json'\n",
        "\n",
        "try:\n",
        "    with open(index_definition_path, 'r') as file:\n",
        "        index_definition = json.load(file)\n",
        "except Exception as e:\n",
        "    raise ValueError(f\"Error loading index definition from {index_definition_path}: {str(e)}\")"
      ]
    },
    {
      "cell_type": "markdown",
      "metadata": {
        "id": "v_ddPQ_Y8mpm"
      },
      "source": [
        "# Create or Update Search Index\n",
        "Create or update the search index in Couchbase based on the loaded definition:"
      ]
    },
    {
      "cell_type": "code",
      "execution_count": null,
      "metadata": {
        "id": "bHEpUu1l8msx"
      },
      "outputs": [],
      "source": [
        "try:\n",
        "    scope_index_manager = cluster.bucket(CB_BUCKET_NAME).scope(SCOPE_NAME).search_indexes()\n",
        "\n",
        "    # Check if index already exists\n",
        "    existing_indexes = scope_index_manager.get_all_indexes()\n",
        "    index_name = index_definition[\"name\"]\n",
        "\n",
        "    if index_name in [index.name for index in existing_indexes]:\n",
        "        logging.info(f\"Index '{index_name}' already exists. Updating...\")\n",
        "    else:\n",
        "        logging.info(f\"Creating new index '{index_name}'...\")\n",
        "\n",
        "    # Create SearchIndex object\n",
        "    search_index = SearchIndex(\n",
        "        name=index_definition[\"name\"],\n",
        "        source_type=index_definition.get(\"sourceType\", \"couchbase\"),\n",
        "        idx_type=index_definition[\"type\"],\n",
        "        source_name=index_definition[\"sourceName\"],\n",
        "        params=index_definition[\"params\"],\n",
        "        source_params=index_definition.get(\"sourceParams\", {}),\n",
        "        plan_params=index_definition.get(\"planParams\", {})\n",
        "    )\n",
        "\n",
        "    # Upsert the index (create if not exists, update if exists)\n",
        "    scope_index_manager.upsert_index(search_index)\n",
        "    logging.info(f\"Index '{index_name}' successfully created/updated.\")\n",
        "except QueryIndexAlreadyExistsException:\n",
        "    logging.info(f\"Index '{index_name}' already exists. Skipping creation/update.\")\n",
        "except InternalServerFailureException as e:\n",
        "    logging.error(f\"InternalServerFailureException raised: {str(e)}\")\n",
        "    raise RuntimeError(f\"Internal server error while creating/updating search index: {str(e)}\")\n",
        "except Exception as e:\n",
        "    raise RuntimeError(f\"Unexpected error creating/updating search index: {str(e)}\")"
      ]
    },
    {
      "cell_type": "markdown",
      "metadata": {
        "id": "QRV4k06L8mwS"
      },
      "source": [
        "# Load the TREC Dataset\n",
        "Load the TREC dataset using the Hugging Face Datasets library:"
      ]
    },
    {
      "cell_type": "code",
      "execution_count": null,
      "metadata": {
        "id": "TRfRslF_8mzo"
      },
      "outputs": [],
      "source": [
        "try:\n",
        "    trec = load_dataset('trec', split='train[:1000]')\n",
        "    logging.info(f\"Successfully loaded TREC dataset with {len(trec)} samples\")\n",
        "except Exception as e:\n",
        "    raise ValueError(f\"Error loading TREC dataset: {str(e)}\")"
      ]
    },
    {
      "cell_type": "markdown",
      "metadata": {
        "id": "7FvxRsg38m3G"
      },
      "source": [
        "# Create Jina Embeddings\n",
        "Initialize the Jina Embeddings model, which will convert text into vector representations:"
      ]
    },
    {
      "cell_type": "code",
      "execution_count": null,
      "metadata": {
        "id": "_75ZyCRh8m6m"
      },
      "outputs": [],
      "source": [
        "try:\n",
        "    embeddings = JinaEmbeddings(\n",
        "        jina_api_key=JINA_API_KEY, model_name=\"jina-embeddings-v2-base-en\"\n",
        "    )\n",
        "    logging.info(\"Successfully created JinaEmbeddings\")\n",
        "except Exception as e:\n",
        "    raise ValueError(f\"Error creating JinaEmbeddings: {str(e)}\")"
      ]
    },
    {
      "cell_type": "markdown",
      "metadata": {
        "id": "8IwZMUnF8m-N"
      },
      "source": [
        "# Setup Couchbase Vector Store\n",
        "Create a vector store in Couchbase using the previously created embeddings:"
      ]
    },
    {
      "cell_type": "code",
      "execution_count": null,
      "metadata": {
        "id": "DwIJQjYT9RV_"
      },
      "outputs": [],
      "source": [
        "try:\n",
        "    vector_store = CouchbaseVectorStore(\n",
        "        cluster=cluster,\n",
        "        bucket_name=CB_BUCKET_NAME,\n",
        "        scope_name=SCOPE_NAME,\n",
        "        collection_name=COLLECTION_NAME,\n",
        "        embedding=embeddings,\n",
        "        index_name=INDEX_NAME,\n",
        "    )\n",
        "    logging.info(\"Successfully created vector store\")\n",
        "except Exception as e:\n",
        "    raise ValueError(f\"Failed to create vector store: {str(e)}\")\n"
      ]
    },
    {
      "cell_type": "markdown",
      "metadata": {
        "id": "C6DJVz7A9RZA"
      },
      "source": [
        "# Save Data to Vector Store in Batches\n",
        "Save the TREC dataset to the vector store in batches to optimize the process:"
      ]
    },
    {
      "cell_type": "code",
      "execution_count": null,
      "metadata": {
        "id": "_6opqqvx9Rb_"
      },
      "outputs": [],
      "source": [
        "batch_size = 50\n",
        "try:\n",
        "    for i in tqdm(range(0, len(trec['text']), batch_size), desc=\"Processing Batches\"):\n",
        "        batch = trec['text'][i:i + batch_size]\n",
        "        documents = [Document(page_content=text) for text in batch]\n",
        "        uuids = [str(uuid4()) for _ in range(len(documents))]\n",
        "        vector_store.add_documents(documents=documents, ids=uuids)\n",
        "except Exception as e:\n",
        "    raise RuntimeError(f\"Failed to save documents to vector store: {str(e)}\")\n"
      ]
    },
    {
      "cell_type": "markdown",
      "metadata": {
        "id": "8Pn8-dQw9RfQ"
      },
      "source": [
        "# Setup Couchbase Cache\n",
        "Set up a Couchbase-based cache to speed up repetitive LLM operations:\n"
      ]
    },
    {
      "cell_type": "code",
      "execution_count": null,
      "metadata": {
        "id": "V2y7dyjf9Rid"
      },
      "outputs": [],
      "source": [
        "try:\n",
        "    cache = CouchbaseCache(\n",
        "        cluster=cluster,\n",
        "        bucket_name=CB_BUCKET_NAME,\n",
        "        scope_name=SCOPE_NAME,\n",
        "        collection_name=CACHE_COLLECTION,\n",
        "    )\n",
        "    logging.info(\"Successfully created cache\")\n",
        "    set_llm_cache(cache)\n",
        "except Exception as e:\n",
        "    raise ValueError(f\"Failed to create cache: {str(e)}\")"
      ]
    },
    {
      "cell_type": "markdown",
      "metadata": {
        "id": "uehAx36o9Rlm"
      },
      "source": [
        "# Create Jina Language Model (LLM)\n",
        "Initialize a Jina language model to interact with the vector store:"
      ]
    },
    {
      "cell_type": "code",
      "execution_count": null,
      "metadata": {
        "id": "yRAfBRLH9RpO"
      },
      "outputs": [],
      "source": [
        "try:\n",
        "    llm = JinaChat(temperature=0, jinachat_api_key=JINACHAT_API_KEY, model=\"jina-clip-v1\")\n",
        "    logging.info(\"Successfully created JinaChat\")\n",
        "except Exception as e:\n",
        "    logging.error(f\"Error creating JinaChat: {str(e)}. Please check your API key and network connection.\")\n",
        "    raise"
      ]
    },
    {
      "cell_type": "markdown",
      "metadata": {
        "id": "uAbLD2NA9gby"
      },
      "source": [
        "# Create a Retrieval-Augmented Generation (RAG) Chain\n",
        "Build a RAG chain that combines the LLM with the vector store to enhance responses:"
      ]
    },
    {
      "cell_type": "code",
      "execution_count": null,
      "metadata": {
        "id": "ZGUXQQmv9ge4"
      },
      "outputs": [],
      "source": [
        "system_template = \"You are a helpful assistant that answers questions based on the provided context.\"\n",
        "system_message_prompt = SystemMessagePromptTemplate.from_template(system_template)\n",
        "\n",
        "human_template = \"Context: {context}\\n\\nQuestion: {question}\"\n",
        "human_message_prompt = HumanMessagePromptTemplate.from_template(human_template)\n",
        "\n",
        "chat_prompt = ChatPromptTemplate.from_messages([\n",
        "    system_message_prompt,\n",
        "    human_message_prompt\n",
        "])\n",
        "\n",
        "def format_docs(docs):\n",
        "    return \"\\n\\n\".join(doc.page_content for doc in docs)\n",
        "\n",
        "chain = (\n",
        "    {\"context\": lambda x: format_docs(vector_store.similarity_search(x)), \"question\": RunnablePassthrough()}\n",
        "    | chat_prompt\n",
        "    | llm\n",
        ")\n",
        "logging.info(\"Successfully created RAG chain\")"
      ]
    },
    {
      "cell_type": "markdown",
      "metadata": {
        "id": "hXu4Jcad9giD"
      },
      "source": [
        "# Sample Query and Perform Semantic Search\n",
        "Finally, perform a semantic search using the vector store and generate a response with the RAG chain:"
      ]
    },
    {
      "cell_type": "code",
      "execution_count": null,
      "metadata": {
        "id": "aIdayPzw9glT"
      },
      "outputs": [],
      "source": [
        "query = \"What caused the 1929 Great Depression?\"\n",
        "\n",
        "# Get responses\n",
        "start_time = time.time()\n",
        "rag_response = chain.invoke(query)\n",
        "rag_elapsed_time = time.time() - start_time\n",
        "logging.info(f\"RAG response generated in {rag_elapsed_time:.2f} seconds\")\n",
        "\n",
        "print(f\"RAG Response: {rag_response}\")\n",
        "\n",
        "# Perform semantic search\n",
        "try:\n",
        "    search_results = vector_store.similarity_search_with_score(query, k=10)\n",
        "    results = [{'id': doc.metadata.get('id', 'N/A'), 'text': doc.page_content, 'distance': score}\n",
        "               for doc, score in search_results]\n",
        "    elapsed_time = time.time() - start_time\n",
        "    logging.info(f\"Semantic search completed in {elapsed_time:.2f} seconds\")\n",
        "except CouchbaseException as e:\n",
        "    raise RuntimeError(f\"Error performing semantic search: {str(e)}\")\n",
        "\n",
        "print(f\"\\nSemantic Search Results (completed in {elapsed_time:.2f} seconds):\")\n",
        "for result in results:\n",
        "    print(f\"Distance: {result['distance']:.4f}, Text: {result['text']}\")\n"
      ]
    },
    {
      "cell_type": "markdown",
      "metadata": {
        "id": "yJQ5P8E29go1"
      },
      "source": [
        "This Colab notebook is now structured and annotated for easy understanding and execution. Replace any placeholders with your actual paths or credentials as needed, and run the cells sequentially."
      ]
    }
  ],
  "metadata": {
    "colab": {
      "provenance": [],
      "toc_visible": true
    },
    "kernelspec": {
      "display_name": "Python 3",
      "name": "python3"
    },
    "language_info": {
      "name": "python"
    }
  },
  "nbformat": 4,
  "nbformat_minor": 0
}
