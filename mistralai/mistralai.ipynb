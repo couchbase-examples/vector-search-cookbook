{
 "cells": [
  {
   "cell_type": "markdown",
   "id": "041a3edf-f5f7-43e1-99b9-b775e94fbfe6",
   "metadata": {},
   "source": [
    "# Prerequisites\n",
    "In order to run this tutorial, you will need access to a Couchbase Cluster either through Couchbase Capella or by running it locally. "
   ]
  },
  {
   "cell_type": "code",
   "execution_count": 1,
   "id": "56551dec-1029-4951-83f9-7899ee4cc34d",
   "metadata": {},
   "outputs": [],
   "source": [
    "couchbase_cluster_url = \"couchbase://localhost\"\n",
    "couchbase_username = \"Administrator\"\n",
    "couchbase_password = \"password\"\n",
    "couchbase_bucket = \"mistralai\""
   ]
  },
  {
   "cell_type": "markdown",
   "id": "9470f9e3-311b-45c8-81c3-baa5fe0995d2",
   "metadata": {},
   "source": [
    "## Imports"
   ]
  },
  {
   "cell_type": "code",
   "execution_count": 2,
   "id": "1fd83070-32d7-4b22-9a7b-25b5c7e4d16e",
   "metadata": {},
   "outputs": [],
   "source": [
    "from pathlib import Path\n",
    "from datetime import timedelta\n",
    "from mistralai import Mistral\n",
    "from couchbase.auth import PasswordAuthenticator\n",
    "from couchbase.cluster import Cluster\n",
    "from couchbase.options import (ClusterOptions, ClusterTimeoutOptions,\n",
    "                               QueryOptions)\n",
    "import couchbase.search as search\n",
    "from couchbase.options import SearchOptions\n",
    "from couchbase.vector_search import VectorQuery, VectorSearch\n",
    "import uuid"
   ]
  },
  {
   "cell_type": "markdown",
   "id": "15edfec2-64bd-4ba1-b072-4fadacddb01a",
   "metadata": {},
   "source": [
    "## Couchbase Connection"
   ]
  },
  {
   "cell_type": "code",
   "execution_count": 3,
   "id": "2ae34ded-a52e-45bd-9712-c3bb5ea4f7f3",
   "metadata": {},
   "outputs": [],
   "source": [
    "auth = PasswordAuthenticator(\n",
    "    couchbase_username,\n",
    "    couchbase_password\n",
    ")"
   ]
  },
  {
   "cell_type": "code",
   "execution_count": 4,
   "id": "6ea57ff8-2556-46d3-9211-3803420d93ea",
   "metadata": {},
   "outputs": [],
   "source": [
    "cluster = Cluster(couchbase_cluster_url, ClusterOptions(auth))\n",
    "cluster.wait_until_ready(timedelta(seconds=5))\n",
    "\n",
    "bucket = cluster.bucket(couchbase_bucket);\n",
    "scope = bucket.scope(\"_default\")\n",
    "collection = scope.collection(\"_default\")"
   ]
  },
  {
   "cell_type": "markdown",
   "id": "625881d5-39e2-44ed-bbca-0db67e98f765",
   "metadata": {},
   "source": [
    "## Creating Couchbase Vector Search Index\n",
    "In order to store Mistral embeddings onto a Couchbase Cluster, a vector search index needs to be created first. We included a sample index definition that will work with this tutorial. The definition can be used to create a vector index using Couchbase server web console, on more information on vector indexes, please read [Create a Vector Search Index with the Server Web Console](https://docs.couchbase.com/server/current/vector-search/create-vector-search-index-ui.html). "
   ]
  },
  {
   "cell_type": "code",
   "execution_count": 5,
   "id": "a66753ba-22d4-4eaf-8275-ffd9fd53b2f5",
   "metadata": {},
   "outputs": [],
   "source": [
    "search_index_name = couchbase_bucket + \"._default.vector_test\"\n",
    "search_index = cluster.search_indexes().get_index(search_index_name)"
   ]
  },
  {
   "cell_type": "markdown",
   "id": "d71a7207-54d1-44fd-aa9d-d361b42d2c96",
   "metadata": {},
   "source": [
    "## Mistral Connection"
   ]
  },
  {
   "cell_type": "code",
   "execution_count": 1,
   "id": "14fe91cb-41a5-4e71-ac5a-3a8070f21e0a",
   "metadata": {},
   "outputs": [
    {
     "ename": "NameError",
     "evalue": "name 'Mistral' is not defined",
     "output_type": "error",
     "traceback": [
      "\u001b[0;31m---------------------------------------------------------------------------\u001b[0m",
      "\u001b[0;31mNameError\u001b[0m                                 Traceback (most recent call last)",
      "Cell \u001b[0;32mIn[1], line 2\u001b[0m\n\u001b[1;32m      1\u001b[0m MISTRAL_API_KEY \u001b[38;5;241m=\u001b[39m \u001b[38;5;124m\"\u001b[39m\u001b[38;5;124mCHANGEME\u001b[39m\u001b[38;5;124m\"\u001b[39m\n\u001b[0;32m----> 2\u001b[0m mistral_client \u001b[38;5;241m=\u001b[39m \u001b[43mMistral\u001b[49m(api_key\u001b[38;5;241m=\u001b[39mMISTRAL_API_KEY)\n",
      "\u001b[0;31mNameError\u001b[0m: name 'Mistral' is not defined"
     ]
    }
   ],
   "source": [
    "MISTRAL_API_KEY = \"CHANGEME\"\n",
    "mistral_client = Mistral(api_key=MISTRAL_API_KEY)"
   ]
  },
  {
   "cell_type": "markdown",
   "id": "c0d8e261-d670-4c40-8037-3d4e3084c360",
   "metadata": {},
   "source": [
    "## Embedding Documents"
   ]
  },
  {
   "cell_type": "code",
   "execution_count": 7,
   "id": "fe90414b-2611-4c99-9dfc-c0d634eb2af9",
   "metadata": {},
   "outputs": [
    {
     "name": "stdout",
     "output_type": "stream",
     "text": [
      "Output embeddings: 2\n"
     ]
    }
   ],
   "source": [
    "texts = [\n",
    "    \"Couchbase Server is a multipurpose, distributed database that fuses the strengths of relational databases such as SQL and ACID transactions with JSON’s versatility, with a foundation that is extremely fast and scalable.\",\n",
    "    \"It’s used across industries for things like user profiles, dynamic product catalogs, GenAI apps, vector search, high-speed caching, and much more.\"\n",
    "]\n",
    "embeddings = mistral_client.embeddings.create(\n",
    "    model=\"mistral-embed\",\n",
    "    inputs=texts,\n",
    ")\n",
    "\n",
    "print(\"Output embeddings: \" + str(len(embeddings.data)))"
   ]
  },
  {
   "cell_type": "markdown",
   "id": "8abc73d2-1beb-4646-9794-9804e45dd9f1",
   "metadata": {},
   "source": [
    "The output `embeddings` is an EmbeddingResponse object with the embeddings and the token usage information:\n",
    "\n",
    "```\n",
    "EmbeddingResponse(\n",
    "    id='eb4c2c739780415bb3af4e47580318cc', object='list', data=[\n",
    "        Data(object='embedding', embedding=[-0.0165863037109375,...], index=0),\n",
    "        Data(object='embedding', embedding=[-0.0234222412109375,...], index=1)],\n",
    "    model='mistral-embed', usage=EmbeddingResponseUsage(prompt_tokens=15, total_tokens=15)\n",
    ")\n",
    "```"
   ]
  },
  {
   "cell_type": "markdown",
   "id": "80814e90-699f-4201-8cd3-7ef8adab9966",
   "metadata": {},
   "source": [
    "## Storing Embeddings in Couchbase"
   ]
  },
  {
   "cell_type": "code",
   "execution_count": 8,
   "id": "7f779554-b197-4fcb-8ca1-09d55dab149c",
   "metadata": {},
   "outputs": [],
   "source": [
    "for i in range(0, len(texts)):\n",
    "    doc = {\n",
    "        \"id\": str(uuid.uuid4()),\n",
    "        \"text\": texts[i],\n",
    "        \"vector\": embeddings.data[i].embedding,\n",
    "    }\n",
    "    collection.upsert(doc[\"id\"], doc)"
   ]
  },
  {
   "cell_type": "markdown",
   "id": "f11a0d98-bcf5-4fe4-b602-6e8a23edf95e",
   "metadata": {},
   "source": [
    "## Searching For Embeddings"
   ]
  },
  {
   "cell_type": "code",
   "execution_count": 9,
   "id": "d7e8283c-73ff-452e-98ee-e89fa992371e",
   "metadata": {},
   "outputs": [
    {
     "name": "stdout",
     "output_type": "stream",
     "text": [
      "Found answer: 7a4c24dd-393f-4f08-ae42-69ea7009dcda; score: 1.7320726542316662\n",
      "Answer text: Couchbase Server is a multipurpose, distributed database that fuses the strengths of relational databases such as SQL and ACID transactions with JSON’s versatility, with a foundation that is extremely fast and scalable.\n"
     ]
    }
   ],
   "source": [
    "search_embedding = mistral_client.embeddings.create(\n",
    "    model=\"mistral-embed\",\n",
    "    inputs=[\"name a multipurpose database with distributed capability\"],\n",
    ").data[0]\n",
    "\n",
    "search_req = search.SearchRequest.create(search.MatchNoneQuery()).with_vector_search(\n",
    "    VectorSearch.from_vector_query(\n",
    "        VectorQuery(\n",
    "            \"vector\", search_embedding.embedding, num_candidates=1\n",
    "        )\n",
    "    )\n",
    ")\n",
    "result = scope.search(\n",
    "    \"vector_test\", \n",
    "    search_req, \n",
    "    SearchOptions(\n",
    "        limit=13, \n",
    "        fields=[\"vector\", \"id\", \"text\"]\n",
    "    )\n",
    ")\n",
    "for row in result.rows():\n",
    "    print(\"Found answer: \" + row.id + \"; score: \" + str(row.score))\n",
    "    doc = collection.get(row.id)\n",
    "    print(\"Answer text: \" + doc.value[\"text\"])\n",
    "    \n"
   ]
  }
 ],
 "metadata": {
  "kernelspec": {
   "display_name": "Python 3 (ipykernel)",
   "language": "python",
   "name": "python3"
  },
  "language_info": {
   "codemirror_mode": {
    "name": "ipython",
    "version": 3
   },
   "file_extension": ".py",
   "mimetype": "text/x-python",
   "name": "python",
   "nbconvert_exporter": "python",
   "pygments_lexer": "ipython3",
   "version": "3.9.18"
  }
 },
 "nbformat": 4,
 "nbformat_minor": 5
}
