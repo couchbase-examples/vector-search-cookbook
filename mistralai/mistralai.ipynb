{
 "cells": [
  {
   "cell_type": "markdown",
   "id": "73e32c8a-7e1c-4516-b35e-b79785058e9b",
   "metadata": {},
   "source": [
    "# Couchbase and Mistral AI integration example notebook\n",
    "Couchbase is a NoSQL distributed document database (JSON) with many of the best features of a relational DBMS: SQL, distributed ACID transactions, and much more. [Couchbase Capella™](https://cloud.couchbase.com/sign-up) is the easiest way to get started, but you can also download and run [Couchbase Server](http://couchbase.com/downloads) on-premises.\n",
    "\n",
    "Mistral AI is a research lab building the best open source models in the world. La Plateforme enables developers and enterprises to build new products and applications, powered by Mistral’s open source and commercial LLMs. \n",
    "\n",
    "The [Mistral AI APIs](https://console.mistral.ai/) empower LLM applications via:\n",
    "\n",
    "- [Text generation](https://docs.mistral.ai/capabilities/completion/), enables streaming and provides the ability to display partial model results in real-time\n",
    "- [Code generation](https://docs.mistral.ai/capabilities/code_generation/), enpowers code generation tasks, including fill-in-the-middle and code completion\n",
    "- [Embeddings](https://docs.mistral.ai/capabilities/embeddings/), useful for RAG where it represents the meaning of text as a list of numbers\n",
    "- [Function calling](https://docs.mistral.ai/capabilities/function_calling/), enables Mistral models to connect to external tools\n",
    "- [Fine-tuning](https://docs.mistral.ai/capabilities/finetuning/), enables developers to create customized and specilized models\n",
    "- [JSON mode](https://docs.mistral.ai/capabilities/json_mode/), enables developers to set the response format to json_object\n",
    "- [Guardrailing](https://docs.mistral.ai/capabilities/guardrailing/), enables developers to enforce policies at the system level of Mistral models\n"
   ]
  },
  {
   "cell_type": "markdown",
   "id": "041a3edf-f5f7-43e1-99b9-b775e94fbfe6",
   "metadata": {},
   "source": [
    "# Prerequisites\n",
    "## Python3 and PIP\n",
    "Please consult with [pip installation documentation](https://pip.pypa.io/en/stable/installation/) to install pip.\n",
    "## Dependency Libraries\n",
    "This tutorial depends on `couchbase` and `mistralai` libraries. Run this shell command to install them:\n",
    "```shell\n",
    "pip install -r requirements.txt\n",
    "```\n",
    "## Couchbase Cluster\n",
    "In order to run this tutorial, you will need access to a collection on a Couchbase Cluster either through Couchbase Capella or by running it locally. Please provide your couchbase cluster connection information by running the code block below:"
   ]
  },
  {
   "cell_type": "code",
   "execution_count": 2,
   "id": "56551dec-1029-4951-83f9-7899ee4cc34d",
   "metadata": {},
   "outputs": [
    {
     "name": "stdin",
     "output_type": "stream",
     "text": [
      "Cluster URL: localhost\n",
      "Couchbase username: Administrator\n",
      "Couchbase password: ········\n",
      "Couchbase bucket: mistralai\n",
      "Couchbase scope: _default\n",
      "Couchbase collection: mistralai\n"
     ]
    }
   ],
   "source": [
    "import getpass\n",
    "couchbase_cluster_url = input(\"Cluster URL:\")\n",
    "couchbase_username = input(\"Couchbase username:\")\n",
    "couchbase_password = getpass.getpass(\"Couchbase password:\")\n",
    "couchbase_bucket = input(\"Couchbase bucket:\")\n",
    "couchbase_scope = input(\"Couchbase scope:\")\n",
    "couchbase_collection = input(\"Couchbase collection:\")"
   ]
  },
  {
   "cell_type": "markdown",
   "id": "9470f9e3-311b-45c8-81c3-baa5fe0995d2",
   "metadata": {},
   "source": [
    "## Imports"
   ]
  },
  {
   "cell_type": "code",
   "execution_count": null,
   "id": "1fd83070-32d7-4b22-9a7b-25b5c7e4d16e",
   "metadata": {},
   "outputs": [],
   "source": [
    "from pathlib import Path\n",
    "from datetime import timedelta\n",
    "from mistralai import Mistral\n",
    "from couchbase.auth import PasswordAuthenticator\n",
    "from couchbase.cluster import Cluster\n",
    "from couchbase.options import (ClusterOptions, ClusterTimeoutOptions,\n",
    "                               QueryOptions)\n",
    "import couchbase.search as search\n",
    "from couchbase.options import SearchOptions\n",
    "from couchbase.vector_search import VectorQuery, VectorSearch\n",
    "import uuid"
   ]
  },
  {
   "cell_type": "markdown",
   "id": "15edfec2-64bd-4ba1-b072-4fadacddb01a",
   "metadata": {},
   "source": [
    "## Couchbase Connection"
   ]
  },
  {
   "cell_type": "code",
   "execution_count": 3,
   "id": "2ae34ded-a52e-45bd-9712-c3bb5ea4f7f3",
   "metadata": {},
   "outputs": [],
   "source": [
    "auth = PasswordAuthenticator(\n",
    "    couchbase_username,\n",
    "    couchbase_password\n",
    ")"
   ]
  },
  {
   "cell_type": "code",
   "execution_count": null,
   "id": "6ea57ff8-2556-46d3-9211-3803420d93ea",
   "metadata": {},
   "outputs": [],
   "source": [
    "cluster = Cluster(couchbase_cluster_url, ClusterOptions(auth))\n",
    "cluster.wait_until_ready(timedelta(seconds=5))\n",
    "\n",
    "bucket = cluster.bucket(couchbase_bucket)\n",
    "scope = bucket.scope(couchbase_scope)\n",
    "collection = scope.collection(couchbase_collection)"
   ]
  },
  {
   "cell_type": "markdown",
   "id": "625881d5-39e2-44ed-bbca-0db67e98f765",
   "metadata": {},
   "source": [
    "## Creating Couchbase Vector Search Index\n",
    "In order to store Mistral embeddings onto a Couchbase Cluster, a vector search index needs to be created first. We included a sample index definition that will work with this tutorial in the `fts_index.json` file. The definition can be used to create a vector index using Couchbase server web console, on more information on vector indexes, please read [Create a Vector Search Index with the Server Web Console](https://docs.couchbase.com/server/current/vector-search/create-vector-search-index-ui.html). "
   ]
  },
  {
   "cell_type": "code",
   "execution_count": 5,
   "id": "a66753ba-22d4-4eaf-8275-ffd9fd53b2f5",
   "metadata": {},
   "outputs": [],
   "source": [
    "search_index_name = couchbase_bucket + \"._default.vector_test\"\n",
    "search_index = cluster.search_indexes().get_index(search_index_name)"
   ]
  },
  {
   "cell_type": "markdown",
   "id": "d71a7207-54d1-44fd-aa9d-d361b42d2c96",
   "metadata": {},
   "source": [
    "## Mistral Connection\n",
    "A Mistral API key needs to be obtained and configured in the code before using the Mistral API. A trial key can be obtained for free in MistralAI personal cabinet. For more detailed instructions on obtaining a key please consult with [Mistral documentation site](https://docs.mistral.ai/)."
   ]
  },
  {
   "cell_type": "code",
   "execution_count": null,
   "id": "14fe91cb-41a5-4e71-ac5a-3a8070f21e0a",
   "metadata": {
    "scrolled": true
   },
   "outputs": [],
   "source": [
    "MISTRAL_API_KEY = getpass.getpass(\"Mistral API Key:\")\n",
    "mistral_client = Mistral(api_key=MISTRAL_API_KEY)"
   ]
  },
  {
   "cell_type": "markdown",
   "id": "c0d8e261-d670-4c40-8037-3d4e3084c360",
   "metadata": {},
   "source": [
    "## Embedding Documents\n",
    "Mistral client can be used to generate vector embeddings for given text fragments. These embeddings represent the sentiment of corresponding fragments and can be stored in Couchbase for further retrieval. A custom embedding text can also be added into the embedding texts array by running this code block:"
   ]
  },
  {
   "cell_type": "code",
   "execution_count": null,
   "id": "fe90414b-2611-4c99-9dfc-c0d634eb2af9",
   "metadata": {},
   "outputs": [],
   "source": [
    "texts = [\n",
    "    \"Couchbase Server is a multipurpose, distributed database that fuses the strengths of relational databases such as SQL and ACID transactions with JSON’s versatility, with a foundation that is extremely fast and scalable.\",\n",
    "    \"It’s used across industries for things like user profiles, dynamic product catalogs, GenAI apps, vector search, high-speed caching, and much more.\",\n",
    "    input(\"custom embedding text\")\n",
    "]\n",
    "embeddings = mistral_client.embeddings.create(\n",
    "    model=\"mistral-embed\",\n",
    "    inputs=texts,\n",
    ")\n",
    "\n",
    "print(\"Output embeddings: \" + str(len(embeddings.data)))"
   ]
  },
  {
   "cell_type": "markdown",
   "id": "8abc73d2-1beb-4646-9794-9804e45dd9f1",
   "metadata": {},
   "source": [
    "The output `embeddings` is an EmbeddingResponse object with the embeddings and the token usage information:\n",
    "\n",
    "```\n",
    "EmbeddingResponse(\n",
    "    id='eb4c2c739780415bb3af4e47580318cc', object='list', data=[\n",
    "        Data(object='embedding', embedding=[-0.0165863037109375,...], index=0),\n",
    "        Data(object='embedding', embedding=[-0.0234222412109375,...], index=1)],\n",
    "        Data(object='embedding', embedding=[-0.0466222735279375,...], index=2)],\n",
    "    model='mistral-embed', usage=EmbeddingResponseUsage(prompt_tokens=15, total_tokens=15)\n",
    ")\n",
    "```"
   ]
  },
  {
   "cell_type": "markdown",
   "id": "80814e90-699f-4201-8cd3-7ef8adab9966",
   "metadata": {},
   "source": [
    "## Storing Embeddings in Couchbase\n",
    "Each embedding needs to be stored as a couchbase document. According to provided search index, embedding vector values need to be stored in the `vector` field. The original text of the embedding can be stored in the same document:"
   ]
  },
  {
   "cell_type": "code",
   "execution_count": 8,
   "id": "7f779554-b197-4fcb-8ca1-09d55dab149c",
   "metadata": {},
   "outputs": [],
   "source": [
    "for i in range(0, len(texts)):\n",
    "    doc = {\n",
    "        \"id\": str(uuid.uuid4()),\n",
    "        \"text\": texts[i],\n",
    "        \"vector\": embeddings.data[i].embedding,\n",
    "    }\n",
    "    collection.upsert(doc[\"id\"], doc)"
   ]
  },
  {
   "cell_type": "markdown",
   "id": "f11a0d98-bcf5-4fe4-b602-6e8a23edf95e",
   "metadata": {},
   "source": [
    "## Searching For Embeddings\n",
    "Stored in Couchbase embeddings later can be searched using the vector index to, for example, find text fragments that would be the most relevant to some user-entered prompt:"
   ]
  },
  {
   "cell_type": "code",
   "execution_count": 9,
   "id": "d7e8283c-73ff-452e-98ee-e89fa992371e",
   "metadata": {},
   "outputs": [
    {
     "name": "stdout",
     "output_type": "stream",
     "text": [
      "Found answer: 7a4c24dd-393f-4f08-ae42-69ea7009dcda; score: 1.7320726542316662\n",
      "Answer text: Couchbase Server is a multipurpose, distributed database that fuses the strengths of relational databases such as SQL and ACID transactions with JSON’s versatility, with a foundation that is extremely fast and scalable.\n"
     ]
    }
   ],
   "source": [
    "search_embedding = mistral_client.embeddings.create(\n",
    "    model=\"mistral-embed\",\n",
    "    inputs=[\"name a multipurpose database with distributed capability\"],\n",
    ").data[0]\n",
    "\n",
    "search_req = search.SearchRequest.create(search.MatchNoneQuery()).with_vector_search(\n",
    "    VectorSearch.from_vector_query(\n",
    "        VectorQuery(\n",
    "            \"vector\", search_embedding.embedding, num_candidates=1\n",
    "        )\n",
    "    )\n",
    ")\n",
    "result = scope.search(\n",
    "    \"vector_test\", \n",
    "    search_req, \n",
    "    SearchOptions(\n",
    "        limit=13, \n",
    "        fields=[\"vector\", \"id\", \"text\"]\n",
    "    )\n",
    ")\n",
    "for row in result.rows():\n",
    "    print(\"Found answer: \" + row.id + \"; score: \" + str(row.score))\n",
    "    doc = collection.get(row.id)\n",
    "    print(\"Answer text: \" + doc.value[\"text\"])\n",
    "    \n"
   ]
  }
 ],
 "metadata": {
  "kernelspec": {
   "display_name": "Python 3 (ipykernel)",
   "language": "python",
   "name": "python3"
  },
  "language_info": {
   "codemirror_mode": {
    "name": "ipython",
    "version": 3
   },
   "file_extension": ".py",
   "mimetype": "text/x-python",
   "name": "python",
   "nbconvert_exporter": "python",
   "pygments_lexer": "ipython3",
   "version": "3.9.6"
  }
 },
 "nbformat": 4,
 "nbformat_minor": 5
}
