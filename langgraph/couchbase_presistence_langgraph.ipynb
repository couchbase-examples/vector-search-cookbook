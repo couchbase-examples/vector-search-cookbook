{
 "cells": [
  {
   "cell_type": "markdown",
   "metadata": {},
   "source": [
    "# LangGraph Persistence with Couchbase"
   ]
  },
  {
   "cell_type": "markdown",
   "metadata": {},
   "source": [
    "### LangGraph\n",
    "\n",
    "LangGraph is a library for building stateful, multi-actor applications with LLMs, used to create agent and multi-agent workflows. Compared to other LLM frameworks, it offers these core benefits: cycles, controllability, and persistence. LangGraph allows you to define flows that involve cycles, essential for most agentic architectures, differentiating it from DAG-based solutions. This tutorial focuses on showcasing persisting state of [LangGraph](https://github.com/langchain-ai/langgraph) with Couchbase.\n",
    "\n",
    "### Checkpointer\n",
    "\n",
    "Checkpointers in LangGraph save snapshots of graph state at each execution step, enabling memory between interactions, human-in-the-loop workflows, and fault tolerance. By organizing states into \"threads\" with unique IDs - `thread_id`, they preserve conversation history and allow time travel debugging. Checkpointers implement methods to store, retrieve, and list checkpoints, with various backend options (in-memory, Couchbase, SQLite) to suit different application needs. This persistence layer is what enables agents to maintain context across multiple user interactions and recover gracefully from failures.\n",
    "\n",
    "### Couchbase as a Checkpointer\n",
    "\n",
    "This tutorial focuses on implementing a LangGraph checkpointer with Couchbase, leveraging Couchbase's distributed architecture, JSON document model, and high availability to provide robust persistence for agent workflows. Couchbase's scalability and flexible query capabilities make it an ideal backend for managing complex conversation states across multiple users and sessions."
   ]
  },
  {
   "cell_type": "markdown",
   "metadata": {},
   "source": [
    "# How to use Couchbase Checkpointer\n",
    "\n"
   ]
  },
  {
   "cell_type": "markdown",
   "metadata": {},
   "source": [
    "This tutorial focuses on using a LangGraph checkpointer with Couchbase using the dedicated [langgraph-checkpointer-couchbase](https://pypi.org/project/langgraph-checkpointer-couchbase/) package.\n",
    "\n",
    "This package provides a seamless way to persist LangGraph agent states in Couchbase, enabling:\n",
    "\n",
    "- State persistence across application restarts\n",
    "- Retrieval of historical conversation steps\n",
    "- Continued conversations from previous checkpoints\n",
    "- Both synchronous and asynchronous interfaces"
   ]
  },
  {
   "cell_type": "markdown",
   "metadata": {},
   "source": [
    "## Setup environment"
   ]
  },
  {
   "cell_type": "markdown",
   "metadata": {},
   "source": [
    "Requires Couchbase Python SDK and langgraph package"
   ]
  },
  {
   "cell_type": "code",
   "execution_count": 1,
   "metadata": {},
   "outputs": [],
   "source": [
    "%%capture --no-stderr\n",
    "%pip install -U langgraph==0.3.22 langgraph-checkpointer-couchbase "
   ]
  },
  {
   "cell_type": "markdown",
   "metadata": {},
   "source": [
    "This particular example uses OpenAI's GPT 4.1-mini as the model"
   ]
  },
  {
   "cell_type": "code",
   "execution_count": 2,
   "metadata": {},
   "outputs": [],
   "source": [
    "import getpass\n",
    "import os\n",
    "\n",
    "\n",
    "def _set_env(var: str):\n",
    "    if not os.environ.get(var):\n",
    "        os.environ[var] = getpass.getpass(f\"{var}: \")\n",
    "\n",
    "\n",
    "_set_env(\"OPENAI_API_KEY\")"
   ]
  },
  {
   "cell_type": "markdown",
   "metadata": {},
   "source": [
    "## Setup model and tools for the graph"
   ]
  },
  {
   "cell_type": "markdown",
   "metadata": {},
   "source": [
    "We will be creating a [ReAct Agent](https://langchain-ai.github.io/langgraph/how-tos/create-react-agent/) for this demo. Let's create a custom tool which our agent can call to get more information.\n",
    "\n",
    "We are using a tool `get_weather` which gives the weather information based on the city. This tool gives weather information based on the city. We are also setting up the ChatGPT model here."
   ]
  },
  {
   "cell_type": "code",
   "execution_count": 3,
   "metadata": {},
   "outputs": [],
   "source": [
    "from typing import Literal\n",
    "from langchain_core.tools import tool\n",
    "from langchain_openai import ChatOpenAI\n",
    "from langgraph.prebuilt import create_react_agent\n",
    "\n",
    "\n",
    "@tool\n",
    "def get_weather(city: Literal[\"nyc\", \"sf\"]):\n",
    "    \"\"\"Use this to get weather information.\"\"\"\n",
    "    if city == \"nyc\":\n",
    "        return \"It might be cloudy in nyc\"\n",
    "    elif city == \"sf\":\n",
    "        return \"It's always sunny in sf\"\n",
    "    else:\n",
    "        raise AssertionError(\"Unknown city\")\n",
    "\n",
    "\n",
    "tools = [get_weather]\n",
    "model = ChatOpenAI(model_name=\"gpt-4.1-mini\", temperature=0)"
   ]
  },
  {
   "cell_type": "markdown",
   "metadata": {},
   "source": [
    "### Couchbase Connection and intialization\n",
    "\n",
    "There are 2 ways to initialize a saver.\n",
    "\n",
    "1. `from_conn_info` - Provide details of the connection string, username, password. The package will handle connection itself.\n",
    "2. `from_cluster` - Provide a connected Couchbase.Cluster object. \n",
    "\n",
    "We will be using `from_conn_info` in the tutorial, but any of the above can be used as per requirements\n"
   ]
  },
  {
   "cell_type": "markdown",
   "metadata": {},
   "source": [
    "## Use sync connection (CouchbaseSaver)"
   ]
  },
  {
   "cell_type": "markdown",
   "metadata": {},
   "source": [
    "Below is usage of CouchbaseSaver (for synchronous use of graph, i.e. `.invoke()`, `.stream()`). CouchbaseSaver implements four methods that are required for any checkpointer:\n",
    "\n",
    "- `.put` - Store a checkpoint with its configuration and metadata.\n",
    "- `.put_writes` - Store intermediate writes linked to a checkpoint (i.e. pending writes).\n",
    "- `.get_tuple` - Fetch a checkpoint tuple using a given configuration (`thread_id` and `checkpoint_id`).\n",
    "- `.list` - List checkpoints that match a given configuration and filter criteria.\n",
    "\n",
    "Here we will create a Couchbase connection. We are using local setup with bucket `test`, `langgraph` scope. You may change bucket and scope if required. We will also require `checkpoints` and `checkpoint_writes` as collections inside.\n",
    "\n",
    "Then a [ReAct Agent](https://langchain-ai.github.io/langgraph/how-tos/create-react-agent/) is created with GPT Model, weather tool and Couchbase checkpointer.\n",
    "\n",
    "LangGraph's graph is invoked with message for GPT, storing all the state in Couchbase. We use get, get_tuple and list methods to fetch the states again"
   ]
  },
  {
   "cell_type": "code",
   "execution_count": 4,
   "metadata": {},
   "outputs": [
    {
     "name": "stderr",
     "output_type": "stream",
     "text": [
      "/Users/lokeshgoel/.pyenv/versions/langgraphCheckpointer/lib/python3.11/site-packages/couchbase/management/collections.py:123: CouchbaseDeprecationWarning: Method create_collection with signature (collection: couchbase.management.logic.collections_logic.CollectionSpec, *options: couchbase.management.options.CreateCollectionOptions, **kwargs: Dict[str, Any]) -> None is deprecated and will be removed in a future release. Use create_collection with signature (scope_name: str, collection_name: str, settings: Optional[couchbase.management.logic.collections_logic.CreateCollectionSettings], *options: couchbase.management.options.CreateCollectionOptions, **kwargs: Dict[str, Any]) -> None instead.\n",
      "  Supportability.method_signature_deprecated(\n"
     ]
    }
   ],
   "source": [
    "from langgraph_checkpointer_couchbase import CouchbaseSaver\n",
    "\n",
    "with CouchbaseSaver.from_conn_info(\n",
    "    cb_conn_str=\"couchbase://localhost\",\n",
    "    cb_username=\"Administrator\",\n",
    "    cb_password=\"password\",\n",
    "    bucket_name=\"test\",\n",
    "    scope_name=\"langgraph\",\n",
    ") as checkpointer:\n",
    "    graph = create_react_agent(model, tools=tools, checkpointer=checkpointer)\n",
    "    config = {\"configurable\": {\"thread_id\": \"1\"}}\n",
    "    res = graph.invoke({\"messages\": [(\"human\", \"what's the weather in sf\")]}, config)\n",
    "    \n",
    "    latest_checkpoint = checkpointer.get(config)\n",
    "    latest_checkpoint_tuple = checkpointer.get_tuple(config)\n",
    "    checkpoint_tuples = list(checkpointer.list(config))"
   ]
  },
  {
   "cell_type": "code",
   "execution_count": 5,
   "metadata": {},
   "outputs": [
    {
     "data": {
      "text/plain": [
       "{'v': 2,\n",
       " 'ts': '2025-04-21T05:56:20.853383+00:00',\n",
       " 'id': '1f01e755-968d-620e-8003-459cce96ee2d',\n",
       " 'channel_values': {'messages': [HumanMessage(content=\"what's the weather in sf\", additional_kwargs={}, response_metadata={}, id='52a4e1f3-ba84-4b7f-9773-9e57ae7962a7'),\n",
       "   AIMessage(content='', additional_kwargs={'tool_calls': [{'id': 'call_ZZEwpygrpyohAh698zDoxSbl', 'function': {'arguments': '{\"city\":\"sf\"}', 'name': 'get_weather'}, 'type': 'function'}], 'refusal': None}, response_metadata={'token_usage': {'completion_tokens': 15, 'prompt_tokens': 57, 'total_tokens': 72, 'completion_tokens_details': {'accepted_prediction_tokens': 0, 'audio_tokens': 0, 'reasoning_tokens': 0, 'rejected_prediction_tokens': 0}, 'prompt_tokens_details': {'audio_tokens': 0, 'cached_tokens': 0}}, 'model_name': 'gpt-4.1-mini-2025-04-14', 'system_fingerprint': 'fp_79b79be41f', 'id': 'chatcmpl-BOeQdk2ax6ZVqORyLD2mn5K3VUTby', 'finish_reason': 'tool_calls', 'logprobs': None}, id='run-e25bd6cf-e898-4331-9774-91340896f633-0', tool_calls=[{'name': 'get_weather', 'args': {'city': 'sf'}, 'id': 'call_ZZEwpygrpyohAh698zDoxSbl', 'type': 'tool_call'}], usage_metadata={'input_tokens': 57, 'output_tokens': 15, 'total_tokens': 72, 'input_token_details': {'audio': 0, 'cache_read': 0}, 'output_token_details': {'audio': 0, 'reasoning': 0}}),\n",
       "   ToolMessage(content=\"It's always sunny in sf\", name='get_weather', id='ee99529b-c3a7-4193-be38-d04803ee1db5', tool_call_id='call_ZZEwpygrpyohAh698zDoxSbl'),\n",
       "   AIMessage(content='The weather in San Francisco is always sunny.', additional_kwargs={'refusal': None}, response_metadata={'token_usage': {'completion_tokens': 11, 'prompt_tokens': 84, 'total_tokens': 95, 'completion_tokens_details': {'accepted_prediction_tokens': 0, 'audio_tokens': 0, 'reasoning_tokens': 0, 'rejected_prediction_tokens': 0}, 'prompt_tokens_details': {'audio_tokens': 0, 'cached_tokens': 0}}, 'model_name': 'gpt-4.1-mini-2025-04-14', 'system_fingerprint': 'fp_79b79be41f', 'id': 'chatcmpl-BOeQehQRF8RFs62iagCVVB0rwxE06', 'finish_reason': 'stop', 'logprobs': None}, id='run-140777b9-3640-488e-a709-afdc1586f706-0', usage_metadata={'input_tokens': 84, 'output_tokens': 11, 'total_tokens': 95, 'input_token_details': {'audio': 0, 'cache_read': 0}, 'output_token_details': {'audio': 0, 'reasoning': 0}})]},\n",
       " 'channel_versions': {'__start__': 2,\n",
       "  'messages': 5,\n",
       "  'branch:to:agent': 5,\n",
       "  'branch:to:tools': 4},\n",
       " 'versions_seen': {'__input__': {},\n",
       "  '__start__': {'__start__': 1},\n",
       "  'agent': {'branch:to:agent': 4},\n",
       "  'tools': {'branch:to:tools': 3}},\n",
       " 'pending_sends': []}"
      ]
     },
     "execution_count": 5,
     "metadata": {},
     "output_type": "execute_result"
    }
   ],
   "source": [
    "latest_checkpoint"
   ]
  },
  {
   "cell_type": "code",
   "execution_count": 6,
   "metadata": {},
   "outputs": [
    {
     "data": {
      "text/plain": [
       "CheckpointTuple(config={'configurable': {'thread_id': '1', 'checkpoint_ns': '', 'checkpoint_id': '1f01e755-968d-620e-8003-459cce96ee2d'}}, checkpoint={'v': 2, 'ts': '2025-04-21T05:56:20.853383+00:00', 'id': '1f01e755-968d-620e-8003-459cce96ee2d', 'channel_values': {'messages': [HumanMessage(content=\"what's the weather in sf\", additional_kwargs={}, response_metadata={}, id='52a4e1f3-ba84-4b7f-9773-9e57ae7962a7'), AIMessage(content='', additional_kwargs={'tool_calls': [{'id': 'call_ZZEwpygrpyohAh698zDoxSbl', 'function': {'arguments': '{\"city\":\"sf\"}', 'name': 'get_weather'}, 'type': 'function'}], 'refusal': None}, response_metadata={'token_usage': {'completion_tokens': 15, 'prompt_tokens': 57, 'total_tokens': 72, 'completion_tokens_details': {'accepted_prediction_tokens': 0, 'audio_tokens': 0, 'reasoning_tokens': 0, 'rejected_prediction_tokens': 0}, 'prompt_tokens_details': {'audio_tokens': 0, 'cached_tokens': 0}}, 'model_name': 'gpt-4.1-mini-2025-04-14', 'system_fingerprint': 'fp_79b79be41f', 'id': 'chatcmpl-BOeQdk2ax6ZVqORyLD2mn5K3VUTby', 'finish_reason': 'tool_calls', 'logprobs': None}, id='run-e25bd6cf-e898-4331-9774-91340896f633-0', tool_calls=[{'name': 'get_weather', 'args': {'city': 'sf'}, 'id': 'call_ZZEwpygrpyohAh698zDoxSbl', 'type': 'tool_call'}], usage_metadata={'input_tokens': 57, 'output_tokens': 15, 'total_tokens': 72, 'input_token_details': {'audio': 0, 'cache_read': 0}, 'output_token_details': {'audio': 0, 'reasoning': 0}}), ToolMessage(content=\"It's always sunny in sf\", name='get_weather', id='ee99529b-c3a7-4193-be38-d04803ee1db5', tool_call_id='call_ZZEwpygrpyohAh698zDoxSbl'), AIMessage(content='The weather in San Francisco is always sunny.', additional_kwargs={'refusal': None}, response_metadata={'token_usage': {'completion_tokens': 11, 'prompt_tokens': 84, 'total_tokens': 95, 'completion_tokens_details': {'accepted_prediction_tokens': 0, 'audio_tokens': 0, 'reasoning_tokens': 0, 'rejected_prediction_tokens': 0}, 'prompt_tokens_details': {'audio_tokens': 0, 'cached_tokens': 0}}, 'model_name': 'gpt-4.1-mini-2025-04-14', 'system_fingerprint': 'fp_79b79be41f', 'id': 'chatcmpl-BOeQehQRF8RFs62iagCVVB0rwxE06', 'finish_reason': 'stop', 'logprobs': None}, id='run-140777b9-3640-488e-a709-afdc1586f706-0', usage_metadata={'input_tokens': 84, 'output_tokens': 11, 'total_tokens': 95, 'input_token_details': {'audio': 0, 'cache_read': 0}, 'output_token_details': {'audio': 0, 'reasoning': 0}})]}, 'channel_versions': {'__start__': 2, 'messages': 5, 'branch:to:agent': 5, 'branch:to:tools': 4}, 'versions_seen': {'__input__': {}, '__start__': {'__start__': 1}, 'agent': {'branch:to:agent': 4}, 'tools': {'branch:to:tools': 3}}, 'pending_sends': []}, metadata={'source': 'loop', 'writes': {'agent': {'messages': [AIMessage(content='The weather in San Francisco is always sunny.', additional_kwargs={'refusal': None}, response_metadata={'token_usage': {'completion_tokens': 11, 'prompt_tokens': 84, 'total_tokens': 95, 'completion_tokens_details': {'accepted_prediction_tokens': 0, 'audio_tokens': 0, 'reasoning_tokens': 0, 'rejected_prediction_tokens': 0}, 'prompt_tokens_details': {'audio_tokens': 0, 'cached_tokens': 0}}, 'model_name': 'gpt-4.1-mini-2025-04-14', 'system_fingerprint': 'fp_79b79be41f', 'id': 'chatcmpl-BOeQehQRF8RFs62iagCVVB0rwxE06', 'finish_reason': 'stop', 'logprobs': None}, id='run-140777b9-3640-488e-a709-afdc1586f706-0', usage_metadata={'input_tokens': 84, 'output_tokens': 11, 'total_tokens': 95, 'input_token_details': {'audio': 0, 'cache_read': 0}, 'output_token_details': {'audio': 0, 'reasoning': 0}})]}}, 'step': 3, 'parents': {}, 'thread_id': '1'}, parent_config={'configurable': {'thread_id': '1', 'checkpoint_ns': '', 'checkpoint_id': '1f01e755-8d0c-6982-8002-01e7eccda272'}}, pending_writes=[])"
      ]
     },
     "execution_count": 6,
     "metadata": {},
     "output_type": "execute_result"
    }
   ],
   "source": [
    "latest_checkpoint_tuple"
   ]
  },
  {
   "cell_type": "code",
   "execution_count": 7,
   "metadata": {},
   "outputs": [
    {
     "data": {
      "text/plain": [
       "[CheckpointTuple(config={'configurable': {'thread_id': '1', 'checkpoint_ns': '', 'checkpoint_id': '1f01e755-968d-620e-8003-459cce96ee2d'}}, checkpoint={'v': 2, 'ts': '2025-04-21T05:56:20.853383+00:00', 'id': '1f01e755-968d-620e-8003-459cce96ee2d', 'channel_values': {'messages': [HumanMessage(content=\"what's the weather in sf\", additional_kwargs={}, response_metadata={}, id='52a4e1f3-ba84-4b7f-9773-9e57ae7962a7'), AIMessage(content='', additional_kwargs={'tool_calls': [{'id': 'call_ZZEwpygrpyohAh698zDoxSbl', 'function': {'arguments': '{\"city\":\"sf\"}', 'name': 'get_weather'}, 'type': 'function'}], 'refusal': None}, response_metadata={'token_usage': {'completion_tokens': 15, 'prompt_tokens': 57, 'total_tokens': 72, 'completion_tokens_details': {'accepted_prediction_tokens': 0, 'audio_tokens': 0, 'reasoning_tokens': 0, 'rejected_prediction_tokens': 0}, 'prompt_tokens_details': {'audio_tokens': 0, 'cached_tokens': 0}}, 'model_name': 'gpt-4.1-mini-2025-04-14', 'system_fingerprint': 'fp_79b79be41f', 'id': 'chatcmpl-BOeQdk2ax6ZVqORyLD2mn5K3VUTby', 'finish_reason': 'tool_calls', 'logprobs': None}, id='run-e25bd6cf-e898-4331-9774-91340896f633-0', tool_calls=[{'name': 'get_weather', 'args': {'city': 'sf'}, 'id': 'call_ZZEwpygrpyohAh698zDoxSbl', 'type': 'tool_call'}], usage_metadata={'input_tokens': 57, 'output_tokens': 15, 'total_tokens': 72, 'input_token_details': {'audio': 0, 'cache_read': 0}, 'output_token_details': {'audio': 0, 'reasoning': 0}}), ToolMessage(content=\"It's always sunny in sf\", name='get_weather', id='ee99529b-c3a7-4193-be38-d04803ee1db5', tool_call_id='call_ZZEwpygrpyohAh698zDoxSbl'), AIMessage(content='The weather in San Francisco is always sunny.', additional_kwargs={'refusal': None}, response_metadata={'token_usage': {'completion_tokens': 11, 'prompt_tokens': 84, 'total_tokens': 95, 'completion_tokens_details': {'accepted_prediction_tokens': 0, 'audio_tokens': 0, 'reasoning_tokens': 0, 'rejected_prediction_tokens': 0}, 'prompt_tokens_details': {'audio_tokens': 0, 'cached_tokens': 0}}, 'model_name': 'gpt-4.1-mini-2025-04-14', 'system_fingerprint': 'fp_79b79be41f', 'id': 'chatcmpl-BOeQehQRF8RFs62iagCVVB0rwxE06', 'finish_reason': 'stop', 'logprobs': None}, id='run-140777b9-3640-488e-a709-afdc1586f706-0', usage_metadata={'input_tokens': 84, 'output_tokens': 11, 'total_tokens': 95, 'input_token_details': {'audio': 0, 'cache_read': 0}, 'output_token_details': {'audio': 0, 'reasoning': 0}})]}, 'channel_versions': {'__start__': 2, 'messages': 5, 'branch:to:agent': 5, 'branch:to:tools': 4}, 'versions_seen': {'__input__': {}, '__start__': {'__start__': 1}, 'agent': {'branch:to:agent': 4}, 'tools': {'branch:to:tools': 3}}, 'pending_sends': []}, metadata={'source': 'loop', 'writes': {'agent': {'messages': [AIMessage(content='The weather in San Francisco is always sunny.', additional_kwargs={'refusal': None}, response_metadata={'token_usage': {'completion_tokens': 11, 'prompt_tokens': 84, 'total_tokens': 95, 'completion_tokens_details': {'accepted_prediction_tokens': 0, 'audio_tokens': 0, 'reasoning_tokens': 0, 'rejected_prediction_tokens': 0}, 'prompt_tokens_details': {'audio_tokens': 0, 'cached_tokens': 0}}, 'model_name': 'gpt-4.1-mini-2025-04-14', 'system_fingerprint': 'fp_79b79be41f', 'id': 'chatcmpl-BOeQehQRF8RFs62iagCVVB0rwxE06', 'finish_reason': 'stop', 'logprobs': None}, id='run-140777b9-3640-488e-a709-afdc1586f706-0', usage_metadata={'input_tokens': 84, 'output_tokens': 11, 'total_tokens': 95, 'input_token_details': {'audio': 0, 'cache_read': 0}, 'output_token_details': {'audio': 0, 'reasoning': 0}})]}}, 'step': 3, 'parents': {}, 'thread_id': '1'}, parent_config={'configurable': {'thread_id': '1', 'checkpoint_ns': '', 'checkpoint_id': '1f01e755-8d0c-6982-8002-01e7eccda272'}}, pending_writes=None),\n",
       " CheckpointTuple(config={'configurable': {'thread_id': '1', 'checkpoint_ns': '', 'checkpoint_id': '1f01e755-8d0c-6982-8002-01e7eccda272'}}, checkpoint={'v': 2, 'ts': '2025-04-21T05:56:19.857025+00:00', 'id': '1f01e755-8d0c-6982-8002-01e7eccda272', 'channel_values': {'messages': [HumanMessage(content=\"what's the weather in sf\", additional_kwargs={}, response_metadata={}, id='52a4e1f3-ba84-4b7f-9773-9e57ae7962a7'), AIMessage(content='', additional_kwargs={'tool_calls': [{'id': 'call_ZZEwpygrpyohAh698zDoxSbl', 'function': {'arguments': '{\"city\":\"sf\"}', 'name': 'get_weather'}, 'type': 'function'}], 'refusal': None}, response_metadata={'token_usage': {'completion_tokens': 15, 'prompt_tokens': 57, 'total_tokens': 72, 'completion_tokens_details': {'accepted_prediction_tokens': 0, 'audio_tokens': 0, 'reasoning_tokens': 0, 'rejected_prediction_tokens': 0}, 'prompt_tokens_details': {'audio_tokens': 0, 'cached_tokens': 0}}, 'model_name': 'gpt-4.1-mini-2025-04-14', 'system_fingerprint': 'fp_79b79be41f', 'id': 'chatcmpl-BOeQdk2ax6ZVqORyLD2mn5K3VUTby', 'finish_reason': 'tool_calls', 'logprobs': None}, id='run-e25bd6cf-e898-4331-9774-91340896f633-0', tool_calls=[{'name': 'get_weather', 'args': {'city': 'sf'}, 'id': 'call_ZZEwpygrpyohAh698zDoxSbl', 'type': 'tool_call'}], usage_metadata={'input_tokens': 57, 'output_tokens': 15, 'total_tokens': 72, 'input_token_details': {'audio': 0, 'cache_read': 0}, 'output_token_details': {'audio': 0, 'reasoning': 0}}), ToolMessage(content=\"It's always sunny in sf\", name='get_weather', id='ee99529b-c3a7-4193-be38-d04803ee1db5', tool_call_id='call_ZZEwpygrpyohAh698zDoxSbl')], 'branch:to:agent': None}, 'channel_versions': {'__start__': 2, 'messages': 4, 'branch:to:agent': 4, 'branch:to:tools': 4}, 'versions_seen': {'__input__': {}, '__start__': {'__start__': 1}, 'agent': {'branch:to:agent': 2}, 'tools': {'branch:to:tools': 3}}, 'pending_sends': []}, metadata={'source': 'loop', 'writes': {'tools': {'messages': [ToolMessage(content=\"It's always sunny in sf\", name='get_weather', id='ee99529b-c3a7-4193-be38-d04803ee1db5', tool_call_id='call_ZZEwpygrpyohAh698zDoxSbl')]}}, 'step': 2, 'parents': {}, 'thread_id': '1'}, parent_config={'configurable': {'thread_id': '1', 'checkpoint_ns': '', 'checkpoint_id': '1f01e755-8d05-670e-8001-c78cf9d6555d'}}, pending_writes=None),\n",
       " CheckpointTuple(config={'configurable': {'thread_id': '1', 'checkpoint_ns': '', 'checkpoint_id': '1f01e755-8d05-670e-8001-c78cf9d6555d'}}, checkpoint={'v': 2, 'ts': '2025-04-21T05:56:19.854083+00:00', 'id': '1f01e755-8d05-670e-8001-c78cf9d6555d', 'channel_values': {'messages': [HumanMessage(content=\"what's the weather in sf\", additional_kwargs={}, response_metadata={}, id='52a4e1f3-ba84-4b7f-9773-9e57ae7962a7'), AIMessage(content='', additional_kwargs={'tool_calls': [{'id': 'call_ZZEwpygrpyohAh698zDoxSbl', 'function': {'arguments': '{\"city\":\"sf\"}', 'name': 'get_weather'}, 'type': 'function'}], 'refusal': None}, response_metadata={'token_usage': {'completion_tokens': 15, 'prompt_tokens': 57, 'total_tokens': 72, 'completion_tokens_details': {'accepted_prediction_tokens': 0, 'audio_tokens': 0, 'reasoning_tokens': 0, 'rejected_prediction_tokens': 0}, 'prompt_tokens_details': {'audio_tokens': 0, 'cached_tokens': 0}}, 'model_name': 'gpt-4.1-mini-2025-04-14', 'system_fingerprint': 'fp_79b79be41f', 'id': 'chatcmpl-BOeQdk2ax6ZVqORyLD2mn5K3VUTby', 'finish_reason': 'tool_calls', 'logprobs': None}, id='run-e25bd6cf-e898-4331-9774-91340896f633-0', tool_calls=[{'name': 'get_weather', 'args': {'city': 'sf'}, 'id': 'call_ZZEwpygrpyohAh698zDoxSbl', 'type': 'tool_call'}], usage_metadata={'input_tokens': 57, 'output_tokens': 15, 'total_tokens': 72, 'input_token_details': {'audio': 0, 'cache_read': 0}, 'output_token_details': {'audio': 0, 'reasoning': 0}})], 'branch:to:tools': None}, 'channel_versions': {'__start__': 2, 'messages': 3, 'branch:to:agent': 3, 'branch:to:tools': 3}, 'versions_seen': {'__input__': {}, '__start__': {'__start__': 1}, 'agent': {'branch:to:agent': 2}}, 'pending_sends': []}, metadata={'source': 'loop', 'writes': {'agent': {'messages': [AIMessage(content='', additional_kwargs={'tool_calls': [{'id': 'call_ZZEwpygrpyohAh698zDoxSbl', 'function': {'arguments': '{\"city\":\"sf\"}', 'name': 'get_weather'}, 'type': 'function'}], 'refusal': None}, response_metadata={'token_usage': {'completion_tokens': 15, 'prompt_tokens': 57, 'total_tokens': 72, 'completion_tokens_details': {'accepted_prediction_tokens': 0, 'audio_tokens': 0, 'reasoning_tokens': 0, 'rejected_prediction_tokens': 0}, 'prompt_tokens_details': {'audio_tokens': 0, 'cached_tokens': 0}}, 'model_name': 'gpt-4.1-mini-2025-04-14', 'system_fingerprint': 'fp_79b79be41f', 'id': 'chatcmpl-BOeQdk2ax6ZVqORyLD2mn5K3VUTby', 'finish_reason': 'tool_calls', 'logprobs': None}, id='run-e25bd6cf-e898-4331-9774-91340896f633-0', tool_calls=[{'name': 'get_weather', 'args': {'city': 'sf'}, 'id': 'call_ZZEwpygrpyohAh698zDoxSbl', 'type': 'tool_call'}], usage_metadata={'input_tokens': 57, 'output_tokens': 15, 'total_tokens': 72, 'input_token_details': {'audio': 0, 'cache_read': 0}, 'output_token_details': {'audio': 0, 'reasoning': 0}})]}}, 'step': 1, 'parents': {}, 'thread_id': '1'}, parent_config={'configurable': {'thread_id': '1', 'checkpoint_ns': '', 'checkpoint_id': '1f01e755-8431-62e0-8000-114304d25206'}}, pending_writes=None),\n",
       " CheckpointTuple(config={'configurable': {'thread_id': '1', 'checkpoint_ns': '', 'checkpoint_id': '1f01e755-8431-62e0-8000-114304d25206'}}, checkpoint={'v': 2, 'ts': '2025-04-21T05:56:18.928296+00:00', 'id': '1f01e755-8431-62e0-8000-114304d25206', 'channel_values': {'messages': [HumanMessage(content=\"what's the weather in sf\", additional_kwargs={}, response_metadata={}, id='52a4e1f3-ba84-4b7f-9773-9e57ae7962a7')], 'branch:to:agent': None}, 'channel_versions': {'__start__': 2, 'messages': 2, 'branch:to:agent': 2}, 'versions_seen': {'__input__': {}, '__start__': {'__start__': 1}}, 'pending_sends': []}, metadata={'source': 'loop', 'writes': None, 'step': 0, 'parents': {}, 'thread_id': '1'}, parent_config={'configurable': {'thread_id': '1', 'checkpoint_ns': '', 'checkpoint_id': '1f01e755-842d-67f8-bfff-922a7a30eb92'}}, pending_writes=None),\n",
       " CheckpointTuple(config={'configurable': {'thread_id': '1', 'checkpoint_ns': '', 'checkpoint_id': '1f01e755-842d-67f8-bfff-922a7a30eb92'}}, checkpoint={'v': 2, 'ts': '2025-04-21T05:56:18.926792+00:00', 'id': '1f01e755-842d-67f8-bfff-922a7a30eb92', 'channel_values': {'__start__': {'messages': [['human', \"what's the weather in sf\"]]}}, 'channel_versions': {'__start__': 1}, 'versions_seen': {'__input__': {}}, 'pending_sends': []}, metadata={'source': 'input', 'writes': {'__start__': {'messages': [['human', \"what's the weather in sf\"]]}}, 'step': -1, 'parents': {}, 'thread_id': '1'}, parent_config=None, pending_writes=None)]"
      ]
     },
     "execution_count": 7,
     "metadata": {},
     "output_type": "execute_result"
    }
   ],
   "source": [
    "checkpoint_tuples"
   ]
  },
  {
   "cell_type": "markdown",
   "metadata": {},
   "source": [
    "## Use async connection (AsyncCouchbaseSaver)"
   ]
  },
  {
   "cell_type": "markdown",
   "metadata": {},
   "source": [
    "Below is a reference usage of AsyncCouchbaseSaver (for asynchronous use of graph, i.e. `.ainvoke()`, `.astream()`). AsyncCouchbaseSaver implements four methods that are required for any async checkpointer:\n",
    "\n",
    "- `.aput` - Store a checkpoint with its configuration and metadata.\n",
    "- `.aput_writes` - Store intermediate writes linked to a checkpoint (i.e. pending writes).\n",
    "- `.aget_tuple` - Fetch a checkpoint tuple using a given configuration (`thread_id` and `checkpoint_id`).\n",
    "- `.alist` - List checkpoints that match a given configuration and filter criteria.\n",
    "\n",
    "This is the asynchronous example, Here we will create a Couchbase connection. We are using local setup with bucket `test`, `langgraph` scope. You may change bucket and scope if required. We will also require `checkpoints` and `checkpoint_writes` as collections inside.\n",
    "\n",
    "Then a [ReAct Agent](https://langchain-ai.github.io/langgraph/how-tos/create-react-agent/) is created with GPT Model, weather tool and Couchbase checkpointer.\n",
    "\n",
    "LangGraph's graph is invoked with message for GPT, storing all the state in Couchbase. We use get, get_tuple and list methods to fetch the states again"
   ]
  },
  {
   "cell_type": "code",
   "execution_count": 8,
   "metadata": {},
   "outputs": [
    {
     "name": "stdout",
     "output_type": "stream",
     "text": [
      "SELECT * FROM test.langgraph.`checkpoints` WHERE thread_id = $1 AND checkpoint_ns = $2 ORDER BY checkpoint_id DESC LIMIT 1\n",
      "SELECT * FROM test.langgraph.`checkpoints` WHERE thread_id = $1 AND checkpoint_ns = $2 ORDER BY checkpoint_id DESC LIMIT 1\n",
      "SELECT * FROM test.langgraph.`checkpoints` WHERE thread_id = $1 AND checkpoint_ns = $2 ORDER BY checkpoint_id DESC LIMIT 1\n"
     ]
    }
   ],
   "source": [
    "from langgraph_checkpointer_couchbase import AsyncCouchbaseSaver\n",
    "\n",
    "async with AsyncCouchbaseSaver.from_conn_info(\n",
    "    cb_conn_str=\"couchbase://localhost\",\n",
    "    cb_username=\"Administrator\",\n",
    "    cb_password=\"password\",\n",
    "    bucket_name=\"test\",\n",
    "    scope_name=\"langgraph\",\n",
    ") as checkpointer:\n",
    "    graph = create_react_agent(model, tools=tools, checkpointer=checkpointer)\n",
    "    config = {\"configurable\": {\"thread_id\": \"2\"}}\n",
    "    res = await graph.ainvoke(\n",
    "        {\"messages\": [(\"human\", \"what's the weather in nyc\")]}, config\n",
    "    )\n",
    "\n",
    "    latest_checkpoint = await checkpointer.aget(config)\n",
    "    latest_checkpoint_tuple = await checkpointer.aget_tuple(config)\n",
    "    checkpoint_tuples = [c async for c in checkpointer.alist(config)]"
   ]
  },
  {
   "cell_type": "code",
   "execution_count": 9,
   "metadata": {},
   "outputs": [
    {
     "data": {
      "text/plain": [
       "{'v': 2,\n",
       " 'ts': '2025-04-21T05:56:24.214460+00:00',\n",
       " 'id': '1f01e755-b69a-6e66-8003-0c1653e6f222',\n",
       " 'channel_values': {'messages': [HumanMessage(content=\"what's the weather in nyc\", additional_kwargs={}, response_metadata={}, id='d15a78fc-4527-40e4-97ed-d8592c5b0f0a'),\n",
       "   AIMessage(content='', additional_kwargs={'tool_calls': [{'id': 'call_UvS4kYUWsRUnAFl8dkR2PNHW', 'function': {'arguments': '{\"city\":\"nyc\"}', 'name': 'get_weather'}, 'type': 'function'}], 'refusal': None}, response_metadata={'token_usage': {'completion_tokens': 16, 'prompt_tokens': 58, 'total_tokens': 74, 'completion_tokens_details': {'accepted_prediction_tokens': 0, 'audio_tokens': 0, 'reasoning_tokens': 0, 'rejected_prediction_tokens': 0}, 'prompt_tokens_details': {'audio_tokens': 0, 'cached_tokens': 0}}, 'model_name': 'gpt-4.1-mini-2025-04-14', 'system_fingerprint': 'fp_79b79be41f', 'id': 'chatcmpl-BOeQfGu6yn2xfKKJIUP8dql8sAeh4', 'finish_reason': 'tool_calls', 'logprobs': None}, id='run-80fc714b-9692-4b2c-b77a-4dad4ea03d0f-0', tool_calls=[{'name': 'get_weather', 'args': {'city': 'nyc'}, 'id': 'call_UvS4kYUWsRUnAFl8dkR2PNHW', 'type': 'tool_call'}], usage_metadata={'input_tokens': 58, 'output_tokens': 16, 'total_tokens': 74, 'input_token_details': {'audio': 0, 'cache_read': 0}, 'output_token_details': {'audio': 0, 'reasoning': 0}}),\n",
       "   ToolMessage(content='It might be cloudy in nyc', name='get_weather', id='c19d4d0f-e2c4-44b1-a41b-fd2e463cefd4', tool_call_id='call_UvS4kYUWsRUnAFl8dkR2PNHW'),\n",
       "   AIMessage(content=\"The weather in NYC might be cloudy. Is there anything else you'd like to know?\", additional_kwargs={'refusal': None}, response_metadata={'token_usage': {'completion_tokens': 19, 'prompt_tokens': 88, 'total_tokens': 107, 'completion_tokens_details': {'accepted_prediction_tokens': 0, 'audio_tokens': 0, 'reasoning_tokens': 0, 'rejected_prediction_tokens': 0}, 'prompt_tokens_details': {'audio_tokens': 0, 'cached_tokens': 0}}, 'model_name': 'gpt-4.1-mini-2025-04-14', 'system_fingerprint': 'fp_79b79be41f', 'id': 'chatcmpl-BOeQhQPyzwDa0uqa2au8doJuZ73h0', 'finish_reason': 'stop', 'logprobs': None}, id='run-c20b6133-70dc-48f9-b588-8de2ee90249e-0', usage_metadata={'input_tokens': 88, 'output_tokens': 19, 'total_tokens': 107, 'input_token_details': {'audio': 0, 'cache_read': 0}, 'output_token_details': {'audio': 0, 'reasoning': 0}})]},\n",
       " 'channel_versions': {'__start__': 2,\n",
       "  'messages': 5,\n",
       "  'branch:to:agent': 5,\n",
       "  'branch:to:tools': 4},\n",
       " 'versions_seen': {'__input__': {},\n",
       "  '__start__': {'__start__': 1},\n",
       "  'agent': {'branch:to:agent': 4},\n",
       "  'tools': {'branch:to:tools': 3}},\n",
       " 'pending_sends': []}"
      ]
     },
     "execution_count": 9,
     "metadata": {},
     "output_type": "execute_result"
    }
   ],
   "source": [
    "latest_checkpoint"
   ]
  },
  {
   "cell_type": "code",
   "execution_count": 10,
   "metadata": {},
   "outputs": [
    {
     "data": {
      "text/plain": [
       "CheckpointTuple(config={'configurable': {'thread_id': '2', 'checkpoint_ns': '', 'checkpoint_id': '1f01e755-b69a-6e66-8003-0c1653e6f222'}}, checkpoint={'v': 2, 'ts': '2025-04-21T05:56:24.214460+00:00', 'id': '1f01e755-b69a-6e66-8003-0c1653e6f222', 'channel_values': {'messages': [HumanMessage(content=\"what's the weather in nyc\", additional_kwargs={}, response_metadata={}, id='d15a78fc-4527-40e4-97ed-d8592c5b0f0a'), AIMessage(content='', additional_kwargs={'tool_calls': [{'id': 'call_UvS4kYUWsRUnAFl8dkR2PNHW', 'function': {'arguments': '{\"city\":\"nyc\"}', 'name': 'get_weather'}, 'type': 'function'}], 'refusal': None}, response_metadata={'token_usage': {'completion_tokens': 16, 'prompt_tokens': 58, 'total_tokens': 74, 'completion_tokens_details': {'accepted_prediction_tokens': 0, 'audio_tokens': 0, 'reasoning_tokens': 0, 'rejected_prediction_tokens': 0}, 'prompt_tokens_details': {'audio_tokens': 0, 'cached_tokens': 0}}, 'model_name': 'gpt-4.1-mini-2025-04-14', 'system_fingerprint': 'fp_79b79be41f', 'id': 'chatcmpl-BOeQfGu6yn2xfKKJIUP8dql8sAeh4', 'finish_reason': 'tool_calls', 'logprobs': None}, id='run-80fc714b-9692-4b2c-b77a-4dad4ea03d0f-0', tool_calls=[{'name': 'get_weather', 'args': {'city': 'nyc'}, 'id': 'call_UvS4kYUWsRUnAFl8dkR2PNHW', 'type': 'tool_call'}], usage_metadata={'input_tokens': 58, 'output_tokens': 16, 'total_tokens': 74, 'input_token_details': {'audio': 0, 'cache_read': 0}, 'output_token_details': {'audio': 0, 'reasoning': 0}}), ToolMessage(content='It might be cloudy in nyc', name='get_weather', id='c19d4d0f-e2c4-44b1-a41b-fd2e463cefd4', tool_call_id='call_UvS4kYUWsRUnAFl8dkR2PNHW'), AIMessage(content=\"The weather in NYC might be cloudy. Is there anything else you'd like to know?\", additional_kwargs={'refusal': None}, response_metadata={'token_usage': {'completion_tokens': 19, 'prompt_tokens': 88, 'total_tokens': 107, 'completion_tokens_details': {'accepted_prediction_tokens': 0, 'audio_tokens': 0, 'reasoning_tokens': 0, 'rejected_prediction_tokens': 0}, 'prompt_tokens_details': {'audio_tokens': 0, 'cached_tokens': 0}}, 'model_name': 'gpt-4.1-mini-2025-04-14', 'system_fingerprint': 'fp_79b79be41f', 'id': 'chatcmpl-BOeQhQPyzwDa0uqa2au8doJuZ73h0', 'finish_reason': 'stop', 'logprobs': None}, id='run-c20b6133-70dc-48f9-b588-8de2ee90249e-0', usage_metadata={'input_tokens': 88, 'output_tokens': 19, 'total_tokens': 107, 'input_token_details': {'audio': 0, 'cache_read': 0}, 'output_token_details': {'audio': 0, 'reasoning': 0}})]}, 'channel_versions': {'__start__': 2, 'messages': 5, 'branch:to:agent': 5, 'branch:to:tools': 4}, 'versions_seen': {'__input__': {}, '__start__': {'__start__': 1}, 'agent': {'branch:to:agent': 4}, 'tools': {'branch:to:tools': 3}}, 'pending_sends': []}, metadata={'source': 'loop', 'writes': {'agent': {'messages': [AIMessage(content=\"The weather in NYC might be cloudy. Is there anything else you'd like to know?\", additional_kwargs={'refusal': None}, response_metadata={'token_usage': {'completion_tokens': 19, 'prompt_tokens': 88, 'total_tokens': 107, 'completion_tokens_details': {'accepted_prediction_tokens': 0, 'audio_tokens': 0, 'reasoning_tokens': 0, 'rejected_prediction_tokens': 0}, 'prompt_tokens_details': {'audio_tokens': 0, 'cached_tokens': 0}}, 'model_name': 'gpt-4.1-mini-2025-04-14', 'system_fingerprint': 'fp_79b79be41f', 'id': 'chatcmpl-BOeQhQPyzwDa0uqa2au8doJuZ73h0', 'finish_reason': 'stop', 'logprobs': None}, id='run-c20b6133-70dc-48f9-b588-8de2ee90249e-0', usage_metadata={'input_tokens': 88, 'output_tokens': 19, 'total_tokens': 107, 'input_token_details': {'audio': 0, 'cache_read': 0}, 'output_token_details': {'audio': 0, 'reasoning': 0}})]}}, 'step': 3, 'parents': {}, 'thread_id': '2'}, parent_config={'configurable': {'thread_id': '2', 'checkpoint_ns': '', 'checkpoint_id': '1f01e755-a9b8-6cf2-8002-4de213e4ecb8'}}, pending_writes=[])"
      ]
     },
     "execution_count": 10,
     "metadata": {},
     "output_type": "execute_result"
    }
   ],
   "source": [
    "latest_checkpoint_tuple"
   ]
  },
  {
   "cell_type": "code",
   "execution_count": 11,
   "metadata": {},
   "outputs": [
    {
     "data": {
      "text/plain": [
       "[CheckpointTuple(config={'configurable': {'thread_id': '2', 'checkpoint_ns': '', 'checkpoint_id': '1f01e755-b69a-6e66-8003-0c1653e6f222'}}, checkpoint={'v': 2, 'ts': '2025-04-21T05:56:24.214460+00:00', 'id': '1f01e755-b69a-6e66-8003-0c1653e6f222', 'channel_values': {'messages': [HumanMessage(content=\"what's the weather in nyc\", additional_kwargs={}, response_metadata={}, id='d15a78fc-4527-40e4-97ed-d8592c5b0f0a'), AIMessage(content='', additional_kwargs={'tool_calls': [{'id': 'call_UvS4kYUWsRUnAFl8dkR2PNHW', 'function': {'arguments': '{\"city\":\"nyc\"}', 'name': 'get_weather'}, 'type': 'function'}], 'refusal': None}, response_metadata={'token_usage': {'completion_tokens': 16, 'prompt_tokens': 58, 'total_tokens': 74, 'completion_tokens_details': {'accepted_prediction_tokens': 0, 'audio_tokens': 0, 'reasoning_tokens': 0, 'rejected_prediction_tokens': 0}, 'prompt_tokens_details': {'audio_tokens': 0, 'cached_tokens': 0}}, 'model_name': 'gpt-4.1-mini-2025-04-14', 'system_fingerprint': 'fp_79b79be41f', 'id': 'chatcmpl-BOeQfGu6yn2xfKKJIUP8dql8sAeh4', 'finish_reason': 'tool_calls', 'logprobs': None}, id='run-80fc714b-9692-4b2c-b77a-4dad4ea03d0f-0', tool_calls=[{'name': 'get_weather', 'args': {'city': 'nyc'}, 'id': 'call_UvS4kYUWsRUnAFl8dkR2PNHW', 'type': 'tool_call'}], usage_metadata={'input_tokens': 58, 'output_tokens': 16, 'total_tokens': 74, 'input_token_details': {'audio': 0, 'cache_read': 0}, 'output_token_details': {'audio': 0, 'reasoning': 0}}), ToolMessage(content='It might be cloudy in nyc', name='get_weather', id='c19d4d0f-e2c4-44b1-a41b-fd2e463cefd4', tool_call_id='call_UvS4kYUWsRUnAFl8dkR2PNHW'), AIMessage(content=\"The weather in NYC might be cloudy. Is there anything else you'd like to know?\", additional_kwargs={'refusal': None}, response_metadata={'token_usage': {'completion_tokens': 19, 'prompt_tokens': 88, 'total_tokens': 107, 'completion_tokens_details': {'accepted_prediction_tokens': 0, 'audio_tokens': 0, 'reasoning_tokens': 0, 'rejected_prediction_tokens': 0}, 'prompt_tokens_details': {'audio_tokens': 0, 'cached_tokens': 0}}, 'model_name': 'gpt-4.1-mini-2025-04-14', 'system_fingerprint': 'fp_79b79be41f', 'id': 'chatcmpl-BOeQhQPyzwDa0uqa2au8doJuZ73h0', 'finish_reason': 'stop', 'logprobs': None}, id='run-c20b6133-70dc-48f9-b588-8de2ee90249e-0', usage_metadata={'input_tokens': 88, 'output_tokens': 19, 'total_tokens': 107, 'input_token_details': {'audio': 0, 'cache_read': 0}, 'output_token_details': {'audio': 0, 'reasoning': 0}})]}, 'channel_versions': {'__start__': 2, 'messages': 5, 'branch:to:agent': 5, 'branch:to:tools': 4}, 'versions_seen': {'__input__': {}, '__start__': {'__start__': 1}, 'agent': {'branch:to:agent': 4}, 'tools': {'branch:to:tools': 3}}, 'pending_sends': []}, metadata={'source': 'loop', 'writes': {'agent': {'messages': [AIMessage(content=\"The weather in NYC might be cloudy. Is there anything else you'd like to know?\", additional_kwargs={'refusal': None}, response_metadata={'token_usage': {'completion_tokens': 19, 'prompt_tokens': 88, 'total_tokens': 107, 'completion_tokens_details': {'accepted_prediction_tokens': 0, 'audio_tokens': 0, 'reasoning_tokens': 0, 'rejected_prediction_tokens': 0}, 'prompt_tokens_details': {'audio_tokens': 0, 'cached_tokens': 0}}, 'model_name': 'gpt-4.1-mini-2025-04-14', 'system_fingerprint': 'fp_79b79be41f', 'id': 'chatcmpl-BOeQhQPyzwDa0uqa2au8doJuZ73h0', 'finish_reason': 'stop', 'logprobs': None}, id='run-c20b6133-70dc-48f9-b588-8de2ee90249e-0', usage_metadata={'input_tokens': 88, 'output_tokens': 19, 'total_tokens': 107, 'input_token_details': {'audio': 0, 'cache_read': 0}, 'output_token_details': {'audio': 0, 'reasoning': 0}})]}}, 'step': 3, 'parents': {}, 'thread_id': '2'}, parent_config={'configurable': {'thread_id': '2', 'checkpoint_ns': '', 'checkpoint_id': '1f01e755-a9b8-6cf2-8002-4de213e4ecb8'}}, pending_writes=None),\n",
       " CheckpointTuple(config={'configurable': {'thread_id': '2', 'checkpoint_ns': '', 'checkpoint_id': '1f01e755-a9b8-6cf2-8002-4de213e4ecb8'}}, checkpoint={'v': 2, 'ts': '2025-04-21T05:56:22.863579+00:00', 'id': '1f01e755-a9b8-6cf2-8002-4de213e4ecb8', 'channel_values': {'messages': [HumanMessage(content=\"what's the weather in nyc\", additional_kwargs={}, response_metadata={}, id='d15a78fc-4527-40e4-97ed-d8592c5b0f0a'), AIMessage(content='', additional_kwargs={'tool_calls': [{'id': 'call_UvS4kYUWsRUnAFl8dkR2PNHW', 'function': {'arguments': '{\"city\":\"nyc\"}', 'name': 'get_weather'}, 'type': 'function'}], 'refusal': None}, response_metadata={'token_usage': {'completion_tokens': 16, 'prompt_tokens': 58, 'total_tokens': 74, 'completion_tokens_details': {'accepted_prediction_tokens': 0, 'audio_tokens': 0, 'reasoning_tokens': 0, 'rejected_prediction_tokens': 0}, 'prompt_tokens_details': {'audio_tokens': 0, 'cached_tokens': 0}}, 'model_name': 'gpt-4.1-mini-2025-04-14', 'system_fingerprint': 'fp_79b79be41f', 'id': 'chatcmpl-BOeQfGu6yn2xfKKJIUP8dql8sAeh4', 'finish_reason': 'tool_calls', 'logprobs': None}, id='run-80fc714b-9692-4b2c-b77a-4dad4ea03d0f-0', tool_calls=[{'name': 'get_weather', 'args': {'city': 'nyc'}, 'id': 'call_UvS4kYUWsRUnAFl8dkR2PNHW', 'type': 'tool_call'}], usage_metadata={'input_tokens': 58, 'output_tokens': 16, 'total_tokens': 74, 'input_token_details': {'audio': 0, 'cache_read': 0}, 'output_token_details': {'audio': 0, 'reasoning': 0}}), ToolMessage(content='It might be cloudy in nyc', name='get_weather', id='c19d4d0f-e2c4-44b1-a41b-fd2e463cefd4', tool_call_id='call_UvS4kYUWsRUnAFl8dkR2PNHW')], 'branch:to:agent': None}, 'channel_versions': {'__start__': 2, 'messages': 4, 'branch:to:agent': 4, 'branch:to:tools': 4}, 'versions_seen': {'__input__': {}, '__start__': {'__start__': 1}, 'agent': {'branch:to:agent': 2}, 'tools': {'branch:to:tools': 3}}, 'pending_sends': []}, metadata={'source': 'loop', 'writes': {'tools': {'messages': [ToolMessage(content='It might be cloudy in nyc', name='get_weather', id='c19d4d0f-e2c4-44b1-a41b-fd2e463cefd4', tool_call_id='call_UvS4kYUWsRUnAFl8dkR2PNHW')]}}, 'step': 2, 'parents': {}, 'thread_id': '2'}, parent_config={'configurable': {'thread_id': '2', 'checkpoint_ns': '', 'checkpoint_id': '1f01e755-a9b1-6f88-8001-2d8164906809'}}, pending_writes=None),\n",
       " CheckpointTuple(config={'configurable': {'thread_id': '2', 'checkpoint_ns': '', 'checkpoint_id': '1f01e755-a9b1-6f88-8001-2d8164906809'}}, checkpoint={'v': 2, 'ts': '2025-04-21T05:56:22.860775+00:00', 'id': '1f01e755-a9b1-6f88-8001-2d8164906809', 'channel_values': {'messages': [HumanMessage(content=\"what's the weather in nyc\", additional_kwargs={}, response_metadata={}, id='d15a78fc-4527-40e4-97ed-d8592c5b0f0a'), AIMessage(content='', additional_kwargs={'tool_calls': [{'id': 'call_UvS4kYUWsRUnAFl8dkR2PNHW', 'function': {'arguments': '{\"city\":\"nyc\"}', 'name': 'get_weather'}, 'type': 'function'}], 'refusal': None}, response_metadata={'token_usage': {'completion_tokens': 16, 'prompt_tokens': 58, 'total_tokens': 74, 'completion_tokens_details': {'accepted_prediction_tokens': 0, 'audio_tokens': 0, 'reasoning_tokens': 0, 'rejected_prediction_tokens': 0}, 'prompt_tokens_details': {'audio_tokens': 0, 'cached_tokens': 0}}, 'model_name': 'gpt-4.1-mini-2025-04-14', 'system_fingerprint': 'fp_79b79be41f', 'id': 'chatcmpl-BOeQfGu6yn2xfKKJIUP8dql8sAeh4', 'finish_reason': 'tool_calls', 'logprobs': None}, id='run-80fc714b-9692-4b2c-b77a-4dad4ea03d0f-0', tool_calls=[{'name': 'get_weather', 'args': {'city': 'nyc'}, 'id': 'call_UvS4kYUWsRUnAFl8dkR2PNHW', 'type': 'tool_call'}], usage_metadata={'input_tokens': 58, 'output_tokens': 16, 'total_tokens': 74, 'input_token_details': {'audio': 0, 'cache_read': 0}, 'output_token_details': {'audio': 0, 'reasoning': 0}})], 'branch:to:tools': None}, 'channel_versions': {'__start__': 2, 'messages': 3, 'branch:to:agent': 3, 'branch:to:tools': 3}, 'versions_seen': {'__input__': {}, '__start__': {'__start__': 1}, 'agent': {'branch:to:agent': 2}}, 'pending_sends': []}, metadata={'source': 'loop', 'writes': {'agent': {'messages': [AIMessage(content='', additional_kwargs={'tool_calls': [{'id': 'call_UvS4kYUWsRUnAFl8dkR2PNHW', 'function': {'arguments': '{\"city\":\"nyc\"}', 'name': 'get_weather'}, 'type': 'function'}], 'refusal': None}, response_metadata={'token_usage': {'completion_tokens': 16, 'prompt_tokens': 58, 'total_tokens': 74, 'completion_tokens_details': {'accepted_prediction_tokens': 0, 'audio_tokens': 0, 'reasoning_tokens': 0, 'rejected_prediction_tokens': 0}, 'prompt_tokens_details': {'audio_tokens': 0, 'cached_tokens': 0}}, 'model_name': 'gpt-4.1-mini-2025-04-14', 'system_fingerprint': 'fp_79b79be41f', 'id': 'chatcmpl-BOeQfGu6yn2xfKKJIUP8dql8sAeh4', 'finish_reason': 'tool_calls', 'logprobs': None}, id='run-80fc714b-9692-4b2c-b77a-4dad4ea03d0f-0', tool_calls=[{'name': 'get_weather', 'args': {'city': 'nyc'}, 'id': 'call_UvS4kYUWsRUnAFl8dkR2PNHW', 'type': 'tool_call'}], usage_metadata={'input_tokens': 58, 'output_tokens': 16, 'total_tokens': 74, 'input_token_details': {'audio': 0, 'cache_read': 0}, 'output_token_details': {'audio': 0, 'reasoning': 0}})]}}, 'step': 1, 'parents': {}, 'thread_id': '2'}, parent_config={'configurable': {'thread_id': '2', 'checkpoint_ns': '', 'checkpoint_id': '1f01e755-9df9-6a9c-8000-2eddba888ecf'}}, pending_writes=None),\n",
       " CheckpointTuple(config={'configurable': {'thread_id': '2', 'checkpoint_ns': '', 'checkpoint_id': '1f01e755-9df9-6a9c-8000-2eddba888ecf'}}, checkpoint={'v': 2, 'ts': '2025-04-21T05:56:21.631856+00:00', 'id': '1f01e755-9df9-6a9c-8000-2eddba888ecf', 'channel_values': {'messages': [HumanMessage(content=\"what's the weather in nyc\", additional_kwargs={}, response_metadata={}, id='d15a78fc-4527-40e4-97ed-d8592c5b0f0a')], 'branch:to:agent': None}, 'channel_versions': {'__start__': 2, 'messages': 2, 'branch:to:agent': 2}, 'versions_seen': {'__input__': {}, '__start__': {'__start__': 1}}, 'pending_sends': []}, metadata={'source': 'loop', 'writes': None, 'step': 0, 'parents': {}, 'thread_id': '2'}, parent_config={'configurable': {'thread_id': '2', 'checkpoint_ns': '', 'checkpoint_id': '1f01e755-9df6-6ae0-bfff-20f559edc012'}}, pending_writes=None),\n",
       " CheckpointTuple(config={'configurable': {'thread_id': '2', 'checkpoint_ns': '', 'checkpoint_id': '1f01e755-9df6-6ae0-bfff-20f559edc012'}}, checkpoint={'v': 2, 'ts': '2025-04-21T05:56:21.630635+00:00', 'id': '1f01e755-9df6-6ae0-bfff-20f559edc012', 'channel_values': {'__start__': {'messages': [['human', \"what's the weather in nyc\"]]}}, 'channel_versions': {'__start__': 1}, 'versions_seen': {'__input__': {}}, 'pending_sends': []}, metadata={'source': 'input', 'writes': {'__start__': {'messages': [['human', \"what's the weather in nyc\"]]}}, 'step': -1, 'parents': {}, 'thread_id': '2'}, parent_config=None, pending_writes=None)]"
      ]
     },
     "execution_count": 11,
     "metadata": {},
     "output_type": "execute_result"
    }
   ],
   "source": [
    "checkpoint_tuples"
   ]
  }
 ],
 "metadata": {
  "kernelspec": {
   "display_name": "langgraphCheckpointer",
   "language": "python",
   "name": "python3"
  },
  "language_info": {
   "codemirror_mode": {
    "name": "ipython",
    "version": 3
   },
   "file_extension": ".py",
   "mimetype": "text/x-python",
   "name": "python",
   "nbconvert_exporter": "python",
   "pygments_lexer": "ipython3",
   "version": "3.11.7"
  }
 },
 "nbformat": 4,
 "nbformat_minor": 2
}
